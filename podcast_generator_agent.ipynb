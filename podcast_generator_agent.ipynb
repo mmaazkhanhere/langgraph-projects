{
  "nbformat": 4,
  "nbformat_minor": 0,
  "metadata": {
    "colab": {
      "provenance": []
    },
    "kernelspec": {
      "name": "python3",
      "display_name": "Python 3"
    },
    "language_info": {
      "name": "python"
    }
  },
  "cells": [
    {
      "cell_type": "code",
      "execution_count": 2,
      "metadata": {
        "colab": {
          "base_uri": "https://localhost:8080/"
        },
        "id": "loHVxqcjiGGp",
        "outputId": "185fa302-3d78-4dfc-ea7c-85a0a23c44ad"
      },
      "outputs": [
        {
          "output_type": "stream",
          "name": "stdout",
          "text": [
            "\u001b[2K   \u001b[90m━━━━━━━━━━━━━━━━━━━━━━━━━━━━━━━━━━━━━━━━\u001b[0m \u001b[32m119.3/119.3 kB\u001b[0m \u001b[31m3.8 MB/s\u001b[0m eta \u001b[36m0:00:00\u001b[0m\n",
            "\u001b[2K   \u001b[90m━━━━━━━━━━━━━━━━━━━━━━━━━━━━━━━━━━━━━━━━\u001b[0m \u001b[32m41.8/41.8 kB\u001b[0m \u001b[31m1.7 MB/s\u001b[0m eta \u001b[36m0:00:00\u001b[0m\n",
            "\u001b[2K   \u001b[90m━━━━━━━━━━━━━━━━━━━━━━━━━━━━━━━━━━━━━━━━\u001b[0m \u001b[32m1.2/1.2 MB\u001b[0m \u001b[31m14.8 MB/s\u001b[0m eta \u001b[36m0:00:00\u001b[0m\n",
            "\u001b[2K   \u001b[90m━━━━━━━━━━━━━━━━━━━━━━━━━━━━━━━━━━━━━━━━\u001b[0m \u001b[32m2.4/2.4 MB\u001b[0m \u001b[31m25.2 MB/s\u001b[0m eta \u001b[36m0:00:00\u001b[0m\n",
            "\u001b[2K   \u001b[90m━━━━━━━━━━━━━━━━━━━━━━━━━━━━━━━━━━━━━━━━\u001b[0m \u001b[32m3.1/3.1 MB\u001b[0m \u001b[31m73.5 MB/s\u001b[0m eta \u001b[36m0:00:00\u001b[0m\n",
            "\u001b[2K   \u001b[90m━━━━━━━━━━━━━━━━━━━━━━━━━━━━━━━━━━━━━━━━\u001b[0m \u001b[32m49.5/49.5 kB\u001b[0m \u001b[31m3.3 MB/s\u001b[0m eta \u001b[36m0:00:00\u001b[0m\n",
            "\u001b[?25h  Preparing metadata (setup.py) ... \u001b[?25l\u001b[?25hdone\n",
            "  Building wheel for wikipedia (setup.py) ... \u001b[?25l\u001b[?25hdone\n"
          ]
        }
      ],
      "source": [
        "!pip install  --quiet langgraph\n",
        "!pip install  --quiet langchain-google-genai\n",
        "!pip install --quiet langchain\n",
        "!pip install --quiet tavily-python\n",
        "!pip install --quiet langchain_community\n",
        "!pip install --quiet wikipedia\n",
        "!pip install --quiet google-generativeai"
      ]
    },
    {
      "cell_type": "code",
      "source": [
        "import operator\n",
        "from datetime import datetime\n",
        "from google.colab import userdata\n",
        "from IPython.display import Image, display, Markdown\n",
        "import textwrap\n",
        "import os\n",
        "import getpass\n",
        "\n",
        "from typing import Any, Annotated, List, TypedDict\n",
        "from pydantic import BaseModel, Field\n",
        "\n",
        "from langchain_google_genai import ChatGoogleGenerativeAI\n",
        "from langchain_core.messages import get_buffer_string, AIMessage, HumanMessage, SystemMessage\n",
        "from langchain_community.tools.tavily_search import TavilySearchResults\n",
        "from langchain_community.document_loaders import WikipediaLoader\n",
        "\n",
        "from langgraph.graph import MessagesState\n",
        "from langgraph.graph.state import StateGraph, END, START\n",
        "from langgraph.checkpoint.memory import MemorySaver\n"
      ],
      "metadata": {
        "id": "c8QZjerbxLFr"
      },
      "execution_count": 41,
      "outputs": []
    },
    {
      "cell_type": "code",
      "source": [
        "config = {\"temperature\": 0.2,\n",
        "          \"top_p\":0.95,\n",
        "          \"top_k\":64,\n",
        "          \"max_outout_tokens\":5000,\n",
        "          \"response_mime_type\": \"text/plain\",\n",
        "        }\n",
        "\n",
        "model = ChatGoogleGenerativeAI(model=\"gemini-1.5-flash\",\n",
        "                              api_key=userdata.get('GOOGLE_API_KEY'),\n",
        "                              **config\n",
        "                              )\n",
        "\n",
        "model.invoke(\"What is 2+2?\").content"
      ],
      "metadata": {
        "colab": {
          "base_uri": "https://localhost:8080/",
          "height": 35
        },
        "id": "bRl0KPgsytD6",
        "outputId": "ddea27e6-65b7-4ef8-b92b-96a443c979cc"
      },
      "execution_count": 4,
      "outputs": [
        {
          "output_type": "execute_result",
          "data": {
            "text/plain": [
              "'2 + 2 = 4 \\n'"
            ],
            "application/vnd.google.colaboratory.intrinsic+json": {
              "type": "string"
            }
          },
          "metadata": {},
          "execution_count": 4
        }
      ]
    },
    {
      "cell_type": "code",
      "source": [
        "def to_markdown(text)-> Markdown:\n",
        "    text : str = text.replace(\"•\", \"  *\")\n",
        "    return Markdown(textwrap.indent(text, \"> \", predicate=lambda _: True))"
      ],
      "metadata": {
        "id": "bngF6MaF6Fb8"
      },
      "execution_count": 5,
      "outputs": []
    },
    {
      "cell_type": "code",
      "source": [
        "def _set_env(var: str):\n",
        "    if not os.environ.get(var):\n",
        "        os.environ[var] = getpass.getpass(f\"{var}: \")\n",
        "\n",
        "\n",
        "_set_env(\"TAVILY_API_KEY\")"
      ],
      "metadata": {
        "colab": {
          "base_uri": "https://localhost:8080/"
        },
        "id": "k9tt50gQFQgA",
        "outputId": "12b8bafc-f65c-4a20-e487-29e0a6477a6e"
      },
      "execution_count": 16,
      "outputs": [
        {
          "name": "stdout",
          "output_type": "stream",
          "text": [
            "TAVILY_API_KEY: ··········\n"
          ]
        }
      ]
    },
    {
      "cell_type": "code",
      "source": [
        "class SubTopicList(BaseModel):\n",
        "  subtopics: List[str] = Field(description=\"The subtopics for which podcast is generated\")\n",
        "\n",
        "class KeywordList(BaseModel):\n",
        "  keywords: List[str] = Field(description=\"The keywords for which podcast is generated\")\n",
        "\n",
        "class PlanningState(TypedDict):\n",
        "  topic: str\n",
        "  keywords: list[str]\n",
        "  subtopics: list[str]"
      ],
      "metadata": {
        "id": "w04nfChpzi0W"
      },
      "execution_count": 6,
      "outputs": []
    },
    {
      "cell_type": "code",
      "source": [
        "def keyword_generator_node(state: PlanningState):\n",
        "  \"\"\"Graph node that uses AI to generate at least 5 keywords\"\"\"\n",
        "  topic: str = state[\"topic\"]\n",
        "  prompt: str = f\"\"\"You are experienced podcast analyzer. You have to generate at least\n",
        "                5 keywords for the topic {topic}.\n",
        "                \"\"\"\n",
        "  structure_llm = model.with_structured_output(KeywordList)\n",
        "  response: KeywordList = structure_llm.invoke(prompt)\n",
        "  return {\"keywords\": response.keywords}\n",
        "\n",
        "def subtopic_generator_node(state: PlanningState):\n",
        "  \"\"\"Graph node that uses AI to generate at least 5 subtopics\"\"\"\n",
        "  topic: str = state[\"topic\"]\n",
        "  prompt: str = f\"\"\"You are experienced podcast analyzer. You have to generate at least\n",
        "                5 subtopics to make a podcast about the following topic {topic}.\n",
        "                \"\"\"\n",
        "  structure_llm = model.with_structured_output(SubTopicList)\n",
        "  response: SubTopicList = structure_llm.invoke(prompt)\n",
        "  return {\"subtopics\": response.subtopics}"
      ],
      "metadata": {
        "id": "M_TMPF9V3ASl"
      },
      "execution_count": 7,
      "outputs": []
    },
    {
      "cell_type": "code",
      "source": [
        "planning_builder: StateGraph = StateGraph(PlanningState)\n",
        "\n",
        "planning_builder.add_node(\"Keywords\", keyword_generator_node)\n",
        "planning_builder.add_node(\"Subtopics\", subtopic_generator_node)\n",
        "\n",
        "planning_builder.add_edge(START, \"Keywords\")\n",
        "planning_builder.add_edge(\"Keywords\", \"Subtopics\")\n",
        "planning_builder.add_edge(\"Subtopics\", END)\n",
        "\n",
        "planning_agent = planning_builder.compile()\n",
        "\n",
        "display(Image(planning_agent.get_graph(xray=1).draw_mermaid_png()))"
      ],
      "metadata": {
        "colab": {
          "base_uri": "https://localhost:8080/",
          "height": 350
        },
        "id": "biJMO7HA0we4",
        "outputId": "9cccdf73-3166-4459-9518-632b23f26930"
      },
      "execution_count": 8,
      "outputs": [
        {
          "output_type": "display_data",
          "data": {
            "image/jpeg": "[encoded data removed]",
            "text/plain": [
              "<IPython.core.display.Image object>"
            ]
          },
          "metadata": {}
        }
      ]
    },
    {
      "cell_type": "code",
      "source": [
        "planning_agent.invoke({\"topic\": \"What is attention in human cognition?\"})"
      ],
      "metadata": {
        "colab": {
          "base_uri": "https://localhost:8080/"
        },
        "id": "V1WqRQ2L44vF",
        "outputId": "111cfc52-3cef-4675-cc76-c017c7b0b880"
      },
      "execution_count": 9,
      "outputs": [
        {
          "output_type": "execute_result",
          "data": {
            "text/plain": [
              "{'topic': 'What is attention in human cognition?',\n",
              " 'keywords': ['attention',\n",
              "  'human cognition',\n",
              "  'consciousness',\n",
              "  'awareness',\n",
              "  'focus',\n",
              "  'selective attention',\n",
              "  'cognitive processes',\n",
              "  'brain function',\n",
              "  'perception',\n",
              "  'memory'],\n",
              " 'subtopics': ['What is attention?',\n",
              "  'Types of attention',\n",
              "  'Neural mechanisms of attention',\n",
              "  'Attention and memory',\n",
              "  'Attention and perception',\n",
              "  'Attention disorders']}"
            ]
          },
          "metadata": {},
          "execution_count": 9
        }
      ]
    },
    {
      "cell_type": "code",
      "source": [
        "class InterviewState(MessagesState):\n",
        "  topic: str #topic of podcast\n",
        "  max_num_turns: int #number of turns in the conversation\n",
        "  context: Annotated[list, operator.add] #source documents\n",
        "  section: str #section transcript\n",
        "  sections: list #final key we duplicate in outer state for Send() API\n",
        "\n",
        "class SearchQuery(BaseModel):\n",
        "  search_query: str = Field(description=\"The search query for retrieval\")"
      ],
      "metadata": {
        "id": "8ow9E9ih6YNz"
      },
      "execution_count": 43,
      "outputs": []
    },
    {
      "cell_type": "code",
      "source": [
        "structure_llm = model.with_structured_output(SearchQuery)"
      ],
      "metadata": {
        "id": "xg8kRccYME7T"
      },
      "execution_count": 44,
      "outputs": []
    },
    {
      "cell_type": "code",
      "source": [
        "question_instructions = \"\"\"You are the host of a popular podcast and you are tasked with interviewing an expert to learn about a specific topic.\n",
        "Your goal is boil down to interesting and specific insights related to your topic.\n",
        "1. Interesting: Insights that people will find surprising or non-obvious.\n",
        "2. Specific: Insights that avoid generalities and include specific examples from the expert.\n",
        "Here is your topic of focus and set of goals: {topic}\n",
        "Begin by introducing the topic that fits your goals, and then ask your question.\n",
        "Continue to ask questions to drill down and refine your understanding of the topic.\n",
        "When you are satisfied with your understanding, complete the interview with: \"Thank you so much for your help\"\n",
        "Remember to stay in character throughout your response\"\"\"\n",
        "\n",
        "def generate_question(state: InterviewState):\n",
        "    \"\"\" Node to generate a question \"\"\"\n",
        "    # Get state\n",
        "    topic = state[\"topic\"]\n",
        "    messages = state[\"messages\"]\n",
        "    # Generate question\n",
        "    system_message = question_instructions.format(topic=topic)\n",
        "    question = model.invoke([SystemMessage(content=system_message)]+messages)\n",
        "    # Write messages to state\n",
        "    return {\"messages\": [question]}\n",
        "\n",
        "\n",
        "search_instructions = SystemMessage(content=f\"\"\"You will be given a conversation between a host of a popular podcast and an expert.\n",
        "Your goal is to generate a well-structured query for use in retrieval and / or web-search related to the conversation.\n",
        "First, analyze the full conversation.\n",
        "Pay particular attention to the final question posed by the analyst.\n",
        "Convert this final question into a well-structured web search query\"\"\")\n",
        "\n",
        "def search_web(state: InterviewState):\n",
        "    \"\"\" Retrieve docs from web search \"\"\"\n",
        "    # Search query\n",
        "    search_query = structure_llm.invoke([search_instructions]+state['messages'])\n",
        "    # Search\n",
        "    tavily_search = TavilySearchResults(max_results = 3)\n",
        "    search_docs = tavily_search.invoke(search_query.search_query)\n",
        "     # Format\n",
        "    formatted_search_docs = \"\\n\\n---\\n\\n\".join(\n",
        "        [\n",
        "            f'<Document href=\"{doc[\"url\"]}\"/>\\n{doc[\"content\"]}\\n</Document>'\n",
        "            for doc in search_docs\n",
        "        ]\n",
        "    )\n",
        "    return {\"context\": [formatted_search_docs]}\n",
        "\n",
        "\n",
        "def search_wikipedia(state: InterviewState):\n",
        "    \"\"\" Retrieve docs from wikipedia \"\"\"\n",
        "    # Search query\n",
        "    search_query = structure_llm.invoke([search_instructions]+state['messages'])\n",
        "    # Search\n",
        "    search_docs = WikipediaLoader(query=search_query.search_query,\n",
        "                                  load_max_docs=2).load()\n",
        "     # Format\n",
        "    formatted_search_docs = \"\\n\\n---\\n\\n\".join(\n",
        "        [\n",
        "            f'<Document source=\"{doc.metadata[\"source\"]}\" page=\"{doc.metadata.get(\"page\", \"\")}\"/>\\n{doc.page_content}\\n</Document>'\n",
        "            for doc in search_docs\n",
        "        ]\n",
        "    )\n",
        "    return {\"context\": [formatted_search_docs]}\n",
        "\n",
        "answer_instructions = \"\"\"You are an expert being interviewed by a popular podcast host.\n",
        "Here is the analyst's focus area: {topic}.\n",
        "Your goal is to answer a question posed by the interviewer.\n",
        "To answer the question, use this context:\n",
        "{context}\n",
        "When answering questions, follow these steps\n",
        "1. Use only the information provided in the context.\n",
        "2. Do not introduce outside information or make assumptions beyond what is explicitly stated in the context.\n",
        "3. The context includes sources on the topic of each document.\n",
        "4. Make it interesting.\"\"\"\n",
        "\n",
        "def generate_answer(state: InterviewState):\n",
        "  \"\"\" Node to answer a question \"\"\"\n",
        "  # Get state\n",
        "  topic = state[\"topic\"]\n",
        "  messages = state[\"messages\"]\n",
        "  context = state[\"context\"]\n",
        "  # Answer question\n",
        "  system_message = answer_instructions.format(topic=topic, context=context)\n",
        "  answer = model.invoke([SystemMessage(content=system_message)]+messages)\n",
        "  # Name the message as coming from the expert\n",
        "  answer.name = \"expert\"\n",
        "  # Append it to state\n",
        "  return {\"messages\": [answer]}\n",
        "\n",
        "def save_podcast(state: InterviewState):\n",
        "  \"\"\" save_podcast \"\"\"\n",
        "  # Get messages\n",
        "  messages = state[\"messages\"]\n",
        "  # Convert interview to a string\n",
        "  interview = get_buffer_string(messages)\n",
        "  # Save to interviews key\n",
        "  return {\"section\": interview}\n",
        "\n",
        "def route_messages(state: InterviewState, name: str=\"expert\"):\n",
        "  \"\"\" Route between question and answer \"\"\"\n",
        "  # Get messages\n",
        "  messages = state[\"messages\"]\n",
        "  max_num_turns = state.get('max_num_turns',2)\n",
        "  # Check the number of expert answers\n",
        "  num_responses = len(\n",
        "      [m for m in messages if isinstance(m, AIMessage) and m.name == name]\n",
        "  )\n",
        "  # End if expert has answered more than the max turns\n",
        "  if num_responses >= max_num_turns:\n",
        "      return 'Save podcast'\n",
        "  # This router is run after each question - answer pair\n",
        "  # Get the last question asked to check if it signals the end of discussion\n",
        "  last_question = messages[-2]\n",
        "  if \"Thank you so much for your help\" in last_question.content:\n",
        "      return 'Save podcast'\n",
        "  return \"Host question\"\n",
        "\n",
        "section_writer_instructions = \"\"\"You are an expert technical writer.\n",
        "Your task is to create an interesting, easily digestible section of a podcast based on an interview.\n",
        "1. Analyze the content of the interview\n",
        "2. Create a script structure using markdown formatting\n",
        "3. Make your title engaging based upon the focus area of the analyst:\n",
        "{focus}\n",
        "4. For the conversation:\n",
        "- Emphasize what is novel, interesting, or surprising about insights gathered from the interview\n",
        "- Mention turns of \"Interviewer\" and \"Expert\"\n",
        "- Aim for approximately 1000 words maximum\n",
        "5. Final review:\n",
        "- Ensure the report follows the required structure\n",
        "- Include no preamble before the title of the report\n",
        "- Check that all guidelines have been followed\"\"\"\n",
        "\n",
        "def write_section(state: InterviewState):\n",
        "    \"\"\" Node to answer a question \"\"\"\n",
        "    # Get state\n",
        "    section = state[\"section\"]\n",
        "    topic = state[\"topic\"]\n",
        "    system_message = section_writer_instructions.format(focus=topic)\n",
        "    section_res = model.invoke(system_message + f\"Use this source to write your section: {section}\")\n",
        "    # Append it to state\n",
        "    return {\"sections\": [section_res.content]}"
      ],
      "metadata": {
        "id": "cp_TIsIb95fe"
      },
      "execution_count": 51,
      "outputs": []
    },
    {
      "cell_type": "code",
      "source": [
        "# Add nodes and edges\n",
        "interview_builder = StateGraph(InterviewState)\n",
        "interview_builder.add_node(\"Host question\", generate_question)\n",
        "interview_builder.add_node(\"Web research\", search_web)\n",
        "interview_builder.add_node(\"Wiki research\", search_wikipedia)\n",
        "interview_builder.add_node(\"Expert answer\", generate_answer)\n",
        "interview_builder.add_node(\"Save podcast\", save_podcast)\n",
        "interview_builder.add_node(\"Write script\", write_section)\n",
        "\n",
        "# Flow\n",
        "interview_builder.add_edge(START, \"Host question\")\n",
        "interview_builder.add_edge(\"Host question\", \"Web research\")\n",
        "interview_builder.add_edge(\"Host question\", \"Wiki research\")\n",
        "interview_builder.add_edge(\"Web research\", \"Expert answer\")\n",
        "interview_builder.add_edge(\"Wiki research\", \"Expert answer\")\n",
        "interview_builder.add_conditional_edges(\"Expert answer\", route_messages,['Host question','Save podcast'])\n",
        "interview_builder.add_edge(\"Save podcast\", \"Write script\")\n",
        "interview_builder.add_edge(\"Write script\", END)\n",
        "\n",
        "# Interview\n",
        "memory = MemorySaver()\n",
        "podcast_graph = interview_builder.compile(checkpointer=memory).with_config(run_name=\"Create podcast\")\n",
        "\n",
        "# View\n",
        "display(Image(podcast_graph.get_graph().draw_mermaid_png()))"
      ],
      "metadata": {
        "colab": {
          "base_uri": "https://localhost:8080/",
          "height": 647
        },
        "id": "MtRKQV4uH62R",
        "outputId": "8d2bb716-c2be-44ad-ba2f-ee82e9fcce66"
      },
      "execution_count": 52,
      "outputs": [
        {
          "output_type": "display_data",
          "data": {
            "image/jpeg": "[encoded data removed]",
            "text/plain": [
              "<IPython.core.display.Image object>"
            ]
          },
          "metadata": {}
        }
      ]
    },
    {
      "cell_type": "code",
      "source": [
        "messages = [HumanMessage(f\"So you said you were writing an article about Attention in human cognition?\")]\n",
        "thread = {\"configurable\": {\"thread_id\": \"1\"}}\n",
        "interview = podcast_graph.invoke({\"topic\": \"The Role of Focus in Perception\", \"messages\": messages, \"max_num_turns\": 2}, thread)\n",
        "to_markdown(interview[\"sections\"][0])"
      ],
      "metadata": {
        "colab": {
          "base_uri": "https://localhost:8080/",
          "height": 650
        },
        "id": "UCNCFXzGLhn-",
        "outputId": "c84f8287-2deb-42b1-ea0d-b0767b6d0d98"
      },
      "execution_count": 53,
      "outputs": [
        {
          "output_type": "stream",
          "name": "stderr",
          "text": [
            "WARNING:langchain_google_genai.chat_models:Gemini produced an empty response. Continuing with empty message\n",
            "Feedback: \n",
            "WARNING:langchain_google_genai.chat_models:Gemini produced an empty response. Continuing with empty message\n",
            "Feedback: \n"
          ]
        },
        {
          "output_type": "execute_result",
          "data": {
            "text/plain": [
              "<IPython.core.display.Markdown object>"
            ],
            "text/markdown": "> ## The Role of Focus in Perception: How Our Brains Filter Reality\n> \n> **Interviewer:** So you said you were writing an article about Attention in human cognition?\n> \n> **Expert:** That's right! I'm really fascinated by how our brains filter all the information coming at us every second. It's like we have this internal spotlight, shining on just a tiny sliver of reality.  But what makes that spotlight land on one thing over another?  That's what I'm trying to understand. \n> \n> **Interviewer:** So, you're an expert on attention, right?  I'd love to hear your take on this:  How does our focus actually shape what we perceive?  I mean, we all know we can't pay attention to everything, but how does that limited attention actually change what we see, hear, and even feel? \n> \n> **Expert:** That's a great question! It's not just about what we *choose* to pay attention to, but how that choice actually alters our experience of the world. It's like our brain is constantly making predictions about what's important, and those predictions influence what we perceive. \n> \n> For example, imagine you're walking down a busy street. You're focused on getting to your destination, so you might not even notice the details of the buildings around you, or the sounds of traffic. But if you suddenly hear a loud noise, your attention shifts, and you might notice a car speeding by, or a group of people arguing.  \n> \n> **Interviewer:** So, our focus is like a filter, letting in certain information and blocking out others?\n> \n> **Expert:** Exactly! And that filtering process isn't just about what we consciously choose to pay attention to, but also about our unconscious biases and expectations.  For instance, if you're expecting to see a friend at a crowded party, you're more likely to notice them, even if they're far away and partially obscured by other people.  Your brain is primed to recognize that specific face, and it filters out the rest of the visual noise.\n> \n> **Interviewer:** That's fascinating! So, it's not just about what we choose to focus on, but also about what our brains are already expecting to see?\n> \n> **Expert:** Absolutely.  Our brains are constantly making predictions based on our past experiences and current context.  These predictions influence what we perceive, even if they're not entirely accurate.  It's like our brains are constantly trying to make sense of the world, and they use our focus as a tool to do that.\n> \n> **Interviewer:** This is really changing how I think about perception.  It's not just about what's \"out there,\" but also about what our brains are prepared to see and hear.  \n> \n> **Expert:**  Exactly!  And that's why it's so important to be aware of our own biases and expectations.  If we can understand how our focus shapes our perception, we can be more critical of our own interpretations of the world.  We can also be more mindful of how our focus might be influencing our interactions with others.\n> \n> **Interviewer:**  This is a really important point.  It's easy to assume that our perception is objective, but it's actually deeply influenced by our own internal filters.  Thanks for sharing these insights! \n"
          },
          "metadata": {},
          "execution_count": 53
        }
      ]
    },
    {
      "cell_type": "code",
      "source": [],
      "metadata": {
        "id": "O5TuoISRLvo9"
      },
      "execution_count": null,
      "outputs": []
    }
  ]
}