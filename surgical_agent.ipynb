{
  "nbformat": 4,
  "nbformat_minor": 0,
  "metadata": {
    "colab": {
      "provenance": []
    },
    "kernelspec": {
      "name": "python3",
      "display_name": "Python 3"
    },
    "language_info": {
      "name": "python"
    }
  },
  "cells": [
    {
      "cell_type": "code",
      "execution_count": 1,
      "metadata": {
        "colab": {
          "base_uri": "https://localhost:8080/"
        },
        "id": "q7CSiCKQ0ZTU",
        "outputId": "5a3a8446-5d7e-4f71-9529-143260d2594d"
      },
      "outputs": [
        {
          "output_type": "stream",
          "name": "stdout",
          "text": [
            "\u001b[2K   \u001b[90m━━━━━━━━━━━━━━━━━━━━━━━━━━━━━━━━━━━━━━━━\u001b[0m \u001b[32m125.1/125.1 kB\u001b[0m \u001b[31m3.1 MB/s\u001b[0m eta \u001b[36m0:00:00\u001b[0m\n",
            "\u001b[2K   \u001b[90m━━━━━━━━━━━━━━━━━━━━━━━━━━━━━━━━━━━━━━━━\u001b[0m \u001b[32m41.3/41.3 kB\u001b[0m \u001b[31m2.9 MB/s\u001b[0m eta \u001b[36m0:00:00\u001b[0m\n",
            "\u001b[2K   \u001b[90m━━━━━━━━━━━━━━━━━━━━━━━━━━━━━━━━━━━━━━━━\u001b[0m \u001b[32m2.4/2.4 MB\u001b[0m \u001b[31m30.4 MB/s\u001b[0m eta \u001b[36m0:00:00\u001b[0m\n",
            "\u001b[2K   \u001b[90m━━━━━━━━━━━━━━━━━━━━━━━━━━━━━━━━━━━━━━━━\u001b[0m \u001b[32m1.0/1.0 MB\u001b[0m \u001b[31m43.7 MB/s\u001b[0m eta \u001b[36m0:00:00\u001b[0m\n",
            "\u001b[2K   \u001b[90m━━━━━━━━━━━━━━━━━━━━━━━━━━━━━━━━━━━━━━━━\u001b[0m \u001b[32m409.5/409.5 kB\u001b[0m \u001b[31m26.4 MB/s\u001b[0m eta \u001b[36m0:00:00\u001b[0m\n",
            "\u001b[2K   \u001b[90m━━━━━━━━━━━━━━━━━━━━━━━━━━━━━━━━━━━━━━━━\u001b[0m \u001b[32m3.1/3.1 MB\u001b[0m \u001b[31m68.5 MB/s\u001b[0m eta \u001b[36m0:00:00\u001b[0m\n",
            "\u001b[2K   \u001b[90m━━━━━━━━━━━━━━━━━━━━━━━━━━━━━━━━━━━━━━━━\u001b[0m \u001b[32m49.5/49.5 kB\u001b[0m \u001b[31m3.3 MB/s\u001b[0m eta \u001b[36m0:00:00\u001b[0m\n",
            "\u001b[2K   \u001b[90m━━━━━━━━━━━━━━━━━━━━━━━━━━━━━━━━━━━━━━━━\u001b[0m \u001b[32m108.9/108.9 kB\u001b[0m \u001b[31m2.7 MB/s\u001b[0m eta \u001b[36m0:00:00\u001b[0m\n",
            "\u001b[2K   \u001b[90m━━━━━━━━━━━━━━━━━━━━━━━━━━━━━━━━━━━━━━━━\u001b[0m \u001b[32m3.0/3.0 MB\u001b[0m \u001b[31m35.0 MB/s\u001b[0m eta \u001b[36m0:00:00\u001b[0m\n",
            "\u001b[2K   \u001b[90m━━━━━━━━━━━━━━━━━━━━━━━━━━━━━━━━━━━━━━━━\u001b[0m \u001b[32m1.2/1.2 MB\u001b[0m \u001b[31m17.1 MB/s\u001b[0m eta \u001b[36m0:00:00\u001b[0m\n",
            "\u001b[2K   \u001b[90m━━━━━━━━━━━━━━━━━━━━━━━━━━━━━━━━━━━━━━━━\u001b[0m \u001b[32m244.8/244.8 kB\u001b[0m \u001b[31m16.5 MB/s\u001b[0m eta \u001b[36m0:00:00\u001b[0m\n",
            "\u001b[2K   \u001b[90m━━━━━━━━━━━━━━━━━━━━━━━━━━━━━━━━━━━━━━━━\u001b[0m \u001b[32m85.4/85.4 kB\u001b[0m \u001b[31m6.3 MB/s\u001b[0m eta \u001b[36m0:00:00\u001b[0m\n",
            "\u001b[?25h"
          ]
        }
      ],
      "source": [
        "!pip install  --quiet langgraph\n",
        "!pip install  --quiet langchain-google-genai\n",
        "!pip install --quiet langchain\n",
        "!pip install --quiet langchain_community\n",
        "!pip install --quiet langchain-groq\n",
        "!pip install --quiet google-generativeai\n",
        "!pip install --quiet duckduckgo-search\n",
        "!pip install --quiet langchain-pinecone\n",
        "!pip install --quiet langchain-huggingface"
      ]
    },
    {
      "cell_type": "code",
      "source": [
        "from IPython.display import Image, display, Markdown\n",
        "import textwrap\n",
        "import time\n",
        "from google.colab import userdata\n",
        "\n",
        "from typing import Any, Annotated, List, TypedDict\n",
        "from pydantic import BaseModel, Field\n",
        "from pinecone import Pinecone\n",
        "\n",
        "from langchain_core.messages import get_buffer_string, AIMessage, HumanMessage, SystemMessage, BaseMessage\n",
        "from langchain_community.utilities import DuckDuckGoSearchAPIWrapper\n",
        "from langchain_community.tools import DuckDuckGoSearchRun\n",
        "from langchain_community.tools import DuckDuckGoSearchResults\n",
        "from langchain_google_genai import ChatGoogleGenerativeAI\n",
        "from langchain_groq import ChatGroq\n",
        "from langchain_huggingface import HuggingFaceEmbeddings\n",
        "from langchain_pinecone import PineconeVectorStore\n",
        "from langchain.tools.retriever import create_retriever_tool\n",
        "from langchain_core.tools import tool\n",
        "\n",
        "from langgraph.graph.state import StateGraph, END, START\n",
        "from langgraph.graph.message import add_messages\n",
        "from langgraph.prebuilt import ToolNode, tools_condition\n"
      ],
      "metadata": {
        "id": "ODnD5jdz0mAg"
      },
      "execution_count": 59,
      "outputs": []
    },
    {
      "cell_type": "code",
      "source": [
        "google_api_key = userdata.get('GOOGLE_API_KEY')\n",
        "\n",
        "gemini_model = ChatGoogleGenerativeAI(model=\"gemini-1.5-flash\",\n",
        "                                    api_key=google_api_key\n",
        "                                    )\n",
        "\n",
        "# model.invoke(\"Test\")"
      ],
      "metadata": {
        "id": "5rQlphBO04Ob"
      },
      "execution_count": 60,
      "outputs": []
    },
    {
      "cell_type": "code",
      "source": [
        "\n",
        "api_key = userdata.get(\"GROQ_API_KEY\")\n",
        "\n",
        "model = ChatGroq(\n",
        "    model=\"llama-3.1-70b-versatile\",\n",
        "    verbose=True,\n",
        "    temperature=0.5,\n",
        "    api_key=api_key\n",
        ")\n",
        "\n",
        "model.invoke('TEST').content"
      ],
      "metadata": {
        "colab": {
          "base_uri": "https://localhost:8080/",
          "height": 53
        },
        "id": "YGgWTmcB0_xa",
        "outputId": "6c7e94bb-5466-443e-ed85-10557749e603"
      },
      "execution_count": 380,
      "outputs": [
        {
          "output_type": "execute_result",
          "data": {
            "text/plain": [
              "\"It seems like you're testing to see if I'm working properly. Is there anything else I can help you with or would you like to have a conversation?\""
            ],
            "application/vnd.google.colaboratory.intrinsic+json": {
              "type": "string"
            }
          },
          "metadata": {},
          "execution_count": 380
        }
      ]
    },
    {
      "cell_type": "code",
      "source": [
        "class State(TypedDict):\n",
        "  surgeon_query: str\n",
        "  patient_history: str\n",
        "  anatomy_response: str\n",
        "  infection_prevention_response: str\n",
        "  complication_response: str\n",
        "  expert_surgeon_response: str\n",
        "  insight_accumulator_response: str\n",
        "  conversation: Annotated[list, add_messages]\n",
        "  messages: Annotated[list, add_messages]\n",
        "  # retrieve_query: str\n",
        "  # retrieve_information: str\n",
        "  relevance: str"
      ],
      "metadata": {
        "id": "1mUaxGvy1ACN"
      },
      "execution_count": 397,
      "outputs": []
    },
    {
      "cell_type": "code",
      "source": [
        "@tool\n",
        "def query_database(surgeon_query: str):\n",
        "  \"\"\"Query the pinecone database for the surgeon query\"\"\"\n",
        "  print(\"Query database\")\n",
        "  pinecone_api_key = userdata.get('PINECONE_API_KEY')\n",
        "  pc = Pinecone(api_key=pinecone_api_key)\n",
        "  index_name = \"surgical-assistant\"\n",
        "  index = pc.Index(index_name)\n",
        "  embeddings = HuggingFaceEmbeddings(model_name=\"sentence-transformers/all-mpnet-base-v2\")\n",
        "  vector_store = PineconeVectorStore(index=index, embedding=embeddings)\n",
        "  retriever = vector_store.as_retriever()\n",
        "  retrieved_information = retriever.invoke(surgeon_query)\n",
        "  return retrieved_information\n",
        "\n",
        "tools = [query_database]"
      ],
      "metadata": {
        "id": "rGEoTA3C4jCs"
      },
      "execution_count": 382,
      "outputs": []
    },
    {
      "cell_type": "code",
      "source": [
        "model_with_tools = model.bind_tools(tools)"
      ],
      "metadata": {
        "id": "r13N6iiYZd4W"
      },
      "execution_count": 384,
      "outputs": []
    },
    {
      "cell_type": "code",
      "source": [
        "def anatomy_node(state: State):\n",
        "  print('Anatomy Node')\n",
        "  surgeon_query: str = state['surgeon_query']\n",
        "  patient_history: str = state['patient_history']\n",
        "  messages = state[\"messages\"]\n",
        "  instructions: str = \"\"\"\n",
        "                    You are an Accredited Human Anatomy Expert.  Your task is to\n",
        "                    provide detailed anatomical insights related to a surgeon's\n",
        "                    query, taking into account the patient's medical history.\n",
        "\n",
        "                    **Surgeon's Query:** {surgeon_query}\n",
        "\n",
        "                    **Patient History:** {patient_history}\n",
        "\n",
        "                    **Messages:** {messages}\n",
        "\n",
        "                    **Instructions:**\n",
        "\n",
        "                    1. **Precision:** Provide precise anatomical details.\n",
        "                    Avoid vague or generalized responses.  Reference specific\n",
        "                    anatomical structures, planes, relationships, and potential\n",
        "                    variations.\n",
        "                    2. **Relevance:**  Directly address all aspects of the surgeon's\n",
        "                    query.  Ensure your response is highly relevant to the specific\n",
        "                    surgical procedure or anatomical area in question.\n",
        "                    3. **Depth:** Offer comprehensive insights,\n",
        "                    considering the potential surgical challenges and variations\n",
        "                    in anatomy.\n",
        "                    4. **Clarity:**  Write in clear, concise, and easily understandable\n",
        "                    language, suitable for a surgeon.  Avoid jargon unless absolutely\n",
        "                    necessary and define it when used.\n",
        "                    5. **Integration:**  Carefully consider the patient's history\n",
        "                    and how it might influence the anatomy.  Highlight any relevant\n",
        "                    anatomical variations or potential complications based on the\n",
        "                    provided history.\n",
        "\n",
        "                    **Example Response Format (Adapt as necessary):**\n",
        "\n",
        "                    * **Anatomical Structures Involved:** [List and describe the relevant structures, including their spatial relationships and variations.]\n",
        "                    * **Potential Complications:** [Based on the patient history and anatomy, list potential complications and suggest preventive measures.]\n",
        "                    * **Surgical Considerations:** [Outline key anatomical considerations for the surgical procedure.]\n",
        "                    * **Key Anatomical Landmarks:** [Highlight key landmarks to guide the surgical procedure.]\n",
        "                    * **Relevant Variations:** [Discuss any relevant anatomical variations based on the patient's history.]\n",
        "\n",
        "                    **Provide your detailed anatomical insight in response to the surgeon's query, considering the patient history.**\n",
        "                    \"\"\"\n",
        "  prompt: str = instructions.format(\n",
        "      surgeon_query=surgeon_query,\n",
        "      patient_history=patient_history,\n",
        "      messages=messages\n",
        "  )\n",
        "\n",
        "  state['messages'].append(HumanMessage(content=prompt))\n",
        "  response: BaseMessage = model_with_tools.invoke(state['messages'])\n",
        "  state['messages'] = [response]\n",
        "  state['anatomy_response'] = response.content\n",
        "  return state\n"
      ],
      "metadata": {
        "id": "BB4AOa4p1xUH"
      },
      "execution_count": 385,
      "outputs": []
    },
    {
      "cell_type": "code",
      "source": [
        "def complication_management_node(state: State):\n",
        "  print(\"Complication Management\")\n",
        "  surgeon_query: str = state['surgeon_query']\n",
        "  patient_history: str = state['patient_history']\n",
        "  instructions: str = \"\"\"\n",
        "    You are an expert Complication Manager AI assistant specializing in intraoperative\n",
        "    complications during surgical procedures.  Your primary function is to recognize\n",
        "    and mitigate potential or existing complications in real-time, suggesting interventions\n",
        "    and strategies.\n",
        "\n",
        "    **Input:**\n",
        "    1. **Patient History:**  A detailed summary of the patient's medical history {patient_history},\n",
        "    including relevant past surgeries, allergies, medications, and any pre-existing\n",
        "    conditions.  This information is crucial for assessing risk factors and predicting potential complications.\n",
        "\n",
        "    2. **Current Surgical Procedure:** A precise description of the ongoing surgical\n",
        "    procedure, including the surgical site, current steps, and any observed anomalies.\n",
        "    3. **Real-time Observations:** Any unusual findings or changes during the procedure.\n",
        "\n",
        "    Based on the provided information, generate a detailed response that includes the following:\n",
        "    1. **Complication Identification:** Clearly identify any potential or existing\n",
        "    intraoperative complications (e.g., hemorrhage, tissue damage, organ perforation,\n",
        "    infection risk). Prioritize critical complications and provide a rationale for your\n",
        "    assessment. Example: \"Potential hemorrhage due to cystic artery injury.\"\n",
        "\n",
        "    2. **Risk Assessment:**  Assess the severity of the identified complication(s)\n",
        "    and the potential impact on the patient's outcome. Example: \"Moderate risk of\n",
        "    hypovolemic shock due to ongoing bleeding.\"\n",
        "\n",
        "    3. **Intervention Recommendations:** Suggest specific, actionable interventions\n",
        "    and strategies to manage the complication.  Be explicit about the necessary steps,\n",
        "    including equipment, medications, and surgical techniques. Example: \"1. Immediately\n",
        "    apply pressure to the bleeding site. 2. Prepare for blood transfusion. 3. Consider\n",
        "    surgical clipping of the cystic artery.\"\n",
        "\n",
        "    4. **Alternative Strategies:**  If applicable, propose alternative strategies\n",
        "    and explain their potential advantages and disadvantages.\n",
        "\n",
        "    5. **Monitoring Guidelines:** Detail the parameters that need to be monitored\n",
        "    closely, and the desired target ranges.\n",
        "\n",
        "\n",
        "    **Important Considerations:**\n",
        "\n",
        "    *   Prioritize patient safety.\n",
        "    *   Be concise and direct in your recommendations.\n",
        "    *   Use precise medical terminology.\n",
        "    *   Justify your recommendations with evidence-based reasoning.\n",
        "    *   Avoid generic responses. Tailor your recommendations to the specific situation and patient characteristics.\n",
        "    *   Your recommendations should be aligned with standard surgical practices and protocols.\n",
        "  \"\"\"\n",
        "  prompt: str = instructions.format(\n",
        "      surgeon_query=surgeon_query,\n",
        "      patient_history=patient_history\n",
        "  )\n",
        "\n",
        "  response: BaseMessage = model.invoke(prompt)\n",
        "  return {\"infection_prevention_response\": response.content}\n"
      ],
      "metadata": {
        "id": "P-PhUnCa_Hgq"
      },
      "execution_count": 386,
      "outputs": []
    },
    {
      "cell_type": "code",
      "source": [
        "def infection_prevention_node(state: State):\n",
        "  print(\"Infection Prevention\")\n",
        "  surgeon_query: str = state['surgeon_query']\n",
        "  patient_history: str = state['patient_history']\n",
        "  instructions: str  = \"\"\"\n",
        "    You are a Certified Infection Preventionist (CIP) providing expert guidance to a surgeon.\n",
        "    A surgical error has occurred, and the surgeon is seeking your immediate advice on\n",
        "    infection prevention steps.  Your responses must be precise, evidence-based, and\n",
        "    prioritize patient safety.\n",
        "\n",
        "    **Context:**\n",
        "\n",
        "    * **Patient History:** {patient_history}  (Provide a detailed patient history,\n",
        "    including relevant medical conditions, allergies, past surgeries, and medications.\n",
        "    Include any known immunodeficiencies or infections.)\n",
        "    * **Surgeon's Query:** {surgeon_query} (The surgeon's specific question or\n",
        "    concern about the surgical error and potential infection risks.)\n",
        "\n",
        "    **Requirements:**\n",
        "\n",
        "    1. **Accurate Infection Prevention Steps:** Outline the most critical infection\n",
        "    prevention and control measures required to mitigate the risk of infection\n",
        "    *specifically* in response to the described surgical error.  Your steps should\n",
        "    be detailed and actionable, suitable for an operating room setting. Prioritize\n",
        "    the steps based on urgency and clinical significance. Be specific about the\n",
        "    timing of each step.\n",
        "\n",
        "\n",
        "    2. **Risk Assessment:** Assess the risk of infection given the surgical error\n",
        "    and the patient's history.  Quantify the risk if possible (e.g., low, moderate,\n",
        "    high). Justify your risk assessment.\n",
        "\n",
        "\n",
        "    3. **Evidence-Based Rationale:** Support all recommendations with credible\n",
        "    medical evidence.  Cite relevant guidelines, research, or best practices from\n",
        "    authoritative sources (e.g., CDC, WHO, professional surgical societies).\n",
        "\n",
        "\n",
        "    4. **Clear and Concise Language:** Use precise and unambiguous language easily\n",
        "    understood by a surgeon. Avoid jargon or overly technical terms. Focus on\n",
        "    practical and immediate actions.\n",
        "\n",
        "\n",
        "    5. **Prioritization:** Clearly prioritize the infection prevention steps in\n",
        "    order of importance and urgency.\n",
        "\n",
        "    **Output Format:**\n",
        "\n",
        "    * **Infection Prevention Steps (Bulleted list):**  Each step should include a\n",
        "    detailed description and an explanation of its purpose.\n",
        "    * **Risk Assessment:** A clear statement of the infection risk (low, moderate, high)\n",
        "    and the rationale for this assessment.\n",
        "    * **Evidence-Based Citations:**  Provide relevant references for all guidelines\n",
        "    and recommendations used.\n",
        "\n",
        "\n",
        "    **Example:**\n",
        "\n",
        "    (Assume a specific surgical error and patient history are provided)\n",
        "\n",
        "\n",
        "    **Do not provide any additional information not explicitly requested.\n",
        "    Only provide the requested response components.**\n",
        "\n",
        "  \"\"\"\n",
        "  prompt: str = instructions.format(\n",
        "      surgeon_query=surgeon_query,\n",
        "      patient_history=patient_history\n",
        "  )\n",
        "\n",
        "  response: BaseMessage = model.invoke(prompt)\n",
        "  return {\"complication_response\": response.content}\n"
      ],
      "metadata": {
        "id": "msEGdfcg8Frx"
      },
      "execution_count": 387,
      "outputs": []
    },
    {
      "cell_type": "code",
      "source": [
        "def insight_accumulator_node(state: State):\n",
        "  print(\"Insight Accumulator\")\n",
        "  surgeon_query: str = state['surgeon_query']\n",
        "  patient_history: str = state['patient_history']\n",
        "  anatomy_response: str = state['anatomy_response']\n",
        "  infection_prevention_response: str = state['infection_prevention_response']\n",
        "  complication_response: str = state['complication_response']\n",
        "  instructions: str = \"\"\"\n",
        "    You are an expert surgical insight accumulator. Your task is to gather insights from the\n",
        "    provided information and accumulate them into actionable insights for the surgeon\n",
        "    to respond to surgeon query {surgeon_query}.\n",
        "\n",
        "    **Context:**\n",
        "\n",
        "    * **Patient History:** {patient_history}\n",
        "    * **Relevant Anatomy:** {anatomy_response}\n",
        "    * **Infection Prevention Measures:** {infection_prevention_response}\n",
        "    * **Potential Complications and their Management:** {complication_response}\n",
        "\n",
        "    **Task:**\n",
        "\n",
        "    Carefully analyze the provided information, considering the patient's specific\n",
        "    history and the potential surgical challenges. Identify key insights that may\n",
        "    influence the surgical approach, including but not limited to:\n",
        "\n",
        "    * **Critical anatomical variations:**  Are there any unusual anatomical structures\n",
        "    or relationships that require special attention?\n",
        "    * **High-risk infection areas:** Are there any specific areas where infection\n",
        "    prevention measures need to be reinforced?\n",
        "    * **Anticipated complications and mitigation strategies:** What are the most\n",
        "    likely complications, and how can they be effectively prevented or managed?\n",
        "    * **Alternative surgical techniques:** Based on the available information, are\n",
        "    there alternative surgical techniques that could be considered?\n",
        "\n",
        "    Synthesize these insights into a concise and actionable summary for the next surgical planning node.\n",
        "    The summary should clearly highlight the key considerations derived from the provided data and\n",
        "    the patient's specific situation.  Ensure the insights are specific and directly relevant to\n",
        "    guiding the surgical plan.\n",
        "\n",
        "    **Output Format:**\n",
        "\n",
        "    Provide a structured summary of insights, using bullet points or a numbered list.\n",
        "    Avoid redundancy and focus on the most critical insights.\n",
        "\n",
        "    **Example:**\n",
        "\n",
        "    * **Insight 1:** Due to patient's history of [specific condition], the surgical\n",
        "    approach should prioritize [specific technique] to minimize risk of [specific complication].\n",
        "    * **Insight 2:** The presence of [specific anatomical variation] necessitates\n",
        "    careful dissection near the [anatomical region] to avoid [potential complication].\n",
        "\n",
        "    **Insights:**\n",
        "  \"\"\"\n",
        "  prompt: str = instructions.format(\n",
        "    surgeon_query=surgeon_query,\n",
        "    patient_history=patient_history,\n",
        "    anatomy_response=anatomy_response,\n",
        "    infection_prevention_response=infection_prevention_response,\n",
        "    complication_response=complication_response,\n",
        "  )\n",
        "\n",
        "  response: BaseMessage = model.invoke(prompt)\n",
        "  return {\"insight_accumulator_response\": response.content}"
      ],
      "metadata": {
        "id": "VarAT-kS8-0Z"
      },
      "execution_count": 388,
      "outputs": []
    },
    {
      "cell_type": "code",
      "source": [
        "def expert_surgeon_node(state: State):\n",
        "  print(\"Expert Surgeom\")\n",
        "  surgeon_query: str = state['surgeon_query']\n",
        "  insight_accumulator_response: str = state['insight_accumulator_response']\n",
        "  conversation = state['conversation']\n",
        "  instructions = \"\"\"\n",
        "    You are a Certified Surgical Consultant providing concise, high-quality\n",
        "    answers to surgeon queries.\n",
        "    Use your extensive knowledge of surgical procedures, anatomy, infection\n",
        "    prevention, and potential\n",
        "    complications to formulate responses.  Prioritize clarity and accuracy;\n",
        "    avoid unnecessary detail.\n",
        "\n",
        "    **Input:**\n",
        "\n",
        "    * **Surgeon's Query:** {surgeon_query}\n",
        "    * **Insight Accumulator:** {insight_accumulator_response}\n",
        "\n",
        "\n",
        "    **Instructions:**\n",
        "\n",
        "    1. Analyze the surgeon's query in the context of the provided patient history\n",
        "    and insights.\n",
        "    2. Synthesize the information into a clear and actionable response, directly\n",
        "    answering the question.\n",
        "    3. Prioritize conciseness.  Assume the surgeon is under time pressure and\n",
        "    needs brief, critical information.\n",
        "    4. Your response must be conversational in nature, suitable for a direct\n",
        "    dialogue with a surgeon.\n",
        "    5. If insufficient information is provided to answer definitively,\n",
        "    acknowledge this and suggest further investigations or data needed.\n",
        "\n",
        "    **Output Format:**\n",
        "\n",
        "    Respond directly to the surgeon's question, as if you were speaking directly to them.\n",
        "    Do not include explanations or justifications for how you reached your response.\n",
        "    The response should be a single short paragraph containing. The response must be\n",
        "    less than 2 sentences and 50 words\n",
        "\n",
        "\n",
        "    **Example:**\n",
        "\n",
        "    Surgeon's Query: What is the risk of infection post-appendectomy in a diabetic patient?\n",
        "\n",
        "    Response:  The risk of infection is moderately elevated in diabetic patients due to\n",
        "    impaired wound healing.   Prophylactic antibiotics are recommended, and close monitoring for\n",
        "    signs of infection in the first 72 hours is crucial.\n",
        "\n",
        "    **Response:**\n",
        "  \"\"\"\n",
        "  prompt: str = instructions.format(\n",
        "    surgeon_query=surgeon_query,\n",
        "    insight_accumulator_response=insight_accumulator_response,\n",
        "  )\n",
        "  response: BaseMessage = model.invoke(prompt)\n",
        "  state['conversation'].append(response.content)\n",
        "  state['expert_surgeon_response'] = response.content\n",
        "  return state\n"
      ],
      "metadata": {
        "id": "TTy_znMOBTwR"
      },
      "execution_count": 389,
      "outputs": []
    },
    {
      "cell_type": "code",
      "source": [
        "def grader_node(state: State):\n",
        "  surgeon_query: str = state['surgeon_query']\n",
        "  retrieved_information: str = state['retrieved_information']\n",
        "  structure_llm = llm.with_structured_output(Grade)\n",
        "  instructions = \"\"\"\n",
        "        You are a Grader AI tasked with evaluating surgical responses.\n",
        "        Evaluate the given response on:\n",
        "        1. Relevance (Does it address the query directly?).\n",
        "        2. Clarity (Is it concise and easy to understand?).\n",
        "        3. Depth (Does it provide sufficient detail or context?).\n",
        "\n",
        "        **Response to Evaluate:** {response}\n",
        "\n",
        "        Provide a score for each criterion out of 10, and include a brief comment on improvements.\n",
        "  \"\"\"\n",
        "  prompt: str = instructions.format(\n",
        "    surgeon_query=surgeon_query,\n",
        "    retrieved_information=retrieved_information,\n",
        "  )\n",
        "  relevance = structure_llm.invoke(prompt)\n",
        "  state['relevance'] = relevance.grade\n",
        "  return state"
      ],
      "metadata": {
        "id": "uG6jDCr6iGmm"
      },
      "execution_count": null,
      "outputs": []
    },
    {
      "cell_type": "code",
      "source": [
        "def should_continue(state: State):\n",
        "  messages = state[\"messages\"]\n",
        "  last_message = messages[-1]\n",
        "  if last_message.tool_calls:\n",
        "      return \"Retriever\"\n",
        "  return \"Infection Prevention Specialist\"\n"
      ],
      "metadata": {
        "id": "jQKWhicTeoWo"
      },
      "execution_count": 390,
      "outputs": []
    },
    {
      "cell_type": "code",
      "source": [
        "from langgraph.graph.state import END, START  # Import END explicitly if not already done\n",
        "\n",
        "builder = StateGraph(State)\n",
        "\n",
        "# Define retriever tool node\n",
        "retriever = ToolNode(tools)\n",
        "\n",
        "# Add nodes\n",
        "builder.add_node(\"Anatomy Specialist\", anatomy_node)\n",
        "builder.add_node(\"Infection Prevention Specialist\", infection_prevention_node)\n",
        "builder.add_node(\"Complication Manager\", complication_management_node)\n",
        "builder.add_node(\"Insight Accumulator\", insight_accumulator_node)\n",
        "builder.add_node(\"Expert Surgeon\", expert_surgeon_node)\n",
        "builder.add_node(\"Retriever\", retriever)\n",
        "\n",
        "# Define edges\n",
        "builder.add_edge(START, \"Anatomy Specialist\")\n",
        "builder.add_conditional_edges(\n",
        "    \"Anatomy Specialist\",\n",
        "    should_continue,\n",
        "    ['Retriever', 'Infection Prevention Specialist']\n",
        ")\n",
        "builder.add_edge(\"Retriever\", \"Anatomy Specialist\")\n",
        "builder.add_edge(\"Infection Prevention Specialist\", \"Complication Manager\")\n",
        "builder.add_edge(\"Complication Manager\", \"Insight Accumulator\")\n",
        "builder.add_edge(\"Insight Accumulator\", \"Expert Surgeon\")\n",
        "builder.add_edge(\"Expert Surgeon\", END)\n",
        "\n",
        "agent = builder.compile()\n",
        "display(Image(agent.get_graph().draw_mermaid_png()))\n"
      ],
      "metadata": {
        "colab": {
          "base_uri": "https://localhost:8080/",
          "height": 667
        },
        "id": "kQuhKMs5DcIb",
        "outputId": "45fe5574-5d0f-49dd-a9a9-28cf2e1c1507"
      },
      "execution_count": 391,
      "outputs": [
        {
          "output_type": "display_data",
          "data": {
            "image/png": "[encoded data removed]",
            "text/plain": [
              "<IPython.core.display.Image object>"
            ]
          },
          "metadata": {}
        }
      ]
    },
    {
      "cell_type": "code",
      "source": [
        "state = {\n",
        "    'surgeon_query': 'What are the anatomical considerations for a laparoscopic cholecystectomy in a patient with a history of previous right upper quadrant surgery?',\n",
        "    'patient_history': 'The patient is a 65-year-old male with a history of a right upper quadrant laparotomy for a perforated duodenal ulcer 10 years prior. He also has type 2 diabetes mellitus and hypertension.  His current complaint is right upper quadrant pain and nausea.',\n",
        "    'conversation': [],\n",
        "    'messages' : [],\n",
        "    'insight_accumulator_response': '',\n",
        "}"
      ],
      "metadata": {
        "id": "EGRRDgQTEs0s"
      },
      "execution_count": 392,
      "outputs": []
    },
    {
      "cell_type": "code",
      "source": [
        "result = agent.invoke(state)\n",
        "result['expert_surgeon_response']"
      ],
      "metadata": {
        "colab": {
          "base_uri": "https://localhost:8080/",
          "height": 192
        },
        "id": "MeEk37znFUs6",
        "outputId": "22185a25-1e02-437e-baca-612d44b4f1f3"
      },
      "execution_count": 396,
      "outputs": [
        {
          "output_type": "stream",
          "name": "stdout",
          "text": [
            "Anatomy Node\n",
            "Query database\n",
            "Anatomy Node\n",
            "Infection Prevention\n",
            "Complication Management\n",
            "Insight Accumulator\n",
            "Expert Surgeom\n"
          ]
        },
        {
          "output_type": "execute_result",
          "data": {
            "text/plain": [
              "\"Given the patient's history of previous right upper quadrant surgery, it's essential to carefully identify Calot's triangle and its contents, considering altered anatomy. Key anatomical landmarks, such as the gallbladder, cystic duct, and common bile duct, must be precisely located to ensure safe dissection and minimize complications.\""
            ],
            "application/vnd.google.colaboratory.intrinsic+json": {
              "type": "string"
            }
          },
          "metadata": {},
          "execution_count": 396
        }
      ]
    },
    {
      "cell_type": "code",
      "source": [],
      "metadata": {
        "id": "Y1171GT7rn7R"
      },
      "execution_count": 395,
      "outputs": []
    },
    {
      "cell_type": "code",
      "source": [
        "class Grade(BaseModel):\n",
        "    grade: str = Field(description = 'Relevance score \"yes\" or \"no\"')"
      ],
      "metadata": {
        "id": "HiITs5-sLkt_"
      },
      "execution_count": 353,
      "outputs": []
    },
    {
      "cell_type": "code",
      "source": [],
      "metadata": {
        "id": "84vlsvOojpFt"
      },
      "execution_count": null,
      "outputs": []
    },
    {
      "cell_type": "code",
      "source": [],
      "metadata": {
        "id": "31fPDkpfjpC4"
      },
      "execution_count": null,
      "outputs": []
    },
    {
      "cell_type": "code",
      "source": [],
      "metadata": {
        "id": "5a1Le1mAjpAk"
      },
      "execution_count": null,
      "outputs": []
    },
    {
      "cell_type": "code",
      "source": [
        "from langchain_core.tools import tool\n",
        "from typing_extensions import TypedDict\n",
        "\n",
        "\n",
        "@tool\n",
        "def query_database(search_query: str):\n",
        "  \"\"\"Query the pinecone database for the surgeon query\"\"\"\n",
        "  print(\"Query Database\")\n",
        "  pinecone_api_key = userdata.get('PINECONE_API_KEY')\n",
        "  pc = Pinecone(api_key=pinecone_api_key)\n",
        "  index_name = \"surgical-assistant\"\n",
        "  index = pc.Index(index_name)\n",
        "  embeddings = HuggingFaceEmbeddings(model_name=\"sentence-transformers/all-mpnet-base-v2\")\n",
        "  vector_store = PineconeVectorStore(index=index, embedding=embeddings)\n",
        "  retriever = vector_store.as_retriever()\n",
        "  retrieved_information = retriever.invoke(search_query)\n",
        "  return retrieved_information\n",
        "\n",
        "tools = [query_database]\n",
        "tool_node = ToolNode(tools)"
      ],
      "metadata": {
        "id": "B9GhNgXPjo91"
      },
      "execution_count": 429,
      "outputs": []
    },
    {
      "cell_type": "code",
      "source": [
        "message_with_single_tool_call = AIMessage(\n",
        "    content=\"\",\n",
        "    tool_calls=[{'name': 'query_database',\n",
        "                'args': {'search_query': 'What are the anatomical considerations for a laparoscopic cholecystectomy in a patient with a history of previous right upper quadrant surgery?'},\n",
        "                'id': 'call_zc9x',\n",
        "                'type': 'tool_call'}],\n",
        "              )\n",
        "\n",
        "response = tool_node.invoke({\"messages\": [message_with_single_tool_call]})\n",
        "response"
      ],
      "metadata": {
        "colab": {
          "base_uri": "https://localhost:8080/"
        },
        "id": "DEJajK96kfdE",
        "outputId": "8da44ca6-ea0f-4d14-91e9-83684476e3e9"
      },
      "execution_count": 430,
      "outputs": [
        {
          "output_type": "stream",
          "name": "stdout",
          "text": [
            "Query Database\n"
          ]
        },
        {
          "output_type": "execute_result",
          "data": {
            "text/plain": [
              "{'messages': [ToolMessage(content=\"[Document(id='40b05747-46d0-4648-a7e8-cd11f8f466e1', metadata={'chunk_index': 15055.0, 'source': 'Sabiston Textbook Of Surgery (Courtney Townsend, R. Daniel Beauchamp etc.) (Z-Library).pdf'}, page_content=' acute cholecystitis, albeit with a higher conversion rate and operative time than in the elect ive setting. Morbid obesity, o nce thought to be a relative \\\\ncontraindication to the laparoscopic approa ch, is not associated with  a higher conversion rate. L onger trocars and instruments and an increase in intra-\\\\nabdominal pressure may be helpful in thes e patients. Prior upper abdominal surgery may increase the difficulty  of or preclude l aparoscopic \\\\ncholecystectomy. However, placement of a Hasson cannula '), Document(id='8963860b-4cd3-44b2-952c-d1af583b1a9b', metadata={'chunk_index': 9125.0, 'source': 'Norman Williams, P Ronan O’Connell, Andrew McCaskie (eds.) - Bailey & Love’s Short Practice of Surgery-CRC Press (2018).pdf'}, page_content='copy or by open techniques. Laparoscopic cholecystectomy is the procedure of choice for the majority of patients with gallbladder disease. The key, as in open surgery, is the identification and safe dis-section of Calot’s triangle (Figure 67.31).\\\\nThe patient is placed supine on the operating table. Fol-\\\\nlowing induction and maintenance of general anaesthesia, the abdomen is prepared in a standard fashion. Pneumoperi -\\\\ntoneum is established. A number of techniques are described. The author’s preference is to'), Document(id='d92c3466-b14d-4b87-94cc-c90dd4b967e4', metadata={'chunk_index': 15024.0, 'source': 'Sabiston Textbook Of Surgery (Courtney Townsend, R. Daniel Beauchamp etc.) (Z-Library).pdf'}, page_content='proximately 0.1% with cardiovascular complications be ing the most frequent cause of death. The most signif icant complication \\\\nfollowing laparoscopic cholec ystectomy is injury to the biliary tract. Overall,  complications occur in fewer than 10% of patien ts. Conversion to an open \\\\ncholecystectomy is necessary in less than  5% of patients undergoing laparoscopic c holecystectomy for chroni c cholecystitis. Con version rates are \\\\nincreased in elderly, obese, and male patients. \\\\nThe long-term results of lap'), Document(id='f6c3b85f-94cb-4e1b-a4b0-f90de0b213f3', metadata={'chunk_index': 15053.0, 'source': 'Sabiston Textbook Of Surgery (Courtney Townsend, R. Daniel Beauchamp etc.) (Z-Library).pdf'}, page_content='mandate  an open cholecystectomy. Uncontrolled c oagulopathy is one of \\\\nthe few current contraindications to lapa roscopic cholecystectomy. In addition, patients  with severe chronic obstructive pulmon ary disease or congestive \\\\nheart failure may not tolerate the pneumoperitoneum required fo r performing laparoscopic surgery. Currently, the major contrain dication to completing \\\\na laparoscopic cholecystectomy is an inabil ity to clearly identify all of the anatom ic structures. A liberal policy of converti ')]\", name='query_database', tool_call_id='call_zc9x')]}"
            ]
          },
          "metadata": {},
          "execution_count": 430
        }
      ]
    },
    {
      "cell_type": "code",
      "source": [
        "response['messages'][0].content"
      ],
      "metadata": {
        "colab": {
          "base_uri": "https://localhost:8080/",
          "height": 157
        },
        "id": "sXIOBmnW1PRe",
        "outputId": "3ab44b18-0e1e-4f06-f01e-565923f4895a"
      },
      "execution_count": 431,
      "outputs": [
        {
          "output_type": "execute_result",
          "data": {
            "text/plain": [
              "\"[Document(id='40b05747-46d0-4648-a7e8-cd11f8f466e1', metadata={'chunk_index': 15055.0, 'source': 'Sabiston Textbook Of Surgery (Courtney Townsend, R. Daniel Beauchamp etc.) (Z-Library).pdf'}, page_content=' acute cholecystitis, albeit with a higher conversion rate and operative time than in the elect ive setting. Morbid obesity, o nce thought to be a relative \\\\ncontraindication to the laparoscopic approa ch, is not associated with  a higher conversion rate. L onger trocars and instruments and an increase in intra-\\\\nabdominal pressure may be helpful in thes e patients. Prior upper abdominal surgery may increase the difficulty  of or preclude l aparoscopic \\\\ncholecystectomy. However, placement of a Hasson cannula '), Document(id='8963860b-4cd3-44b2-952c-d1af583b1a9b', metadata={'chunk_index': 9125.0, 'source': 'Norman Williams, P Ronan O’Connell, Andrew McCaskie (eds.) - Bailey & Love’s Short Practice of Surgery-CRC Press (2018).pdf'}, page_content='copy or by open techniques. Laparoscopic cholecystectomy is the procedure of choice for the majority of patients with gallbladder disease. The key, as in open surgery, is the identification and safe dis-section of Calot’s triangle (Figure 67.31).\\\\nThe patient is placed supine on the operating table. Fol-\\\\nlowing induction and maintenance of general anaesthesia, the abdomen is prepared in a standard fashion. Pneumoperi -\\\\ntoneum is established. A number of techniques are described. The author’s preference is to'), Document(id='d92c3466-b14d-4b87-94cc-c90dd4b967e4', metadata={'chunk_index': 15024.0, 'source': 'Sabiston Textbook Of Surgery (Courtney Townsend, R. Daniel Beauchamp etc.) (Z-Library).pdf'}, page_content='proximately 0.1% with cardiovascular complications be ing the most frequent cause of death. The most signif icant complication \\\\nfollowing laparoscopic cholec ystectomy is injury to the biliary tract. Overall,  complications occur in fewer than 10% of patien ts. Conversion to an open \\\\ncholecystectomy is necessary in less than  5% of patients undergoing laparoscopic c holecystectomy for chroni c cholecystitis. Con version rates are \\\\nincreased in elderly, obese, and male patients. \\\\nThe long-term results of lap'), Document(id='f6c3b85f-94cb-4e1b-a4b0-f90de0b213f3', metadata={'chunk_index': 15053.0, 'source': 'Sabiston Textbook Of Surgery (Courtney Townsend, R. Daniel Beauchamp etc.) (Z-Library).pdf'}, page_content='mandate  an open cholecystectomy. Uncontrolled c oagulopathy is one of \\\\nthe few current contraindications to lapa roscopic cholecystectomy. In addition, patients  with severe chronic obstructive pulmon ary disease or congestive \\\\nheart failure may not tolerate the pneumoperitoneum required fo r performing laparoscopic surgery. Currently, the major contrain dication to completing \\\\na laparoscopic cholecystectomy is an inabil ity to clearly identify all of the anatom ic structures. A liberal policy of converti ')]\""
            ],
            "application/vnd.google.colaboratory.intrinsic+json": {
              "type": "string"
            }
          },
          "metadata": {},
          "execution_count": 431
        }
      ]
    },
    {
      "cell_type": "code",
      "source": [
        "model = ChatGroq(\n",
        "    model=\"llama-3.1-70b-versatile\",\n",
        "    verbose=True,\n",
        "    temperature=0.5,\n",
        "    api_key=api_key\n",
        ")\n",
        "\n",
        "model_with_tools = model.bind_tools(tools)\n",
        "#model_with_tools\n",
        "model_with_tools.invoke('What are the anatomical considerations for a laparoscopic cholecystectomy in a patient with a history of previous right upper quadrant surgery?').tool_calls\n",
        "# model_with_tools.invoke('What are the anatomical considerations for a laparoscopic cholecystectomy in a patient with a history of previous right upper quadrant surgery?')"
      ],
      "metadata": {
        "id": "pAJb5_kXEBRH",
        "colab": {
          "base_uri": "https://localhost:8080/"
        },
        "outputId": "67e69291-8ebe-40b7-fe50-08f5a4a9dc5b"
      },
      "execution_count": 432,
      "outputs": [
        {
          "output_type": "execute_result",
          "data": {
            "text/plain": [
              "[{'name': 'query_database',\n",
              "  'args': {'search_query': 'anatomical considerations for laparoscopic cholecystectomy in patient with history of previous right upper quadrant surgery'},\n",
              "  'id': 'call_fqra',\n",
              "  'type': 'tool_call'}]"
            ]
          },
          "metadata": {},
          "execution_count": 432
        }
      ]
    },
    {
      "cell_type": "code",
      "source": [
        "from typing import Literal\n",
        "from langchain_core.prompts import PromptTemplate\n",
        "from langgraph.graph import StateGraph, MessagesState, START, END\n",
        "\n",
        "class Grade(BaseModel):\n",
        "  grade: str = Field(description=\"Grade the relevance of retrieved file\")\n",
        "\n",
        "structure_model = model.with_structured_output(Grade)\n",
        "\n",
        "# def should_continue(state: MessagesState):\n",
        "#     messages = state[\"messages\"]\n",
        "#     last_message = messages[-1]\n",
        "#     if last_message.tool_calls:\n",
        "#         return \"tools\"\n",
        "#     return \"dummy\"\n",
        "\n",
        "\n",
        "def call_model(state: MessagesState):\n",
        "    messages = state[\"messages\"]\n",
        "    prompt = f\"Summarize the content of messages {messages}\"\n",
        "    state['messages'].append(HumanMessage(content=prompt))\n",
        "    response = model_with_tools.invoke(messages)\n",
        "    return {\"messages\": [response]}\n",
        "\n",
        "def grade_documents(state) -> Literal[\"dummy\", \"rewrite\"]:\n",
        "    print(\"---CHECK RELEVANCE---\")\n",
        "    # Prompt\n",
        "    prompt = PromptTemplate(\n",
        "        template=\"\"\"You are a grader assessing relevance of a retrieved document to a user question. \\n\n",
        "        Here is the retrieved document: \\n\\n {context} \\n\\n\n",
        "        Here is the user question: {question} \\n\n",
        "        If the document contains keyword(s) or semantic meaning related to the user question, grade it as relevant. \\n\n",
        "        Give a binary score 'yes' or 'no' score to indicate whether the document is relevant to the question.\"\"\",\n",
        "        input_variables=[\"context\", \"question\"],\n",
        "    )\n",
        "    # Chain\n",
        "    chain = prompt | structure_model\n",
        "    messages = state[\"messages\"]\n",
        "    last_message = messages[-1]\n",
        "    question = messages[0].content\n",
        "    docs = last_message.content\n",
        "    scored_result = chain.invoke({\"question\": question, \"context\": docs})\n",
        "    score = scored_result.grade\n",
        "    if score == \"yes\":\n",
        "        print(\"---DECISION: DOCS RELEVANT---\")\n",
        "        return \"dummy\"\n",
        "    else:\n",
        "        print(\"---DECISION: DOCS NOT RELEVANT---\")\n",
        "        print(score)\n",
        "        return \"rewrite\"\n",
        "\n",
        "# def relevance_checker(state: MessagesState):\n",
        "#     messages = state[\"messages\"]\n",
        "#     last_message = messages[-1]\n",
        "#     prompt = f\"\"\"Check the relevance of retrieved document from the pinecone database\n",
        "#             {last_message}. Return 'yes' for relevance and 'no' for non-relevance. return\n",
        "#             yes or no only\n",
        "#             \"\"\"\n",
        "#     response = structure_model.invoke(prompt)\n",
        "#     relevance_message = AIMessage(content=response.grade)\n",
        "#     print('relevance_message')\n",
        "#     if response.grade == 'yes':\n",
        "#         return \"dummy\"\n",
        "#     return \"rewrite\"\n",
        "\n",
        "\n",
        "# def relevance_router(state: State):\n",
        "#     last_message = state['messages'][-1].content  # Assuming content holds the message text\n",
        "#     consecutive_yes = 0\n",
        "#     for msg in reversed(state['messages']):\n",
        "#         if msg.content == 'yes':\n",
        "#             consecutive_yes += 1\n",
        "#         else:\n",
        "#             break\n",
        "#     if consecutive_yes > 3:\n",
        "#         return \"dummy\"\n",
        "#     if last_message == 'yes':\n",
        "#         return \"agent\"\n",
        "#     return \"tools\"\n",
        "\n",
        "def rewrite(state):\n",
        "    print(\"---TRANSFORM QUERY---\")\n",
        "    messages = state[\"messages\"]\n",
        "    question = messages[0].content\n",
        "    msg = [\n",
        "        HumanMessage(\n",
        "            content=f\"\"\" \\n\n",
        "    Look at the input and try to reason about the underlying semantic intent / meaning. \\n\n",
        "    Here is the initial question:\n",
        "    \\n ------- \\n\n",
        "    {question}\n",
        "    \\n ------- \\n\n",
        "    Formulate an improved question: \"\"\",\n",
        "        )\n",
        "    ]\n",
        "    response = model.invoke(msg)\n",
        "    return {\"messages\": [response]}\n",
        "\n",
        "\n",
        "def dummy(state: MessagesState):\n",
        "    messages = state[\"messages\"]\n",
        "    return {\"messages\": ['Dummy Response']}\n",
        "\n",
        "\n",
        "workflow = StateGraph(MessagesState)\n",
        "\n",
        "# Define the two nodes we will cycle between\n",
        "workflow.add_node(\"agent\", call_model)\n",
        "workflow.add_node(\"rewrite\", rewrite)\n",
        "workflow.add_node(\"tools\", tool_node)\n",
        "workflow.add_node(\"dummy\", dummy)\n",
        "\n",
        "workflow.add_edge(START, \"agent\")\n",
        "workflow.add_edge(\"agent\", \"tools\")\n",
        "workflow.add_conditional_edges(\"tools\", grade_documents, ['dummy', 'rewrite']) # Changed \"relevant\" to \"dummy\" and \"irrelevant\" to \"rewrite\"\n",
        "workflow.add_edge(\"rewrite\", \"agent\")\n",
        "workflow.add_edge(\"dummy\", END)\n",
        "# workflow.add_edge(\"rewrite\", END) # Added this line to define \"rewrite\" as an end state\n",
        "app = workflow.compile()\n",
        "display(Image(app.get_graph().draw_mermaid_png()))"
      ],
      "metadata": {
        "colab": {
          "base_uri": "https://localhost:8080/",
          "height": 449
        },
        "id": "LwkhY-CagwJo",
        "outputId": "b57ecbec-619a-4571-a4e5-b998cde6e120"
      },
      "execution_count": 441,
      "outputs": [
        {
          "output_type": "display_data",
          "data": {
            "image/png": "[encoded data removed]",
            "text/plain": [
              "<IPython.core.display.Image object>"
            ]
          },
          "metadata": {}
        }
      ]
    },
    {
      "cell_type": "code",
      "source": [
        "for chunk in app.stream(\n",
        "    {\"messages\": [(\"human\", \"What are the anatomical considerations for a laparoscopic cholecystectomy in a patient with a history of previous right upper quadrant surgery?\")]}, stream_mode=\"values\"\n",
        "):\n",
        "    chunk[\"messages\"][-1].pretty_print()"
      ],
      "metadata": {
        "colab": {
          "base_uri": "https://localhost:8080/",
          "height": 1000
        },
        "id": "-VO4ULS4hKJp",
        "outputId": "daa419b3-c962-41f0-9194-d0394c175df3"
      },
      "execution_count": 445,
      "outputs": [
        {
          "output_type": "stream",
          "name": "stdout",
          "text": [
            "================================\u001b[1m Human Message \u001b[0m=================================\n",
            "\n",
            "What are the anatomical considerations for a laparoscopic cholecystectomy in a patient with a history of previous right upper quadrant surgery?\n",
            "==================================\u001b[1m Ai Message \u001b[0m==================================\n",
            "Tool Calls:\n",
            "  query_database (call_13d3)\n",
            " Call ID: call_13d3\n",
            "  Args:\n",
            "    search_query: anatomical considerations laparoscopic cholecystectomy previous right upper quadrant surgery\n",
            "Query Database\n",
            "---CHECK RELEVANCE---\n",
            "---DECISION: DOCS NOT RELEVANT---\n",
            "no\n",
            "=================================\u001b[1m Tool Message \u001b[0m=================================\n",
            "Name: query_database\n",
            "\n",
            "[Document(id='8963860b-4cd3-44b2-952c-d1af583b1a9b', metadata={'chunk_index': 9125.0, 'source': 'Norman Williams, P Ronan O’Connell, Andrew McCaskie (eds.) - Bailey & Love’s Short Practice of Surgery-CRC Press (2018).pdf'}, page_content='copy or by open techniques. Laparoscopic cholecystectomy is the procedure of choice for the majority of patients with gallbladder disease. The key, as in open surgery, is the identification and safe dis-section of Calot’s triangle (Figure 67.31).\\nThe patient is placed supine on the operating table. Fol-\\nlowing induction and maintenance of general anaesthesia, the abdomen is prepared in a standard fashion. Pneumoperi -\\ntoneum is established. A number of techniques are described. The author’s preference is to'), Document(id='589ecb7a-cdcd-4504-a27d-8edcfe6a4886', metadata={'chunk_index': 9127.0, 'source': 'Norman Williams, P Ronan O’Connell, Andrew McCaskie (eds.) - Bailey & Love’s Short Practice of Surgery-CRC Press (2018).pdf'}, page_content='31  Operative image \\nof a laparoscopic cholecystectomy. \\nLaparoscopic for\\nceps (arrow) are used to dissect Calot’s triangle.\\n11_67-B&L27_Pt11_Ch67.indd   1202 25/10/2017   09:52Cholecystect\\nomy 1203\\nPART 11 | ABDOMINAL\\ndoes all the work’ – Moynihan). Alternatively, a stabilised \\nring retractor is used to keep the packs in position.\\nAn artery or Duval forceps is placed on the infundibulum \\nof the gallbladder and the peritoneum overlying Calot’\\ns tri-\\nangle is placed on a stretch. The peritoneum is then divid'), Document(id='d92c3466-b14d-4b87-94cc-c90dd4b967e4', metadata={'chunk_index': 15024.0, 'source': 'Sabiston Textbook Of Surgery (Courtney Townsend, R. Daniel Beauchamp etc.) (Z-Library).pdf'}, page_content='proximately 0.1% with cardiovascular complications be ing the most frequent cause of death. The most signif icant complication \\nfollowing laparoscopic cholec ystectomy is injury to the biliary tract. Overall,  complications occur in fewer than 10% of patien ts. Conversion to an open \\ncholecystectomy is necessary in less than  5% of patients undergoing laparoscopic c holecystectomy for chroni c cholecystitis. Con version rates are \\nincreased in elderly, obese, and male patients. \\nThe long-term results of lap'), Document(id='60db7a73-7410-4a5e-a64c-984c57b245bf', metadata={'chunk_index': 15056.0, 'source': 'Sabiston Textbook Of Surgery (Courtney Townsend, R. Daniel Beauchamp etc.) (Z-Library).pdf'}, page_content='often reveals few adhesions or adhesions  that can be dissected laparosc opically, permitting \\ncompletion of a laparoscopic cholecystectomy. Elective laparoscopic cholecystectomy has also been completed safely in patients with well-\\ncompensated cirrhosis (Childs classes A a nd B), although difficulty retr acting the firm liver and increased bleeding from colla terals have been noted. \\nLaparoscopic Cholecystectomy \\nPatients undergoing laparoscopic c holecystectomy are prepared and draped in a si milar fashio')]\n",
            "---TRANSFORM QUERY---\n",
            "==================================\u001b[1m Ai Message \u001b[0m==================================\n",
            "\n",
            "The initial question is clear and concise, but it can be improved to elicit more specific and relevant information. Here's a reformulated question:\n",
            "\n",
            "\"What are the key anatomical considerations and potential challenges that a surgeon should be aware of when performing a laparoscopic cholecystectomy in a patient with a history of previous surgery in the right upper quadrant, and how can these factors impact the surgical approach and technique?\"\n",
            "\n",
            "This revised question:\n",
            "\n",
            "* Specifies the type of surgery (laparoscopic cholecystectomy) and the patient's relevant medical history (previous right upper quadrant surgery)\n",
            "* Asks about both the anatomical considerations and potential challenges, which can help the surgeon anticipate and prepare for possible complications\n",
            "* Inquires about the impact of these factors on the surgical approach and technique, which can provide more practical and actionable information for the surgeon.\n",
            "==================================\u001b[1m Ai Message \u001b[0m==================================\n",
            "Tool Calls:\n",
            "  query_database (call_r41p)\n",
            " Call ID: call_r41p\n",
            "  Args:\n",
            "    search_query: anatomical considerations and potential challenges for laparoscopic cholecystectomy in patient with history of previous right upper quadrant surgery\n",
            "Query Database\n",
            "---CHECK RELEVANCE---\n",
            "---DECISION: DOCS NOT RELEVANT---\n",
            "no\n",
            "=================================\u001b[1m Tool Message \u001b[0m=================================\n",
            "Name: query_database\n",
            "\n",
            "[Document(id='8963860b-4cd3-44b2-952c-d1af583b1a9b', metadata={'chunk_index': 9125.0, 'source': 'Norman Williams, P Ronan O’Connell, Andrew McCaskie (eds.) - Bailey & Love’s Short Practice of Surgery-CRC Press (2018).pdf'}, page_content='copy or by open techniques. Laparoscopic cholecystectomy is the procedure of choice for the majority of patients with gallbladder disease. The key, as in open surgery, is the identification and safe dis-section of Calot’s triangle (Figure 67.31).\\nThe patient is placed supine on the operating table. Fol-\\nlowing induction and maintenance of general anaesthesia, the abdomen is prepared in a standard fashion. Pneumoperi -\\ntoneum is established. A number of techniques are described. The author’s preference is to'), Document(id='d92c3466-b14d-4b87-94cc-c90dd4b967e4', metadata={'chunk_index': 15024.0, 'source': 'Sabiston Textbook Of Surgery (Courtney Townsend, R. Daniel Beauchamp etc.) (Z-Library).pdf'}, page_content='proximately 0.1% with cardiovascular complications be ing the most frequent cause of death. The most signif icant complication \\nfollowing laparoscopic cholec ystectomy is injury to the biliary tract. Overall,  complications occur in fewer than 10% of patien ts. Conversion to an open \\ncholecystectomy is necessary in less than  5% of patients undergoing laparoscopic c holecystectomy for chroni c cholecystitis. Con version rates are \\nincreased in elderly, obese, and male patients. \\nThe long-term results of lap'), Document(id='9742425b-0eac-41bf-a009-939274c5c9af', metadata={'chunk_index': 989.0, 'source': 'Norman Williams, P Ronan O’Connell, Andrew McCaskie (eds.) - Bailey & Love’s Short Practice of Surgery-CRC Press (2018).pdf'}, page_content='ed that lapa -\\nroscopic cholecystectomy has revolutionised the surgical management of cholelithiasis and has become the main-stay of management of uncomplicated gallstone disease. With improved instrumentation, advanced procedures, such as laparoscopic colectomies for malignancy, previously regarded as controversial, have also become fully accepted. There continues to be substantive evidence demonstrat -\\ning the short-term benefits of laparoscopic surgery over open surgery with regard to postoperative pain,'), Document(id='589ecb7a-cdcd-4504-a27d-8edcfe6a4886', metadata={'chunk_index': 9127.0, 'source': 'Norman Williams, P Ronan O’Connell, Andrew McCaskie (eds.) - Bailey & Love’s Short Practice of Surgery-CRC Press (2018).pdf'}, page_content='31  Operative image \\nof a laparoscopic cholecystectomy. \\nLaparoscopic for\\nceps (arrow) are used to dissect Calot’s triangle.\\n11_67-B&L27_Pt11_Ch67.indd   1202 25/10/2017   09:52Cholecystect\\nomy 1203\\nPART 11 | ABDOMINAL\\ndoes all the work’ – Moynihan). Alternatively, a stabilised \\nring retractor is used to keep the packs in position.\\nAn artery or Duval forceps is placed on the infundibulum \\nof the gallbladder and the peritoneum overlying Calot’\\ns tri-\\nangle is placed on a stretch. The peritoneum is then divid')]\n",
            "---TRANSFORM QUERY---\n",
            "==================================\u001b[1m Ai Message \u001b[0m==================================\n",
            "\n",
            "Based on the input, I'll try to reason about the underlying semantic intent/meaning and formulate an improved question.\n",
            "\n",
            "The initial question is asking about the anatomical considerations for a laparoscopic cholecystectomy (a surgical procedure to remove the gallbladder using a minimally invasive technique) in a patient who has had previous surgery in the same region (right upper quadrant).\n",
            "\n",
            "The semantic intent behind this question appears to be seeking information on how the surgeon should adapt their technique to accommodate the patient's altered anatomy due to the previous surgery. This might include considerations such as:\n",
            "\n",
            "* Adhesions or scar tissue that may affect the placement of trocars (surgical instruments) or the dissection of tissues\n",
            "* Changes in the normal anatomical relationships between structures in the right upper quadrant\n",
            "* Potential risks or complications that may arise due to the altered anatomy\n",
            "\n",
            "With this understanding, an improved question could be:\n",
            "\n",
            "\"What are the key anatomical considerations and potential challenges that a surgeon should be aware of when performing a laparoscopic cholecystectomy in a patient with a history of previous right upper quadrant surgery, and how can these challenges be mitigated to ensure a safe and successful procedure?\"\n",
            "\n",
            "This revised question is more specific and comprehensive, and it should elicit a more detailed and informative response that addresses the surgeon's concerns and needs.\n"
          ]
        },
        {
          "output_type": "error",
          "ename": "APIStatusError",
          "evalue": "Error code: 413 - {'error': {'message': 'Request too large for model `llama-3.1-70b-versatile` in organization `org_01jcb081a4et687vvyzy6vx67h` on tokens per minute (TPM): Limit 6000, Requested 8569, please reduce your message size and try again. Visit https://console.groq.com/docs/rate-limits for more information.', 'type': 'tokens', 'code': 'rate_limit_exceeded'}}",
          "traceback": [
            "\u001b[0;31m---------------------------------------------------------------------------\u001b[0m",
            "\u001b[0;31mAPIStatusError\u001b[0m                            Traceback (most recent call last)",
            "\u001b[0;32m<ipython-input-445-a2c9ac366b17>\u001b[0m in \u001b[0;36m<cell line: 1>\u001b[0;34m()\u001b[0m\n\u001b[0;32m----> 1\u001b[0;31m for chunk in app.stream(\n\u001b[0m\u001b[1;32m      2\u001b[0m     \u001b[0;34m{\u001b[0m\u001b[0;34m\"messages\"\u001b[0m\u001b[0;34m:\u001b[0m \u001b[0;34m[\u001b[0m\u001b[0;34m(\u001b[0m\u001b[0;34m\"human\"\u001b[0m\u001b[0;34m,\u001b[0m \u001b[0;34m\"What are the anatomical considerations for a laparoscopic cholecystectomy in a patient with a history of previous right upper quadrant surgery?\"\u001b[0m\u001b[0;34m)\u001b[0m\u001b[0;34m]\u001b[0m\u001b[0;34m}\u001b[0m\u001b[0;34m,\u001b[0m \u001b[0mstream_mode\u001b[0m\u001b[0;34m=\u001b[0m\u001b[0;34m\"values\"\u001b[0m\u001b[0;34m\u001b[0m\u001b[0;34m\u001b[0m\u001b[0m\n\u001b[1;32m      3\u001b[0m ):\n\u001b[1;32m      4\u001b[0m     \u001b[0mchunk\u001b[0m\u001b[0;34m[\u001b[0m\u001b[0;34m\"messages\"\u001b[0m\u001b[0;34m]\u001b[0m\u001b[0;34m[\u001b[0m\u001b[0;34m-\u001b[0m\u001b[0;36m1\u001b[0m\u001b[0;34m]\u001b[0m\u001b[0;34m.\u001b[0m\u001b[0mpretty_print\u001b[0m\u001b[0;34m(\u001b[0m\u001b[0;34m)\u001b[0m\u001b[0;34m\u001b[0m\u001b[0;34m\u001b[0m\u001b[0m\n",
            "\u001b[0;32m/usr/local/lib/python3.10/dist-packages/langgraph/pregel/__init__.py\u001b[0m in \u001b[0;36mstream\u001b[0;34m(self, input, config, stream_mode, output_keys, interrupt_before, interrupt_after, debug, subgraphs)\u001b[0m\n\u001b[1;32m   1645\u001b[0m                 \u001b[0;31m# with channel updates applied only at the transition between steps\u001b[0m\u001b[0;34m\u001b[0m\u001b[0;34m\u001b[0m\u001b[0m\n\u001b[1;32m   1646\u001b[0m                 \u001b[0;32mwhile\u001b[0m \u001b[0mloop\u001b[0m\u001b[0;34m.\u001b[0m\u001b[0mtick\u001b[0m\u001b[0;34m(\u001b[0m\u001b[0minput_keys\u001b[0m\u001b[0;34m=\u001b[0m\u001b[0mself\u001b[0m\u001b[0;34m.\u001b[0m\u001b[0minput_channels\u001b[0m\u001b[0;34m)\u001b[0m\u001b[0;34m:\u001b[0m\u001b[0;34m\u001b[0m\u001b[0;34m\u001b[0m\u001b[0m\n\u001b[0;32m-> 1647\u001b[0;31m                     for _ in runner.tick(\n\u001b[0m\u001b[1;32m   1648\u001b[0m                         \u001b[0mloop\u001b[0m\u001b[0;34m.\u001b[0m\u001b[0mtasks\u001b[0m\u001b[0;34m.\u001b[0m\u001b[0mvalues\u001b[0m\u001b[0;34m(\u001b[0m\u001b[0;34m)\u001b[0m\u001b[0;34m,\u001b[0m\u001b[0;34m\u001b[0m\u001b[0;34m\u001b[0m\u001b[0m\n\u001b[1;32m   1649\u001b[0m                         \u001b[0mtimeout\u001b[0m\u001b[0;34m=\u001b[0m\u001b[0mself\u001b[0m\u001b[0;34m.\u001b[0m\u001b[0mstep_timeout\u001b[0m\u001b[0;34m,\u001b[0m\u001b[0;34m\u001b[0m\u001b[0;34m\u001b[0m\u001b[0m\n",
            "\u001b[0;32m/usr/local/lib/python3.10/dist-packages/langgraph/pregel/runner.py\u001b[0m in \u001b[0;36mtick\u001b[0;34m(self, tasks, reraise, timeout, retry_policy, get_waiter)\u001b[0m\n\u001b[1;32m    102\u001b[0m             \u001b[0mt\u001b[0m \u001b[0;34m=\u001b[0m \u001b[0mtasks\u001b[0m\u001b[0;34m[\u001b[0m\u001b[0;36m0\u001b[0m\u001b[0;34m]\u001b[0m\u001b[0;34m\u001b[0m\u001b[0;34m\u001b[0m\u001b[0m\n\u001b[1;32m    103\u001b[0m             \u001b[0;32mtry\u001b[0m\u001b[0;34m:\u001b[0m\u001b[0;34m\u001b[0m\u001b[0;34m\u001b[0m\u001b[0m\n\u001b[0;32m--> 104\u001b[0;31m                 \u001b[0mrun_with_retry\u001b[0m\u001b[0;34m(\u001b[0m\u001b[0mt\u001b[0m\u001b[0;34m,\u001b[0m \u001b[0mretry_policy\u001b[0m\u001b[0;34m,\u001b[0m \u001b[0mwriter\u001b[0m\u001b[0;34m=\u001b[0m\u001b[0mwriter\u001b[0m\u001b[0;34m)\u001b[0m\u001b[0;34m\u001b[0m\u001b[0;34m\u001b[0m\u001b[0m\n\u001b[0m\u001b[1;32m    105\u001b[0m                 \u001b[0mself\u001b[0m\u001b[0;34m.\u001b[0m\u001b[0mcommit\u001b[0m\u001b[0;34m(\u001b[0m\u001b[0mt\u001b[0m\u001b[0;34m,\u001b[0m \u001b[0;32mNone\u001b[0m\u001b[0;34m)\u001b[0m\u001b[0;34m\u001b[0m\u001b[0;34m\u001b[0m\u001b[0m\n\u001b[1;32m    106\u001b[0m             \u001b[0;32mexcept\u001b[0m \u001b[0mException\u001b[0m \u001b[0;32mas\u001b[0m \u001b[0mexc\u001b[0m\u001b[0;34m:\u001b[0m\u001b[0;34m\u001b[0m\u001b[0;34m\u001b[0m\u001b[0m\n",
            "\u001b[0;32m/usr/local/lib/python3.10/dist-packages/langgraph/pregel/retry.py\u001b[0m in \u001b[0;36mrun_with_retry\u001b[0;34m(task, retry_policy, writer)\u001b[0m\n\u001b[1;32m     38\u001b[0m             \u001b[0mtask\u001b[0m\u001b[0;34m.\u001b[0m\u001b[0mwrites\u001b[0m\u001b[0;34m.\u001b[0m\u001b[0mclear\u001b[0m\u001b[0;34m(\u001b[0m\u001b[0;34m)\u001b[0m\u001b[0;34m\u001b[0m\u001b[0;34m\u001b[0m\u001b[0m\n\u001b[1;32m     39\u001b[0m             \u001b[0;31m# run the task\u001b[0m\u001b[0;34m\u001b[0m\u001b[0;34m\u001b[0m\u001b[0m\n\u001b[0;32m---> 40\u001b[0;31m             \u001b[0mtask\u001b[0m\u001b[0;34m.\u001b[0m\u001b[0mproc\u001b[0m\u001b[0;34m.\u001b[0m\u001b[0minvoke\u001b[0m\u001b[0;34m(\u001b[0m\u001b[0mtask\u001b[0m\u001b[0;34m.\u001b[0m\u001b[0minput\u001b[0m\u001b[0;34m,\u001b[0m \u001b[0mconfig\u001b[0m\u001b[0;34m)\u001b[0m\u001b[0;34m\u001b[0m\u001b[0;34m\u001b[0m\u001b[0m\n\u001b[0m\u001b[1;32m     41\u001b[0m             \u001b[0;31m# if successful, end\u001b[0m\u001b[0;34m\u001b[0m\u001b[0;34m\u001b[0m\u001b[0m\n\u001b[1;32m     42\u001b[0m             \u001b[0;32mbreak\u001b[0m\u001b[0;34m\u001b[0m\u001b[0;34m\u001b[0m\u001b[0m\n",
            "\u001b[0;32m/usr/local/lib/python3.10/dist-packages/langgraph/utils/runnable.py\u001b[0m in \u001b[0;36minvoke\u001b[0;34m(self, input, config, **kwargs)\u001b[0m\n\u001b[1;32m    408\u001b[0m                 \u001b[0mcontext\u001b[0m\u001b[0;34m.\u001b[0m\u001b[0mrun\u001b[0m\u001b[0;34m(\u001b[0m\u001b[0m_set_config_context\u001b[0m\u001b[0;34m,\u001b[0m \u001b[0mconfig\u001b[0m\u001b[0;34m)\u001b[0m\u001b[0;34m\u001b[0m\u001b[0;34m\u001b[0m\u001b[0m\n\u001b[1;32m    409\u001b[0m                 \u001b[0;32mif\u001b[0m \u001b[0mi\u001b[0m \u001b[0;34m==\u001b[0m \u001b[0;36m0\u001b[0m\u001b[0;34m:\u001b[0m\u001b[0;34m\u001b[0m\u001b[0;34m\u001b[0m\u001b[0m\n\u001b[0;32m--> 410\u001b[0;31m                     \u001b[0minput\u001b[0m \u001b[0;34m=\u001b[0m \u001b[0mcontext\u001b[0m\u001b[0;34m.\u001b[0m\u001b[0mrun\u001b[0m\u001b[0;34m(\u001b[0m\u001b[0mstep\u001b[0m\u001b[0;34m.\u001b[0m\u001b[0minvoke\u001b[0m\u001b[0;34m,\u001b[0m \u001b[0minput\u001b[0m\u001b[0;34m,\u001b[0m \u001b[0mconfig\u001b[0m\u001b[0;34m,\u001b[0m \u001b[0;34m**\u001b[0m\u001b[0mkwargs\u001b[0m\u001b[0;34m)\u001b[0m\u001b[0;34m\u001b[0m\u001b[0;34m\u001b[0m\u001b[0m\n\u001b[0m\u001b[1;32m    411\u001b[0m                 \u001b[0;32melse\u001b[0m\u001b[0;34m:\u001b[0m\u001b[0;34m\u001b[0m\u001b[0;34m\u001b[0m\u001b[0m\n\u001b[1;32m    412\u001b[0m                     \u001b[0minput\u001b[0m \u001b[0;34m=\u001b[0m \u001b[0mcontext\u001b[0m\u001b[0;34m.\u001b[0m\u001b[0mrun\u001b[0m\u001b[0;34m(\u001b[0m\u001b[0mstep\u001b[0m\u001b[0;34m.\u001b[0m\u001b[0minvoke\u001b[0m\u001b[0;34m,\u001b[0m \u001b[0minput\u001b[0m\u001b[0;34m,\u001b[0m \u001b[0mconfig\u001b[0m\u001b[0;34m)\u001b[0m\u001b[0;34m\u001b[0m\u001b[0;34m\u001b[0m\u001b[0m\n",
            "\u001b[0;32m/usr/local/lib/python3.10/dist-packages/langgraph/utils/runnable.py\u001b[0m in \u001b[0;36minvoke\u001b[0;34m(self, input, config, **kwargs)\u001b[0m\n\u001b[1;32m    182\u001b[0m         \u001b[0;32melse\u001b[0m\u001b[0;34m:\u001b[0m\u001b[0;34m\u001b[0m\u001b[0;34m\u001b[0m\u001b[0m\n\u001b[1;32m    183\u001b[0m             \u001b[0mcontext\u001b[0m\u001b[0;34m.\u001b[0m\u001b[0mrun\u001b[0m\u001b[0;34m(\u001b[0m\u001b[0m_set_config_context\u001b[0m\u001b[0;34m,\u001b[0m \u001b[0mconfig\u001b[0m\u001b[0;34m)\u001b[0m\u001b[0;34m\u001b[0m\u001b[0;34m\u001b[0m\u001b[0m\n\u001b[0;32m--> 184\u001b[0;31m             \u001b[0mret\u001b[0m \u001b[0;34m=\u001b[0m \u001b[0mcontext\u001b[0m\u001b[0;34m.\u001b[0m\u001b[0mrun\u001b[0m\u001b[0;34m(\u001b[0m\u001b[0mself\u001b[0m\u001b[0;34m.\u001b[0m\u001b[0mfunc\u001b[0m\u001b[0;34m,\u001b[0m \u001b[0minput\u001b[0m\u001b[0;34m,\u001b[0m \u001b[0;34m**\u001b[0m\u001b[0mkwargs\u001b[0m\u001b[0;34m)\u001b[0m\u001b[0;34m\u001b[0m\u001b[0;34m\u001b[0m\u001b[0m\n\u001b[0m\u001b[1;32m    185\u001b[0m         \u001b[0;32mif\u001b[0m \u001b[0misinstance\u001b[0m\u001b[0;34m(\u001b[0m\u001b[0mret\u001b[0m\u001b[0;34m,\u001b[0m \u001b[0mRunnable\u001b[0m\u001b[0;34m)\u001b[0m \u001b[0;32mand\u001b[0m \u001b[0mself\u001b[0m\u001b[0;34m.\u001b[0m\u001b[0mrecurse\u001b[0m\u001b[0;34m:\u001b[0m\u001b[0;34m\u001b[0m\u001b[0;34m\u001b[0m\u001b[0m\n\u001b[1;32m    186\u001b[0m             \u001b[0;32mreturn\u001b[0m \u001b[0mret\u001b[0m\u001b[0;34m.\u001b[0m\u001b[0minvoke\u001b[0m\u001b[0;34m(\u001b[0m\u001b[0minput\u001b[0m\u001b[0;34m,\u001b[0m \u001b[0mconfig\u001b[0m\u001b[0;34m)\u001b[0m\u001b[0;34m\u001b[0m\u001b[0;34m\u001b[0m\u001b[0m\n",
            "\u001b[0;32m<ipython-input-441-ae451a468b29>\u001b[0m in \u001b[0;36mcall_model\u001b[0;34m(state)\u001b[0m\n\u001b[1;32m     20\u001b[0m     \u001b[0mprompt\u001b[0m \u001b[0;34m=\u001b[0m \u001b[0;34mf\"Summarize the content of messages {messages}\"\u001b[0m\u001b[0;34m\u001b[0m\u001b[0;34m\u001b[0m\u001b[0m\n\u001b[1;32m     21\u001b[0m     \u001b[0mstate\u001b[0m\u001b[0;34m[\u001b[0m\u001b[0;34m'messages'\u001b[0m\u001b[0;34m]\u001b[0m\u001b[0;34m.\u001b[0m\u001b[0mappend\u001b[0m\u001b[0;34m(\u001b[0m\u001b[0mHumanMessage\u001b[0m\u001b[0;34m(\u001b[0m\u001b[0mcontent\u001b[0m\u001b[0;34m=\u001b[0m\u001b[0mprompt\u001b[0m\u001b[0;34m)\u001b[0m\u001b[0;34m)\u001b[0m\u001b[0;34m\u001b[0m\u001b[0;34m\u001b[0m\u001b[0m\n\u001b[0;32m---> 22\u001b[0;31m     \u001b[0mresponse\u001b[0m \u001b[0;34m=\u001b[0m \u001b[0mmodel_with_tools\u001b[0m\u001b[0;34m.\u001b[0m\u001b[0minvoke\u001b[0m\u001b[0;34m(\u001b[0m\u001b[0mmessages\u001b[0m\u001b[0;34m)\u001b[0m\u001b[0;34m\u001b[0m\u001b[0;34m\u001b[0m\u001b[0m\n\u001b[0m\u001b[1;32m     23\u001b[0m     \u001b[0;32mreturn\u001b[0m \u001b[0;34m{\u001b[0m\u001b[0;34m\"messages\"\u001b[0m\u001b[0;34m:\u001b[0m \u001b[0;34m[\u001b[0m\u001b[0mresponse\u001b[0m\u001b[0;34m]\u001b[0m\u001b[0;34m}\u001b[0m\u001b[0;34m\u001b[0m\u001b[0;34m\u001b[0m\u001b[0m\n\u001b[1;32m     24\u001b[0m \u001b[0;34m\u001b[0m\u001b[0m\n",
            "\u001b[0;32m/usr/local/lib/python3.10/dist-packages/langchain_core/runnables/base.py\u001b[0m in \u001b[0;36minvoke\u001b[0;34m(self, input, config, **kwargs)\u001b[0m\n\u001b[1;32m   5352\u001b[0m         \u001b[0;34m**\u001b[0m\u001b[0mkwargs\u001b[0m\u001b[0;34m:\u001b[0m \u001b[0mOptional\u001b[0m\u001b[0;34m[\u001b[0m\u001b[0mAny\u001b[0m\u001b[0;34m]\u001b[0m\u001b[0;34m,\u001b[0m\u001b[0;34m\u001b[0m\u001b[0;34m\u001b[0m\u001b[0m\n\u001b[1;32m   5353\u001b[0m     ) -> Output:\n\u001b[0;32m-> 5354\u001b[0;31m         return self.bound.invoke(\n\u001b[0m\u001b[1;32m   5355\u001b[0m             \u001b[0minput\u001b[0m\u001b[0;34m,\u001b[0m\u001b[0;34m\u001b[0m\u001b[0;34m\u001b[0m\u001b[0m\n\u001b[1;32m   5356\u001b[0m             \u001b[0mself\u001b[0m\u001b[0;34m.\u001b[0m\u001b[0m_merge_configs\u001b[0m\u001b[0;34m(\u001b[0m\u001b[0mconfig\u001b[0m\u001b[0;34m)\u001b[0m\u001b[0;34m,\u001b[0m\u001b[0;34m\u001b[0m\u001b[0;34m\u001b[0m\u001b[0m\n",
            "\u001b[0;32m/usr/local/lib/python3.10/dist-packages/langchain_core/language_models/chat_models.py\u001b[0m in \u001b[0;36minvoke\u001b[0;34m(self, input, config, stop, **kwargs)\u001b[0m\n\u001b[1;32m    284\u001b[0m         return cast(\n\u001b[1;32m    285\u001b[0m             \u001b[0mChatGeneration\u001b[0m\u001b[0;34m,\u001b[0m\u001b[0;34m\u001b[0m\u001b[0;34m\u001b[0m\u001b[0m\n\u001b[0;32m--> 286\u001b[0;31m             self.generate_prompt(\n\u001b[0m\u001b[1;32m    287\u001b[0m                 \u001b[0;34m[\u001b[0m\u001b[0mself\u001b[0m\u001b[0;34m.\u001b[0m\u001b[0m_convert_input\u001b[0m\u001b[0;34m(\u001b[0m\u001b[0minput\u001b[0m\u001b[0;34m)\u001b[0m\u001b[0;34m]\u001b[0m\u001b[0;34m,\u001b[0m\u001b[0;34m\u001b[0m\u001b[0;34m\u001b[0m\u001b[0m\n\u001b[1;32m    288\u001b[0m                 \u001b[0mstop\u001b[0m\u001b[0;34m=\u001b[0m\u001b[0mstop\u001b[0m\u001b[0;34m,\u001b[0m\u001b[0;34m\u001b[0m\u001b[0;34m\u001b[0m\u001b[0m\n",
            "\u001b[0;32m/usr/local/lib/python3.10/dist-packages/langchain_core/language_models/chat_models.py\u001b[0m in \u001b[0;36mgenerate_prompt\u001b[0;34m(self, prompts, stop, callbacks, **kwargs)\u001b[0m\n\u001b[1;32m    784\u001b[0m     ) -> LLMResult:\n\u001b[1;32m    785\u001b[0m         \u001b[0mprompt_messages\u001b[0m \u001b[0;34m=\u001b[0m \u001b[0;34m[\u001b[0m\u001b[0mp\u001b[0m\u001b[0;34m.\u001b[0m\u001b[0mto_messages\u001b[0m\u001b[0;34m(\u001b[0m\u001b[0;34m)\u001b[0m \u001b[0;32mfor\u001b[0m \u001b[0mp\u001b[0m \u001b[0;32min\u001b[0m \u001b[0mprompts\u001b[0m\u001b[0;34m]\u001b[0m\u001b[0;34m\u001b[0m\u001b[0;34m\u001b[0m\u001b[0m\n\u001b[0;32m--> 786\u001b[0;31m         \u001b[0;32mreturn\u001b[0m \u001b[0mself\u001b[0m\u001b[0;34m.\u001b[0m\u001b[0mgenerate\u001b[0m\u001b[0;34m(\u001b[0m\u001b[0mprompt_messages\u001b[0m\u001b[0;34m,\u001b[0m \u001b[0mstop\u001b[0m\u001b[0;34m=\u001b[0m\u001b[0mstop\u001b[0m\u001b[0;34m,\u001b[0m \u001b[0mcallbacks\u001b[0m\u001b[0;34m=\u001b[0m\u001b[0mcallbacks\u001b[0m\u001b[0;34m,\u001b[0m \u001b[0;34m**\u001b[0m\u001b[0mkwargs\u001b[0m\u001b[0;34m)\u001b[0m\u001b[0;34m\u001b[0m\u001b[0;34m\u001b[0m\u001b[0m\n\u001b[0m\u001b[1;32m    787\u001b[0m \u001b[0;34m\u001b[0m\u001b[0m\n\u001b[1;32m    788\u001b[0m     async def agenerate_prompt(\n",
            "\u001b[0;32m/usr/local/lib/python3.10/dist-packages/langchain_core/language_models/chat_models.py\u001b[0m in \u001b[0;36mgenerate\u001b[0;34m(self, messages, stop, callbacks, tags, metadata, run_name, run_id, **kwargs)\u001b[0m\n\u001b[1;32m    641\u001b[0m                 \u001b[0;32mif\u001b[0m \u001b[0mrun_managers\u001b[0m\u001b[0;34m:\u001b[0m\u001b[0;34m\u001b[0m\u001b[0;34m\u001b[0m\u001b[0m\n\u001b[1;32m    642\u001b[0m                     \u001b[0mrun_managers\u001b[0m\u001b[0;34m[\u001b[0m\u001b[0mi\u001b[0m\u001b[0;34m]\u001b[0m\u001b[0;34m.\u001b[0m\u001b[0mon_llm_error\u001b[0m\u001b[0;34m(\u001b[0m\u001b[0me\u001b[0m\u001b[0;34m,\u001b[0m \u001b[0mresponse\u001b[0m\u001b[0;34m=\u001b[0m\u001b[0mLLMResult\u001b[0m\u001b[0;34m(\u001b[0m\u001b[0mgenerations\u001b[0m\u001b[0;34m=\u001b[0m\u001b[0;34m[\u001b[0m\u001b[0;34m]\u001b[0m\u001b[0;34m)\u001b[0m\u001b[0;34m)\u001b[0m\u001b[0;34m\u001b[0m\u001b[0;34m\u001b[0m\u001b[0m\n\u001b[0;32m--> 643\u001b[0;31m                 \u001b[0;32mraise\u001b[0m \u001b[0me\u001b[0m\u001b[0;34m\u001b[0m\u001b[0;34m\u001b[0m\u001b[0m\n\u001b[0m\u001b[1;32m    644\u001b[0m         flattened_outputs = [\n\u001b[1;32m    645\u001b[0m             \u001b[0mLLMResult\u001b[0m\u001b[0;34m(\u001b[0m\u001b[0mgenerations\u001b[0m\u001b[0;34m=\u001b[0m\u001b[0;34m[\u001b[0m\u001b[0mres\u001b[0m\u001b[0;34m.\u001b[0m\u001b[0mgenerations\u001b[0m\u001b[0;34m]\u001b[0m\u001b[0;34m,\u001b[0m \u001b[0mllm_output\u001b[0m\u001b[0;34m=\u001b[0m\u001b[0mres\u001b[0m\u001b[0;34m.\u001b[0m\u001b[0mllm_output\u001b[0m\u001b[0;34m)\u001b[0m  \u001b[0;31m# type: ignore[list-item]\u001b[0m\u001b[0;34m\u001b[0m\u001b[0;34m\u001b[0m\u001b[0m\n",
            "\u001b[0;32m/usr/local/lib/python3.10/dist-packages/langchain_core/language_models/chat_models.py\u001b[0m in \u001b[0;36mgenerate\u001b[0;34m(self, messages, stop, callbacks, tags, metadata, run_name, run_id, **kwargs)\u001b[0m\n\u001b[1;32m    631\u001b[0m             \u001b[0;32mtry\u001b[0m\u001b[0;34m:\u001b[0m\u001b[0;34m\u001b[0m\u001b[0;34m\u001b[0m\u001b[0m\n\u001b[1;32m    632\u001b[0m                 results.append(\n\u001b[0;32m--> 633\u001b[0;31m                     self._generate_with_cache(\n\u001b[0m\u001b[1;32m    634\u001b[0m                         \u001b[0mm\u001b[0m\u001b[0;34m,\u001b[0m\u001b[0;34m\u001b[0m\u001b[0;34m\u001b[0m\u001b[0m\n\u001b[1;32m    635\u001b[0m                         \u001b[0mstop\u001b[0m\u001b[0;34m=\u001b[0m\u001b[0mstop\u001b[0m\u001b[0;34m,\u001b[0m\u001b[0;34m\u001b[0m\u001b[0;34m\u001b[0m\u001b[0m\n",
            "\u001b[0;32m/usr/local/lib/python3.10/dist-packages/langchain_core/language_models/chat_models.py\u001b[0m in \u001b[0;36m_generate_with_cache\u001b[0;34m(self, messages, stop, run_manager, **kwargs)\u001b[0m\n\u001b[1;32m    849\u001b[0m         \u001b[0;32melse\u001b[0m\u001b[0;34m:\u001b[0m\u001b[0;34m\u001b[0m\u001b[0;34m\u001b[0m\u001b[0m\n\u001b[1;32m    850\u001b[0m             \u001b[0;32mif\u001b[0m \u001b[0minspect\u001b[0m\u001b[0;34m.\u001b[0m\u001b[0msignature\u001b[0m\u001b[0;34m(\u001b[0m\u001b[0mself\u001b[0m\u001b[0;34m.\u001b[0m\u001b[0m_generate\u001b[0m\u001b[0;34m)\u001b[0m\u001b[0;34m.\u001b[0m\u001b[0mparameters\u001b[0m\u001b[0;34m.\u001b[0m\u001b[0mget\u001b[0m\u001b[0;34m(\u001b[0m\u001b[0;34m\"run_manager\"\u001b[0m\u001b[0;34m)\u001b[0m\u001b[0;34m:\u001b[0m\u001b[0;34m\u001b[0m\u001b[0;34m\u001b[0m\u001b[0m\n\u001b[0;32m--> 851\u001b[0;31m                 result = self._generate(\n\u001b[0m\u001b[1;32m    852\u001b[0m                     \u001b[0mmessages\u001b[0m\u001b[0;34m,\u001b[0m \u001b[0mstop\u001b[0m\u001b[0;34m=\u001b[0m\u001b[0mstop\u001b[0m\u001b[0;34m,\u001b[0m \u001b[0mrun_manager\u001b[0m\u001b[0;34m=\u001b[0m\u001b[0mrun_manager\u001b[0m\u001b[0;34m,\u001b[0m \u001b[0;34m**\u001b[0m\u001b[0mkwargs\u001b[0m\u001b[0;34m\u001b[0m\u001b[0;34m\u001b[0m\u001b[0m\n\u001b[1;32m    853\u001b[0m                 )\n",
            "\u001b[0;32m/usr/local/lib/python3.10/dist-packages/langchain_groq/chat_models.py\u001b[0m in \u001b[0;36m_generate\u001b[0;34m(self, messages, stop, run_manager, **kwargs)\u001b[0m\n\u001b[1;32m    472\u001b[0m             \u001b[0;34m**\u001b[0m\u001b[0mkwargs\u001b[0m\u001b[0;34m,\u001b[0m\u001b[0;34m\u001b[0m\u001b[0;34m\u001b[0m\u001b[0m\n\u001b[1;32m    473\u001b[0m         }\n\u001b[0;32m--> 474\u001b[0;31m         \u001b[0mresponse\u001b[0m \u001b[0;34m=\u001b[0m \u001b[0mself\u001b[0m\u001b[0;34m.\u001b[0m\u001b[0mclient\u001b[0m\u001b[0;34m.\u001b[0m\u001b[0mcreate\u001b[0m\u001b[0;34m(\u001b[0m\u001b[0mmessages\u001b[0m\u001b[0;34m=\u001b[0m\u001b[0mmessage_dicts\u001b[0m\u001b[0;34m,\u001b[0m \u001b[0;34m**\u001b[0m\u001b[0mparams\u001b[0m\u001b[0;34m)\u001b[0m\u001b[0;34m\u001b[0m\u001b[0;34m\u001b[0m\u001b[0m\n\u001b[0m\u001b[1;32m    475\u001b[0m         \u001b[0;32mreturn\u001b[0m \u001b[0mself\u001b[0m\u001b[0;34m.\u001b[0m\u001b[0m_create_chat_result\u001b[0m\u001b[0;34m(\u001b[0m\u001b[0mresponse\u001b[0m\u001b[0;34m)\u001b[0m\u001b[0;34m\u001b[0m\u001b[0;34m\u001b[0m\u001b[0m\n\u001b[1;32m    476\u001b[0m \u001b[0;34m\u001b[0m\u001b[0m\n",
            "\u001b[0;32m/usr/local/lib/python3.10/dist-packages/groq/resources/chat/completions.py\u001b[0m in \u001b[0;36mcreate\u001b[0;34m(self, messages, model, frequency_penalty, function_call, functions, logit_bias, logprobs, max_tokens, n, parallel_tool_calls, presence_penalty, response_format, seed, stop, stream, temperature, tool_choice, tools, top_logprobs, top_p, user, extra_headers, extra_query, extra_body, timeout)\u001b[0m\n\u001b[1;32m    296\u001b[0m           \u001b[0mtimeout\u001b[0m\u001b[0;34m:\u001b[0m \u001b[0mOverride\u001b[0m \u001b[0mthe\u001b[0m \u001b[0mclient\u001b[0m\u001b[0;34m-\u001b[0m\u001b[0mlevel\u001b[0m \u001b[0mdefault\u001b[0m \u001b[0mtimeout\u001b[0m \u001b[0;32mfor\u001b[0m \u001b[0mthis\u001b[0m \u001b[0mrequest\u001b[0m\u001b[0;34m,\u001b[0m \u001b[0;32min\u001b[0m \u001b[0mseconds\u001b[0m\u001b[0;34m\u001b[0m\u001b[0;34m\u001b[0m\u001b[0m\n\u001b[1;32m    297\u001b[0m         \"\"\"\n\u001b[0;32m--> 298\u001b[0;31m         return self._post(\n\u001b[0m\u001b[1;32m    299\u001b[0m             \u001b[0;34m\"/openai/v1/chat/completions\"\u001b[0m\u001b[0;34m,\u001b[0m\u001b[0;34m\u001b[0m\u001b[0;34m\u001b[0m\u001b[0m\n\u001b[1;32m    300\u001b[0m             body=maybe_transform(\n",
            "\u001b[0;32m/usr/local/lib/python3.10/dist-packages/groq/_base_client.py\u001b[0m in \u001b[0;36mpost\u001b[0;34m(self, path, cast_to, body, options, files, stream, stream_cls)\u001b[0m\n\u001b[1;32m   1259\u001b[0m             \u001b[0mmethod\u001b[0m\u001b[0;34m=\u001b[0m\u001b[0;34m\"post\"\u001b[0m\u001b[0;34m,\u001b[0m \u001b[0murl\u001b[0m\u001b[0;34m=\u001b[0m\u001b[0mpath\u001b[0m\u001b[0;34m,\u001b[0m \u001b[0mjson_data\u001b[0m\u001b[0;34m=\u001b[0m\u001b[0mbody\u001b[0m\u001b[0;34m,\u001b[0m \u001b[0mfiles\u001b[0m\u001b[0;34m=\u001b[0m\u001b[0mto_httpx_files\u001b[0m\u001b[0;34m(\u001b[0m\u001b[0mfiles\u001b[0m\u001b[0;34m)\u001b[0m\u001b[0;34m,\u001b[0m \u001b[0;34m**\u001b[0m\u001b[0moptions\u001b[0m\u001b[0;34m\u001b[0m\u001b[0;34m\u001b[0m\u001b[0m\n\u001b[1;32m   1260\u001b[0m         )\n\u001b[0;32m-> 1261\u001b[0;31m         \u001b[0;32mreturn\u001b[0m \u001b[0mcast\u001b[0m\u001b[0;34m(\u001b[0m\u001b[0mResponseT\u001b[0m\u001b[0;34m,\u001b[0m \u001b[0mself\u001b[0m\u001b[0;34m.\u001b[0m\u001b[0mrequest\u001b[0m\u001b[0;34m(\u001b[0m\u001b[0mcast_to\u001b[0m\u001b[0;34m,\u001b[0m \u001b[0mopts\u001b[0m\u001b[0;34m,\u001b[0m \u001b[0mstream\u001b[0m\u001b[0;34m=\u001b[0m\u001b[0mstream\u001b[0m\u001b[0;34m,\u001b[0m \u001b[0mstream_cls\u001b[0m\u001b[0;34m=\u001b[0m\u001b[0mstream_cls\u001b[0m\u001b[0;34m)\u001b[0m\u001b[0;34m)\u001b[0m\u001b[0;34m\u001b[0m\u001b[0;34m\u001b[0m\u001b[0m\n\u001b[0m\u001b[1;32m   1262\u001b[0m \u001b[0;34m\u001b[0m\u001b[0m\n\u001b[1;32m   1263\u001b[0m     def patch(\n",
            "\u001b[0;32m/usr/local/lib/python3.10/dist-packages/groq/_base_client.py\u001b[0m in \u001b[0;36mrequest\u001b[0;34m(self, cast_to, options, remaining_retries, stream, stream_cls)\u001b[0m\n\u001b[1;32m    951\u001b[0m             \u001b[0mretries_taken\u001b[0m \u001b[0;34m=\u001b[0m \u001b[0;36m0\u001b[0m\u001b[0;34m\u001b[0m\u001b[0;34m\u001b[0m\u001b[0m\n\u001b[1;32m    952\u001b[0m \u001b[0;34m\u001b[0m\u001b[0m\n\u001b[0;32m--> 953\u001b[0;31m         return self._request(\n\u001b[0m\u001b[1;32m    954\u001b[0m             \u001b[0mcast_to\u001b[0m\u001b[0;34m=\u001b[0m\u001b[0mcast_to\u001b[0m\u001b[0;34m,\u001b[0m\u001b[0;34m\u001b[0m\u001b[0;34m\u001b[0m\u001b[0m\n\u001b[1;32m    955\u001b[0m             \u001b[0moptions\u001b[0m\u001b[0;34m=\u001b[0m\u001b[0moptions\u001b[0m\u001b[0;34m,\u001b[0m\u001b[0;34m\u001b[0m\u001b[0;34m\u001b[0m\u001b[0m\n",
            "\u001b[0;32m/usr/local/lib/python3.10/dist-packages/groq/_base_client.py\u001b[0m in \u001b[0;36m_request\u001b[0;34m(self, cast_to, options, retries_taken, stream, stream_cls)\u001b[0m\n\u001b[1;32m   1054\u001b[0m \u001b[0;34m\u001b[0m\u001b[0m\n\u001b[1;32m   1055\u001b[0m             \u001b[0mlog\u001b[0m\u001b[0;34m.\u001b[0m\u001b[0mdebug\u001b[0m\u001b[0;34m(\u001b[0m\u001b[0;34m\"Re-raising status error\"\u001b[0m\u001b[0;34m)\u001b[0m\u001b[0;34m\u001b[0m\u001b[0;34m\u001b[0m\u001b[0m\n\u001b[0;32m-> 1056\u001b[0;31m             \u001b[0;32mraise\u001b[0m \u001b[0mself\u001b[0m\u001b[0;34m.\u001b[0m\u001b[0m_make_status_error_from_response\u001b[0m\u001b[0;34m(\u001b[0m\u001b[0merr\u001b[0m\u001b[0;34m.\u001b[0m\u001b[0mresponse\u001b[0m\u001b[0;34m)\u001b[0m \u001b[0;32mfrom\u001b[0m \u001b[0;32mNone\u001b[0m\u001b[0;34m\u001b[0m\u001b[0;34m\u001b[0m\u001b[0m\n\u001b[0m\u001b[1;32m   1057\u001b[0m \u001b[0;34m\u001b[0m\u001b[0m\n\u001b[1;32m   1058\u001b[0m         return self._process_response(\n",
            "\u001b[0;31mAPIStatusError\u001b[0m: Error code: 413 - {'error': {'message': 'Request too large for model `llama-3.1-70b-versatile` in organization `org_01jcb081a4et687vvyzy6vx67h` on tokens per minute (TPM): Limit 6000, Requested 8569, please reduce your message size and try again. Visit https://console.groq.com/docs/rate-limits for more information.', 'type': 'tokens', 'code': 'rate_limit_exceeded'}}"
          ]
        }
      ]
    },
    {
      "cell_type": "code",
      "source": [
        "result = app.invoke({\"messages\": [(\"human\", \"What are the anatomical considerations for a laparoscopic cholecystectomy in a patient with a history of previous right upper quadrant surgery?\")]})"
      ],
      "metadata": {
        "colab": {
          "base_uri": "https://localhost:8080/"
        },
        "id": "oF1-dPEN8gn8",
        "outputId": "f63a6eca-bbec-4635-8213-5ce44e1734eb"
      },
      "execution_count": 437,
      "outputs": [
        {
          "output_type": "stream",
          "name": "stdout",
          "text": [
            "---CHECK RELEVANCE---\n",
            "---DECISION: DOCS RELEVANT---\n"
          ]
        }
      ]
    },
    {
      "cell_type": "code",
      "source": [],
      "metadata": {
        "colab": {
          "base_uri": "https://localhost:8080/",
          "height": 35
        },
        "id": "BSuf9W1c8gkX",
        "outputId": "656a7be0-9dff-4ffb-ccad-3b6903318649"
      },
      "execution_count": 305,
      "outputs": [
        {
          "output_type": "execute_result",
          "data": {
            "text/plain": [
              "'['"
            ],
            "application/vnd.google.colaboratory.intrinsic+json": {
              "type": "string"
            }
          },
          "metadata": {},
          "execution_count": 305
        }
      ]
    },
    {
      "cell_type": "code",
      "source": [],
      "metadata": {
        "id": "jbeZ_rgo8ghq"
      },
      "execution_count": null,
      "outputs": []
    },
    {
      "cell_type": "code",
      "source": [],
      "metadata": {
        "id": "NfpU4dMyKkAx"
      },
      "execution_count": null,
      "outputs": []
    }
  ]
}