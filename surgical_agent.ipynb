{
  "nbformat": 4,
  "nbformat_minor": 0,
  "metadata": {
    "colab": {
      "provenance": []
    },
    "kernelspec": {
      "name": "python3",
      "display_name": "Python 3"
    },
    "language_info": {
      "name": "python"
    }
  },
  "cells": [
    {
      "cell_type": "code",
      "execution_count": 1,
      "metadata": {
        "colab": {
          "base_uri": "https://localhost:8080/"
        },
        "id": "q7CSiCKQ0ZTU",
        "outputId": "5caf3cf2-7b8e-4863-d4f6-4e8503ba5f82"
      },
      "outputs": [
        {
          "output_type": "stream",
          "name": "stdout",
          "text": [
            "\u001b[2K   \u001b[90m━━━━━━━━━━━━━━━━━━━━━━━━━━━━━━━━━━━━━━━━\u001b[0m \u001b[32m125.1/125.1 kB\u001b[0m \u001b[31m5.3 MB/s\u001b[0m eta \u001b[36m0:00:00\u001b[0m\n",
            "\u001b[2K   \u001b[90m━━━━━━━━━━━━━━━━━━━━━━━━━━━━━━━━━━━━━━━━\u001b[0m \u001b[32m41.3/41.3 kB\u001b[0m \u001b[31m2.2 MB/s\u001b[0m eta \u001b[36m0:00:00\u001b[0m\n",
            "\u001b[2K   \u001b[90m━━━━━━━━━━━━━━━━━━━━━━━━━━━━━━━━━━━━━━━━\u001b[0m \u001b[32m2.4/2.4 MB\u001b[0m \u001b[31m47.2 MB/s\u001b[0m eta \u001b[36m0:00:00\u001b[0m\n",
            "\u001b[2K   \u001b[90m━━━━━━━━━━━━━━━━━━━━━━━━━━━━━━━━━━━━━━━━\u001b[0m \u001b[32m1.0/1.0 MB\u001b[0m \u001b[31m36.8 MB/s\u001b[0m eta \u001b[36m0:00:00\u001b[0m\n",
            "\u001b[2K   \u001b[90m━━━━━━━━━━━━━━━━━━━━━━━━━━━━━━━━━━━━━━━━\u001b[0m \u001b[32m409.5/409.5 kB\u001b[0m \u001b[31m22.3 MB/s\u001b[0m eta \u001b[36m0:00:00\u001b[0m\n",
            "\u001b[2K   \u001b[90m━━━━━━━━━━━━━━━━━━━━━━━━━━━━━━━━━━━━━━━━\u001b[0m \u001b[32m3.1/3.1 MB\u001b[0m \u001b[31m57.5 MB/s\u001b[0m eta \u001b[36m0:00:00\u001b[0m\n",
            "\u001b[2K   \u001b[90m━━━━━━━━━━━━━━━━━━━━━━━━━━━━━━━━━━━━━━━━\u001b[0m \u001b[32m49.5/49.5 kB\u001b[0m \u001b[31m3.4 MB/s\u001b[0m eta \u001b[36m0:00:00\u001b[0m\n",
            "\u001b[2K   \u001b[90m━━━━━━━━━━━━━━━━━━━━━━━━━━━━━━━━━━━━━━━━\u001b[0m \u001b[32m108.9/108.9 kB\u001b[0m \u001b[31m8.3 MB/s\u001b[0m eta \u001b[36m0:00:00\u001b[0m\n",
            "\u001b[2K   \u001b[90m━━━━━━━━━━━━━━━━━━━━━━━━━━━━━━━━━━━━━━━━\u001b[0m \u001b[32m3.0/3.0 MB\u001b[0m \u001b[31m56.7 MB/s\u001b[0m eta \u001b[36m0:00:00\u001b[0m\n",
            "\u001b[2K   \u001b[90m━━━━━━━━━━━━━━━━━━━━━━━━━━━━━━━━━━━━━━━━\u001b[0m \u001b[32m1.2/1.2 MB\u001b[0m \u001b[31m27.9 MB/s\u001b[0m eta \u001b[36m0:00:00\u001b[0m\n",
            "\u001b[2K   \u001b[90m━━━━━━━━━━━━━━━━━━━━━━━━━━━━━━━━━━━━━━━━\u001b[0m \u001b[32m244.8/244.8 kB\u001b[0m \u001b[31m16.6 MB/s\u001b[0m eta \u001b[36m0:00:00\u001b[0m\n",
            "\u001b[2K   \u001b[90m━━━━━━━━━━━━━━━━━━━━━━━━━━━━━━━━━━━━━━━━\u001b[0m \u001b[32m85.4/85.4 kB\u001b[0m \u001b[31m5.6 MB/s\u001b[0m eta \u001b[36m0:00:00\u001b[0m\n",
            "\u001b[?25h"
          ]
        }
      ],
      "source": [
        "!pip install  --quiet langgraph\n",
        "!pip install  --quiet langchain-google-genai\n",
        "!pip install --quiet langchain\n",
        "!pip install --quiet langchain_community\n",
        "!pip install --quiet langchain-groq\n",
        "!pip install --quiet google-generativeai\n",
        "!pip install --quiet duckduckgo-search\n",
        "!pip install --quiet langchain-pinecone\n",
        "!pip install --quiet langchain-huggingface"
      ]
    },
    {
      "cell_type": "code",
      "source": [
        "from IPython.display import Image, display, Markdown\n",
        "import textwrap\n",
        "import time\n",
        "from google.colab import userdata\n",
        "\n",
        "from typing import Any, Annotated, List, TypedDict\n",
        "from pydantic import BaseModel, Field\n",
        "from pinecone import Pinecone\n",
        "\n",
        "from langchain_core.messages import get_buffer_string, AIMessage, HumanMessage, SystemMessage, BaseMessage\n",
        "from langchain_community.utilities import DuckDuckGoSearchAPIWrapper\n",
        "from langchain_community.tools import DuckDuckGoSearchRun\n",
        "from langchain_community.tools import DuckDuckGoSearchResults\n",
        "from langchain_google_genai import ChatGoogleGenerativeAI\n",
        "from langchain_groq import ChatGroq\n",
        "from langchain_huggingface import HuggingFaceEmbeddings\n",
        "from langchain_pinecone import PineconeVectorStore\n",
        "from langchain.tools.retriever import create_retriever_tool\n",
        "\n",
        "from langgraph.graph.state import StateGraph, END, START\n",
        "from langgraph.graph.message import add_messages\n",
        "from langgraph.prebuilt import ToolNode, tools_condition\n"
      ],
      "metadata": {
        "id": "ODnD5jdz0mAg"
      },
      "execution_count": 127,
      "outputs": []
    },
    {
      "cell_type": "code",
      "source": [
        "google_api_key = userdata.get('GOOGLE_API_KEY')\n",
        "\n",
        "gemini_model = ChatGoogleGenerativeAI(model=\"gemini-1.5-flash\",\n",
        "                                    api_key=google_api_key\n",
        "                                    )\n",
        "\n",
        "# model.invoke(\"Test\")"
      ],
      "metadata": {
        "id": "5rQlphBO04Ob"
      },
      "execution_count": 130,
      "outputs": []
    },
    {
      "cell_type": "code",
      "source": [
        "\n",
        "api_key = userdata.get(\"GROQ_API_KEY\")\n",
        "\n",
        "model = ChatGroq(\n",
        "    model=\"llama-3.1-70b-versatile\",\n",
        "    verbose=True,\n",
        "    temperature=0.5,\n",
        "    api_key=api_key\n",
        ")\n",
        "\n",
        "model.invoke('TEST').content"
      ],
      "metadata": {
        "colab": {
          "base_uri": "https://localhost:8080/",
          "height": 54
        },
        "id": "YGgWTmcB0_xa",
        "outputId": "d7069750-3072-4eee-e4f7-60882e9b8176"
      },
      "execution_count": 131,
      "outputs": [
        {
          "output_type": "execute_result",
          "data": {
            "text/plain": [
              "\"It seems like you're testing to see if I'm working properly. I'm here and ready to help with any questions or information you need. Is there something specific you'd like to know or discuss?\""
            ],
            "application/vnd.google.colaboratory.intrinsic+json": {
              "type": "string"
            }
          },
          "metadata": {},
          "execution_count": 131
        }
      ]
    },
    {
      "cell_type": "code",
      "source": [
        "#class PlanningResponse(BaseModel):\n",
        "\n",
        "\n",
        "class State(TypedDict):\n",
        "  surgeon_query: str\n",
        "  patient_history: str\n",
        "  anatomy_response: str\n",
        "  infection_prevention_response: str\n",
        "  complication_response: str\n",
        "  expert_surgeon_response: str\n",
        "  insight_accumulator_response: str\n",
        "  conversation: Annotated[list, add_messages]\n",
        "  messages: Annotated[list, add_messages]\n",
        "  # retrieve_query: str\n",
        "  # retrieve_information: str\n",
        "  # relevance: str"
      ],
      "metadata": {
        "id": "1mUaxGvy1ACN"
      },
      "execution_count": 184,
      "outputs": []
    },
    {
      "cell_type": "code",
      "source": [
        "# def retriever(search_query: str):\n",
        "#   pinecone_api_key = userdata.get('PINECONE_API_KEY')\n",
        "#   pc = Pinecone(api_key=pinecone_api_key)\n",
        "#   index_name = \"surgical-assistant\"\n",
        "#   index = pc.Index(index_name)\n",
        "#   embeddings = HuggingFaceEmbeddings(model_name=\"sentence-transformers/all-mpnet-base-v2\")\n",
        "#   vector_store = PineconeVectorStore(index=index, embedding=embeddings)\n",
        "#   retriever = vector_store.as_retriever(\n",
        "#     search_type=\"similarity_score_threshold\",\n",
        "#     search_kwargs={\"k\": 1, \"score_threshold\": 0.5},\n",
        "#   )\n",
        "#   retrieved_information = retriever.invoke(search_query)\n",
        "#   return retrieved_information[0].page_content"
      ],
      "metadata": {
        "id": "rGEoTA3C4jCs"
      },
      "execution_count": 185,
      "outputs": []
    },
    {
      "cell_type": "code",
      "source": [
        "pinecone_api_key = userdata.get('PINECONE_API_KEY')\n",
        "pc = Pinecone(api_key=pinecone_api_key)\n",
        "index_name = \"surgical-assistant\"\n",
        "index = pc.Index(index_name)\n",
        "embeddings = HuggingFaceEmbeddings(model_name=\"sentence-transformers/all-mpnet-base-v2\")\n",
        "vector_store = PineconeVectorStore(index=index, embedding=embeddings)\n",
        "retriever = vector_store.as_retriever()\n",
        "\n",
        "retriever_tool = create_retriever_tool(\n",
        "    retriever,\n",
        "    \"retrieve_medical_info\",\n",
        "    \"Retrieve relevant medical knowledge for surgical queries.\",\n",
        ")\n",
        "tools = [retriever_tool]"
      ],
      "metadata": {
        "id": "iOqK-RV5QPgk"
      },
      "execution_count": 186,
      "outputs": []
    },
    {
      "cell_type": "code",
      "source": [
        "def anatomy_node(state: State):\n",
        "  print('Anatomy Node')\n",
        "  surgeon_query: str = state['surgeon_query']\n",
        "  patient_history: str = state['patient_history']\n",
        "  instructions: str = \"\"\"\n",
        "                    You are an Accredited Human Anatomy Expert.  Your task is to\n",
        "                    provide detailed anatomical insights related to a surgeon's\n",
        "                    query, taking into account the patient's medical history.\n",
        "\n",
        "                    **Surgeon's Query:** {surgeon_query}\n",
        "\n",
        "                    **Patient History:** {patient_history}\n",
        "\n",
        "                    **Instructions:**\n",
        "\n",
        "                    1. **Precision:** Provide precise anatomical details.\n",
        "                    Avoid vague or generalized responses.  Reference specific\n",
        "                    anatomical structures, planes, relationships, and potential\n",
        "                    variations.\n",
        "                    2. **Relevance:**  Directly address all aspects of the surgeon's\n",
        "                    query.  Ensure your response is highly relevant to the specific\n",
        "                    surgical procedure or anatomical area in question.\n",
        "                    3. **Depth:** Offer comprehensive insights,\n",
        "                    considering the potential surgical challenges and variations\n",
        "                    in anatomy.\n",
        "                    4. **Clarity:**  Write in clear, concise, and easily understandable\n",
        "                    language, suitable for a surgeon.  Avoid jargon unless absolutely\n",
        "                    necessary and define it when used.\n",
        "                    5. **Integration:**  Carefully consider the patient's history\n",
        "                    and how it might influence the anatomy.  Highlight any relevant\n",
        "                    anatomical variations or potential complications based on the\n",
        "                    provided history.\n",
        "\n",
        "                    **Example Response Format (Adapt as necessary):**\n",
        "\n",
        "                    * **Anatomical Structures Involved:** [List and describe the relevant structures, including their spatial relationships and variations.]\n",
        "                    * **Potential Complications:** [Based on the patient history and anatomy, list potential complications and suggest preventive measures.]\n",
        "                    * **Surgical Considerations:** [Outline key anatomical considerations for the surgical procedure.]\n",
        "                    * **Key Anatomical Landmarks:** [Highlight key landmarks to guide the surgical procedure.]\n",
        "                    * **Relevant Variations:** [Discuss any relevant anatomical variations based on the patient's history.]\n",
        "\n",
        "                    **Provide your detailed anatomical insight in response to the surgeon's query, considering the patient history.**\n",
        "                    \"\"\"\n",
        "  prompt: str = instructions.format(\n",
        "      surgeon_query=surgeon_query,\n",
        "      patient_history=patient_history\n",
        "  )\n",
        "\n",
        "  if 'conversation' not in state:\n",
        "    state['conversation'] = []\n",
        "\n",
        "  state['conversation'].append(HumanMessage(content=surgeon_query))\n",
        "  model_with_tools = gemini_model.bind_tools(tools)\n",
        "  response: BaseMessage = model_with_tools.invoke(prompt)\n",
        "\n",
        "  state['messages'].append(AIMessage(content=response.content))\n",
        "  state['anatomy_response'] = response.content\n",
        "  return state"
      ],
      "metadata": {
        "id": "BB4AOa4p1xUH"
      },
      "execution_count": 205,
      "outputs": []
    },
    {
      "cell_type": "code",
      "source": [
        "def complication_management_node(state: State):\n",
        "  print(\"Complication Management\")\n",
        "  surgeon_query: str = state['surgeon_query']\n",
        "  patient_history: str = state['patient_history']\n",
        "  instructions: str = \"\"\"\n",
        "    You are an expert Complication Manager AI assistant specializing in intraoperative\n",
        "    complications during surgical procedures.  Your primary function is to recognize\n",
        "    and mitigate potential or existing complications in real-time, suggesting interventions\n",
        "    and strategies.\n",
        "\n",
        "    **Input:**\n",
        "    1. **Patient History:**  A detailed summary of the patient's medical history {patient_history},\n",
        "    including relevant past surgeries, allergies, medications, and any pre-existing\n",
        "    conditions.  This information is crucial for assessing risk factors and predicting potential complications.\n",
        "\n",
        "    2. **Current Surgical Procedure:** A precise description of the ongoing surgical\n",
        "    procedure, including the surgical site, current steps, and any observed anomalies.\n",
        "    3. **Real-time Observations:** Any unusual findings or changes during the procedure.\n",
        "\n",
        "    Based on the provided information, generate a detailed response that includes the following:\n",
        "    1. **Complication Identification:** Clearly identify any potential or existing\n",
        "    intraoperative complications (e.g., hemorrhage, tissue damage, organ perforation,\n",
        "    infection risk). Prioritize critical complications and provide a rationale for your\n",
        "    assessment. Example: \"Potential hemorrhage due to cystic artery injury.\"\n",
        "\n",
        "    2. **Risk Assessment:**  Assess the severity of the identified complication(s)\n",
        "    and the potential impact on the patient's outcome. Example: \"Moderate risk of\n",
        "    hypovolemic shock due to ongoing bleeding.\"\n",
        "\n",
        "    3. **Intervention Recommendations:** Suggest specific, actionable interventions\n",
        "    and strategies to manage the complication.  Be explicit about the necessary steps,\n",
        "    including equipment, medications, and surgical techniques. Example: \"1. Immediately\n",
        "    apply pressure to the bleeding site. 2. Prepare for blood transfusion. 3. Consider\n",
        "    surgical clipping of the cystic artery.\"\n",
        "\n",
        "    4. **Alternative Strategies:**  If applicable, propose alternative strategies\n",
        "    and explain their potential advantages and disadvantages.\n",
        "\n",
        "    5. **Monitoring Guidelines:** Detail the parameters that need to be monitored\n",
        "    closely, and the desired target ranges.\n",
        "\n",
        "\n",
        "    **Important Considerations:**\n",
        "\n",
        "    *   Prioritize patient safety.\n",
        "    *   Be concise and direct in your recommendations.\n",
        "    *   Use precise medical terminology.\n",
        "    *   Justify your recommendations with evidence-based reasoning.\n",
        "    *   Avoid generic responses. Tailor your recommendations to the specific situation and patient characteristics.\n",
        "    *   Your recommendations should be aligned with standard surgical practices and protocols.\n",
        "  \"\"\"\n",
        "  prompt: str = instructions.format(\n",
        "      surgeon_query=surgeon_query,\n",
        "      patient_history=patient_history\n",
        "  )\n",
        "\n",
        "  response: BaseMessage = model.invoke(prompt)\n",
        "  return {\"infection_prevention_response\": response.content}\n"
      ],
      "metadata": {
        "id": "P-PhUnCa_Hgq"
      },
      "execution_count": 206,
      "outputs": []
    },
    {
      "cell_type": "code",
      "source": [
        "def infection_prevention_node(state: State):\n",
        "  print(\"Infection Prevention\")\n",
        "  surgeon_query: str = state['surgeon_query']\n",
        "  patient_history: str = state['patient_history']\n",
        "  instructions: str  = \"\"\"\n",
        "    You are a Certified Infection Preventionist (CIP) providing expert guidance to a surgeon.\n",
        "    A surgical error has occurred, and the surgeon is seeking your immediate advice on\n",
        "    infection prevention steps.  Your responses must be precise, evidence-based, and\n",
        "    prioritize patient safety.\n",
        "\n",
        "    **Context:**\n",
        "\n",
        "    * **Patient History:** {patient_history}  (Provide a detailed patient history,\n",
        "    including relevant medical conditions, allergies, past surgeries, and medications.\n",
        "    Include any known immunodeficiencies or infections.)\n",
        "    * **Surgeon's Query:** {surgeon_query} (The surgeon's specific question or\n",
        "    concern about the surgical error and potential infection risks.)\n",
        "\n",
        "    **Requirements:**\n",
        "\n",
        "    1. **Accurate Infection Prevention Steps:** Outline the most critical infection\n",
        "    prevention and control measures required to mitigate the risk of infection\n",
        "    *specifically* in response to the described surgical error.  Your steps should\n",
        "    be detailed and actionable, suitable for an operating room setting. Prioritize\n",
        "    the steps based on urgency and clinical significance. Be specific about the\n",
        "    timing of each step.\n",
        "\n",
        "\n",
        "    2. **Risk Assessment:** Assess the risk of infection given the surgical error\n",
        "    and the patient's history.  Quantify the risk if possible (e.g., low, moderate,\n",
        "    high). Justify your risk assessment.\n",
        "\n",
        "\n",
        "    3. **Evidence-Based Rationale:** Support all recommendations with credible\n",
        "    medical evidence.  Cite relevant guidelines, research, or best practices from\n",
        "    authoritative sources (e.g., CDC, WHO, professional surgical societies).\n",
        "\n",
        "\n",
        "    4. **Clear and Concise Language:** Use precise and unambiguous language easily\n",
        "    understood by a surgeon. Avoid jargon or overly technical terms. Focus on\n",
        "    practical and immediate actions.\n",
        "\n",
        "\n",
        "    5. **Prioritization:** Clearly prioritize the infection prevention steps in\n",
        "    order of importance and urgency.\n",
        "\n",
        "    **Output Format:**\n",
        "\n",
        "    * **Infection Prevention Steps (Bulleted list):**  Each step should include a\n",
        "    detailed description and an explanation of its purpose.\n",
        "    * **Risk Assessment:** A clear statement of the infection risk (low, moderate, high)\n",
        "    and the rationale for this assessment.\n",
        "    * **Evidence-Based Citations:**  Provide relevant references for all guidelines\n",
        "    and recommendations used.\n",
        "\n",
        "\n",
        "    **Example:**\n",
        "\n",
        "    (Assume a specific surgical error and patient history are provided)\n",
        "\n",
        "\n",
        "    **Do not provide any additional information not explicitly requested.\n",
        "    Only provide the requested response components.**\n",
        "\n",
        "  \"\"\"\n",
        "  prompt: str = instructions.format(\n",
        "      surgeon_query=surgeon_query,\n",
        "      patient_history=patient_history\n",
        "  )\n",
        "\n",
        "  response: BaseMessage = model.invoke(prompt)\n",
        "  return {\"complication_response\": response.content}\n"
      ],
      "metadata": {
        "id": "msEGdfcg8Frx"
      },
      "execution_count": 207,
      "outputs": []
    },
    {
      "cell_type": "code",
      "source": [
        "def insight_accumulator_node(state: State):\n",
        "  print(\"Insight Accumulator\")\n",
        "  surgeon_query: str = state['surgeon_query']\n",
        "  patient_history: str = state['patient_history']\n",
        "  anatomy_response: str = state['anatomy_response']\n",
        "  infection_prevention_response: str = state['infection_prevention_response']\n",
        "  complication_response: str = state['complication_response']\n",
        "  instructions: str = \"\"\"\n",
        "    You are an expert surgical insight accumulator. Your task is to gather insights from the\n",
        "    provided information and accumulate them into actionable insights for the surgeon\n",
        "    to respond to surgeon query {surgeon_query}.\n",
        "\n",
        "    **Context:**\n",
        "\n",
        "    * **Patient History:** {patient_history}\n",
        "    * **Relevant Anatomy:** {anatomy_response}\n",
        "    * **Infection Prevention Measures:** {infection_prevention_response}\n",
        "    * **Potential Complications and their Management:** {complication_response}\n",
        "\n",
        "    **Task:**\n",
        "\n",
        "    Carefully analyze the provided information, considering the patient's specific\n",
        "    history and the potential surgical challenges. Identify key insights that may\n",
        "    influence the surgical approach, including but not limited to:\n",
        "\n",
        "    * **Critical anatomical variations:**  Are there any unusual anatomical structures\n",
        "    or relationships that require special attention?\n",
        "    * **High-risk infection areas:** Are there any specific areas where infection\n",
        "    prevention measures need to be reinforced?\n",
        "    * **Anticipated complications and mitigation strategies:** What are the most\n",
        "    likely complications, and how can they be effectively prevented or managed?\n",
        "    * **Alternative surgical techniques:** Based on the available information, are\n",
        "    there alternative surgical techniques that could be considered?\n",
        "\n",
        "    Synthesize these insights into a concise and actionable summary for the next surgical planning node.\n",
        "    The summary should clearly highlight the key considerations derived from the provided data and\n",
        "    the patient's specific situation.  Ensure the insights are specific and directly relevant to\n",
        "    guiding the surgical plan.\n",
        "\n",
        "    **Output Format:**\n",
        "\n",
        "    Provide a structured summary of insights, using bullet points or a numbered list.\n",
        "    Avoid redundancy and focus on the most critical insights.\n",
        "\n",
        "    **Example:**\n",
        "\n",
        "    * **Insight 1:** Due to patient's history of [specific condition], the surgical\n",
        "    approach should prioritize [specific technique] to minimize risk of [specific complication].\n",
        "    * **Insight 2:** The presence of [specific anatomical variation] necessitates\n",
        "    careful dissection near the [anatomical region] to avoid [potential complication].\n",
        "\n",
        "    **Insights:**\n",
        "  \"\"\"\n",
        "  prompt: str = instructions.format(\n",
        "    surgeon_query=surgeon_query,\n",
        "    patient_history=patient_history,\n",
        "    anatomy_response=anatomy_response,\n",
        "    infection_prevention_response=infection_prevention_response,\n",
        "    complication_response=complication_response,\n",
        "  )\n",
        "\n",
        "  response: BaseMessage = model.invoke(prompt)\n",
        "  return {\"insight_accumulator_response\": response.content}"
      ],
      "metadata": {
        "id": "VarAT-kS8-0Z"
      },
      "execution_count": 208,
      "outputs": []
    },
    {
      "cell_type": "code",
      "source": [
        "def expert_surgeon_node(state: State):\n",
        "  print(\"Expert Surgeom\")\n",
        "  surgeon_query: str = state['surgeon_query']\n",
        "  insight_accumulator_response: str = state['insight_accumulator_response']\n",
        "  conversation = state['conversation']\n",
        "  instructions = \"\"\"\n",
        "    You are a Certified Surgical Consultant providing concise, high-quality\n",
        "    answers to surgeon queries.\n",
        "    Use your extensive knowledge of surgical procedures, anatomy, infection\n",
        "    prevention, and potential\n",
        "    complications to formulate responses.  Prioritize clarity and accuracy;\n",
        "    avoid unnecessary detail.\n",
        "\n",
        "    **Input:**\n",
        "\n",
        "    * **Surgeon's Query:** {surgeon_query}\n",
        "    * **Insight Accumulator:** {insight_accumulator_response}\n",
        "\n",
        "\n",
        "    **Instructions:**\n",
        "\n",
        "    1. Analyze the surgeon's query in the context of the provided patient history\n",
        "    and insights.\n",
        "    2. Synthesize the information into a clear and actionable response, directly\n",
        "    answering the question.\n",
        "    3. Prioritize conciseness.  Assume the surgeon is under time pressure and\n",
        "    needs brief, critical information.\n",
        "    4. Your response must be conversational in nature, suitable for a direct\n",
        "    dialogue with a surgeon.\n",
        "    5. If insufficient information is provided to answer definitively,\n",
        "    acknowledge this and suggest further investigations or data needed.\n",
        "\n",
        "    **Output Format:**\n",
        "\n",
        "    Respond directly to the surgeon's question, as if you were speaking directly to them.\n",
        "    Do not include explanations or justifications for how you reached your response.\n",
        "    The response should be a single short paragraph containing. The response must be\n",
        "    less than 2 sentences and 50 words\n",
        "\n",
        "\n",
        "    **Example:**\n",
        "\n",
        "    Surgeon's Query: What is the risk of infection post-appendectomy in a diabetic patient?\n",
        "\n",
        "    Response:  The risk of infection is moderately elevated in diabetic patients due to\n",
        "    impaired wound healing.   Prophylactic antibiotics are recommended, and close monitoring for\n",
        "    signs of infection in the first 72 hours is crucial.\n",
        "\n",
        "    **Response:**\n",
        "  \"\"\"\n",
        "  prompt: str = instructions.format(\n",
        "    surgeon_query=surgeon_query,\n",
        "    insight_accumulator_response=insight_accumulator_response,\n",
        "  )\n",
        "  response: BaseMessage = model.invoke(prompt)\n",
        "  state['conversation'].append(response.content)\n",
        "  state['expert_surgeon_response'] = response.content\n",
        "  return state\n"
      ],
      "metadata": {
        "id": "TTy_znMOBTwR"
      },
      "execution_count": 209,
      "outputs": []
    },
    {
      "cell_type": "code",
      "source": [
        "from langgraph.graph.state import END, START  # Import END explicitly if not already done\n",
        "\n",
        "builder = StateGraph(State)\n",
        "\n",
        "# Define retriever tool node\n",
        "retriever = ToolNode(tools)\n",
        "\n",
        "# Add nodes\n",
        "builder.add_node(\"Anatomy Specialist\", anatomy_node)\n",
        "builder.add_node(\"Infection Prevention Specialist\", infection_prevention_node)\n",
        "builder.add_node(\"Complication Manager\", complication_management_node)\n",
        "builder.add_node(\"Insight Accumulator\", insight_accumulator_node)\n",
        "builder.add_node(\"Expert Surgeon\", expert_surgeon_node)\n",
        "builder.add_node(\"Retriever\", retriever)\n",
        "\n",
        "# Define edges\n",
        "builder.add_edge(START, \"Anatomy Specialist\")\n",
        "builder.add_conditional_edges(\n",
        "    \"Anatomy Specialist\",\n",
        "    tools_condition,\n",
        "    ['Retriever', 'Infection Prevention Specialist']\n",
        ")\n",
        "builder.add_edge(\"Retriever\", \"Anatomy Specialist\")\n",
        "builder.add_edge(\"Infection Prevention Specialist\", \"Complication Manager\")\n",
        "builder.add_edge(\"Complication Manager\", \"Insight Accumulator\")\n",
        "builder.add_edge(\"Insight Accumulator\", \"Expert Surgeon\")\n",
        "builder.add_edge(\"Expert Surgeon\", END)  # Ensure the END node is explicitly connected\n",
        "\n",
        "# Compile and visualize the graph\n",
        "agent = builder.compile()\n",
        "display(Image(agent.get_graph().draw_mermaid_png()))\n"
      ],
      "metadata": {
        "colab": {
          "base_uri": "https://localhost:8080/",
          "height": 667
        },
        "id": "kQuhKMs5DcIb",
        "outputId": "023da249-296a-4a13-8c33-4c1e659ec17d"
      },
      "execution_count": 227,
      "outputs": [
        {
          "output_type": "display_data",
          "data": {
            "image/png": "[encoded data removed]",
            "text/plain": [
              "<IPython.core.display.Image object>"
            ]
          },
          "metadata": {}
        }
      ]
    },
    {
      "cell_type": "code",
      "source": [
        "state = {\n",
        "    'surgeon_query': 'What are the anatomical considerations for a laparoscopic cholecystectomy in a patient with a history of previous right upper quadrant surgery?',\n",
        "    'patient_history': 'The patient is a 65-year-old male with a history of a right upper quadrant laparotomy for a perforated duodenal ulcer 10 years prior. He also has type 2 diabetes mellitus and hypertension.  His current complaint is right upper quadrant pain and nausea.',\n",
        "    'conversation': [],\n",
        "    'messages' : [],\n",
        "    'insight_accumulator_response': '',\n",
        "}"
      ],
      "metadata": {
        "id": "EGRRDgQTEs0s"
      },
      "execution_count": 225,
      "outputs": []
    },
    {
      "cell_type": "code",
      "source": [
        "result = agent.invoke(state)\n",
        "result['expert_surgeon_response']"
      ],
      "metadata": {
        "colab": {
          "base_uri": "https://localhost:8080/",
          "height": 335
        },
        "id": "MeEk37znFUs6",
        "outputId": "5ee05c5a-c039-4747-e8e7-dfbf051c1434"
      },
      "execution_count": 226,
      "outputs": [
        {
          "output_type": "stream",
          "name": "stdout",
          "text": [
            "Anatomy Node\n"
          ]
        },
        {
          "output_type": "error",
          "ename": "KeyError",
          "evalue": "'__end__'",
          "traceback": [
            "\u001b[0;31m---------------------------------------------------------------------------\u001b[0m",
            "\u001b[0;31mKeyError\u001b[0m                                  Traceback (most recent call last)",
            "\u001b[0;32m<ipython-input-226-3a303fdaa3c7>\u001b[0m in \u001b[0;36m<cell line: 1>\u001b[0;34m()\u001b[0m\n\u001b[0;32m----> 1\u001b[0;31m \u001b[0mresult\u001b[0m \u001b[0;34m=\u001b[0m \u001b[0magent\u001b[0m\u001b[0;34m.\u001b[0m\u001b[0minvoke\u001b[0m\u001b[0;34m(\u001b[0m\u001b[0mstate\u001b[0m\u001b[0;34m)\u001b[0m\u001b[0;34m\u001b[0m\u001b[0;34m\u001b[0m\u001b[0m\n\u001b[0m\u001b[1;32m      2\u001b[0m \u001b[0mresult\u001b[0m\u001b[0;34m[\u001b[0m\u001b[0;34m'expert_surgeon_response'\u001b[0m\u001b[0;34m]\u001b[0m\u001b[0;34m\u001b[0m\u001b[0;34m\u001b[0m\u001b[0m\n",
            "\u001b[0;32m/usr/local/lib/python3.10/dist-packages/langgraph/pregel/__init__.py\u001b[0m in \u001b[0;36minvoke\u001b[0;34m(self, input, config, stream_mode, output_keys, interrupt_before, interrupt_after, debug, **kwargs)\u001b[0m\n\u001b[1;32m   1925\u001b[0m         \u001b[0;32melse\u001b[0m\u001b[0;34m:\u001b[0m\u001b[0;34m\u001b[0m\u001b[0;34m\u001b[0m\u001b[0m\n\u001b[1;32m   1926\u001b[0m             \u001b[0mchunks\u001b[0m \u001b[0;34m=\u001b[0m \u001b[0;34m[\u001b[0m\u001b[0;34m]\u001b[0m\u001b[0;34m\u001b[0m\u001b[0;34m\u001b[0m\u001b[0m\n\u001b[0;32m-> 1927\u001b[0;31m         for chunk in self.stream(\n\u001b[0m\u001b[1;32m   1928\u001b[0m             \u001b[0minput\u001b[0m\u001b[0;34m,\u001b[0m\u001b[0;34m\u001b[0m\u001b[0;34m\u001b[0m\u001b[0m\n\u001b[1;32m   1929\u001b[0m             \u001b[0mconfig\u001b[0m\u001b[0;34m,\u001b[0m\u001b[0;34m\u001b[0m\u001b[0;34m\u001b[0m\u001b[0m\n",
            "\u001b[0;32m/usr/local/lib/python3.10/dist-packages/langgraph/pregel/__init__.py\u001b[0m in \u001b[0;36mstream\u001b[0;34m(self, input, config, stream_mode, output_keys, interrupt_before, interrupt_after, debug, subgraphs)\u001b[0m\n\u001b[1;32m   1645\u001b[0m                 \u001b[0;31m# with channel updates applied only at the transition between steps\u001b[0m\u001b[0;34m\u001b[0m\u001b[0;34m\u001b[0m\u001b[0m\n\u001b[1;32m   1646\u001b[0m                 \u001b[0;32mwhile\u001b[0m \u001b[0mloop\u001b[0m\u001b[0;34m.\u001b[0m\u001b[0mtick\u001b[0m\u001b[0;34m(\u001b[0m\u001b[0minput_keys\u001b[0m\u001b[0;34m=\u001b[0m\u001b[0mself\u001b[0m\u001b[0;34m.\u001b[0m\u001b[0minput_channels\u001b[0m\u001b[0;34m)\u001b[0m\u001b[0;34m:\u001b[0m\u001b[0;34m\u001b[0m\u001b[0;34m\u001b[0m\u001b[0m\n\u001b[0;32m-> 1647\u001b[0;31m                     for _ in runner.tick(\n\u001b[0m\u001b[1;32m   1648\u001b[0m                         \u001b[0mloop\u001b[0m\u001b[0;34m.\u001b[0m\u001b[0mtasks\u001b[0m\u001b[0;34m.\u001b[0m\u001b[0mvalues\u001b[0m\u001b[0;34m(\u001b[0m\u001b[0;34m)\u001b[0m\u001b[0;34m,\u001b[0m\u001b[0;34m\u001b[0m\u001b[0;34m\u001b[0m\u001b[0m\n\u001b[1;32m   1649\u001b[0m                         \u001b[0mtimeout\u001b[0m\u001b[0;34m=\u001b[0m\u001b[0mself\u001b[0m\u001b[0;34m.\u001b[0m\u001b[0mstep_timeout\u001b[0m\u001b[0;34m,\u001b[0m\u001b[0;34m\u001b[0m\u001b[0;34m\u001b[0m\u001b[0m\n",
            "\u001b[0;32m/usr/local/lib/python3.10/dist-packages/langgraph/pregel/runner.py\u001b[0m in \u001b[0;36mtick\u001b[0;34m(self, tasks, reraise, timeout, retry_policy, get_waiter)\u001b[0m\n\u001b[1;32m    102\u001b[0m             \u001b[0mt\u001b[0m \u001b[0;34m=\u001b[0m \u001b[0mtasks\u001b[0m\u001b[0;34m[\u001b[0m\u001b[0;36m0\u001b[0m\u001b[0;34m]\u001b[0m\u001b[0;34m\u001b[0m\u001b[0;34m\u001b[0m\u001b[0m\n\u001b[1;32m    103\u001b[0m             \u001b[0;32mtry\u001b[0m\u001b[0;34m:\u001b[0m\u001b[0;34m\u001b[0m\u001b[0;34m\u001b[0m\u001b[0m\n\u001b[0;32m--> 104\u001b[0;31m                 \u001b[0mrun_with_retry\u001b[0m\u001b[0;34m(\u001b[0m\u001b[0mt\u001b[0m\u001b[0;34m,\u001b[0m \u001b[0mretry_policy\u001b[0m\u001b[0;34m,\u001b[0m \u001b[0mwriter\u001b[0m\u001b[0;34m=\u001b[0m\u001b[0mwriter\u001b[0m\u001b[0;34m)\u001b[0m\u001b[0;34m\u001b[0m\u001b[0;34m\u001b[0m\u001b[0m\n\u001b[0m\u001b[1;32m    105\u001b[0m                 \u001b[0mself\u001b[0m\u001b[0;34m.\u001b[0m\u001b[0mcommit\u001b[0m\u001b[0;34m(\u001b[0m\u001b[0mt\u001b[0m\u001b[0;34m,\u001b[0m \u001b[0;32mNone\u001b[0m\u001b[0;34m)\u001b[0m\u001b[0;34m\u001b[0m\u001b[0;34m\u001b[0m\u001b[0m\n\u001b[1;32m    106\u001b[0m             \u001b[0;32mexcept\u001b[0m \u001b[0mException\u001b[0m \u001b[0;32mas\u001b[0m \u001b[0mexc\u001b[0m\u001b[0;34m:\u001b[0m\u001b[0;34m\u001b[0m\u001b[0;34m\u001b[0m\u001b[0m\n",
            "\u001b[0;32m/usr/local/lib/python3.10/dist-packages/langgraph/pregel/retry.py\u001b[0m in \u001b[0;36mrun_with_retry\u001b[0;34m(task, retry_policy, writer)\u001b[0m\n\u001b[1;32m     38\u001b[0m             \u001b[0mtask\u001b[0m\u001b[0;34m.\u001b[0m\u001b[0mwrites\u001b[0m\u001b[0;34m.\u001b[0m\u001b[0mclear\u001b[0m\u001b[0;34m(\u001b[0m\u001b[0;34m)\u001b[0m\u001b[0;34m\u001b[0m\u001b[0;34m\u001b[0m\u001b[0m\n\u001b[1;32m     39\u001b[0m             \u001b[0;31m# run the task\u001b[0m\u001b[0;34m\u001b[0m\u001b[0;34m\u001b[0m\u001b[0m\n\u001b[0;32m---> 40\u001b[0;31m             \u001b[0mtask\u001b[0m\u001b[0;34m.\u001b[0m\u001b[0mproc\u001b[0m\u001b[0;34m.\u001b[0m\u001b[0minvoke\u001b[0m\u001b[0;34m(\u001b[0m\u001b[0mtask\u001b[0m\u001b[0;34m.\u001b[0m\u001b[0minput\u001b[0m\u001b[0;34m,\u001b[0m \u001b[0mconfig\u001b[0m\u001b[0;34m)\u001b[0m\u001b[0;34m\u001b[0m\u001b[0;34m\u001b[0m\u001b[0m\n\u001b[0m\u001b[1;32m     41\u001b[0m             \u001b[0;31m# if successful, end\u001b[0m\u001b[0;34m\u001b[0m\u001b[0;34m\u001b[0m\u001b[0m\n\u001b[1;32m     42\u001b[0m             \u001b[0;32mbreak\u001b[0m\u001b[0;34m\u001b[0m\u001b[0;34m\u001b[0m\u001b[0m\n",
            "\u001b[0;32m/usr/local/lib/python3.10/dist-packages/langgraph/utils/runnable.py\u001b[0m in \u001b[0;36minvoke\u001b[0;34m(self, input, config, **kwargs)\u001b[0m\n\u001b[1;32m    410\u001b[0m                     \u001b[0minput\u001b[0m \u001b[0;34m=\u001b[0m \u001b[0mcontext\u001b[0m\u001b[0;34m.\u001b[0m\u001b[0mrun\u001b[0m\u001b[0;34m(\u001b[0m\u001b[0mstep\u001b[0m\u001b[0;34m.\u001b[0m\u001b[0minvoke\u001b[0m\u001b[0;34m,\u001b[0m \u001b[0minput\u001b[0m\u001b[0;34m,\u001b[0m \u001b[0mconfig\u001b[0m\u001b[0;34m,\u001b[0m \u001b[0;34m**\u001b[0m\u001b[0mkwargs\u001b[0m\u001b[0;34m)\u001b[0m\u001b[0;34m\u001b[0m\u001b[0;34m\u001b[0m\u001b[0m\n\u001b[1;32m    411\u001b[0m                 \u001b[0;32melse\u001b[0m\u001b[0;34m:\u001b[0m\u001b[0;34m\u001b[0m\u001b[0;34m\u001b[0m\u001b[0m\n\u001b[0;32m--> 412\u001b[0;31m                     \u001b[0minput\u001b[0m \u001b[0;34m=\u001b[0m \u001b[0mcontext\u001b[0m\u001b[0;34m.\u001b[0m\u001b[0mrun\u001b[0m\u001b[0;34m(\u001b[0m\u001b[0mstep\u001b[0m\u001b[0;34m.\u001b[0m\u001b[0minvoke\u001b[0m\u001b[0;34m,\u001b[0m \u001b[0minput\u001b[0m\u001b[0;34m,\u001b[0m \u001b[0mconfig\u001b[0m\u001b[0;34m)\u001b[0m\u001b[0;34m\u001b[0m\u001b[0;34m\u001b[0m\u001b[0m\n\u001b[0m\u001b[1;32m    413\u001b[0m         \u001b[0;31m# finish the root run\u001b[0m\u001b[0;34m\u001b[0m\u001b[0;34m\u001b[0m\u001b[0m\n\u001b[1;32m    414\u001b[0m         \u001b[0;32mexcept\u001b[0m \u001b[0mBaseException\u001b[0m \u001b[0;32mas\u001b[0m \u001b[0me\u001b[0m\u001b[0;34m:\u001b[0m\u001b[0;34m\u001b[0m\u001b[0;34m\u001b[0m\u001b[0m\n",
            "\u001b[0;32m/usr/local/lib/python3.10/dist-packages/langgraph/utils/runnable.py\u001b[0m in \u001b[0;36minvoke\u001b[0;34m(self, input, config, **kwargs)\u001b[0m\n\u001b[1;32m    182\u001b[0m         \u001b[0;32melse\u001b[0m\u001b[0;34m:\u001b[0m\u001b[0;34m\u001b[0m\u001b[0;34m\u001b[0m\u001b[0m\n\u001b[1;32m    183\u001b[0m             \u001b[0mcontext\u001b[0m\u001b[0;34m.\u001b[0m\u001b[0mrun\u001b[0m\u001b[0;34m(\u001b[0m\u001b[0m_set_config_context\u001b[0m\u001b[0;34m,\u001b[0m \u001b[0mconfig\u001b[0m\u001b[0;34m)\u001b[0m\u001b[0;34m\u001b[0m\u001b[0;34m\u001b[0m\u001b[0m\n\u001b[0;32m--> 184\u001b[0;31m             \u001b[0mret\u001b[0m \u001b[0;34m=\u001b[0m \u001b[0mcontext\u001b[0m\u001b[0;34m.\u001b[0m\u001b[0mrun\u001b[0m\u001b[0;34m(\u001b[0m\u001b[0mself\u001b[0m\u001b[0;34m.\u001b[0m\u001b[0mfunc\u001b[0m\u001b[0;34m,\u001b[0m \u001b[0minput\u001b[0m\u001b[0;34m,\u001b[0m \u001b[0;34m**\u001b[0m\u001b[0mkwargs\u001b[0m\u001b[0;34m)\u001b[0m\u001b[0;34m\u001b[0m\u001b[0;34m\u001b[0m\u001b[0m\n\u001b[0m\u001b[1;32m    185\u001b[0m         \u001b[0;32mif\u001b[0m \u001b[0misinstance\u001b[0m\u001b[0;34m(\u001b[0m\u001b[0mret\u001b[0m\u001b[0;34m,\u001b[0m \u001b[0mRunnable\u001b[0m\u001b[0;34m)\u001b[0m \u001b[0;32mand\u001b[0m \u001b[0mself\u001b[0m\u001b[0;34m.\u001b[0m\u001b[0mrecurse\u001b[0m\u001b[0;34m:\u001b[0m\u001b[0;34m\u001b[0m\u001b[0;34m\u001b[0m\u001b[0m\n\u001b[1;32m    186\u001b[0m             \u001b[0;32mreturn\u001b[0m \u001b[0mret\u001b[0m\u001b[0;34m.\u001b[0m\u001b[0minvoke\u001b[0m\u001b[0;34m(\u001b[0m\u001b[0minput\u001b[0m\u001b[0;34m,\u001b[0m \u001b[0mconfig\u001b[0m\u001b[0;34m)\u001b[0m\u001b[0;34m\u001b[0m\u001b[0;34m\u001b[0m\u001b[0m\n",
            "\u001b[0;32m/usr/local/lib/python3.10/dist-packages/langgraph/graph/graph.py\u001b[0m in \u001b[0;36m_route\u001b[0;34m(self, input, config, reader, writer)\u001b[0m\n\u001b[1;32m     94\u001b[0m             \u001b[0mvalue\u001b[0m \u001b[0;34m=\u001b[0m \u001b[0minput\u001b[0m\u001b[0;34m\u001b[0m\u001b[0;34m\u001b[0m\u001b[0m\n\u001b[1;32m     95\u001b[0m         \u001b[0mresult\u001b[0m \u001b[0;34m=\u001b[0m \u001b[0mself\u001b[0m\u001b[0;34m.\u001b[0m\u001b[0mpath\u001b[0m\u001b[0;34m.\u001b[0m\u001b[0minvoke\u001b[0m\u001b[0;34m(\u001b[0m\u001b[0mvalue\u001b[0m\u001b[0;34m,\u001b[0m \u001b[0mconfig\u001b[0m\u001b[0;34m)\u001b[0m\u001b[0;34m\u001b[0m\u001b[0;34m\u001b[0m\u001b[0m\n\u001b[0;32m---> 96\u001b[0;31m         \u001b[0;32mreturn\u001b[0m \u001b[0mself\u001b[0m\u001b[0;34m.\u001b[0m\u001b[0m_finish\u001b[0m\u001b[0;34m(\u001b[0m\u001b[0mwriter\u001b[0m\u001b[0;34m,\u001b[0m \u001b[0minput\u001b[0m\u001b[0;34m,\u001b[0m \u001b[0mresult\u001b[0m\u001b[0;34m,\u001b[0m \u001b[0mconfig\u001b[0m\u001b[0;34m)\u001b[0m\u001b[0;34m\u001b[0m\u001b[0;34m\u001b[0m\u001b[0m\n\u001b[0m\u001b[1;32m     97\u001b[0m \u001b[0;34m\u001b[0m\u001b[0m\n\u001b[1;32m     98\u001b[0m     async def _aroute(\n",
            "\u001b[0;32m/usr/local/lib/python3.10/dist-packages/langgraph/graph/graph.py\u001b[0m in \u001b[0;36m_finish\u001b[0;34m(self, writer, input, result, config)\u001b[0m\n\u001b[1;32m    129\u001b[0m             \u001b[0mresult\u001b[0m \u001b[0;34m=\u001b[0m \u001b[0;34m[\u001b[0m\u001b[0mresult\u001b[0m\u001b[0;34m]\u001b[0m\u001b[0;34m\u001b[0m\u001b[0;34m\u001b[0m\u001b[0m\n\u001b[1;32m    130\u001b[0m         \u001b[0;32mif\u001b[0m \u001b[0mself\u001b[0m\u001b[0;34m.\u001b[0m\u001b[0mends\u001b[0m\u001b[0;34m:\u001b[0m\u001b[0;34m\u001b[0m\u001b[0;34m\u001b[0m\u001b[0m\n\u001b[0;32m--> 131\u001b[0;31m             destinations: Sequence[Union[Send, str]] = [\n\u001b[0m\u001b[1;32m    132\u001b[0m                 \u001b[0mr\u001b[0m \u001b[0;32mif\u001b[0m \u001b[0misinstance\u001b[0m\u001b[0;34m(\u001b[0m\u001b[0mr\u001b[0m\u001b[0;34m,\u001b[0m \u001b[0mSend\u001b[0m\u001b[0;34m)\u001b[0m \u001b[0;32melse\u001b[0m \u001b[0mself\u001b[0m\u001b[0;34m.\u001b[0m\u001b[0mends\u001b[0m\u001b[0;34m[\u001b[0m\u001b[0mr\u001b[0m\u001b[0;34m]\u001b[0m \u001b[0;32mfor\u001b[0m \u001b[0mr\u001b[0m \u001b[0;32min\u001b[0m \u001b[0mresult\u001b[0m\u001b[0;34m\u001b[0m\u001b[0;34m\u001b[0m\u001b[0m\n\u001b[1;32m    133\u001b[0m             ]\n",
            "\u001b[0;32m/usr/local/lib/python3.10/dist-packages/langgraph/graph/graph.py\u001b[0m in \u001b[0;36m<listcomp>\u001b[0;34m(.0)\u001b[0m\n\u001b[1;32m    130\u001b[0m         \u001b[0;32mif\u001b[0m \u001b[0mself\u001b[0m\u001b[0;34m.\u001b[0m\u001b[0mends\u001b[0m\u001b[0;34m:\u001b[0m\u001b[0;34m\u001b[0m\u001b[0;34m\u001b[0m\u001b[0m\n\u001b[1;32m    131\u001b[0m             destinations: Sequence[Union[Send, str]] = [\n\u001b[0;32m--> 132\u001b[0;31m                 \u001b[0mr\u001b[0m \u001b[0;32mif\u001b[0m \u001b[0misinstance\u001b[0m\u001b[0;34m(\u001b[0m\u001b[0mr\u001b[0m\u001b[0;34m,\u001b[0m \u001b[0mSend\u001b[0m\u001b[0;34m)\u001b[0m \u001b[0;32melse\u001b[0m \u001b[0mself\u001b[0m\u001b[0;34m.\u001b[0m\u001b[0mends\u001b[0m\u001b[0;34m[\u001b[0m\u001b[0mr\u001b[0m\u001b[0;34m]\u001b[0m \u001b[0;32mfor\u001b[0m \u001b[0mr\u001b[0m \u001b[0;32min\u001b[0m \u001b[0mresult\u001b[0m\u001b[0;34m\u001b[0m\u001b[0;34m\u001b[0m\u001b[0m\n\u001b[0m\u001b[1;32m    133\u001b[0m             ]\n\u001b[1;32m    134\u001b[0m         \u001b[0;32melse\u001b[0m\u001b[0;34m:\u001b[0m\u001b[0;34m\u001b[0m\u001b[0;34m\u001b[0m\u001b[0m\n",
            "\u001b[0;31mKeyError\u001b[0m: '__end__'"
          ]
        }
      ]
    },
    {
      "cell_type": "code",
      "source": [],
      "metadata": {
        "id": "Y1171GT7rn7R"
      },
      "execution_count": null,
      "outputs": []
    },
    {
      "cell_type": "code",
      "source": [
        "def retriever(search_query: str):\n",
        "  pinecone_api_key = userdata.get('PINECONE_API_KEY')\n",
        "  pc = Pinecone(api_key=pinecone_api_key)\n",
        "  index_name = \"surgical-assistant\"\n",
        "  index = pc.Index(index_name)\n",
        "  embeddings = HuggingFaceEmbeddings(model_name=\"sentence-transformers/all-mpnet-base-v2\")\n",
        "  vector_store = PineconeVectorStore(index=index, embedding=embeddings)\n",
        "  retriever = vector_store.as_retriever(\n",
        "    search_type=\"similarity_score_threshold\",\n",
        "    search_kwargs={\"k\": 1, \"score_threshold\": 0.5},\n",
        "  )\n",
        "  retrieved_information = retriever.invoke(search_query)\n",
        "  return retrieved_information[0].page_content"
      ],
      "metadata": {
        "id": "nbe2N8brrwbG"
      },
      "execution_count": 109,
      "outputs": []
    },
    {
      "cell_type": "code",
      "source": [
        "retriever_tool = create_retriever_tool(\n",
        "    retriever,\n",
        "    \"retrieve_medical_info\",\n",
        "    \"Retrieve relevant medical knowledge for surgical queries.\",\n",
        ")\n",
        "tools = [retriever_tool]"
      ],
      "metadata": {
        "id": "dtvlx_YvrwYk"
      },
      "execution_count": 109,
      "outputs": []
    },
    {
      "cell_type": "code",
      "source": [
        "def retrieve_node(state: State):\n",
        "  retrieve_query = state['retrieve_query']\n",
        "  retrieved_information = retriever(retrieve_query)\n",
        "  state['retrieved_information'] = retrieved_information\n",
        "  return state"
      ],
      "metadata": {
        "id": "SJEvChDVLN1Z"
      },
      "execution_count": 113,
      "outputs": []
    },
    {
      "cell_type": "code",
      "source": [
        "class Grade(BaseModel):\n",
        "    grade: str = Field(description = 'Relevance score \"yes\" or \"no\"')"
      ],
      "metadata": {
        "id": "HiITs5-sLkt_"
      },
      "execution_count": 114,
      "outputs": []
    },
    {
      "cell_type": "code",
      "source": [
        "def grader_node(state: State):\n",
        "  surgeon_query: str = state['surgeon_query']\n",
        "  retrieved_information: str = state['retrieved_information']\n",
        "  structure_llm = llm.with_structured_output(Grade)\n",
        "  instructions = \"\"\"\n",
        "        You are a Grader AI tasked with evaluating surgical responses.\n",
        "        Evaluate the given response on:\n",
        "        1. Relevance (Does it address the query directly?).\n",
        "        2. Clarity (Is it concise and easy to understand?).\n",
        "        3. Depth (Does it provide sufficient detail or context?).\n",
        "\n",
        "        **Response to Evaluate:** {response}\n",
        "\n",
        "        Provide a score for each criterion out of 10, and include a brief comment on improvements.\n",
        "  \"\"\"\n",
        "  prompt: str = instructions.format(\n",
        "    surgeon_query=surgeon_query,\n",
        "    retrieved_information=retrieved_information,\n",
        "  )\n",
        "  relevance = structure_llm.invoke(prompt)\n",
        "  state['relevance'] = relevance.grade\n",
        "  return state"
      ],
      "metadata": {
        "id": "qo_Lrck_wyX-"
      },
      "execution_count": 115,
      "outputs": []
    },
    {
      "cell_type": "code",
      "source": [
        "def re_writer_node(state: State):\n",
        "  surgeon_query: str = state['surgeon_query']"
      ],
      "metadata": {
        "id": "zeF29EuAMGAE"
      },
      "execution_count": null,
      "outputs": []
    },
    {
      "cell_type": "code",
      "source": [
        "retriever('What are cardio vascular disease?')"
      ],
      "metadata": {
        "colab": {
          "base_uri": "https://localhost:8080/",
          "height": 145
        },
        "id": "sXIOBmnW1PRe",
        "outputId": "ded6addd-1949-4050-dfcf-35f802b12fb6"
      },
      "execution_count": 110,
      "outputs": [
        {
          "output_type": "execute_result",
          "data": {
            "text/plain": [
              "'\\n\\ue048 Exertional dyspnoea\\n\\ue048 Angina\\ue048 Exertional syncope\\n\\ue048 Sudden death\\n\\ue048 Episodes of acute pulmonar y oedema\\nSigns\\n\\ue048 Ejection systolic murmur\\n\\ue048 Slow-rising carotid pulse\\n\\ue048 Heaving apex beat (left ventricular \\npressure overload)\\ue048 Narrow pulse pressure\\n\\ue048 Signs of pulmonar y venous congestion\\nDiseases of the heart valves \\ue04a 459\\n16\\nPathogenesis\\nRegurgitation of blood through the aortic valve causes the LV to dilate \\nas cardiac output increases to maintain the demands of the circulation. The stroke volume of the LV m'"
            ],
            "application/vnd.google.colaboratory.intrinsic+json": {
              "type": "string"
            }
          },
          "metadata": {},
          "execution_count": 110
        }
      ]
    },
    {
      "cell_type": "code",
      "source": [],
      "metadata": {
        "id": "pAJb5_kXEBRH"
      },
      "execution_count": null,
      "outputs": []
    }
  ]
}