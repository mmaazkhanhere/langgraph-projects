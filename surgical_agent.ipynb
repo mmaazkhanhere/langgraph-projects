{
  "nbformat": 4,
  "nbformat_minor": 0,
  "metadata": {
    "colab": {
      "provenance": []
    },
    "kernelspec": {
      "name": "python3",
      "display_name": "Python 3"
    },
    "language_info": {
      "name": "python"
    }
  },
  "cells": [
    {
      "cell_type": "code",
      "execution_count": 1,
      "metadata": {
        "colab": {
          "base_uri": "https://localhost:8080/"
        },
        "id": "q7CSiCKQ0ZTU",
        "outputId": "5a3a8446-5d7e-4f71-9529-143260d2594d"
      },
      "outputs": [
        {
          "output_type": "stream",
          "name": "stdout",
          "text": [
            "\u001b[2K   \u001b[90m━━━━━━━━━━━━━━━━━━━━━━━━━━━━━━━━━━━━━━━━\u001b[0m \u001b[32m125.1/125.1 kB\u001b[0m \u001b[31m3.1 MB/s\u001b[0m eta \u001b[36m0:00:00\u001b[0m\n",
            "\u001b[2K   \u001b[90m━━━━━━━━━━━━━━━━━━━━━━━━━━━━━━━━━━━━━━━━\u001b[0m \u001b[32m41.3/41.3 kB\u001b[0m \u001b[31m2.9 MB/s\u001b[0m eta \u001b[36m0:00:00\u001b[0m\n",
            "\u001b[2K   \u001b[90m━━━━━━━━━━━━━━━━━━━━━━━━━━━━━━━━━━━━━━━━\u001b[0m \u001b[32m2.4/2.4 MB\u001b[0m \u001b[31m30.4 MB/s\u001b[0m eta \u001b[36m0:00:00\u001b[0m\n",
            "\u001b[2K   \u001b[90m━━━━━━━━━━━━━━━━━━━━━━━━━━━━━━━━━━━━━━━━\u001b[0m \u001b[32m1.0/1.0 MB\u001b[0m \u001b[31m43.7 MB/s\u001b[0m eta \u001b[36m0:00:00\u001b[0m\n",
            "\u001b[2K   \u001b[90m━━━━━━━━━━━━━━━━━━━━━━━━━━━━━━━━━━━━━━━━\u001b[0m \u001b[32m409.5/409.5 kB\u001b[0m \u001b[31m26.4 MB/s\u001b[0m eta \u001b[36m0:00:00\u001b[0m\n",
            "\u001b[2K   \u001b[90m━━━━━━━━━━━━━━━━━━━━━━━━━━━━━━━━━━━━━━━━\u001b[0m \u001b[32m3.1/3.1 MB\u001b[0m \u001b[31m68.5 MB/s\u001b[0m eta \u001b[36m0:00:00\u001b[0m\n",
            "\u001b[2K   \u001b[90m━━━━━━━━━━━━━━━━━━━━━━━━━━━━━━━━━━━━━━━━\u001b[0m \u001b[32m49.5/49.5 kB\u001b[0m \u001b[31m3.3 MB/s\u001b[0m eta \u001b[36m0:00:00\u001b[0m\n",
            "\u001b[2K   \u001b[90m━━━━━━━━━━━━━━━━━━━━━━━━━━━━━━━━━━━━━━━━\u001b[0m \u001b[32m108.9/108.9 kB\u001b[0m \u001b[31m2.7 MB/s\u001b[0m eta \u001b[36m0:00:00\u001b[0m\n",
            "\u001b[2K   \u001b[90m━━━━━━━━━━━━━━━━━━━━━━━━━━━━━━━━━━━━━━━━\u001b[0m \u001b[32m3.0/3.0 MB\u001b[0m \u001b[31m35.0 MB/s\u001b[0m eta \u001b[36m0:00:00\u001b[0m\n",
            "\u001b[2K   \u001b[90m━━━━━━━━━━━━━━━━━━━━━━━━━━━━━━━━━━━━━━━━\u001b[0m \u001b[32m1.2/1.2 MB\u001b[0m \u001b[31m17.1 MB/s\u001b[0m eta \u001b[36m0:00:00\u001b[0m\n",
            "\u001b[2K   \u001b[90m━━━━━━━━━━━━━━━━━━━━━━━━━━━━━━━━━━━━━━━━\u001b[0m \u001b[32m244.8/244.8 kB\u001b[0m \u001b[31m16.5 MB/s\u001b[0m eta \u001b[36m0:00:00\u001b[0m\n",
            "\u001b[2K   \u001b[90m━━━━━━━━━━━━━━━━━━━━━━━━━━━━━━━━━━━━━━━━\u001b[0m \u001b[32m85.4/85.4 kB\u001b[0m \u001b[31m6.3 MB/s\u001b[0m eta \u001b[36m0:00:00\u001b[0m\n",
            "\u001b[?25h"
          ]
        }
      ],
      "source": [
        "!pip install  --quiet langgraph\n",
        "!pip install  --quiet langchain-google-genai\n",
        "!pip install --quiet langchain\n",
        "!pip install --quiet langchain_community\n",
        "!pip install --quiet langchain-groq\n",
        "!pip install --quiet google-generativeai\n",
        "!pip install --quiet duckduckgo-search\n",
        "!pip install --quiet langchain-pinecone\n",
        "!pip install --quiet langchain-huggingface"
      ]
    },
    {
      "cell_type": "code",
      "source": [
        "from IPython.display import Image, display, Markdown\n",
        "import textwrap\n",
        "import time\n",
        "from google.colab import userdata\n",
        "\n",
        "from typing import Any, Annotated, List, TypedDict\n",
        "from pydantic import BaseModel, Field\n",
        "from pinecone import Pinecone\n",
        "\n",
        "from langchain_core.messages import get_buffer_string, AIMessage, HumanMessage, SystemMessage, BaseMessage\n",
        "from langchain_community.utilities import DuckDuckGoSearchAPIWrapper\n",
        "from langchain_community.tools import DuckDuckGoSearchRun\n",
        "from langchain_community.tools import DuckDuckGoSearchResults\n",
        "from langchain_google_genai import ChatGoogleGenerativeAI\n",
        "from langchain_groq import ChatGroq\n",
        "from langchain_huggingface import HuggingFaceEmbeddings\n",
        "from langchain_pinecone import PineconeVectorStore\n",
        "from langchain.tools.retriever import create_retriever_tool\n",
        "from langchain_core.tools import tool\n",
        "\n",
        "from langgraph.graph.state import StateGraph, END, START\n",
        "from langgraph.graph.message import add_messages\n",
        "from langgraph.prebuilt import ToolNode, tools_condition\n"
      ],
      "metadata": {
        "id": "ODnD5jdz0mAg"
      },
      "execution_count": 59,
      "outputs": []
    },
    {
      "cell_type": "code",
      "source": [
        "google_api_key = userdata.get('GOOGLE_API_KEY')\n",
        "\n",
        "gemini_model = ChatGoogleGenerativeAI(model=\"gemini-1.5-flash\",\n",
        "                                    api_key=google_api_key\n",
        "                                    )\n",
        "\n",
        "# model.invoke(\"Test\")"
      ],
      "metadata": {
        "id": "5rQlphBO04Ob"
      },
      "execution_count": 60,
      "outputs": []
    },
    {
      "cell_type": "code",
      "source": [
        "\n",
        "api_key = userdata.get(\"GROQ_API_KEY\")\n",
        "\n",
        "model = ChatGroq(\n",
        "    model=\"llama-3.1-70b-versatile\",\n",
        "    verbose=True,\n",
        "    temperature=0.5,\n",
        "    api_key=api_key\n",
        ")\n",
        "\n",
        "model.invoke('TEST').content"
      ],
      "metadata": {
        "colab": {
          "base_uri": "https://localhost:8080/",
          "height": 54
        },
        "id": "YGgWTmcB0_xa",
        "outputId": "36cef5e0-e2bc-4b7f-d0e8-304619e04553"
      },
      "execution_count": 61,
      "outputs": [
        {
          "output_type": "execute_result",
          "data": {
            "text/plain": [
              "\"It seems like you're testing to see if I'm working.  Is there anything else I can help you with?\""
            ],
            "application/vnd.google.colaboratory.intrinsic+json": {
              "type": "string"
            }
          },
          "metadata": {},
          "execution_count": 61
        }
      ]
    },
    {
      "cell_type": "code",
      "source": [
        "#class PlanningResponse(BaseModel):\n",
        "\n",
        "\n",
        "class State(TypedDict):\n",
        "  surgeon_query: str\n",
        "  patient_history: str\n",
        "  anatomy_response: str\n",
        "  infection_prevention_response: str\n",
        "  complication_response: str\n",
        "  expert_surgeon_response: str\n",
        "  insight_accumulator_response: str\n",
        "  conversation: Annotated[list, add_messages]\n",
        "  messages: Annotated[list, add_messages]\n",
        "  # retrieve_query: str\n",
        "  # retrieve_information: str\n",
        "  # relevance: str"
      ],
      "metadata": {
        "id": "1mUaxGvy1ACN"
      },
      "execution_count": 128,
      "outputs": []
    },
    {
      "cell_type": "code",
      "source": [
        "@tool\n",
        "def query_database(surgeon_query: str):\n",
        "  \"\"\"Query the pinecone database for the surgeon query\"\"\"\n",
        "  print(\"Query database\")\n",
        "  pinecone_api_key = userdata.get('PINECONE_API_KEY')\n",
        "  pc = Pinecone(api_key=pinecone_api_key)\n",
        "  index_name = \"surgical-assistant\"\n",
        "  index = pc.Index(index_name)\n",
        "  embeddings = HuggingFaceEmbeddings(model_name=\"sentence-transformers/all-mpnet-base-v2\")\n",
        "  vector_store = PineconeVectorStore(index=index, embedding=embeddings)\n",
        "  retriever = vector_store.as_retriever()\n",
        "  retrieved_information = retriever.invoke(surgeon_query)\n",
        "  return retrieved_information\n",
        "\n",
        "tools = [query_database]"
      ],
      "metadata": {
        "id": "rGEoTA3C4jCs"
      },
      "execution_count": null,
      "outputs": []
    },
    {
      "cell_type": "code",
      "source": [
        "# pinecone_api_key = userdata.get('PINECONE_API_KEY')\n",
        "# pc = Pinecone(api_key=pinecone_api_key)\n",
        "# index_name = \"surgical-assistant\"\n",
        "# index = pc.Index(index_name)\n",
        "# embeddings = HuggingFaceEmbeddings(model_name=\"sentence-transformers/all-mpnet-base-v2\")\n",
        "# vector_store = PineconeVectorStore(index=index, embedding=embeddings)\n",
        "# retriever = vector_store.as_retriever()\n",
        "\n",
        "# retriever_tool = create_retriever_tool(\n",
        "#     retriever,\n",
        "#     \"retrieve_medical_info\",\n",
        "#     \"Retrieve relevant medical knowledge for surgical queries.\",\n",
        "# )\n",
        "# tools = [retriever_tool]"
      ],
      "metadata": {
        "id": "iOqK-RV5QPgk"
      },
      "execution_count": 130,
      "outputs": []
    },
    {
      "cell_type": "code",
      "source": [
        "def anatomy_node(state: State):\n",
        "  print('Anatomy Node')\n",
        "  surgeon_query: str = state['surgeon_query']\n",
        "  patient_history: str = state['patient_history']\n",
        "  state['messages'] = []\n",
        "  instructions: str = \"\"\"\n",
        "                    You are an Accredited Human Anatomy Expert.  Your task is to\n",
        "                    provide detailed anatomical insights related to a surgeon's\n",
        "                    query, taking into account the patient's medical history.\n",
        "\n",
        "                    **Surgeon's Query:** {surgeon_query}\n",
        "\n",
        "                    **Patient History:** {patient_history}\n",
        "\n",
        "                    **Instructions:**\n",
        "\n",
        "                    1. **Precision:** Provide precise anatomical details.\n",
        "                    Avoid vague or generalized responses.  Reference specific\n",
        "                    anatomical structures, planes, relationships, and potential\n",
        "                    variations.\n",
        "                    2. **Relevance:**  Directly address all aspects of the surgeon's\n",
        "                    query.  Ensure your response is highly relevant to the specific\n",
        "                    surgical procedure or anatomical area in question.\n",
        "                    3. **Depth:** Offer comprehensive insights,\n",
        "                    considering the potential surgical challenges and variations\n",
        "                    in anatomy.\n",
        "                    4. **Clarity:**  Write in clear, concise, and easily understandable\n",
        "                    language, suitable for a surgeon.  Avoid jargon unless absolutely\n",
        "                    necessary and define it when used.\n",
        "                    5. **Integration:**  Carefully consider the patient's history\n",
        "                    and how it might influence the anatomy.  Highlight any relevant\n",
        "                    anatomical variations or potential complications based on the\n",
        "                    provided history.\n",
        "\n",
        "                    **Example Response Format (Adapt as necessary):**\n",
        "\n",
        "                    * **Anatomical Structures Involved:** [List and describe the relevant structures, including their spatial relationships and variations.]\n",
        "                    * **Potential Complications:** [Based on the patient history and anatomy, list potential complications and suggest preventive measures.]\n",
        "                    * **Surgical Considerations:** [Outline key anatomical considerations for the surgical procedure.]\n",
        "                    * **Key Anatomical Landmarks:** [Highlight key landmarks to guide the surgical procedure.]\n",
        "                    * **Relevant Variations:** [Discuss any relevant anatomical variations based on the patient's history.]\n",
        "\n",
        "                    **Provide your detailed anatomical insight in response to the surgeon's query, considering the patient history.**\n",
        "                    \"\"\"\n",
        "  prompt: str = instructions.format(\n",
        "      surgeon_query=surgeon_query,\n",
        "      patient_history=patient_history\n",
        "  )\n",
        "\n",
        "  state['messages'].append(prompt)\n",
        "  model_with_tools = gemini_model.bind_tools(tools)\n",
        "  response: BaseMessage = model_with_tools.invoke(state['messages'])\n",
        "\n",
        "  state['messages'].append(AIMessage(content=response.content))\n",
        "  state['anatomy_response'] = response.content\n",
        "  return state"
      ],
      "metadata": {
        "id": "BB4AOa4p1xUH"
      },
      "execution_count": 142,
      "outputs": []
    },
    {
      "cell_type": "code",
      "source": [
        "def complication_management_node(state: State):\n",
        "  print(\"Complication Management\")\n",
        "  surgeon_query: str = state['surgeon_query']\n",
        "  patient_history: str = state['patient_history']\n",
        "  instructions: str = \"\"\"\n",
        "    You are an expert Complication Manager AI assistant specializing in intraoperative\n",
        "    complications during surgical procedures.  Your primary function is to recognize\n",
        "    and mitigate potential or existing complications in real-time, suggesting interventions\n",
        "    and strategies.\n",
        "\n",
        "    **Input:**\n",
        "    1. **Patient History:**  A detailed summary of the patient's medical history {patient_history},\n",
        "    including relevant past surgeries, allergies, medications, and any pre-existing\n",
        "    conditions.  This information is crucial for assessing risk factors and predicting potential complications.\n",
        "\n",
        "    2. **Current Surgical Procedure:** A precise description of the ongoing surgical\n",
        "    procedure, including the surgical site, current steps, and any observed anomalies.\n",
        "    3. **Real-time Observations:** Any unusual findings or changes during the procedure.\n",
        "\n",
        "    Based on the provided information, generate a detailed response that includes the following:\n",
        "    1. **Complication Identification:** Clearly identify any potential or existing\n",
        "    intraoperative complications (e.g., hemorrhage, tissue damage, organ perforation,\n",
        "    infection risk). Prioritize critical complications and provide a rationale for your\n",
        "    assessment. Example: \"Potential hemorrhage due to cystic artery injury.\"\n",
        "\n",
        "    2. **Risk Assessment:**  Assess the severity of the identified complication(s)\n",
        "    and the potential impact on the patient's outcome. Example: \"Moderate risk of\n",
        "    hypovolemic shock due to ongoing bleeding.\"\n",
        "\n",
        "    3. **Intervention Recommendations:** Suggest specific, actionable interventions\n",
        "    and strategies to manage the complication.  Be explicit about the necessary steps,\n",
        "    including equipment, medications, and surgical techniques. Example: \"1. Immediately\n",
        "    apply pressure to the bleeding site. 2. Prepare for blood transfusion. 3. Consider\n",
        "    surgical clipping of the cystic artery.\"\n",
        "\n",
        "    4. **Alternative Strategies:**  If applicable, propose alternative strategies\n",
        "    and explain their potential advantages and disadvantages.\n",
        "\n",
        "    5. **Monitoring Guidelines:** Detail the parameters that need to be monitored\n",
        "    closely, and the desired target ranges.\n",
        "\n",
        "\n",
        "    **Important Considerations:**\n",
        "\n",
        "    *   Prioritize patient safety.\n",
        "    *   Be concise and direct in your recommendations.\n",
        "    *   Use precise medical terminology.\n",
        "    *   Justify your recommendations with evidence-based reasoning.\n",
        "    *   Avoid generic responses. Tailor your recommendations to the specific situation and patient characteristics.\n",
        "    *   Your recommendations should be aligned with standard surgical practices and protocols.\n",
        "  \"\"\"\n",
        "  prompt: str = instructions.format(\n",
        "      surgeon_query=surgeon_query,\n",
        "      patient_history=patient_history\n",
        "  )\n",
        "\n",
        "  response: BaseMessage = model.invoke(prompt)\n",
        "  return {\"infection_prevention_response\": response.content}\n"
      ],
      "metadata": {
        "id": "P-PhUnCa_Hgq"
      },
      "execution_count": 143,
      "outputs": []
    },
    {
      "cell_type": "code",
      "source": [
        "def infection_prevention_node(state: State):\n",
        "  print(\"Infection Prevention\")\n",
        "  surgeon_query: str = state['surgeon_query']\n",
        "  patient_history: str = state['patient_history']\n",
        "  instructions: str  = \"\"\"\n",
        "    You are a Certified Infection Preventionist (CIP) providing expert guidance to a surgeon.\n",
        "    A surgical error has occurred, and the surgeon is seeking your immediate advice on\n",
        "    infection prevention steps.  Your responses must be precise, evidence-based, and\n",
        "    prioritize patient safety.\n",
        "\n",
        "    **Context:**\n",
        "\n",
        "    * **Patient History:** {patient_history}  (Provide a detailed patient history,\n",
        "    including relevant medical conditions, allergies, past surgeries, and medications.\n",
        "    Include any known immunodeficiencies or infections.)\n",
        "    * **Surgeon's Query:** {surgeon_query} (The surgeon's specific question or\n",
        "    concern about the surgical error and potential infection risks.)\n",
        "\n",
        "    **Requirements:**\n",
        "\n",
        "    1. **Accurate Infection Prevention Steps:** Outline the most critical infection\n",
        "    prevention and control measures required to mitigate the risk of infection\n",
        "    *specifically* in response to the described surgical error.  Your steps should\n",
        "    be detailed and actionable, suitable for an operating room setting. Prioritize\n",
        "    the steps based on urgency and clinical significance. Be specific about the\n",
        "    timing of each step.\n",
        "\n",
        "\n",
        "    2. **Risk Assessment:** Assess the risk of infection given the surgical error\n",
        "    and the patient's history.  Quantify the risk if possible (e.g., low, moderate,\n",
        "    high). Justify your risk assessment.\n",
        "\n",
        "\n",
        "    3. **Evidence-Based Rationale:** Support all recommendations with credible\n",
        "    medical evidence.  Cite relevant guidelines, research, or best practices from\n",
        "    authoritative sources (e.g., CDC, WHO, professional surgical societies).\n",
        "\n",
        "\n",
        "    4. **Clear and Concise Language:** Use precise and unambiguous language easily\n",
        "    understood by a surgeon. Avoid jargon or overly technical terms. Focus on\n",
        "    practical and immediate actions.\n",
        "\n",
        "\n",
        "    5. **Prioritization:** Clearly prioritize the infection prevention steps in\n",
        "    order of importance and urgency.\n",
        "\n",
        "    **Output Format:**\n",
        "\n",
        "    * **Infection Prevention Steps (Bulleted list):**  Each step should include a\n",
        "    detailed description and an explanation of its purpose.\n",
        "    * **Risk Assessment:** A clear statement of the infection risk (low, moderate, high)\n",
        "    and the rationale for this assessment.\n",
        "    * **Evidence-Based Citations:**  Provide relevant references for all guidelines\n",
        "    and recommendations used.\n",
        "\n",
        "\n",
        "    **Example:**\n",
        "\n",
        "    (Assume a specific surgical error and patient history are provided)\n",
        "\n",
        "\n",
        "    **Do not provide any additional information not explicitly requested.\n",
        "    Only provide the requested response components.**\n",
        "\n",
        "  \"\"\"\n",
        "  prompt: str = instructions.format(\n",
        "      surgeon_query=surgeon_query,\n",
        "      patient_history=patient_history\n",
        "  )\n",
        "\n",
        "  response: BaseMessage = model.invoke(prompt)\n",
        "  return {\"complication_response\": response.content}\n"
      ],
      "metadata": {
        "id": "msEGdfcg8Frx"
      },
      "execution_count": 144,
      "outputs": []
    },
    {
      "cell_type": "code",
      "source": [
        "def insight_accumulator_node(state: State):\n",
        "  print(\"Insight Accumulator\")\n",
        "  surgeon_query: str = state['surgeon_query']\n",
        "  patient_history: str = state['patient_history']\n",
        "  anatomy_response: str = state['anatomy_response']\n",
        "  infection_prevention_response: str = state['infection_prevention_response']\n",
        "  complication_response: str = state['complication_response']\n",
        "  instructions: str = \"\"\"\n",
        "    You are an expert surgical insight accumulator. Your task is to gather insights from the\n",
        "    provided information and accumulate them into actionable insights for the surgeon\n",
        "    to respond to surgeon query {surgeon_query}.\n",
        "\n",
        "    **Context:**\n",
        "\n",
        "    * **Patient History:** {patient_history}\n",
        "    * **Relevant Anatomy:** {anatomy_response}\n",
        "    * **Infection Prevention Measures:** {infection_prevention_response}\n",
        "    * **Potential Complications and their Management:** {complication_response}\n",
        "\n",
        "    **Task:**\n",
        "\n",
        "    Carefully analyze the provided information, considering the patient's specific\n",
        "    history and the potential surgical challenges. Identify key insights that may\n",
        "    influence the surgical approach, including but not limited to:\n",
        "\n",
        "    * **Critical anatomical variations:**  Are there any unusual anatomical structures\n",
        "    or relationships that require special attention?\n",
        "    * **High-risk infection areas:** Are there any specific areas where infection\n",
        "    prevention measures need to be reinforced?\n",
        "    * **Anticipated complications and mitigation strategies:** What are the most\n",
        "    likely complications, and how can they be effectively prevented or managed?\n",
        "    * **Alternative surgical techniques:** Based on the available information, are\n",
        "    there alternative surgical techniques that could be considered?\n",
        "\n",
        "    Synthesize these insights into a concise and actionable summary for the next surgical planning node.\n",
        "    The summary should clearly highlight the key considerations derived from the provided data and\n",
        "    the patient's specific situation.  Ensure the insights are specific and directly relevant to\n",
        "    guiding the surgical plan.\n",
        "\n",
        "    **Output Format:**\n",
        "\n",
        "    Provide a structured summary of insights, using bullet points or a numbered list.\n",
        "    Avoid redundancy and focus on the most critical insights.\n",
        "\n",
        "    **Example:**\n",
        "\n",
        "    * **Insight 1:** Due to patient's history of [specific condition], the surgical\n",
        "    approach should prioritize [specific technique] to minimize risk of [specific complication].\n",
        "    * **Insight 2:** The presence of [specific anatomical variation] necessitates\n",
        "    careful dissection near the [anatomical region] to avoid [potential complication].\n",
        "\n",
        "    **Insights:**\n",
        "  \"\"\"\n",
        "  prompt: str = instructions.format(\n",
        "    surgeon_query=surgeon_query,\n",
        "    patient_history=patient_history,\n",
        "    anatomy_response=anatomy_response,\n",
        "    infection_prevention_response=infection_prevention_response,\n",
        "    complication_response=complication_response,\n",
        "  )\n",
        "\n",
        "  response: BaseMessage = model.invoke(prompt)\n",
        "  return {\"insight_accumulator_response\": response.content}"
      ],
      "metadata": {
        "id": "VarAT-kS8-0Z"
      },
      "execution_count": 145,
      "outputs": []
    },
    {
      "cell_type": "code",
      "source": [
        "def expert_surgeon_node(state: State):\n",
        "  print(\"Expert Surgeom\")\n",
        "  surgeon_query: str = state['surgeon_query']\n",
        "  insight_accumulator_response: str = state['insight_accumulator_response']\n",
        "  conversation = state['conversation']\n",
        "  instructions = \"\"\"\n",
        "    You are a Certified Surgical Consultant providing concise, high-quality\n",
        "    answers to surgeon queries.\n",
        "    Use your extensive knowledge of surgical procedures, anatomy, infection\n",
        "    prevention, and potential\n",
        "    complications to formulate responses.  Prioritize clarity and accuracy;\n",
        "    avoid unnecessary detail.\n",
        "\n",
        "    **Input:**\n",
        "\n",
        "    * **Surgeon's Query:** {surgeon_query}\n",
        "    * **Insight Accumulator:** {insight_accumulator_response}\n",
        "\n",
        "\n",
        "    **Instructions:**\n",
        "\n",
        "    1. Analyze the surgeon's query in the context of the provided patient history\n",
        "    and insights.\n",
        "    2. Synthesize the information into a clear and actionable response, directly\n",
        "    answering the question.\n",
        "    3. Prioritize conciseness.  Assume the surgeon is under time pressure and\n",
        "    needs brief, critical information.\n",
        "    4. Your response must be conversational in nature, suitable for a direct\n",
        "    dialogue with a surgeon.\n",
        "    5. If insufficient information is provided to answer definitively,\n",
        "    acknowledge this and suggest further investigations or data needed.\n",
        "\n",
        "    **Output Format:**\n",
        "\n",
        "    Respond directly to the surgeon's question, as if you were speaking directly to them.\n",
        "    Do not include explanations or justifications for how you reached your response.\n",
        "    The response should be a single short paragraph containing. The response must be\n",
        "    less than 2 sentences and 50 words\n",
        "\n",
        "\n",
        "    **Example:**\n",
        "\n",
        "    Surgeon's Query: What is the risk of infection post-appendectomy in a diabetic patient?\n",
        "\n",
        "    Response:  The risk of infection is moderately elevated in diabetic patients due to\n",
        "    impaired wound healing.   Prophylactic antibiotics are recommended, and close monitoring for\n",
        "    signs of infection in the first 72 hours is crucial.\n",
        "\n",
        "    **Response:**\n",
        "  \"\"\"\n",
        "  prompt: str = instructions.format(\n",
        "    surgeon_query=surgeon_query,\n",
        "    insight_accumulator_response=insight_accumulator_response,\n",
        "  )\n",
        "  response: BaseMessage = model.invoke(prompt)\n",
        "  state['conversation'].append(response.content)\n",
        "  state['expert_surgeon_response'] = response.content\n",
        "  return state\n"
      ],
      "metadata": {
        "id": "TTy_znMOBTwR"
      },
      "execution_count": 146,
      "outputs": []
    },
    {
      "cell_type": "code",
      "source": [
        "def should_continue(state: State):\n",
        "    messages = state[\"messages\"]\n",
        "    last_message = messages[-1]\n",
        "    if last_message.tool_calls:\n",
        "        return \"Retriever\"\n",
        "    return \"Infection Prevention Specialist\"\n"
      ],
      "metadata": {
        "id": "jQKWhicTeoWo"
      },
      "execution_count": 147,
      "outputs": []
    },
    {
      "cell_type": "code",
      "source": [
        "from langgraph.graph.state import END, START  # Import END explicitly if not already done\n",
        "\n",
        "builder = StateGraph(State)\n",
        "\n",
        "# Define retriever tool node\n",
        "retriever = ToolNode(tools)\n",
        "\n",
        "# Add nodes\n",
        "builder.add_node(\"Anatomy Specialist\", anatomy_node)\n",
        "builder.add_node(\"Infection Prevention Specialist\", infection_prevention_node)\n",
        "builder.add_node(\"Complication Manager\", complication_management_node)\n",
        "builder.add_node(\"Insight Accumulator\", insight_accumulator_node)\n",
        "builder.add_node(\"Expert Surgeon\", expert_surgeon_node)\n",
        "builder.add_node(\"Retriever\", retriever)\n",
        "\n",
        "# Define edges\n",
        "builder.add_edge(START, \"Anatomy Specialist\")\n",
        "builder.add_conditional_edges(\n",
        "    \"Anatomy Specialist\",\n",
        "    should_continue,\n",
        "    ['Retriever', 'Infection Prevention Specialist']\n",
        ")\n",
        "builder.add_edge(\"Retriever\", \"Anatomy Specialist\")\n",
        "builder.add_edge(\"Infection Prevention Specialist\", \"Complication Manager\")\n",
        "builder.add_edge(\"Complication Manager\", \"Insight Accumulator\")\n",
        "builder.add_edge(\"Insight Accumulator\", \"Expert Surgeon\")\n",
        "builder.add_edge(\"Expert Surgeon\", END)\n",
        "\n",
        "agent = builder.compile()\n",
        "display(Image(agent.get_graph().draw_mermaid_png()))\n"
      ],
      "metadata": {
        "colab": {
          "base_uri": "https://localhost:8080/",
          "height": 667
        },
        "id": "kQuhKMs5DcIb",
        "outputId": "00b68b25-7462-4048-88c8-86f3c820490e"
      },
      "execution_count": 148,
      "outputs": [
        {
          "output_type": "display_data",
          "data": {
            "image/png": "[encoded data removed]",
            "text/plain": [
              "<IPython.core.display.Image object>"
            ]
          },
          "metadata": {}
        }
      ]
    },
    {
      "cell_type": "code",
      "source": [
        "state = {\n",
        "    'surgeon_query': 'What are the anatomical considerations for a laparoscopic cholecystectomy in a patient with a history of previous right upper quadrant surgery?',\n",
        "    'patient_history': 'The patient is a 65-year-old male with a history of a right upper quadrant laparotomy for a perforated duodenal ulcer 10 years prior. He also has type 2 diabetes mellitus and hypertension.  His current complaint is right upper quadrant pain and nausea.',\n",
        "    'conversation': [],\n",
        "    'messages' : [],\n",
        "    'insight_accumulator_response': '',\n",
        "}"
      ],
      "metadata": {
        "id": "EGRRDgQTEs0s"
      },
      "execution_count": 149,
      "outputs": []
    },
    {
      "cell_type": "code",
      "source": [
        "result = agent.invoke(state)\n",
        "result['expert_surgeon_response']"
      ],
      "metadata": {
        "colab": {
          "base_uri": "https://localhost:8080/",
          "height": 182
        },
        "id": "MeEk37znFUs6",
        "outputId": "f7963ea2-5ec5-4741-b3ea-eaf340927455"
      },
      "execution_count": 150,
      "outputs": [
        {
          "output_type": "stream",
          "name": "stdout",
          "text": [
            "Anatomy Node\n",
            "Infection Prevention\n",
            "Complication Management\n",
            "Insight Accumulator\n",
            "Expert Surgeom\n"
          ]
        },
        {
          "output_type": "execute_result",
          "data": {
            "text/plain": [
              "'When performing a laparoscopic cholecystectomy in a patient with a history of previous right upper quadrant surgery, be aware of potential adhesions and altered anatomy, which can make identifying the cystic duct and artery challenging. Carefully dissect the triangle of Calot and preserve the infundibulo-hepatic ligament to avoid bile duct and hepatic artery injury.'"
            ],
            "application/vnd.google.colaboratory.intrinsic+json": {
              "type": "string"
            }
          },
          "metadata": {},
          "execution_count": 150
        }
      ]
    },
    {
      "cell_type": "code",
      "source": [],
      "metadata": {
        "id": "Y1171GT7rn7R"
      },
      "execution_count": null,
      "outputs": []
    },
    {
      "cell_type": "code",
      "source": [
        "def retriever(search_query: str):\n",
        "  pinecone_api_key = userdata.get('PINECONE_API_KEY')\n",
        "  pc = Pinecone(api_key=pinecone_api_key)\n",
        "  index_name = \"surgical-assistant\"\n",
        "  index = pc.Index(index_name)\n",
        "  embeddings = HuggingFaceEmbeddings(model_name=\"sentence-transformers/all-mpnet-base-v2\")\n",
        "  vector_store = PineconeVectorStore(index=index, embedding=embeddings)\n",
        "  retriever = vector_store.as_retriever(\n",
        "    search_type=\"similarity_score_threshold\",\n",
        "    search_kwargs={\"k\": 1, \"score_threshold\": 0.5},\n",
        "  )\n",
        "  retrieved_information = retriever.invoke(search_query)\n",
        "  return retrieved_information[0].page_content"
      ],
      "metadata": {
        "id": "nbe2N8brrwbG"
      },
      "execution_count": null,
      "outputs": []
    },
    {
      "cell_type": "code",
      "source": [
        "retriever_tool = create_retriever_tool(\n",
        "    retriever,\n",
        "    \"retrieve_medical_info\",\n",
        "    \"Retrieve relevant medical knowledge for surgical queries.\",\n",
        ")\n",
        "tools = [retriever_tool]"
      ],
      "metadata": {
        "id": "dtvlx_YvrwYk"
      },
      "execution_count": null,
      "outputs": []
    },
    {
      "cell_type": "code",
      "source": [
        "def retrieve_node(state: State):\n",
        "  retrieve_query = state['retrieve_query']\n",
        "  retrieved_information = retriever(retrieve_query)\n",
        "  state['retrieved_information'] = retrieved_information\n",
        "  return state"
      ],
      "metadata": {
        "id": "SJEvChDVLN1Z"
      },
      "execution_count": null,
      "outputs": []
    },
    {
      "cell_type": "code",
      "source": [
        "class Grade(BaseModel):\n",
        "    grade: str = Field(description = 'Relevance score \"yes\" or \"no\"')"
      ],
      "metadata": {
        "id": "HiITs5-sLkt_"
      },
      "execution_count": null,
      "outputs": []
    },
    {
      "cell_type": "code",
      "source": [
        "def grader_node(state: State):\n",
        "  surgeon_query: str = state['surgeon_query']\n",
        "  retrieved_information: str = state['retrieved_information']\n",
        "  structure_llm = llm.with_structured_output(Grade)\n",
        "  instructions = \"\"\"\n",
        "        You are a Grader AI tasked with evaluating surgical responses.\n",
        "        Evaluate the given response on:\n",
        "        1. Relevance (Does it address the query directly?).\n",
        "        2. Clarity (Is it concise and easy to understand?).\n",
        "        3. Depth (Does it provide sufficient detail or context?).\n",
        "\n",
        "        **Response to Evaluate:** {response}\n",
        "\n",
        "        Provide a score for each criterion out of 10, and include a brief comment on improvements.\n",
        "  \"\"\"\n",
        "  prompt: str = instructions.format(\n",
        "    surgeon_query=surgeon_query,\n",
        "    retrieved_information=retrieved_information,\n",
        "  )\n",
        "  relevance = structure_llm.invoke(prompt)\n",
        "  state['relevance'] = relevance.grade\n",
        "  return state"
      ],
      "metadata": {
        "id": "qo_Lrck_wyX-"
      },
      "execution_count": null,
      "outputs": []
    },
    {
      "cell_type": "code",
      "source": [],
      "metadata": {
        "id": "84vlsvOojpFt"
      },
      "execution_count": null,
      "outputs": []
    },
    {
      "cell_type": "code",
      "source": [],
      "metadata": {
        "id": "31fPDkpfjpC4"
      },
      "execution_count": null,
      "outputs": []
    },
    {
      "cell_type": "code",
      "source": [],
      "metadata": {
        "id": "5a1Le1mAjpAk"
      },
      "execution_count": null,
      "outputs": []
    },
    {
      "cell_type": "code",
      "source": [
        "from langchain_core.tools import tool\n",
        "from typing_extensions import TypedDict\n",
        "\n",
        "\n",
        "@tool\n",
        "def query_database(search_query: str):\n",
        "  \"\"\"Query the pinecone database for the surgeon query\"\"\"\n",
        "  print(\"Query Database\")\n",
        "  pinecone_api_key = userdata.get('PINECONE_API_KEY')\n",
        "  pc = Pinecone(api_key=pinecone_api_key)\n",
        "  index_name = \"surgical-assistant\"\n",
        "  index = pc.Index(index_name)\n",
        "  embeddings = HuggingFaceEmbeddings(model_name=\"sentence-transformers/all-mpnet-base-v2\")\n",
        "  vector_store = PineconeVectorStore(index=index, embedding=embeddings)\n",
        "  retriever = vector_store.as_retriever()\n",
        "  retrieved_information = retriever.invoke(search_query)\n",
        "  return retrieved_information\n",
        "\n",
        "tools = [query_database]\n",
        "tool_node = ToolNode(tools)"
      ],
      "metadata": {
        "id": "B9GhNgXPjo91"
      },
      "execution_count": 273,
      "outputs": []
    },
    {
      "cell_type": "code",
      "source": [
        "message_with_single_tool_call = AIMessage(\n",
        "    content=\"\",\n",
        "    tool_calls=[{'name': 'query_database',\n",
        "                'args': {'search_query': 'What are the anatomical considerations for a laparoscopic cholecystectomy in a patient with a history of previous right upper quadrant surgery?'},\n",
        "                'id': 'call_zc9x',\n",
        "                'type': 'tool_call'}],\n",
        "              )\n",
        "\n",
        "response = tool_node.invoke({\"messages\": [message_with_single_tool_call]})\n",
        "response"
      ],
      "metadata": {
        "colab": {
          "base_uri": "https://localhost:8080/"
        },
        "id": "DEJajK96kfdE",
        "outputId": "3b5c746f-be75-4326-d286-f72e74fa08df"
      },
      "execution_count": 274,
      "outputs": [
        {
          "output_type": "stream",
          "name": "stdout",
          "text": [
            "Query Database\n"
          ]
        },
        {
          "output_type": "execute_result",
          "data": {
            "text/plain": [
              "{'messages': [ToolMessage(content=\"[Document(id='40b05747-46d0-4648-a7e8-cd11f8f466e1', metadata={'chunk_index': 15055.0, 'source': 'Sabiston Textbook Of Surgery (Courtney Townsend, R. Daniel Beauchamp etc.) (Z-Library).pdf'}, page_content=' acute cholecystitis, albeit with a higher conversion rate and operative time than in the elect ive setting. Morbid obesity, o nce thought to be a relative \\\\ncontraindication to the laparoscopic approa ch, is not associated with  a higher conversion rate. L onger trocars and instruments and an increase in intra-\\\\nabdominal pressure may be helpful in thes e patients. Prior upper abdominal surgery may increase the difficulty  of or preclude l aparoscopic \\\\ncholecystectomy. However, placement of a Hasson cannula '), Document(id='8963860b-4cd3-44b2-952c-d1af583b1a9b', metadata={'chunk_index': 9125.0, 'source': 'Norman Williams, P Ronan O’Connell, Andrew McCaskie (eds.) - Bailey & Love’s Short Practice of Surgery-CRC Press (2018).pdf'}, page_content='copy or by open techniques. Laparoscopic cholecystectomy is the procedure of choice for the majority of patients with gallbladder disease. The key, as in open surgery, is the identification and safe dis-section of Calot’s triangle (Figure 67.31).\\\\nThe patient is placed supine on the operating table. Fol-\\\\nlowing induction and maintenance of general anaesthesia, the abdomen is prepared in a standard fashion. Pneumoperi -\\\\ntoneum is established. A number of techniques are described. The author’s preference is to'), Document(id='d92c3466-b14d-4b87-94cc-c90dd4b967e4', metadata={'chunk_index': 15024.0, 'source': 'Sabiston Textbook Of Surgery (Courtney Townsend, R. Daniel Beauchamp etc.) (Z-Library).pdf'}, page_content='proximately 0.1% with cardiovascular complications be ing the most frequent cause of death. The most signif icant complication \\\\nfollowing laparoscopic cholec ystectomy is injury to the biliary tract. Overall,  complications occur in fewer than 10% of patien ts. Conversion to an open \\\\ncholecystectomy is necessary in less than  5% of patients undergoing laparoscopic c holecystectomy for chroni c cholecystitis. Con version rates are \\\\nincreased in elderly, obese, and male patients. \\\\nThe long-term results of lap'), Document(id='f6c3b85f-94cb-4e1b-a4b0-f90de0b213f3', metadata={'chunk_index': 15053.0, 'source': 'Sabiston Textbook Of Surgery (Courtney Townsend, R. Daniel Beauchamp etc.) (Z-Library).pdf'}, page_content='mandate  an open cholecystectomy. Uncontrolled c oagulopathy is one of \\\\nthe few current contraindications to lapa roscopic cholecystectomy. In addition, patients  with severe chronic obstructive pulmon ary disease or congestive \\\\nheart failure may not tolerate the pneumoperitoneum required fo r performing laparoscopic surgery. Currently, the major contrain dication to completing \\\\na laparoscopic cholecystectomy is an inabil ity to clearly identify all of the anatom ic structures. A liberal policy of converti ')]\", name='query_database', tool_call_id='call_zc9x')]}"
            ]
          },
          "metadata": {},
          "execution_count": 274
        }
      ]
    },
    {
      "cell_type": "code",
      "source": [
        "response['messages'][0].content"
      ],
      "metadata": {
        "colab": {
          "base_uri": "https://localhost:8080/",
          "height": 218
        },
        "id": "sXIOBmnW1PRe",
        "outputId": "c8a7938b-c21d-4079-c930-7db4f858116a"
      },
      "execution_count": 277,
      "outputs": [
        {
          "output_type": "execute_result",
          "data": {
            "text/plain": [
              "\"[Document(id='40b05747-46d0-4648-a7e8-cd11f8f466e1', metadata={'chunk_index': 15055.0, 'source': 'Sabiston Textbook Of Surgery (Courtney Townsend, R. Daniel Beauchamp etc.) (Z-Library).pdf'}, page_content=' acute cholecystitis, albeit with a higher conversion rate and operative time than in the elect ive setting. Morbid obesity, o nce thought to be a relative \\\\ncontraindication to the laparoscopic approa ch, is not associated with  a higher conversion rate. L onger trocars and instruments and an increase in intra-\\\\nabdominal pressure may be helpful in thes e patients. Prior upper abdominal surgery may increase the difficulty  of or preclude l aparoscopic \\\\ncholecystectomy. However, placement of a Hasson cannula '), Document(id='8963860b-4cd3-44b2-952c-d1af583b1a9b', metadata={'chunk_index': 9125.0, 'source': 'Norman Williams, P Ronan O’Connell, Andrew McCaskie (eds.) - Bailey & Love’s Short Practice of Surgery-CRC Press (2018).pdf'}, page_content='copy or by open techniques. Laparoscopic cholecystectomy is the procedure of choice for the majority of patients with gallbladder disease. The key, as in open surgery, is the identification and safe dis-section of Calot’s triangle (Figure 67.31).\\\\nThe patient is placed supine on the operating table. Fol-\\\\nlowing induction and maintenance of general anaesthesia, the abdomen is prepared in a standard fashion. Pneumoperi -\\\\ntoneum is established. A number of techniques are described. The author’s preference is to'), Document(id='d92c3466-b14d-4b87-94cc-c90dd4b967e4', metadata={'chunk_index': 15024.0, 'source': 'Sabiston Textbook Of Surgery (Courtney Townsend, R. Daniel Beauchamp etc.) (Z-Library).pdf'}, page_content='proximately 0.1% with cardiovascular complications be ing the most frequent cause of death. The most signif icant complication \\\\nfollowing laparoscopic cholec ystectomy is injury to the biliary tract. Overall,  complications occur in fewer than 10% of patien ts. Conversion to an open \\\\ncholecystectomy is necessary in less than  5% of patients undergoing laparoscopic c holecystectomy for chroni c cholecystitis. Con version rates are \\\\nincreased in elderly, obese, and male patients. \\\\nThe long-term results of lap'), Document(id='f6c3b85f-94cb-4e1b-a4b0-f90de0b213f3', metadata={'chunk_index': 15053.0, 'source': 'Sabiston Textbook Of Surgery (Courtney Townsend, R. Daniel Beauchamp etc.) (Z-Library).pdf'}, page_content='mandate  an open cholecystectomy. Uncontrolled c oagulopathy is one of \\\\nthe few current contraindications to lapa roscopic cholecystectomy. In addition, patients  with severe chronic obstructive pulmon ary disease or congestive \\\\nheart failure may not tolerate the pneumoperitoneum required fo r performing laparoscopic surgery. Currently, the major contrain dication to completing \\\\na laparoscopic cholecystectomy is an inabil ity to clearly identify all of the anatom ic structures. A liberal policy of converti ')]\""
            ],
            "application/vnd.google.colaboratory.intrinsic+json": {
              "type": "string"
            }
          },
          "metadata": {},
          "execution_count": 277
        }
      ]
    },
    {
      "cell_type": "code",
      "source": [
        "model = ChatGroq(\n",
        "    model=\"llama-3.1-70b-versatile\",\n",
        "    verbose=True,\n",
        "    temperature=0.5,\n",
        "    api_key=api_key\n",
        ")\n",
        "\n",
        "model_with_tools = model.bind_tools(tools)\n",
        "#model_with_tools\n",
        "model_with_tools.invoke('What are the anatomical considerations for a laparoscopic cholecystectomy in a patient with a history of previous right upper quadrant surgery?').tool_calls\n",
        "# model_with_tools.invoke('What are the anatomical considerations for a laparoscopic cholecystectomy in a patient with a history of previous right upper quadrant surgery?')"
      ],
      "metadata": {
        "id": "pAJb5_kXEBRH",
        "colab": {
          "base_uri": "https://localhost:8080/"
        },
        "outputId": "8ad6e8a2-499a-47c7-81fd-3729b74e9b9a"
      },
      "execution_count": 278,
      "outputs": [
        {
          "output_type": "execute_result",
          "data": {
            "text/plain": [
              "[{'name': 'query_database',\n",
              "  'args': {'search_query': 'anatomical considerations laparoscopic cholecystectomy previous right upper quadrant surgery'},\n",
              "  'id': 'call_04zq',\n",
              "  'type': 'tool_call'}]"
            ]
          },
          "metadata": {},
          "execution_count": 278
        }
      ]
    },
    {
      "cell_type": "code",
      "source": [
        "from typing import Literal\n",
        "\n",
        "from langgraph.graph import StateGraph, MessagesState, START, END\n",
        "\n",
        "\n",
        "\n",
        "def should_continue(state: MessagesState):\n",
        "    messages = state[\"messages\"]\n",
        "    last_message = messages[-1]\n",
        "    if last_message.tool_calls:\n",
        "        return \"tools\"\n",
        "    return \"dummy\"\n",
        "\n",
        "\n",
        "def call_model(state: MessagesState):\n",
        "    messages = state[\"messages\"]\n",
        "    response = model_with_tools.invoke(messages)\n",
        "    return {\"messages\": [response]}\n",
        "\n",
        "def dummy_node(state: MessagesState):\n",
        "    return {\"messages\": ['Dummy Response']}\n",
        "\n",
        "\n",
        "workflow = StateGraph(MessagesState)\n",
        "\n",
        "# Define the two nodes we will cycle between\n",
        "workflow.add_node(\"agent\", call_model)\n",
        "workflow.add_node(\"dummy\", dummy_node)\n",
        "workflow.add_node(\"tools\", tool_node)\n",
        "\n",
        "workflow.add_edge(START, \"agent\")\n",
        "workflow.add_conditional_edges(\"agent\", should_continue, [\"tools\", 'dummy'])\n",
        "workflow.add_edge(\"dummy\", END)\n",
        "workflow.add_edge(\"tools\", 'agent')\n",
        "\n",
        "app = workflow.compile()\n",
        "display(Image(app.get_graph().draw_mermaid_png()))"
      ],
      "metadata": {
        "colab": {
          "base_uri": "https://localhost:8080/",
          "height": 350
        },
        "id": "LwkhY-CagwJo",
        "outputId": "07099ab0-68ee-4ed5-85d9-f13c8a56286c"
      },
      "execution_count": 283,
      "outputs": [
        {
          "output_type": "display_data",
          "data": {
            "image/png": "[encoded data removed]",
            "text/plain": [
              "<IPython.core.display.Image object>"
            ]
          },
          "metadata": {}
        }
      ]
    },
    {
      "cell_type": "code",
      "source": [
        "for chunk in app.stream(\n",
        "    {\"messages\": [(\"human\", \"What are the anatomical considerations for a laparoscopic cholecystectomy in a patient with a history of previous right upper quadrant surgery?\")]}, stream_mode=\"values\"\n",
        "):\n",
        "    chunk[\"messages\"][-1].pretty_print()"
      ],
      "metadata": {
        "colab": {
          "base_uri": "https://localhost:8080/"
        },
        "id": "-VO4ULS4hKJp",
        "outputId": "26cc60c0-3d72-4b01-d85e-fc8d2d372e03"
      },
      "execution_count": 284,
      "outputs": [
        {
          "output_type": "stream",
          "name": "stdout",
          "text": [
            "================================\u001b[1m Human Message \u001b[0m=================================\n",
            "\n",
            "What are the anatomical considerations for a laparoscopic cholecystectomy in a patient with a history of previous right upper quadrant surgery?\n",
            "==================================\u001b[1m Ai Message \u001b[0m==================================\n",
            "Tool Calls:\n",
            "  query_database (call_8qd5)\n",
            " Call ID: call_8qd5\n",
            "  Args:\n",
            "    search_query: anatomical considerations for laparoscopic cholecystectomy in patient with history of previous right upper quadrant surgery\n",
            "Query Database\n",
            "=================================\u001b[1m Tool Message \u001b[0m=================================\n",
            "Name: query_database\n",
            "\n",
            "[Document(id='8963860b-4cd3-44b2-952c-d1af583b1a9b', metadata={'chunk_index': 9125.0, 'source': 'Norman Williams, P Ronan O’Connell, Andrew McCaskie (eds.) - Bailey & Love’s Short Practice of Surgery-CRC Press (2018).pdf'}, page_content='copy or by open techniques. Laparoscopic cholecystectomy is the procedure of choice for the majority of patients with gallbladder disease. The key, as in open surgery, is the identification and safe dis-section of Calot’s triangle (Figure 67.31).\\nThe patient is placed supine on the operating table. Fol-\\nlowing induction and maintenance of general anaesthesia, the abdomen is prepared in a standard fashion. Pneumoperi -\\ntoneum is established. A number of techniques are described. The author’s preference is to'), Document(id='d92c3466-b14d-4b87-94cc-c90dd4b967e4', metadata={'chunk_index': 15024.0, 'source': 'Sabiston Textbook Of Surgery (Courtney Townsend, R. Daniel Beauchamp etc.) (Z-Library).pdf'}, page_content='proximately 0.1% with cardiovascular complications be ing the most frequent cause of death. The most signif icant complication \\nfollowing laparoscopic cholec ystectomy is injury to the biliary tract. Overall,  complications occur in fewer than 10% of patien ts. Conversion to an open \\ncholecystectomy is necessary in less than  5% of patients undergoing laparoscopic c holecystectomy for chroni c cholecystitis. Con version rates are \\nincreased in elderly, obese, and male patients. \\nThe long-term results of lap'), Document(id='9742425b-0eac-41bf-a009-939274c5c9af', metadata={'chunk_index': 989.0, 'source': 'Norman Williams, P Ronan O’Connell, Andrew McCaskie (eds.) - Bailey & Love’s Short Practice of Surgery-CRC Press (2018).pdf'}, page_content='ed that lapa -\\nroscopic cholecystectomy has revolutionised the surgical management of cholelithiasis and has become the main-stay of management of uncomplicated gallstone disease. With improved instrumentation, advanced procedures, such as laparoscopic colectomies for malignancy, previously regarded as controversial, have also become fully accepted. There continues to be substantive evidence demonstrat -\\ning the short-term benefits of laparoscopic surgery over open surgery with regard to postoperative pain,'), Document(id='589ecb7a-cdcd-4504-a27d-8edcfe6a4886', metadata={'chunk_index': 9127.0, 'source': 'Norman Williams, P Ronan O’Connell, Andrew McCaskie (eds.) - Bailey & Love’s Short Practice of Surgery-CRC Press (2018).pdf'}, page_content='31  Operative image \\nof a laparoscopic cholecystectomy. \\nLaparoscopic for\\nceps (arrow) are used to dissect Calot’s triangle.\\n11_67-B&L27_Pt11_Ch67.indd   1202 25/10/2017   09:52Cholecystect\\nomy 1203\\nPART 11 | ABDOMINAL\\ndoes all the work’ – Moynihan). Alternatively, a stabilised \\nring retractor is used to keep the packs in position.\\nAn artery or Duval forceps is placed on the infundibulum \\nof the gallbladder and the peritoneum overlying Calot’\\ns tri-\\nangle is placed on a stretch. The peritoneum is then divid')]\n",
            "==================================\u001b[1m Ai Message \u001b[0m==================================\n",
            "\n",
            "The anatomical considerations for a laparoscopic cholecystectomy in a patient with a history of previous right upper quadrant surgery include the identification and safe dissection of Calot's triangle, which is the key to the procedure. The patient is placed supine on the operating table, and pneumoperitoneum is established. The author's preference is to use a number of techniques, including the placement of an artery or Duval forceps on the infundibulum of the gallbladder and the peritoneum overlying Calot's triangle on a stretch. The peritoneum is then divided, and the dissection of Calot's triangle is performed. The use of laparoscopic forceps (arrow) is also used to dissect Calot's triangle.\n",
            "================================\u001b[1m Human Message \u001b[0m=================================\n",
            "\n",
            "Dummy Response\n"
          ]
        }
      ]
    },
    {
      "cell_type": "code",
      "source": [],
      "metadata": {
        "id": "oF1-dPEN8gn8"
      },
      "execution_count": null,
      "outputs": []
    },
    {
      "cell_type": "code",
      "source": [],
      "metadata": {
        "id": "BSuf9W1c8gkX"
      },
      "execution_count": null,
      "outputs": []
    },
    {
      "cell_type": "code",
      "source": [],
      "metadata": {
        "id": "jbeZ_rgo8ghq"
      },
      "execution_count": null,
      "outputs": []
    },
    {
      "cell_type": "code",
      "source": [],
      "metadata": {
        "id": "NfpU4dMyKkAx"
      },
      "execution_count": null,
      "outputs": []
    }
  ]
}