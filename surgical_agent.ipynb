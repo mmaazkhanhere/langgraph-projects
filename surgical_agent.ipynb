{
  "nbformat": 4,
  "nbformat_minor": 0,
  "metadata": {
    "colab": {
      "provenance": []
    },
    "kernelspec": {
      "name": "python3",
      "display_name": "Python 3"
    },
    "language_info": {
      "name": "python"
    }
  },
  "cells": [
    {
      "cell_type": "code",
      "execution_count": 1,
      "metadata": {
        "colab": {
          "base_uri": "https://localhost:8080/"
        },
        "id": "q7CSiCKQ0ZTU",
        "outputId": "d1446776-c943-4265-df50-438f66f92cba"
      },
      "outputs": [
        {
          "output_type": "stream",
          "name": "stdout",
          "text": [
            "\u001b[2K   \u001b[90m━━━━━━━━━━━━━━━━━━━━━━━━━━━━━━━━━━━━━━━━\u001b[0m \u001b[32m125.1/125.1 kB\u001b[0m \u001b[31m3.0 MB/s\u001b[0m eta \u001b[36m0:00:00\u001b[0m\n",
            "\u001b[2K   \u001b[90m━━━━━━━━━━━━━━━━━━━━━━━━━━━━━━━━━━━━━━━━\u001b[0m \u001b[32m41.3/41.3 kB\u001b[0m \u001b[31m2.3 MB/s\u001b[0m eta \u001b[36m0:00:00\u001b[0m\n",
            "\u001b[2K   \u001b[90m━━━━━━━━━━━━━━━━━━━━━━━━━━━━━━━━━━━━━━━━\u001b[0m \u001b[32m2.4/2.4 MB\u001b[0m \u001b[31m27.9 MB/s\u001b[0m eta \u001b[36m0:00:00\u001b[0m\n",
            "\u001b[2K   \u001b[90m━━━━━━━━━━━━━━━━━━━━━━━━━━━━━━━━━━━━━━━━\u001b[0m \u001b[32m1.0/1.0 MB\u001b[0m \u001b[31m40.5 MB/s\u001b[0m eta \u001b[36m0:00:00\u001b[0m\n",
            "\u001b[2K   \u001b[90m━━━━━━━━━━━━━━━━━━━━━━━━━━━━━━━━━━━━━━━━\u001b[0m \u001b[32m409.5/409.5 kB\u001b[0m \u001b[31m16.9 MB/s\u001b[0m eta \u001b[36m0:00:00\u001b[0m\n",
            "\u001b[2K   \u001b[90m━━━━━━━━━━━━━━━━━━━━━━━━━━━━━━━━━━━━━━━━\u001b[0m \u001b[32m3.1/3.1 MB\u001b[0m \u001b[31m51.7 MB/s\u001b[0m eta \u001b[36m0:00:00\u001b[0m\n",
            "\u001b[2K   \u001b[90m━━━━━━━━━━━━━━━━━━━━━━━━━━━━━━━━━━━━━━━━\u001b[0m \u001b[32m49.5/49.5 kB\u001b[0m \u001b[31m2.8 MB/s\u001b[0m eta \u001b[36m0:00:00\u001b[0m\n",
            "\u001b[2K   \u001b[90m━━━━━━━━━━━━━━━━━━━━━━━━━━━━━━━━━━━━━━━━\u001b[0m \u001b[32m108.9/108.9 kB\u001b[0m \u001b[31m3.1 MB/s\u001b[0m eta \u001b[36m0:00:00\u001b[0m\n",
            "\u001b[2K   \u001b[90m━━━━━━━━━━━━━━━━━━━━━━━━━━━━━━━━━━━━━━━━\u001b[0m \u001b[32m3.0/3.0 MB\u001b[0m \u001b[31m32.0 MB/s\u001b[0m eta \u001b[36m0:00:00\u001b[0m\n",
            "\u001b[?25h"
          ]
        }
      ],
      "source": [
        "!pip install  --quiet langgraph\n",
        "!pip install  --quiet langchain-google-genai\n",
        "!pip install --quiet langchain\n",
        "!pip install --quiet langchain_community\n",
        "!pip install --quiet langchain-groq\n",
        "!pip install --quiet google-generativeai\n",
        "!pip install --quiet duckduckgo-search"
      ]
    },
    {
      "cell_type": "code",
      "source": [
        "from IPython.display import Image, display, Markdown\n",
        "import textwrap\n",
        "import time\n",
        "from google.colab import userdata\n",
        "\n",
        "from typing import Any, Annotated, List, TypedDict\n",
        "from pydantic import BaseModel, Field\n",
        "\n",
        "from langchain_core.messages import get_buffer_string, AIMessage, HumanMessage, SystemMessage, BaseMessage\n",
        "from langchain_community.utilities import DuckDuckGoSearchAPIWrapper\n",
        "from langchain_community.tools import DuckDuckGoSearchRun\n",
        "from langchain_community.tools import DuckDuckGoSearchResults\n",
        "from langchain_google_genai import ChatGoogleGenerativeAI\n",
        "from langchain_groq import ChatGroq\n",
        "\n",
        "from langgraph.graph.state import StateGraph, END, START\n",
        "from langgraph.graph.message import add_messages\n"
      ],
      "metadata": {
        "id": "ODnD5jdz0mAg"
      },
      "execution_count": 2,
      "outputs": []
    },
    {
      "cell_type": "code",
      "source": [
        "google_api_key = userdata.get('GOOGLE_API_KEY')\n",
        "\n",
        "gemini_model = ChatGoogleGenerativeAI(model=\"gemini-1.5-flash\",\n",
        "                              api_key=google_api_key\n",
        "                              )\n",
        "\n",
        "# model.invoke(\"Test\")"
      ],
      "metadata": {
        "id": "5rQlphBO04Ob"
      },
      "execution_count": 3,
      "outputs": []
    },
    {
      "cell_type": "code",
      "source": [
        "\n",
        "api_key = userdata.get(\"GROQ_API_KEY\")\n",
        "\n",
        "model = ChatGroq(\n",
        "    model=\"llama-3.1-70b-versatile\",\n",
        "    verbose=True,\n",
        "    temperature=0.5,\n",
        "    api_key=api_key\n",
        ")\n",
        "\n",
        "model.invoke('TEST').content"
      ],
      "metadata": {
        "colab": {
          "base_uri": "https://localhost:8080/",
          "height": 36
        },
        "id": "YGgWTmcB0_xa",
        "outputId": "511a4957-887b-45e9-9fa8-48e88974a27e"
      },
      "execution_count": 4,
      "outputs": [
        {
          "output_type": "execute_result",
          "data": {
            "text/plain": [
              "\"It looks like you're testing if I'm working properly. Is there anything else I can help you with or would you like to have a conversation?\""
            ],
            "application/vnd.google.colaboratory.intrinsic+json": {
              "type": "string"
            }
          },
          "metadata": {},
          "execution_count": 4
        }
      ]
    },
    {
      "cell_type": "code",
      "source": [
        "#class PlanningResponse(BaseModel):\n",
        "\n",
        "\n",
        "class State(TypedDict):\n",
        "  surgeon_query: str\n",
        "  patient_history: str\n",
        "  anatomy_response: str\n",
        "  infection_prevention_response: str\n",
        "  complication_response: str\n",
        "  expert_surgeon_response: str\n",
        "  insight_accumulator_response: str\n",
        "  conversation: Annotated[list, add_messages]\n"
      ],
      "metadata": {
        "id": "1mUaxGvy1ACN"
      },
      "execution_count": 35,
      "outputs": []
    },
    {
      "cell_type": "code",
      "source": [],
      "metadata": {
        "id": "rGEoTA3C4jCs"
      },
      "execution_count": 35,
      "outputs": []
    },
    {
      "cell_type": "code",
      "source": [
        "def anatomy_node(state: State):\n",
        "  surgeon_query: str = state['surgeon_query']\n",
        "  patient_history: str = state['patient_history']\n",
        "  instructions: str = \"\"\"\n",
        "                    You are an Accredited Human Anatomy Expert.  Your task is to\n",
        "                    provide detailed anatomical insights related to a surgeon's\n",
        "                    query, taking into account the patient's medical history.\n",
        "\n",
        "                    **Surgeon's Query:** {surgeon_query}\n",
        "\n",
        "                    **Patient History:** {patient_history}\n",
        "\n",
        "                    **Instructions:**\n",
        "\n",
        "                    1. **Precision:** Provide precise anatomical details.\n",
        "                    Avoid vague or generalized responses.  Reference specific\n",
        "                    anatomical structures, planes, relationships, and potential\n",
        "                    variations.\n",
        "                    2. **Relevance:**  Directly address all aspects of the surgeon's\n",
        "                    query.  Ensure your response is highly relevant to the specific\n",
        "                    surgical procedure or anatomical area in question.\n",
        "                    3. **Depth:** Offer comprehensive insights,\n",
        "                    considering the potential surgical challenges and variations\n",
        "                    in anatomy.\n",
        "                    4. **Clarity:**  Write in clear, concise, and easily understandable\n",
        "                    language, suitable for a surgeon.  Avoid jargon unless absolutely\n",
        "                    necessary and define it when used.\n",
        "                    5. **Integration:**  Carefully consider the patient's history\n",
        "                    and how it might influence the anatomy.  Highlight any relevant\n",
        "                    anatomical variations or potential complications based on the\n",
        "                    provided history.\n",
        "\n",
        "                    **Example Response Format (Adapt as necessary):**\n",
        "\n",
        "                    * **Anatomical Structures Involved:** [List and describe the relevant structures, including their spatial relationships and variations.]\n",
        "                    * **Potential Complications:** [Based on the patient history and anatomy, list potential complications and suggest preventive measures.]\n",
        "                    * **Surgical Considerations:** [Outline key anatomical considerations for the surgical procedure.]\n",
        "                    * **Key Anatomical Landmarks:** [Highlight key landmarks to guide the surgical procedure.]\n",
        "                    * **Relevant Variations:** [Discuss any relevant anatomical variations based on the patient's history.]\n",
        "\n",
        "                    **Provide your detailed anatomical insight in response to the surgeon's query, considering the patient history.**\n",
        "                    \"\"\"\n",
        "  prompt: str = instructions.format(\n",
        "      surgeon_query=surgeon_query,\n",
        "      patient_history=patient_history\n",
        "  )\n",
        "  state['conversation'].append(surgeon_query)\n",
        "  response: BaseMessage = model.invoke(prompt)\n",
        "  state['anatomy_response'] = response.content\n",
        "  return state\n",
        "\n"
      ],
      "metadata": {
        "id": "BB4AOa4p1xUH"
      },
      "execution_count": 36,
      "outputs": []
    },
    {
      "cell_type": "code",
      "source": [
        "def complication_management_node(state: State):\n",
        "  surgeon_query: str = state['surgeon_query']\n",
        "  patient_history: str = state['patient_history']\n",
        "  instructions: str = \"\"\"\n",
        "    You are an expert Complication Manager AI assistant specializing in intraoperative\n",
        "    complications during surgical procedures.  Your primary function is to recognize\n",
        "    and mitigate potential or existing complications in real-time, suggesting interventions\n",
        "    and strategies.\n",
        "\n",
        "    **Input:**\n",
        "    1. **Patient History:**  A detailed summary of the patient's medical history {patient_history},\n",
        "    including relevant past surgeries, allergies, medications, and any pre-existing\n",
        "    conditions.  This information is crucial for assessing risk factors and predicting potential complications.\n",
        "\n",
        "    2. **Current Surgical Procedure:** A precise description of the ongoing surgical\n",
        "    procedure, including the surgical site, current steps, and any observed anomalies.\n",
        "    3. **Real-time Observations:** Any unusual findings or changes during the procedure.\n",
        "\n",
        "    Based on the provided information, generate a detailed response that includes the following:\n",
        "    1. **Complication Identification:** Clearly identify any potential or existing\n",
        "    intraoperative complications (e.g., hemorrhage, tissue damage, organ perforation,\n",
        "    infection risk). Prioritize critical complications and provide a rationale for your\n",
        "    assessment. Example: \"Potential hemorrhage due to cystic artery injury.\"\n",
        "\n",
        "    2. **Risk Assessment:**  Assess the severity of the identified complication(s)\n",
        "    and the potential impact on the patient's outcome. Example: \"Moderate risk of\n",
        "    hypovolemic shock due to ongoing bleeding.\"\n",
        "\n",
        "    3. **Intervention Recommendations:** Suggest specific, actionable interventions\n",
        "    and strategies to manage the complication.  Be explicit about the necessary steps,\n",
        "    including equipment, medications, and surgical techniques. Example: \"1. Immediately\n",
        "    apply pressure to the bleeding site. 2. Prepare for blood transfusion. 3. Consider\n",
        "    surgical clipping of the cystic artery.\"\n",
        "\n",
        "    4. **Alternative Strategies:**  If applicable, propose alternative strategies\n",
        "    and explain their potential advantages and disadvantages.\n",
        "\n",
        "    5. **Monitoring Guidelines:** Detail the parameters that need to be monitored\n",
        "    closely, and the desired target ranges.\n",
        "\n",
        "\n",
        "    **Important Considerations:**\n",
        "\n",
        "    *   Prioritize patient safety.\n",
        "    *   Be concise and direct in your recommendations.\n",
        "    *   Use precise medical terminology.\n",
        "    *   Justify your recommendations with evidence-based reasoning.\n",
        "    *   Avoid generic responses. Tailor your recommendations to the specific situation and patient characteristics.\n",
        "    *   Your recommendations should be aligned with standard surgical practices and protocols.\n",
        "  \"\"\"\n",
        "  prompt: str = instructions.format(\n",
        "      surgeon_query=surgeon_query,\n",
        "      patient_history=patient_history\n",
        "  )\n",
        "\n",
        "  response: BaseMessage = model.invoke(prompt)\n",
        "  return {\"infection_prevention_response\": response.content}\n"
      ],
      "metadata": {
        "id": "P-PhUnCa_Hgq"
      },
      "execution_count": 37,
      "outputs": []
    },
    {
      "cell_type": "code",
      "source": [
        "def infection_prevention_node(state: State):\n",
        "  surgeon_query: str = state['surgeon_query']\n",
        "  patient_history: str = state['patient_history']\n",
        "  instructions: str  = \"\"\"\n",
        "    You are a Certified Infection Preventionist (CIP) providing expert guidance to a surgeon.\n",
        "    A surgical error has occurred, and the surgeon is seeking your immediate advice on\n",
        "    infection prevention steps.  Your responses must be precise, evidence-based, and\n",
        "    prioritize patient safety.\n",
        "\n",
        "    **Context:**\n",
        "\n",
        "    * **Patient History:** {patient_history}  (Provide a detailed patient history,\n",
        "    including relevant medical conditions, allergies, past surgeries, and medications.\n",
        "    Include any known immunodeficiencies or infections.)\n",
        "    * **Surgeon's Query:** {surgeon_query} (The surgeon's specific question or\n",
        "    concern about the surgical error and potential infection risks.)\n",
        "\n",
        "    **Requirements:**\n",
        "\n",
        "    1. **Accurate Infection Prevention Steps:** Outline the most critical infection\n",
        "    prevention and control measures required to mitigate the risk of infection\n",
        "    *specifically* in response to the described surgical error.  Your steps should\n",
        "    be detailed and actionable, suitable for an operating room setting. Prioritize\n",
        "    the steps based on urgency and clinical significance. Be specific about the\n",
        "    timing of each step.\n",
        "\n",
        "\n",
        "    2. **Risk Assessment:** Assess the risk of infection given the surgical error\n",
        "    and the patient's history.  Quantify the risk if possible (e.g., low, moderate,\n",
        "    high). Justify your risk assessment.\n",
        "\n",
        "\n",
        "    3. **Evidence-Based Rationale:** Support all recommendations with credible\n",
        "    medical evidence.  Cite relevant guidelines, research, or best practices from\n",
        "    authoritative sources (e.g., CDC, WHO, professional surgical societies).\n",
        "\n",
        "\n",
        "    4. **Clear and Concise Language:** Use precise and unambiguous language easily\n",
        "    understood by a surgeon. Avoid jargon or overly technical terms. Focus on\n",
        "    practical and immediate actions.\n",
        "\n",
        "\n",
        "    5. **Prioritization:** Clearly prioritize the infection prevention steps in\n",
        "    order of importance and urgency.\n",
        "\n",
        "    **Output Format:**\n",
        "\n",
        "    * **Infection Prevention Steps (Bulleted list):**  Each step should include a\n",
        "    detailed description and an explanation of its purpose.\n",
        "    * **Risk Assessment:** A clear statement of the infection risk (low, moderate, high)\n",
        "    and the rationale for this assessment.\n",
        "    * **Evidence-Based Citations:**  Provide relevant references for all guidelines\n",
        "    and recommendations used.\n",
        "\n",
        "\n",
        "    **Example:**\n",
        "\n",
        "    (Assume a specific surgical error and patient history are provided)\n",
        "\n",
        "\n",
        "    **Do not provide any additional information not explicitly requested.\n",
        "    Only provide the requested response components.**\n",
        "\n",
        "  \"\"\"\n",
        "  prompt: str = instructions.format(\n",
        "      surgeon_query=surgeon_query,\n",
        "      patient_history=patient_history\n",
        "  )\n",
        "\n",
        "  response: BaseMessage = model.invoke(prompt)\n",
        "  return {\"complication_response\": response.content}\n"
      ],
      "metadata": {
        "id": "msEGdfcg8Frx"
      },
      "execution_count": 38,
      "outputs": []
    },
    {
      "cell_type": "code",
      "source": [
        "def insight_accumulator_node(state: State):\n",
        "  surgeon_query: str = state['surgeon_query']\n",
        "  patient_history: str = state['patient_history']\n",
        "  anatomy_response: str = state['anatomy_response']\n",
        "  infection_prevention_response: str = state['infection_prevention_response']\n",
        "  complication_response: str = state['complication_response']\n",
        "  instructions: str = \"\"\"\n",
        "    You are an expert surgical insight accumulator. Your task is to gather insights from the\n",
        "    provided information and accumulate them into actionable insights for the surgeon\n",
        "    to respond to surgeon query {surgeon_query}.\n",
        "\n",
        "    **Context:**\n",
        "\n",
        "    * **Patient History:** {patient_history}\n",
        "    * **Relevant Anatomy:** {anatomy_response}\n",
        "    * **Infection Prevention Measures:** {infection_prevention_response}\n",
        "    * **Potential Complications and their Management:** {complication_response}\n",
        "\n",
        "    **Task:**\n",
        "\n",
        "    Carefully analyze the provided information, considering the patient's specific\n",
        "    history and the potential surgical challenges. Identify key insights that may\n",
        "    influence the surgical approach, including but not limited to:\n",
        "\n",
        "    * **Critical anatomical variations:**  Are there any unusual anatomical structures\n",
        "    or relationships that require special attention?\n",
        "    * **High-risk infection areas:** Are there any specific areas where infection\n",
        "    prevention measures need to be reinforced?\n",
        "    * **Anticipated complications and mitigation strategies:** What are the most\n",
        "    likely complications, and how can they be effectively prevented or managed?\n",
        "    * **Alternative surgical techniques:** Based on the available information, are\n",
        "    there alternative surgical techniques that could be considered?\n",
        "\n",
        "    Synthesize these insights into a concise and actionable summary for the next surgical planning node.\n",
        "    The summary should clearly highlight the key considerations derived from the provided data and\n",
        "    the patient's specific situation.  Ensure the insights are specific and directly relevant to\n",
        "    guiding the surgical plan.\n",
        "\n",
        "    **Output Format:**\n",
        "\n",
        "    Provide a structured summary of insights, using bullet points or a numbered list.\n",
        "    Avoid redundancy and focus on the most critical insights.\n",
        "\n",
        "    **Example:**\n",
        "\n",
        "    * **Insight 1:** Due to patient's history of [specific condition], the surgical\n",
        "    approach should prioritize [specific technique] to minimize risk of [specific complication].\n",
        "    * **Insight 2:** The presence of [specific anatomical variation] necessitates\n",
        "    careful dissection near the [anatomical region] to avoid [potential complication].\n",
        "\n",
        "    **Insights:**\n",
        "  \"\"\"\n",
        "  prompt: str = instructions.format(\n",
        "    surgeon_query=surgeon_query,\n",
        "    patient_history=patient_history,\n",
        "    anatomy_response=anatomy_response,\n",
        "    infection_prevention_response=infection_prevention_response,\n",
        "    complication_response=complication_response,\n",
        "  )\n",
        "\n",
        "  response: BaseMessage = model.invoke(prompt)\n",
        "  return {\"insight_accumulator_response\": response.content}"
      ],
      "metadata": {
        "id": "VarAT-kS8-0Z"
      },
      "execution_count": 51,
      "outputs": []
    },
    {
      "cell_type": "code",
      "source": [
        "def expert_surgeon_node(state: State):\n",
        "  surgeon_query: str = state['surgeon_query']\n",
        "  insight_accumulator_response: str = state['insight_accumulator_response']\n",
        "  conversation = state['conversation']\n",
        "  instructions = \"\"\"\n",
        "    You are a Certified Surgical Consultant providing concise, high-quality\n",
        "    answers to surgeon queries.\n",
        "    Use your extensive knowledge of surgical procedures, anatomy, infection\n",
        "    prevention, and potential\n",
        "    complications to formulate responses.  Prioritize clarity and accuracy;\n",
        "    avoid unnecessary detail.\n",
        "\n",
        "    **Input:**\n",
        "\n",
        "    * **Surgeon's Query:** {surgeon_query}\n",
        "    * **Insight Accumulator:** {insight_accumulator_response}\n",
        "\n",
        "\n",
        "    **Instructions:**\n",
        "\n",
        "    1. Analyze the surgeon's query in the context of the provided patient history\n",
        "    and insights.\n",
        "    2. Synthesize the information into a clear and actionable response, directly\n",
        "    answering the question.\n",
        "    3. Prioritize conciseness.  Assume the surgeon is under time pressure and\n",
        "    needs brief, critical information.\n",
        "    4. Your response must be conversational in nature, suitable for a direct\n",
        "    dialogue with a surgeon.\n",
        "    5. If insufficient information is provided to answer definitively,\n",
        "    acknowledge this and suggest further investigations or data needed.\n",
        "\n",
        "    **Output Format:**\n",
        "\n",
        "    Respond directly to the surgeon's question, as if you were speaking directly to them.\n",
        "    Do not include explanations or justifications for how you reached your response.\n",
        "    The response should be a single short paragraph containing. The response must be\n",
        "    less than 2 sentences and 50 words\n",
        "\n",
        "\n",
        "    **Example:**\n",
        "\n",
        "    Surgeon's Query: What is the risk of infection post-appendectomy in a diabetic patient?\n",
        "\n",
        "    Response:  The risk of infection is moderately elevated in diabetic patients due to\n",
        "    impaired wound healing.   Prophylactic antibiotics are recommended, and close monitoring for\n",
        "    signs of infection in the first 72 hours is crucial.\n",
        "\n",
        "    **Response:**\n",
        "  \"\"\"\n",
        "  prompt: str = instructions.format(\n",
        "    surgeon_query=surgeon_query,\n",
        "    insight_accumulator_response=insight_accumulator_response,\n",
        "  )\n",
        "  response: BaseMessage = model.invoke(prompt)\n",
        "  state['conversation'].append(response.content)\n",
        "  state['expert_surgeon_response'] = response.content\n",
        "  return state\n"
      ],
      "metadata": {
        "id": "TTy_znMOBTwR"
      },
      "execution_count": 73,
      "outputs": []
    },
    {
      "cell_type": "code",
      "source": [
        "builder: StateGraph = StateGraph(State)\n",
        "\n",
        "builder.add_node(\"Anatomy Specialist\", anatomy_node)\n",
        "builder.add_node(\"Infection Prevention Specialist\", infection_prevention_node)\n",
        "builder.add_node(\"Complication Manager\", complication_management_node)\n",
        "builder.add_node(\"Insight Accumulator\", insight_accumulator_node)\n",
        "builder.add_node(\"Expert Surgeon\", expert_surgeon_node)\n",
        "\n",
        "builder.add_edge(START, \"Anatomy Specialist\")\n",
        "builder.add_edge(\"Anatomy Specialist\", \"Infection Prevention Specialist\")\n",
        "builder.add_edge(\"Infection Prevention Specialist\", \"Complication Manager\")\n",
        "builder.add_edge(\"Complication Manager\", \"Insight Accumulator\")\n",
        "builder.add_edge(\"Insight Accumulator\", \"Expert Surgeon\")\n",
        "builder.add_edge(\"Expert Surgeon\", END)\n",
        "\n",
        "agent = builder.compile()\n",
        "\n",
        "display(Image(agent.get_graph().draw_mermaid_png()))\n"
      ],
      "metadata": {
        "colab": {
          "base_uri": "https://localhost:8080/",
          "height": 667
        },
        "id": "kQuhKMs5DcIb",
        "outputId": "f6ec8593-efc8-41c9-de12-c2fdac81e327"
      },
      "execution_count": 74,
      "outputs": [
        {
          "output_type": "display_data",
          "data": {
            "image/png": "[encoded data removed]",
            "text/plain": [
              "<IPython.core.display.Image object>"
            ]
          },
          "metadata": {}
        }
      ]
    },
    {
      "cell_type": "code",
      "source": [
        "state = {\n",
        "    'surgeon_query': 'What are the anatomical considerations for a laparoscopic cholecystectomy in a patient with a history of previous right upper quadrant surgery?',\n",
        "    'patient_history': 'The patient is a 65-year-old male with a history of a right upper quadrant laparotomy for a perforated duodenal ulcer 10 years prior. He also has type 2 diabetes mellitus and hypertension.  His current complaint is right upper quadrant pain and nausea.',\n",
        "    'conversation': [],\n",
        "    'insight_accumulator_response': ''\n",
        "}"
      ],
      "metadata": {
        "id": "EGRRDgQTEs0s"
      },
      "execution_count": 75,
      "outputs": []
    },
    {
      "cell_type": "code",
      "source": [
        "result = agent.invoke(state)\n",
        "result['expert_surgeon_response']"
      ],
      "metadata": {
        "colab": {
          "base_uri": "https://localhost:8080/",
          "height": 54
        },
        "id": "MeEk37znFUs6",
        "outputId": "c924d8f9-4bb7-423e-c3aa-1acda4b19675"
      },
      "execution_count": 76,
      "outputs": [
        {
          "output_type": "execute_result",
          "data": {
            "text/plain": [
              "'When performing a laparoscopic cholecystectomy in a patient with a history of previous right upper quadrant surgery, be aware of potential anatomical variations such as adhesions and scar tissue that may increase the risk of bile duct or vascular injury.'"
            ],
            "application/vnd.google.colaboratory.intrinsic+json": {
              "type": "string"
            }
          },
          "metadata": {},
          "execution_count": 76
        }
      ]
    },
    {
      "cell_type": "code",
      "source": [
        "len(result['expert_surgeon_response'].split('.'))"
      ],
      "metadata": {
        "id": "6OeR8ZagFWev",
        "colab": {
          "base_uri": "https://localhost:8080/"
        },
        "outputId": "cd65931d-e8b4-4f81-e3ee-379e9281eab5"
      },
      "execution_count": 77,
      "outputs": [
        {
          "output_type": "execute_result",
          "data": {
            "text/plain": [
              "2"
            ]
          },
          "metadata": {},
          "execution_count": 77
        }
      ]
    },
    {
      "cell_type": "code",
      "source": [
        "len(result['expert_surgeon_response'].split(' '))"
      ],
      "metadata": {
        "colab": {
          "base_uri": "https://localhost:8080/"
        },
        "id": "f0xtw7NlGY6U",
        "outputId": "b1e8418f-4777-47f7-a0c9-d5445c4b08e5"
      },
      "execution_count": 78,
      "outputs": [
        {
          "output_type": "execute_result",
          "data": {
            "text/plain": [
              "40"
            ]
          },
          "metadata": {},
          "execution_count": 78
        }
      ]
    },
    {
      "cell_type": "code",
      "source": [],
      "metadata": {
        "id": "ohtyVHtAGuNQ"
      },
      "execution_count": null,
      "outputs": []
    }
  ]
}