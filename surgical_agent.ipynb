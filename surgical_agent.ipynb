{
  "nbformat": 4,
  "nbformat_minor": 0,
  "metadata": {
    "colab": {
      "provenance": []
    },
    "kernelspec": {
      "name": "python3",
      "display_name": "Python 3"
    },
    "language_info": {
      "name": "python"
    }
  },
  "cells": [
    {
      "cell_type": "code",
      "execution_count": 23,
      "metadata": {
        "id": "q7CSiCKQ0ZTU"
      },
      "outputs": [],
      "source": [
        "!pip install  --quiet langgraph\n",
        "!pip install  --quiet langchain-google-genai\n",
        "!pip install --quiet langchain\n",
        "!pip install --quiet langchain_community\n",
        "!pip install --quiet langchain-groq\n",
        "!pip install --quiet google-generativeai\n",
        "!pip install --quiet duckduckgo-search\n",
        "!pip install --quiet langchain-pinecone\n",
        "!pip install --quiet langchain-huggingface"
      ]
    },
    {
      "cell_type": "code",
      "source": [
        "from IPython.display import Image, display, Markdown\n",
        "import textwrap\n",
        "import time\n",
        "from google.colab import userdata\n",
        "\n",
        "from typing import Any, Annotated, List, TypedDict\n",
        "from pydantic import BaseModel, Field\n",
        "from pinecone import Pinecone\n",
        "\n",
        "from langchain_core.messages import get_buffer_string, AIMessage, HumanMessage, SystemMessage, BaseMessage\n",
        "from langchain_community.utilities import DuckDuckGoSearchAPIWrapper\n",
        "from langchain_community.tools import DuckDuckGoSearchRun\n",
        "from langchain_community.tools import DuckDuckGoSearchResults\n",
        "from langchain_google_genai import ChatGoogleGenerativeAI\n",
        "from langchain_groq import ChatGroq\n",
        "from langchain_huggingface import HuggingFaceEmbeddings\n",
        "from langchain_pinecone import PineconeVectorStore\n",
        "from langchain.tools.retriever import create_retriever_tool\n",
        "from langchain_core.tools import tool\n",
        "\n",
        "from langgraph.graph.state import StateGraph, END, START\n",
        "from langgraph.graph.message import add_messages\n",
        "from langgraph.prebuilt import ToolNode, tools_condition\n"
      ],
      "metadata": {
        "id": "ODnD5jdz0mAg"
      },
      "execution_count": 24,
      "outputs": []
    },
    {
      "cell_type": "code",
      "source": [
        "google_api_key = userdata.get('GOOGLE_API_KEY')\n",
        "\n",
        "gemini_model = ChatGoogleGenerativeAI(model=\"gemini-1.5-flash\",\n",
        "                                    api_key=google_api_key\n",
        "                                    )\n",
        "\n",
        "# model.invoke(\"Test\")"
      ],
      "metadata": {
        "id": "5rQlphBO04Ob"
      },
      "execution_count": 25,
      "outputs": []
    },
    {
      "cell_type": "code",
      "source": [
        "\n",
        "api_key = userdata.get(\"GROQ_API_KEY\")\n",
        "\n",
        "model = ChatGroq(\n",
        "    model=\"llama-3.1-70b-versatile\",\n",
        "    verbose=True,\n",
        "    temperature=0.5,\n",
        "    api_key=api_key\n",
        ")\n",
        "\n",
        "model.invoke('TEST').content"
      ],
      "metadata": {
        "colab": {
          "base_uri": "https://localhost:8080/",
          "height": 53
        },
        "id": "YGgWTmcB0_xa",
        "outputId": "b1deb68e-4572-4471-8c74-3199041ef898"
      },
      "execution_count": 26,
      "outputs": [
        {
          "output_type": "execute_result",
          "data": {
            "text/plain": [
              "\"It looks like you're testing to see if I'm working properly. I'm here and ready to help with any questions or topics you'd like to discuss. How can I assist you today?\""
            ],
            "application/vnd.google.colaboratory.intrinsic+json": {
              "type": "string"
            }
          },
          "metadata": {},
          "execution_count": 26
        }
      ]
    },
    {
      "cell_type": "code",
      "source": [
        "class State(TypedDict):\n",
        "  surgeon_query: str\n",
        "  patient_history: str\n",
        "  anatomy_response: str\n",
        "  infection_prevention_response: str\n",
        "  complication_response: str\n",
        "  expert_surgeon_response: str\n",
        "  insight_accumulator_response: str\n",
        "  conversation: Annotated[list, add_messages]\n",
        "  messages: Annotated[list, add_messages]\n",
        "  relevance: str\n",
        "  answer: str\n",
        "  max_iteration: int\n",
        "  current_iteration: int\n",
        "\n",
        "class Grade(BaseModel):\n",
        "  grade: str = Field(description='Grade the relevance of the response')"
      ],
      "metadata": {
        "id": "1mUaxGvy1ACN"
      },
      "execution_count": 157,
      "outputs": []
    },
    {
      "cell_type": "code",
      "source": [
        "@tool\n",
        "def query_database(surgeon_query: str):\n",
        "  \"\"\"Query the pinecone database for the surgeon query\"\"\"\n",
        "  print(\"Query database\")\n",
        "  pinecone_api_key = userdata.get('PINECONE_API_KEY')\n",
        "  pc = Pinecone(api_key=pinecone_api_key)\n",
        "  index_name = \"surgical-assistant\"\n",
        "  index = pc.Index(index_name)\n",
        "  embeddings = HuggingFaceEmbeddings(model_name=\"sentence-transformers/all-mpnet-base-v2\")\n",
        "  vector_store = PineconeVectorStore(index=index, embedding=embeddings)\n",
        "  retriever = vector_store.as_retriever()\n",
        "  retrieved_information = retriever.invoke(surgeon_query)\n",
        "  return retrieved_information\n",
        "\n",
        "tools = [query_database]"
      ],
      "metadata": {
        "id": "rGEoTA3C4jCs"
      },
      "execution_count": 158,
      "outputs": []
    },
    {
      "cell_type": "code",
      "source": [
        "model_with_tools = model.bind_tools(tools)"
      ],
      "metadata": {
        "id": "r13N6iiYZd4W"
      },
      "execution_count": 159,
      "outputs": []
    },
    {
      "cell_type": "code",
      "source": [
        "def anatomy_node(state: State):\n",
        "  \"\"\"LangGraph node that gives anatomical insights related to surgeon query\"\"\"\n",
        "\n",
        "  print('Anatomy Node')\n",
        "  surgeon_query: str = state['surgeon_query']\n",
        "  patient_history: str = state['patient_history']\n",
        "  messages = state[\"messages\"]\n",
        "  instructions: str = \"\"\"\n",
        "                    You are an Accredited Human Anatomy Expert.  Your task is to\n",
        "                    provide detailed anatomical insights related to a surgeon's\n",
        "                    query, taking into account the patient's medical history.\n",
        "\n",
        "                    **Surgeon's Query:** {surgeon_query}\n",
        "\n",
        "                    **Patient History:** {patient_history}\n",
        "\n",
        "                    **Messages:** {messages}\n",
        "\n",
        "                    **Instructions:**\n",
        "\n",
        "                    1. **Precision:** Provide precise anatomical details.\n",
        "                    Avoid vague or generalized responses.  Reference specific\n",
        "                    anatomical structures, planes, relationships, and potential\n",
        "                    variations.\n",
        "                    2. **Relevance:**  Directly address all aspects of the surgeon's\n",
        "                    query.  Ensure your response is highly relevant to the specific\n",
        "                    surgical procedure or anatomical area in question.\n",
        "                    3. **Depth:** Offer comprehensive insights,\n",
        "                    considering the potential surgical challenges and variations\n",
        "                    in anatomy.\n",
        "                    4. **Clarity:**  Write in clear, concise, and easily understandable\n",
        "                    language, suitable for a surgeon.  Avoid jargon unless absolutely\n",
        "                    necessary and define it when used.\n",
        "                    5. **Integration:**  Carefully consider the patient's history\n",
        "                    and how it might influence the anatomy.  Highlight any relevant\n",
        "                    anatomical variations or potential complications based on the\n",
        "                    provided history.\n",
        "\n",
        "                    **Example Response Format (Adapt as necessary):**\n",
        "\n",
        "                    * **Anatomical Structures Involved:** [List and describe the relevant structures, including their spatial relationships and variations.]\n",
        "                    * **Potential Complications:** [Based on the patient history and anatomy, list potential complications and suggest preventive measures.]\n",
        "                    * **Surgical Considerations:** [Outline key anatomical considerations for the surgical procedure.]\n",
        "                    * **Key Anatomical Landmarks:** [Highlight key landmarks to guide the surgical procedure.]\n",
        "                    * **Relevant Variations:** [Discuss any relevant anatomical variations based on the patient's history.]\n",
        "\n",
        "                    **Provide your detailed anatomical insight in response to the surgeon's query, considering the patient history.**\n",
        "                    \"\"\"\n",
        "  prompt: str = instructions.format(\n",
        "      surgeon_query=surgeon_query,\n",
        "      patient_history=patient_history,\n",
        "      messages=messages\n",
        "  )\n",
        "\n",
        "  # state['messages'].append(HumanMessage(content=prompt))\n",
        "  # response: BaseMessage = model_with_tools.invoke(state['messages'])\n",
        "  # state['messages'] = [response]\n",
        "  response: BaseMessage = model.invoke(prompt)\n",
        "  state['anatomy_response'] = response.content\n",
        "  return state\n"
      ],
      "metadata": {
        "id": "BB4AOa4p1xUH"
      },
      "execution_count": 160,
      "outputs": []
    },
    {
      "cell_type": "code",
      "source": [
        "def complication_management_node(state: State):\n",
        "  \"\"\"LangGraph node that gives insights on potential complication that can arise\n",
        "  regarding to surgeon query and warn surgeon of them\"\"\"\n",
        "\n",
        "  print(\"Complication Management\")\n",
        "  surgeon_query: str = state['surgeon_query']\n",
        "  patient_history: str = state['patient_history']\n",
        "  instructions: str = \"\"\"\n",
        "    You are an expert Complication Manager AI assistant specializing in intraoperative\n",
        "    complications during surgical procedures.  Your primary function is to recognize\n",
        "    and mitigate potential or existing complications in real-time, suggesting interventions\n",
        "    and strategies.\n",
        "\n",
        "    **Input:**\n",
        "    1. **Patient History:**  A detailed summary of the patient's medical history {patient_history},\n",
        "    including relevant past surgeries, allergies, medications, and any pre-existing\n",
        "    conditions.  This information is crucial for assessing risk factors and predicting potential complications.\n",
        "\n",
        "    2. **Current Surgical Procedure:** A precise description of the ongoing surgical\n",
        "    procedure, including the surgical site, current steps, and any observed anomalies.\n",
        "    3. **Real-time Observations:** Any unusual findings or changes during the procedure.\n",
        "\n",
        "    Based on the provided information, generate a detailed response that includes the following:\n",
        "    1. **Complication Identification:** Clearly identify any potential or existing\n",
        "    intraoperative complications (e.g., hemorrhage, tissue damage, organ perforation,\n",
        "    infection risk). Prioritize critical complications and provide a rationale for your\n",
        "    assessment. Example: \"Potential hemorrhage due to cystic artery injury.\"\n",
        "\n",
        "    2. **Risk Assessment:**  Assess the severity of the identified complication(s)\n",
        "    and the potential impact on the patient's outcome. Example: \"Moderate risk of\n",
        "    hypovolemic shock due to ongoing bleeding.\"\n",
        "\n",
        "    3. **Intervention Recommendations:** Suggest specific, actionable interventions\n",
        "    and strategies to manage the complication.  Be explicit about the necessary steps,\n",
        "    including equipment, medications, and surgical techniques. Example: \"1. Immediately\n",
        "    apply pressure to the bleeding site. 2. Prepare for blood transfusion. 3. Consider\n",
        "    surgical clipping of the cystic artery.\"\n",
        "\n",
        "    4. **Alternative Strategies:**  If applicable, propose alternative strategies\n",
        "    and explain their potential advantages and disadvantages.\n",
        "\n",
        "    5. **Monitoring Guidelines:** Detail the parameters that need to be monitored\n",
        "    closely, and the desired target ranges.\n",
        "\n",
        "\n",
        "    **Important Considerations:**\n",
        "\n",
        "    *   Prioritize patient safety.\n",
        "    *   Be concise and direct in your recommendations.\n",
        "    *   Use precise medical terminology.\n",
        "    *   Justify your recommendations with evidence-based reasoning.\n",
        "    *   Avoid generic responses. Tailor your recommendations to the specific situation and patient characteristics.\n",
        "    *   Your recommendations should be aligned with standard surgical practices and protocols.\n",
        "  \"\"\"\n",
        "  prompt: str = instructions.format(\n",
        "      surgeon_query=surgeon_query,\n",
        "      patient_history=patient_history\n",
        "  )\n",
        "\n",
        "  response: BaseMessage = model.invoke(prompt)\n",
        "  return {\"infection_prevention_response\": response.content}\n"
      ],
      "metadata": {
        "id": "P-PhUnCa_Hgq"
      },
      "execution_count": 161,
      "outputs": []
    },
    {
      "cell_type": "code",
      "source": [
        "def infection_prevention_node(state: State):\n",
        "  \"\"\"LangGraph node that gives instruction to prevent infection\"\"\"\n",
        "\n",
        "  print(\"Infection Prevention\")\n",
        "  surgeon_query: str = state['surgeon_query']\n",
        "  patient_history: str = state['patient_history']\n",
        "  instructions: str  = \"\"\"\n",
        "    You are a Certified Infection Preventionist (CIP) providing expert guidance to a surgeon.\n",
        "    A surgical error has occurred, and the surgeon is seeking your immediate advice on\n",
        "    infection prevention steps.  Your responses must be precise, evidence-based, and\n",
        "    prioritize patient safety.\n",
        "\n",
        "    **Context:**\n",
        "\n",
        "    * **Patient History:** {patient_history}  (Provide a detailed patient history,\n",
        "    including relevant medical conditions, allergies, past surgeries, and medications.\n",
        "    Include any known immunodeficiencies or infections.)\n",
        "    * **Surgeon's Query:** {surgeon_query} (The surgeon's specific question or\n",
        "    concern about the surgical error and potential infection risks.)\n",
        "\n",
        "    **Requirements:**\n",
        "\n",
        "    1. **Accurate Infection Prevention Steps:** Outline the most critical infection\n",
        "    prevention and control measures required to mitigate the risk of infection\n",
        "    *specifically* in response to the described surgical error.  Your steps should\n",
        "    be detailed and actionable, suitable for an operating room setting. Prioritize\n",
        "    the steps based on urgency and clinical significance. Be specific about the\n",
        "    timing of each step.\n",
        "\n",
        "\n",
        "    2. **Risk Assessment:** Assess the risk of infection given the surgical error\n",
        "    and the patient's history.  Quantify the risk if possible (e.g., low, moderate,\n",
        "    high). Justify your risk assessment.\n",
        "\n",
        "\n",
        "    3. **Evidence-Based Rationale:** Support all recommendations with credible\n",
        "    medical evidence.  Cite relevant guidelines, research, or best practices from\n",
        "    authoritative sources (e.g., CDC, WHO, professional surgical societies).\n",
        "\n",
        "\n",
        "    4. **Clear and Concise Language:** Use precise and unambiguous language easily\n",
        "    understood by a surgeon. Avoid jargon or overly technical terms. Focus on\n",
        "    practical and immediate actions.\n",
        "\n",
        "\n",
        "    5. **Prioritization:** Clearly prioritize the infection prevention steps in\n",
        "    order of importance and urgency.\n",
        "\n",
        "    **Output Format:**\n",
        "\n",
        "    * **Infection Prevention Steps (Bulleted list):**  Each step should include a\n",
        "    detailed description and an explanation of its purpose.\n",
        "    * **Risk Assessment:** A clear statement of the infection risk (low, moderate, high)\n",
        "    and the rationale for this assessment.\n",
        "    * **Evidence-Based Citations:**  Provide relevant references for all guidelines\n",
        "    and recommendations used.\n",
        "\n",
        "\n",
        "    **Example:**\n",
        "\n",
        "    (Assume a specific surgical error and patient history are provided)\n",
        "\n",
        "\n",
        "    **Do not provide any additional information not explicitly requested.\n",
        "    Only provide the requested response components.**\n",
        "\n",
        "  \"\"\"\n",
        "  prompt: str = instructions.format(\n",
        "      surgeon_query=surgeon_query,\n",
        "      patient_history=patient_history\n",
        "  )\n",
        "\n",
        "  response: BaseMessage = model.invoke(prompt)\n",
        "  return {\"complication_response\": response.content}\n"
      ],
      "metadata": {
        "id": "msEGdfcg8Frx"
      },
      "execution_count": 162,
      "outputs": []
    },
    {
      "cell_type": "code",
      "source": [
        "def expert_surgeon_node(state: State):\n",
        "  \"\"\" LangGraph node that give surgical insights related to surgeon query\"\"\"\n",
        "\n",
        "  print(\"Expert Surgeon\")\n",
        "  surgeon_query: str = state['surgeon_query']\n",
        "  insight_accumulator_response: str = state['insight_accumulator_response']\n",
        "  patient_history: str = state['patient_history']\n",
        "\n",
        "  instructions = \"\"\"\n",
        "    You are a Certified Surgical Consultant providing concise, high-quality\n",
        "    answers to surgeon queries.\n",
        "    Use your extensive knowledge of surgical procedures, anatomy, infection\n",
        "    prevention, and potential\n",
        "    complications to formulate responses.  Prioritize clarity and accuracy;\n",
        "    avoid unnecessary detail.\n",
        "\n",
        "    **Input:**\n",
        "\n",
        "    * Surgeon's Query: {surgeon_query}\n",
        "\n",
        "\n",
        "    **Instructions:**\n",
        "\n",
        "    1. Analyze the surgeon's query in the context of the provided patient history\n",
        "    {patient_history}\n",
        "    and insights.\n",
        "    2. Synthesize the information into a clear and actionable response, directly\n",
        "    answering the question.\n",
        "    3. Prioritize conciseness.  Assume the surgeon is under time pressure and\n",
        "    needs brief, critical information.\n",
        "    4. Your response must be conversational in nature, suitable for a direct\n",
        "    dialogue with a surgeon.\n",
        "    5. If insufficient information is provided to answer definitively,\n",
        "    acknowledge this and suggest further investigations or data needed.\n",
        "\n",
        "  \"\"\"\n",
        "  prompt: str = instructions.format(\n",
        "    surgeon_query=surgeon_query,\n",
        "    patient_history=patient_history\n",
        "  )\n",
        "\n",
        "  state['messages'].append(HumanMessage(content=prompt))\n",
        "  response: BaseMessage = model_with_tools.invoke(state['messages'])\n",
        "  state['messages'] = [response]\n",
        "  state['expert_surgeon_response'] = response.content\n",
        "  print(state['expert_surgeon_response'])\n",
        "  return state\n"
      ],
      "metadata": {
        "id": "TTy_znMOBTwR"
      },
      "execution_count": 165,
      "outputs": []
    },
    {
      "cell_type": "code",
      "source": [
        "def insight_accumulator_node(state: State):\n",
        "  \"\"\"LangGraph node that accumulates all the insights from specialized agents and\n",
        "  give a final output related to surgeon query\"\"\"\n",
        "\n",
        "  print(\"Insight Accumulator\")\n",
        "  surgeon_query: str = state['surgeon_query']\n",
        "  patient_history: str = state['patient_history']\n",
        "  anatomy_response: str = state['anatomy_response']\n",
        "  infection_prevention_response: str = state['infection_prevention_response']\n",
        "  complication_response: str = state['complication_response']\n",
        "  surgeon_response: str = state['expert_surgeon_response']\n",
        "\n",
        "  instructions: str = \"\"\"\n",
        "    You are an expert surgical insight accumulator. Your task is to gather insights from the\n",
        "    provided information and accumulate them into actionable insights that can be used\n",
        "    to respond to surgeon query {surgeon_query}.\n",
        "\n",
        "    **Context:**\n",
        "\n",
        "    * Patient History: {patient_history}\n",
        "    * Relevant Anatomy: {anatomy_response}\n",
        "    * Infection Prevention Measures: {infection_prevention_response}\n",
        "    * Potential Complications and their Management: {complication_response}\n",
        "    * Expert Surgeon Response: {surgeon_response}\n",
        "\n",
        "    **Task:**\n",
        "\n",
        "    Carefully analyze the provided information, considering the patient's specific\n",
        "    history and the potential surgical challenges. Identify key insights that may\n",
        "    influence the surgical approach, including but not limited to:\n",
        "\n",
        "    * **Critical anatomical variations:**  Are there any unusual anatomical structures\n",
        "    or relationships that require special attention?\n",
        "    * **High-risk infection areas:** Are there any specific areas where infection\n",
        "    prevention measures need to be reinforced?\n",
        "    * **Anticipated complications and mitigation strategies:** What are the most\n",
        "    likely complications, and how can they be effectively prevented or managed?\n",
        "    * **Alternative surgical techniques:** Based on the available information, are\n",
        "    there alternative surgical techniques that could be considered?\n",
        "\n",
        "    Synthesize these insights into a concise and actionable summary for the next surgical planning node.\n",
        "    The summary should clearly highlight the key considerations derived from the provided data and\n",
        "    the patient's specific situation.  Ensure the insights are specific and directly relevant to\n",
        "    guiding the surgical plan.\n",
        "\n",
        "    **Output Format:**\n",
        "\n",
        "    Provide a structured summary of insights, using bullet points or a numbered list.\n",
        "    Avoid redundancy and focus on the most critical insights.\n",
        "\n",
        "    **Example:**\n",
        "\n",
        "    * **Insight 1:** Due to patient's history of [specific condition], the surgical\n",
        "    approach should prioritize [specific technique] to minimize risk of [specific complication].\n",
        "    * **Insight 2:** The presence of [specific anatomical variation] necessitates\n",
        "    careful dissection near the [anatomical region] to avoid [potential complication].\n",
        "\n",
        "    **Insights:**\n",
        "  \"\"\"\n",
        "  prompt: str = instructions.format(\n",
        "    surgeon_query=surgeon_query,\n",
        "    patient_history=patient_history,\n",
        "    anatomy_response=anatomy_response,\n",
        "    infection_prevention_response=infection_prevention_response,\n",
        "    complication_response=complication_response,\n",
        "    surgeon_response=surgeon_response,\n",
        "  )\n",
        "\n",
        "  response: BaseMessage = model.invoke(prompt)\n",
        "  return {\"insight_accumulator_response\": response.content}"
      ],
      "metadata": {
        "id": "VarAT-kS8-0Z"
      },
      "execution_count": 166,
      "outputs": []
    },
    {
      "cell_type": "code",
      "source": [
        "def response_generation_node(state: State):\n",
        "  \"\"\"LangGraph node that generates final response to surgeon query\"\"\"\n",
        "\n",
        "  print(\"Response Generation\")\n",
        "  surgeon_query = state['surgeon_query']\n",
        "  insights = state['insight_accumulator_response']\n",
        "  instructions = \"\"\"\n",
        "          Based on insights generated, {insights}, and surgeon query, give a response\n",
        "          to surgeon query {surgeon_query}\n",
        "\n",
        "          Respond directly to the surgeon's question, as if you were speaking directly to them.\n",
        "          Do not include explanations or justifications for how you reached your response.\n",
        "          The response should be a single short paragraph containing. The response must be\n",
        "          less than 2 sentences and 50 words\n",
        "\n",
        "\n",
        "          **Example:**\n",
        "\n",
        "          Surgeon's Query: What is the risk of infection post-appendectomy in a diabetic patient?\n",
        "\n",
        "          Response:  The risk of infection is moderately elevated in diabetic patients due to\n",
        "          impaired wound healing.   Prophylactic antibiotics are recommended, and close monitoring for\n",
        "          signs of infection in the first 72 hours is crucial.\n",
        "\n",
        "          **Response:**\n",
        "        \"\"\"\n",
        "  prompt: str = instructions.format(\n",
        "    surgeon_query=surgeon_query,\n",
        "    insights=insights\n",
        "  )\n",
        "  response: BaseMessage = model.invoke(prompt)\n",
        "  state['conversation'].append(response.content)\n",
        "  state['answer'] = response.content\n",
        "  return state"
      ],
      "metadata": {
        "id": "tKA3rU69IYhk"
      },
      "execution_count": 180,
      "outputs": []
    },
    {
      "cell_type": "code",
      "source": [
        "def grade_document(state: State):\n",
        "  print(\"---CHECK RELEVANCE---\")\n",
        "  # Prompt\n",
        "  prompt = PromptTemplate(\n",
        "      template=\"\"\"You are a grader assessing relevance of a retrieved document\n",
        "      to a user question. \\n\n",
        "      Here is the retrieved document: \\n\\n {context} \\n\\n\n",
        "      Here is the user question: {question} \\n\n",
        "      If the document contains keyword(s) or semantic meaning related to the\n",
        "      user question, grade it as relevant. \\n\n",
        "      Give a binary score 'yes' or 'no' score to indicate whether the document\n",
        "      is relevant to the question.\"\"\",\n",
        "      input_variables=[\"context\", \"question\"],\n",
        "  )\n",
        "  # Chain\n",
        "  chain = prompt | structure_model\n",
        "  messages = state[\"messages\"]\n",
        "  last_message = messages[-1]\n",
        "  max_iteration = state.get(\"max_iteration\", 1)\n",
        "  current_iteration = state.get('current_iteration', 0)\n",
        "\n",
        "  question = messages[0].content\n",
        "  docs = last_message.content\n",
        "  scored_result = chain.invoke({\"question\": question, \"context\": docs})\n",
        "  score = scored_result.grade\n",
        "  if score == \"no\" and current_iteration < max_iteration:\n",
        "      print(\"---DECISION: DOCS NOT RELEVANT---\")\n",
        "      print(score)\n",
        "      return \"Rewrite\"\n",
        "  else:\n",
        "      print(\"---DECISION: DOCS RELEVANT---\")\n",
        "      print(score)\n",
        "      return 'Insight Accumulator'\n",
        "\n"
      ],
      "metadata": {
        "id": "uG6jDCr6iGmm"
      },
      "execution_count": 181,
      "outputs": []
    },
    {
      "cell_type": "code",
      "source": [
        "def rewrite(state: State):\n",
        "  print(\"---TRANSFORM QUERY---\")\n",
        "  messages = state[\"messages\"]\n",
        "  question = messages[0].content\n",
        "  current_iteration = state.get('current_iteration', 0)\n",
        "  msg = [\n",
        "      HumanMessage(\n",
        "          content=f\"\"\" \\n\n",
        "  Look at the input and try to reason about the underlying semantic intent / meaning. \\n\n",
        "  Here is the initial question:\n",
        "  \\n ------- \\n\n",
        "  {question}\n",
        "  \\n ------- \\n\n",
        "  Formulate an improved question: \"\"\",\n",
        "      )\n",
        "  ]\n",
        "  response = model.invoke(msg)\n",
        "  current_iteration += 1\n",
        "  messages.append(response)\n",
        "  return state"
      ],
      "metadata": {
        "id": "jPUh5oiL8sDa"
      },
      "execution_count": 182,
      "outputs": []
    },
    {
      "cell_type": "code",
      "source": [
        "from langgraph.graph.state import END, START  # Import END explicitly if not already done\n",
        "\n",
        "builder = StateGraph(State)\n",
        "\n",
        "# Define retriever tool node\n",
        "tools = [query_database]\n",
        "tool_node = ToolNode(tools)\n",
        "\n",
        "# Add nodes\n",
        "builder.add_node(\"Anatomy Specialist\", anatomy_node)\n",
        "builder.add_node(\"Infection Prevention Specialist\", infection_prevention_node)\n",
        "builder.add_node(\"Complication Manager\", complication_management_node)\n",
        "builder.add_node(\"Insight Accumulator\", insight_accumulator_node)\n",
        "builder.add_node(\"Expert Surgeon\", expert_surgeon_node)\n",
        "builder.add_node('Answer Generation', response_generation_node)\n",
        "builder.add_node(\"Retriever\", tool_node)\n",
        "builder.add_node(\"Rewrite\", rewrite)\n",
        "\n",
        "# Define edges\n",
        "builder.add_edge(START, \"Anatomy Specialist\")\n",
        "builder.add_edge('Anatomy Specialist', 'Infection Prevention Specialist')\n",
        "builder.add_edge(\"Infection Prevention Specialist\", \"Complication Manager\")\n",
        "builder.add_edge(\"Complication Manager\", \"Expert Surgeon\")\n",
        "builder.add_edge('Expert Surgeon', 'Retriever')\n",
        "builder.add_conditional_edges(\"Retriever\",\n",
        "                              grade_document,\n",
        "                              ['Insight Accumulator', 'Rewrite']\n",
        "                            )\n",
        "builder.add_edge('Rewrite', 'Expert Surgeon')\n",
        "builder.add_edge('Insight Accumulator', 'Answer Generation')\n",
        "builder.add_edge('Answer Generation', END)\n",
        "agent = builder.compile()\n",
        "display(Image(agent.get_graph().draw_mermaid_png()))\n"
      ],
      "metadata": {
        "colab": {
          "base_uri": "https://localhost:8080/",
          "height": 865
        },
        "id": "kQuhKMs5DcIb",
        "outputId": "a968a2cd-e0d9-400b-d29a-8ddc266b044b"
      },
      "execution_count": 183,
      "outputs": [
        {
          "output_type": "display_data",
          "data": {
            "image/png": "[encoded data removed]",
            "text/plain": [
              "<IPython.core.display.Image object>"
            ]
          },
          "metadata": {}
        }
      ]
    },
    {
      "cell_type": "code",
      "source": [
        "state = {\n",
        "    'surgeon_query': 'What are the anatomical considerations for a laparoscopic cholecystectomy in a patient with a history of previous right upper quadrant surgery?',\n",
        "    'patient_history': 'The patient is a 65-year-old male with a history of a right upper quadrant laparotomy for a perforated duodenal ulcer 10 years prior. He also has type 2 diabetes mellitus and hypertension.  His current complaint is right upper quadrant pain and nausea.',\n",
        "    'conversation': [],\n",
        "    'messages' : [],\n",
        "    'insight_accumulator_response': '',\n",
        "    'max_iteration': 2,\n",
        "    'current_iteration': 0\n",
        "}"
      ],
      "metadata": {
        "id": "EGRRDgQTEs0s"
      },
      "execution_count": 184,
      "outputs": []
    },
    {
      "cell_type": "code",
      "source": [
        "result = agent.invoke(state)\n",
        "result['answer']"
      ],
      "metadata": {
        "colab": {
          "base_uri": "https://localhost:8080/",
          "height": 261
        },
        "id": "MeEk37znFUs6",
        "outputId": "598c0a5e-4059-404f-cdcd-61fde2d84e26"
      },
      "execution_count": 186,
      "outputs": [
        {
          "output_type": "stream",
          "name": "stdout",
          "text": [
            "Anatomy Node\n",
            "Infection Prevention\n",
            "Complication Management\n",
            "Expert Surgeon\n",
            "\n",
            "Query database\n",
            "---CHECK RELEVANCE---\n",
            "---DECISION: DOCS RELEVANT---\n",
            "yes\n",
            "Insight Accumulator\n",
            "Response Generation\n"
          ]
        },
        {
          "output_type": "execute_result",
          "data": {
            "text/plain": [
              "\"The patient's history of previous right upper quadrant surgery may lead to adhesions between the duodenum, liver, and gallbladder, requiring careful dissection and identification of Calot's triangle to avoid biliary injury, with key landmarks including the liver edge, common hepatic duct, and duodenum.\""
            ],
            "application/vnd.google.colaboratory.intrinsic+json": {
              "type": "string"
            }
          },
          "metadata": {},
          "execution_count": 186
        }
      ]
    },
    {
      "cell_type": "code",
      "source": [
        "result['conversation']"
      ],
      "metadata": {
        "id": "Y1171GT7rn7R",
        "colab": {
          "base_uri": "https://localhost:8080/"
        },
        "outputId": "23690c6e-29e7-43fb-a025-0d1e070ad8f7"
      },
      "execution_count": 187,
      "outputs": [
        {
          "output_type": "execute_result",
          "data": {
            "text/plain": [
              "[HumanMessage(content=\"The patient's history of previous right upper quadrant surgery may lead to adhesions between the duodenum, liver, and gallbladder, requiring careful dissection and identification of Calot's triangle to avoid biliary injury, with key landmarks including the liver edge, common hepatic duct, and duodenum.\", additional_kwargs={}, response_metadata={}, id='ee431425-fa7c-456a-bcd1-0815d89b5f57'),\n",
              " HumanMessage(content=\"The patient's history of previous right upper quadrant surgery may lead to adhesions between the duodenum, liver, and gallbladder, requiring careful dissection and identification of Calot's triangle to avoid biliary injury, with key landmarks including the liver edge, common hepatic duct, and duodenum.\", additional_kwargs={}, response_metadata={}, id='7cb76757-8149-4106-a813-230fe37440f7')]"
            ]
          },
          "metadata": {},
          "execution_count": 187
        }
      ]
    },
    {
      "cell_type": "code",
      "source": [
        "result"
      ],
      "metadata": {
        "id": "84vlsvOojpFt",
        "colab": {
          "base_uri": "https://localhost:8080/"
        },
        "outputId": "b47fe329-81a6-4a6e-da3d-da411cd92520"
      },
      "execution_count": 188,
      "outputs": [
        {
          "output_type": "execute_result",
          "data": {
            "text/plain": [
              "{'surgeon_query': 'What are the anatomical considerations for a laparoscopic cholecystectomy in a patient with a history of previous right upper quadrant surgery?',\n",
              " 'patient_history': 'The patient is a 65-year-old male with a history of a right upper quadrant laparotomy for a perforated duodenal ulcer 10 years prior. He also has type 2 diabetes mellitus and hypertension.  His current complaint is right upper quadrant pain and nausea.',\n",
              " 'anatomy_response': \"**Anatomical Considerations for Laparoscopic Cholecystectomy in a Patient with a History of Previous Right Upper Quadrant Surgery**\\n\\n**Anatomical Structures Involved:**\\n\\nThe laparoscopic cholecystectomy procedure involves the following anatomical structures in the right upper quadrant:\\n\\n1. **Gallbladder:** Located in the fossa of the gallbladder, which is situated in the right lobe of the liver, close to the porta hepatis. The gallbladder is connected to the cystic duct, which then joins the common hepatic duct to form the common bile duct.\\n2. **Cystic duct and artery:** The cystic duct and artery are located in the cystic triangle (Calot's triangle), which is bounded by the liver edge superiorly, the common hepatic duct medially, and the cystic duct laterally.\\n3. **Common hepatic duct and artery:** These structures are located in the hepatic pedicle, which is situated in the porta hepatis. The common hepatic duct is formed by the junction of the right and left hepatic ducts.\\n4. **Right hepatic duct and artery:** These structures are located in the right lobe of the liver and are closely related to the gallbladder and cystic duct.\\n5. **Duodenum:** The duodenum is located in the right upper quadrant, close to the porta hepatis and the hepatic pedicle. The duodenum is a potential site for adhesions due to the patient's history of a perforated duodenal ulcer.\\n\\n**Potential Complications:**\\n\\nBased on the patient's history of previous right upper quadrant surgery, potential complications include:\\n\\n1. **Adhesions:** Adhesions between the duodenum, liver, and gallbladder may be present due to the previous surgery, which can make dissection and visualization more challenging.\\n2. **Biliary injury:** The risk of biliary injury is higher in patients with a history of previous surgery in the right upper quadrant, as the anatomy may be altered, and the tissues may be scarred.\\n3. **Bleeding:** The risk of bleeding is higher in patients with a history of previous surgery, as the tissues may be scarred, and the vessels may be more fragile.\\n\\n**Surgical Considerations:**\\n\\n1. **Careful dissection:** Careful dissection is essential to avoid adhesions and to identify the anatomical structures accurately.\\n2. **Identification of Calot's triangle:** Identification of Calot's triangle is crucial to locate the cystic duct and artery and to avoid biliary injury.\\n3. **Use of intraoperative cholangiography:** Intraoperative cholangiography may be useful to identify the biliary anatomy and to avoid biliary injury.\\n4. **Careful ligation of the cystic duct and artery:** Careful ligation of the cystic duct and artery is essential to avoid bleeding and biliary injury.\\n\\n**Key Anatomical Landmarks:**\\n\\n1. **The liver edge:** The liver edge is a key landmark to identify the location of the gallbladder and the cystic duct.\\n2. **The common hepatic duct:** The common hepatic duct is a key landmark to identify the location of the cystic duct and the hepatic pedicle.\\n3. **The duodenum:** The duodenum is a key landmark to identify the location of the hepatic pedicle and the porta hepatis.\\n\\n**Relevant Variations:**\\n\\n1. **Anatomical variations of the cystic duct:** The cystic duct may have anatomical variations, such as a long cystic duct or a cystic duct that joins the common hepatic duct at a higher or lower level.\\n2. **Anatomical variations of the common hepatic duct:** The common hepatic duct may have anatomical variations, such as a short common hepatic duct or a common hepatic duct that is located more laterally.\\n3. **Presence of accessory bile ducts:** Accessory bile ducts may be present, which can increase the risk of biliary injury.\\n\\nIn conclusion, the patient's history of previous right upper quadrant surgery requires careful consideration of the anatomical structures involved, potential complications, and surgical considerations. Careful dissection, identification of Calot's triangle, and use of intraoperative cholangiography are essential to avoid complications and ensure a successful laparoscopic cholecystectomy.\",\n",
              " 'infection_prevention_response': \"**Complication Identification:**\\n\\nBased on the provided information, I identify a potential risk of adhesiolysis-related complications due to the patient's history of a right upper quadrant laparotomy for a perforated duodenal ulcer 10 years prior. The current surgical procedure and real-time observations do not specify the exact procedure being performed. However, considering the patient's history and current complaint of right upper quadrant pain and nausea, I suspect that the procedure may involve exploration or intervention in the vicinity of the previous surgical site.\\n\\nPotential complications include:\\n\\n1. Adhesiolysis-related bowel injury or perforation\\n2. Hemorrhage due to injury to the cystic artery or other nearby vessels\\n3. Intra-abdominal adhesions causing bowel obstruction or ischemia\\n\\n**Risk Assessment:**\\n\\nI assess the risk of adhesiolysis-related bowel injury or perforation as moderate to high, given the patient's history of previous surgery in the same region. The risk of hemorrhage due to cystic artery injury is moderate, considering the proximity of the cystic artery to the surgical site. The risk of intra-abdominal adhesions causing bowel obstruction or ischemia is low to moderate, as this complication may not be immediately apparent during the procedure.\\n\\n**Intervention Recommendations:**\\n\\nTo manage the identified complications, I recommend the following:\\n\\n1. **Careful adhesiolysis**: Use sharp dissection and gentle traction to minimize the risk of bowel injury or perforation. Consider using a laparoscopic approach to visualize the adhesions and surrounding structures.\\n2. **Cystic artery identification and preservation**: Identify the cystic artery and surrounding vessels to avoid injury. Use surgical clips or ligatures to secure the cystic artery if necessary.\\n3. **Bowel inspection**: Inspect the bowel for any signs of injury or perforation after adhesiolysis. Consider using a flexible endoscope to visualize the bowel lumen.\\n4. **Hemostasis**: Achieve meticulous hemostasis to minimize the risk of hemorrhage. Use surgical clips, ligatures, or electrocautery to control bleeding.\\n5. **Intraoperative ultrasound**: Consider using intraoperative ultrasound to evaluate the liver and surrounding structures for any signs of injury or bleeding.\\n\\n**Alternative Strategies:**\\n\\nIf the patient's condition permits, consider the following alternative strategies:\\n\\n1. **Laparoscopic approach**: Use a laparoscopic approach to minimize tissue trauma and adhesions.\\n2. **Hand-assisted laparoscopy**: Use hand-assisted laparoscopy to facilitate dissection and adhesiolysis.\\n3. **Robotic-assisted surgery**: Use robotic-assisted surgery to enhance visualization and dexterity during adhesiolysis and bowel inspection.\\n\\n**Monitoring Guidelines:**\\n\\nMonitor the following parameters closely:\\n\\n1. **Vital signs**: Monitor the patient's vital signs, including heart rate, blood pressure, and oxygen saturation.\\n2. **Intraoperative blood loss**: Monitor the patient's blood loss and be prepared to administer blood products if necessary.\\n3. **Bowel function**: Monitor the patient's bowel function, including output and signs of obstruction or ischemia.\\n4. **Liver function**: Monitor the patient's liver function, including liver enzymes and bile output.\\n\\nTarget ranges for these parameters include:\\n\\n1. **Vital signs**: Within normal limits\\n2. **Intraoperative blood loss**: Minimal blood loss (<500 mL)\\n3. **Bowel function**: Normal bowel output and function\\n4. **Liver function**: Normal liver enzymes and bile output\\n\\nBy following these recommendations, the surgical team can minimize the risk of complications and ensure a safe and successful outcome for the patient.\",\n",
              " 'complication_response': '**Patient History:**\\n\\n* Age: 65 years\\n* Sex: Male\\n* History of previous right upper quadrant laparotomy for a perforated duodenal ulcer 10 years prior\\n* Type 2 diabetes mellitus\\n* Hypertension\\n* Current complaint: right upper quadrant pain and nausea\\n* No known allergies or immunodeficiencies\\n* No current infections\\n* Medications: Metformin for type 2 diabetes mellitus, Amlodipine for hypertension\\n\\n**Infection Prevention Steps:**\\n\\n* **Immediate Action (Within 1 minute):** Notify the surgical team and anesthesia staff about the surgical error and initiate a \"time-out\" to reassess the situation and adjust the surgical plan if necessary. (Purpose: Ensure situational awareness and adjust the plan to minimize the risk of further complications.)\\n* **Within 5 minutes:** Administer preoperative antibiotics if not already given, considering the patient\\'s history of previous abdominal surgery and current complaint of right upper quadrant pain. (Purpose: Reduce the risk of surgical site infection.)\\n* **During the procedure:** Use meticulous surgical technique, including gentle tissue handling, precise dissection, and minimal use of electrocautery. (Purpose: Minimize tissue trauma and reduce the risk of infection.)\\n* **After the procedure:** Ensure proper wound closure and dressing, and maintain asepsis during postoperative care. (Purpose: Prevent postoperative wound infection.)\\n* **Postoperative care:** Monitor the patient closely for signs of infection, such as fever, redness, or swelling at the surgical site. (Purpose: Early detection and management of potential infections.)\\n\\n**Risk Assessment:**\\n\\nModerate to high risk of infection due to the patient\\'s history of previous abdominal surgery, current complaint of right upper quadrant pain, and the potential for contamination during the surgical procedure.\\n\\n**Evidence-Based Rationale:**\\n\\n* The Centers for Disease Control and Prevention (CDC) recommend administering preoperative antibiotics to reduce the risk of surgical site infection. (1)\\n* The World Health Organization (WHO) emphasize the importance of proper wound closure and dressing to prevent postoperative wound infection. (2)\\n* The Society of American Gastrointestinal and Endoscopic Surgeons (SAGES) recommend using meticulous surgical technique, including gentle tissue handling and precise dissection, to minimize tissue trauma and reduce the risk of infection. (3)\\n\\n**References:**\\n\\n1. Centers for Disease Control and Prevention. (2017). Guideline for the Prevention of Surgical Site Infection, 2017. Journal of the American Medical Association Surgery, 152(8), 784-791.\\n2. World Health Organization. (2018). Global guidelines for the prevention of surgical site infection. World Health Organization.\\n3. Society of American Gastrointestinal and Endoscopic Surgeons. (2018). Guidelines for laparoscopic cholecystectomy. Journal of Laparoendoscopic & Advanced Surgical Techniques, 28(3), 261-266.',\n",
              " 'expert_surgeon_response': '',\n",
              " 'insight_accumulator_response': \"**Insights for Laparoscopic Cholecystectomy in a Patient with a History of Previous Right Upper Quadrant Surgery:**\\n\\n1. **Critical Anatomical Variations:** The patient's history of a right upper quadrant laparotomy for a perforated duodenal ulcer 10 years prior may lead to adhesions between the duodenum, liver, and gallbladder. Careful dissection and identification of Calot's triangle are essential to avoid biliary injury.\\n\\n2. **High-Risk Infection Areas:** The presence of adhesions and the patient's history of previous abdominal surgery increase the risk of infection. Reinforced infection prevention measures, such as preoperative antibiotics and meticulous surgical technique, are necessary to minimize this risk.\\n\\n3. **Anticipated Complications and Mitigation Strategies:** The most likely complications include adhesiolysis-related bowel injury or perforation, hemorrhage due to cystic artery injury, and biliary injury. To mitigate these risks, the surgical team should:\\n\\t* Use sharp dissection and gentle traction to minimize the risk of bowel injury or perforation.\\n\\t* Identify the cystic artery and surrounding vessels to avoid injury.\\n\\t* Use intraoperative cholangiography to identify the biliary anatomy and avoid biliary injury.\\n\\n4. **Alternative Surgical Techniques:** Considering the patient's history and the potential for adhesions, a laparoscopic approach with careful adhesiolysis and identification of Calot's triangle may be the most suitable option. If necessary, a hand-assisted laparoscopic approach or robotic-assisted surgery can be considered to facilitate dissection and adhesiolysis.\\n\\n5. **Key Anatomical Landmarks:** The liver edge, common hepatic duct, and duodenum are crucial landmarks to identify during the procedure. These landmarks will help the surgical team navigate the anatomical variations and avoid potential complications.\\n\\n6. **Infection Prevention Measures:** Administer preoperative antibiotics, maintain asepsis during the procedure, and ensure proper wound closure and dressing to minimize the risk of surgical site infection.\\n\\n7. **Postoperative Care:** Monitor the patient closely for signs of infection, such as fever, redness, or swelling at the surgical site. Also, monitor bowel function, liver function, and vital signs to ensure a smooth recovery.\\n\\nBy considering these insights, the surgical team can develop a tailored approach to minimize the risk of complications and ensure a successful laparoscopic cholecystectomy in this patient with a history of previous right upper quadrant surgery.\",\n",
              " 'conversation': [HumanMessage(content=\"The patient's history of previous right upper quadrant surgery may lead to adhesions between the duodenum, liver, and gallbladder, requiring careful dissection and identification of Calot's triangle to avoid biliary injury, with key landmarks including the liver edge, common hepatic duct, and duodenum.\", additional_kwargs={}, response_metadata={}, id='ee431425-fa7c-456a-bcd1-0815d89b5f57'),\n",
              "  HumanMessage(content=\"The patient's history of previous right upper quadrant surgery may lead to adhesions between the duodenum, liver, and gallbladder, requiring careful dissection and identification of Calot's triangle to avoid biliary injury, with key landmarks including the liver edge, common hepatic duct, and duodenum.\", additional_kwargs={}, response_metadata={}, id='7cb76757-8149-4106-a813-230fe37440f7')],\n",
              " 'messages': [HumanMessage(content=\"\\n    You are a Certified Surgical Consultant providing concise, high-quality\\n    answers to surgeon queries.\\n    Use your extensive knowledge of surgical procedures, anatomy, infection\\n    prevention, and potential\\n    complications to formulate responses.  Prioritize clarity and accuracy;\\n    avoid unnecessary detail.\\n\\n    **Input:**\\n\\n    * Surgeon's Query: What are the anatomical considerations for a laparoscopic cholecystectomy in a patient with a history of previous right upper quadrant surgery?\\n\\n\\n    **Instructions:**\\n\\n    1. Analyze the surgeon's query in the context of the provided patient history\\n    The patient is a 65-year-old male with a history of a right upper quadrant laparotomy for a perforated duodenal ulcer 10 years prior. He also has type 2 diabetes mellitus and hypertension.  His current complaint is right upper quadrant pain and nausea.\\n    and insights.\\n    2. Synthesize the information into a clear and actionable response, directly\\n    answering the question.\\n    3. Prioritize conciseness.  Assume the surgeon is under time pressure and\\n    needs brief, critical information.\\n    4. Your response must be conversational in nature, suitable for a direct\\n    dialogue with a surgeon.\\n    5. If insufficient information is provided to answer definitively,\\n    acknowledge this and suggest further investigations or data needed.\\n\\n  \", additional_kwargs={}, response_metadata={}, id='5127cf2d-db6a-495f-a863-2793b11e6549'),\n",
              "  AIMessage(content='', additional_kwargs={'tool_calls': [{'id': 'call_phjw', 'function': {'arguments': '{\"surgeon_query\": \"Anatomical considerations for laparoscopic cholecystectomy in patient with history of previous right upper quadrant surgery, specifically a 65-year-old male with a history of a right upper quadrant laparotomy for a perforated duodenal ulcer 10 years prior, type 2 diabetes mellitus, hypertension, and current complaint of right upper quadrant pain and nausea.\"}', 'name': 'query_database'}, 'type': 'function'}]}, response_metadata={'token_usage': {'completion_tokens': 89, 'prompt_tokens': 505, 'total_tokens': 594, 'completion_time': 0.356, 'prompt_time': 0.110038495, 'queue_time': 0.0035475759999999967, 'total_time': 0.466038495}, 'model_name': 'llama-3.1-70b-versatile', 'system_fingerprint': 'fp_9260b4bb2e', 'finish_reason': 'tool_calls', 'logprobs': None}, id='run-87471bb6-6eb3-47b2-a1eb-972bb97c5918-0', tool_calls=[{'name': 'query_database', 'args': {'surgeon_query': 'Anatomical considerations for laparoscopic cholecystectomy in patient with history of previous right upper quadrant surgery, specifically a 65-year-old male with a history of a right upper quadrant laparotomy for a perforated duodenal ulcer 10 years prior, type 2 diabetes mellitus, hypertension, and current complaint of right upper quadrant pain and nausea.'}, 'id': 'call_phjw', 'type': 'tool_call'}], usage_metadata={'input_tokens': 505, 'output_tokens': 89, 'total_tokens': 594}),\n",
              "  ToolMessage(content=\"[Document(id='8963860b-4cd3-44b2-952c-d1af583b1a9b', metadata={'chunk_index': 9125.0, 'source': 'Norman Williams, P Ronan O’Connell, Andrew McCaskie (eds.) - Bailey & Love’s Short Practice of Surgery-CRC Press (2018).pdf'}, page_content='copy or by open techniques. Laparoscopic cholecystectomy is the procedure of choice for the majority of patients with gallbladder disease. The key, as in open surgery, is the identification and safe dis-section of Calot’s triangle (Figure 67.31).\\\\nThe patient is placed supine on the operating table. Fol-\\\\nlowing induction and maintenance of general anaesthesia, the abdomen is prepared in a standard fashion. Pneumoperi -\\\\ntoneum is established. A number of techniques are described. The author’s preference is to'), Document(id='9742425b-0eac-41bf-a009-939274c5c9af', metadata={'chunk_index': 989.0, 'source': 'Norman Williams, P Ronan O’Connell, Andrew McCaskie (eds.) - Bailey & Love’s Short Practice of Surgery-CRC Press (2018).pdf'}, page_content='ed that lapa -\\\\nroscopic cholecystectomy has revolutionised the surgical management of cholelithiasis and has become the main-stay of management of uncomplicated gallstone disease. With improved instrumentation, advanced procedures, such as laparoscopic colectomies for malignancy, previously regarded as controversial, have also become fully accepted. There continues to be substantive evidence demonstrat -\\\\ning the short-term benefits of laparoscopic surgery over open surgery with regard to postoperative pain,'), Document(id='d92c3466-b14d-4b87-94cc-c90dd4b967e4', metadata={'chunk_index': 15024.0, 'source': 'Sabiston Textbook Of Surgery (Courtney Townsend, R. Daniel Beauchamp etc.) (Z-Library).pdf'}, page_content='proximately 0.1% with cardiovascular complications be ing the most frequent cause of death. The most signif icant complication \\\\nfollowing laparoscopic cholec ystectomy is injury to the biliary tract. Overall,  complications occur in fewer than 10% of patien ts. Conversion to an open \\\\ncholecystectomy is necessary in less than  5% of patients undergoing laparoscopic c holecystectomy for chroni c cholecystitis. Con version rates are \\\\nincreased in elderly, obese, and male patients. \\\\nThe long-term results of lap'), Document(id='ffbf851a-7d58-49c3-8e7e-6c91dd13479b', metadata={'chunk_index': 15129.0, 'source': 'Sabiston Textbook Of Surgery (Courtney Townsend, R. Daniel Beauchamp etc.) (Z-Library).pdf'}, page_content='g acute cholecystit is, pancreatitis, cholangitis, and obstructive jaundice.[27] Additional factors associated with \\\\ninjury include chronic inflammation, obesity, fat in the peripor tal area, poor exposure, and bleed ing obscuring the operative f ield. In general, increased \\\\npatient age, male gender, a long period of symptoms prior to c holecystectomy, and number of attack s all are associated with incr eased difficulty of the \\\\nprocedure. \\\\n1623 \\\\n  \\\\nFigure 52-19  A, The classic laparoscopic cholecystectomy b')]\", name='query_database', id='1e132a58-3257-42d8-a908-961aad710f26', tool_call_id='call_phjw')],\n",
              " 'answer': \"The patient's history of previous right upper quadrant surgery may lead to adhesions between the duodenum, liver, and gallbladder, requiring careful dissection and identification of Calot's triangle to avoid biliary injury, with key landmarks including the liver edge, common hepatic duct, and duodenum.\",\n",
              " 'max_iteration': 2,\n",
              " 'current_iteration': 0}"
            ]
          },
          "metadata": {},
          "execution_count": 188
        }
      ]
    },
    {
      "cell_type": "code",
      "source": [
        "result['answer']"
      ],
      "metadata": {
        "id": "31fPDkpfjpC4",
        "colab": {
          "base_uri": "https://localhost:8080/",
          "height": 70
        },
        "outputId": "9d12505e-0fd6-4b6a-fce1-adeac524afa9"
      },
      "execution_count": 189,
      "outputs": [
        {
          "output_type": "execute_result",
          "data": {
            "text/plain": [
              "\"The patient's history of previous right upper quadrant surgery may lead to adhesions between the duodenum, liver, and gallbladder, requiring careful dissection and identification of Calot's triangle to avoid biliary injury, with key landmarks including the liver edge, common hepatic duct, and duodenum.\""
            ],
            "application/vnd.google.colaboratory.intrinsic+json": {
              "type": "string"
            }
          },
          "metadata": {},
          "execution_count": 189
        }
      ]
    },
    {
      "cell_type": "code",
      "source": [],
      "metadata": {
        "id": "5a1Le1mAjpAk"
      },
      "execution_count": null,
      "outputs": []
    },
    {
      "cell_type": "code",
      "source": [
        "from langchain_core.tools import tool\n",
        "from typing_extensions import TypedDict\n",
        "\n",
        "\n",
        "@tool\n",
        "def query_database(search_query: str):\n",
        "  \"\"\"Query the pinecone database for the surgeon query\"\"\"\n",
        "  print(\"Query Database\")\n",
        "  pinecone_api_key = userdata.get('PINECONE_API_KEY')\n",
        "  pc = Pinecone(api_key=pinecone_api_key)\n",
        "  index_name = \"surgical-assistant\"\n",
        "  index = pc.Index(index_name)\n",
        "  embeddings = HuggingFaceEmbeddings(model_name=\"sentence-transformers/all-mpnet-base-v2\")\n",
        "  vector_store = PineconeVectorStore(index=index, embedding=embeddings)\n",
        "  retriever = vector_store.as_retriever()\n",
        "  retrieved_information = retriever.invoke(search_query)\n",
        "  return retrieved_information\n",
        "\n",
        "tools = [query_database]\n",
        "tool_node = ToolNode(tools)"
      ],
      "metadata": {
        "id": "B9GhNgXPjo91"
      },
      "execution_count": 97,
      "outputs": []
    },
    {
      "cell_type": "code",
      "source": [
        "message_with_single_tool_call = AIMessage(\n",
        "    content=\"\",\n",
        "    tool_calls=[{'name': 'query_database',\n",
        "                'args': {'search_query': 'What are the anatomical considerations for a laparoscopic cholecystectomy in a patient with a history of previous right upper quadrant surgery?'},\n",
        "                'id': 'call_zc9x',\n",
        "                'type': 'tool_call'}],\n",
        "              )\n",
        "\n",
        "response = tool_node.invoke({\"messages\": [message_with_single_tool_call]})\n",
        "response"
      ],
      "metadata": {
        "colab": {
          "base_uri": "https://localhost:8080/"
        },
        "id": "DEJajK96kfdE",
        "outputId": "6db02275-6bdd-4d8a-f662-3ecd78b8fcb8"
      },
      "execution_count": 98,
      "outputs": [
        {
          "output_type": "stream",
          "name": "stdout",
          "text": [
            "Query Database\n"
          ]
        },
        {
          "output_type": "execute_result",
          "data": {
            "text/plain": [
              "{'messages': [ToolMessage(content=\"[Document(id='40b05747-46d0-4648-a7e8-cd11f8f466e1', metadata={'chunk_index': 15055.0, 'source': 'Sabiston Textbook Of Surgery (Courtney Townsend, R. Daniel Beauchamp etc.) (Z-Library).pdf'}, page_content=' acute cholecystitis, albeit with a higher conversion rate and operative time than in the elect ive setting. Morbid obesity, o nce thought to be a relative \\\\ncontraindication to the laparoscopic approa ch, is not associated with  a higher conversion rate. L onger trocars and instruments and an increase in intra-\\\\nabdominal pressure may be helpful in thes e patients. Prior upper abdominal surgery may increase the difficulty  of or preclude l aparoscopic \\\\ncholecystectomy. However, placement of a Hasson cannula '), Document(id='8963860b-4cd3-44b2-952c-d1af583b1a9b', metadata={'chunk_index': 9125.0, 'source': 'Norman Williams, P Ronan O’Connell, Andrew McCaskie (eds.) - Bailey & Love’s Short Practice of Surgery-CRC Press (2018).pdf'}, page_content='copy or by open techniques. Laparoscopic cholecystectomy is the procedure of choice for the majority of patients with gallbladder disease. The key, as in open surgery, is the identification and safe dis-section of Calot’s triangle (Figure 67.31).\\\\nThe patient is placed supine on the operating table. Fol-\\\\nlowing induction and maintenance of general anaesthesia, the abdomen is prepared in a standard fashion. Pneumoperi -\\\\ntoneum is established. A number of techniques are described. The author’s preference is to'), Document(id='d92c3466-b14d-4b87-94cc-c90dd4b967e4', metadata={'chunk_index': 15024.0, 'source': 'Sabiston Textbook Of Surgery (Courtney Townsend, R. Daniel Beauchamp etc.) (Z-Library).pdf'}, page_content='proximately 0.1% with cardiovascular complications be ing the most frequent cause of death. The most signif icant complication \\\\nfollowing laparoscopic cholec ystectomy is injury to the biliary tract. Overall,  complications occur in fewer than 10% of patien ts. Conversion to an open \\\\ncholecystectomy is necessary in less than  5% of patients undergoing laparoscopic c holecystectomy for chroni c cholecystitis. Con version rates are \\\\nincreased in elderly, obese, and male patients. \\\\nThe long-term results of lap'), Document(id='f6c3b85f-94cb-4e1b-a4b0-f90de0b213f3', metadata={'chunk_index': 15053.0, 'source': 'Sabiston Textbook Of Surgery (Courtney Townsend, R. Daniel Beauchamp etc.) (Z-Library).pdf'}, page_content='mandate  an open cholecystectomy. Uncontrolled c oagulopathy is one of \\\\nthe few current contraindications to lapa roscopic cholecystectomy. In addition, patients  with severe chronic obstructive pulmon ary disease or congestive \\\\nheart failure may not tolerate the pneumoperitoneum required fo r performing laparoscopic surgery. Currently, the major contrain dication to completing \\\\na laparoscopic cholecystectomy is an inabil ity to clearly identify all of the anatom ic structures. A liberal policy of converti ')]\", name='query_database', tool_call_id='call_zc9x')]}"
            ]
          },
          "metadata": {},
          "execution_count": 98
        }
      ]
    },
    {
      "cell_type": "code",
      "source": [
        "response['messages'][0].content"
      ],
      "metadata": {
        "colab": {
          "base_uri": "https://localhost:8080/",
          "height": 192
        },
        "id": "sXIOBmnW1PRe",
        "outputId": "8d8f8935-7b9b-499e-8004-56db22bc1980"
      },
      "execution_count": 99,
      "outputs": [
        {
          "output_type": "execute_result",
          "data": {
            "text/plain": [
              "\"[Document(id='40b05747-46d0-4648-a7e8-cd11f8f466e1', metadata={'chunk_index': 15055.0, 'source': 'Sabiston Textbook Of Surgery (Courtney Townsend, R. Daniel Beauchamp etc.) (Z-Library).pdf'}, page_content=' acute cholecystitis, albeit with a higher conversion rate and operative time than in the elect ive setting. Morbid obesity, o nce thought to be a relative \\\\ncontraindication to the laparoscopic approa ch, is not associated with  a higher conversion rate. L onger trocars and instruments and an increase in intra-\\\\nabdominal pressure may be helpful in thes e patients. Prior upper abdominal surgery may increase the difficulty  of or preclude l aparoscopic \\\\ncholecystectomy. However, placement of a Hasson cannula '), Document(id='8963860b-4cd3-44b2-952c-d1af583b1a9b', metadata={'chunk_index': 9125.0, 'source': 'Norman Williams, P Ronan O’Connell, Andrew McCaskie (eds.) - Bailey & Love’s Short Practice of Surgery-CRC Press (2018).pdf'}, page_content='copy or by open techniques. Laparoscopic cholecystectomy is the procedure of choice for the majority of patients with gallbladder disease. The key, as in open surgery, is the identification and safe dis-section of Calot’s triangle (Figure 67.31).\\\\nThe patient is placed supine on the operating table. Fol-\\\\nlowing induction and maintenance of general anaesthesia, the abdomen is prepared in a standard fashion. Pneumoperi -\\\\ntoneum is established. A number of techniques are described. The author’s preference is to'), Document(id='d92c3466-b14d-4b87-94cc-c90dd4b967e4', metadata={'chunk_index': 15024.0, 'source': 'Sabiston Textbook Of Surgery (Courtney Townsend, R. Daniel Beauchamp etc.) (Z-Library).pdf'}, page_content='proximately 0.1% with cardiovascular complications be ing the most frequent cause of death. The most signif icant complication \\\\nfollowing laparoscopic cholec ystectomy is injury to the biliary tract. Overall,  complications occur in fewer than 10% of patien ts. Conversion to an open \\\\ncholecystectomy is necessary in less than  5% of patients undergoing laparoscopic c holecystectomy for chroni c cholecystitis. Con version rates are \\\\nincreased in elderly, obese, and male patients. \\\\nThe long-term results of lap'), Document(id='f6c3b85f-94cb-4e1b-a4b0-f90de0b213f3', metadata={'chunk_index': 15053.0, 'source': 'Sabiston Textbook Of Surgery (Courtney Townsend, R. Daniel Beauchamp etc.) (Z-Library).pdf'}, page_content='mandate  an open cholecystectomy. Uncontrolled c oagulopathy is one of \\\\nthe few current contraindications to lapa roscopic cholecystectomy. In addition, patients  with severe chronic obstructive pulmon ary disease or congestive \\\\nheart failure may not tolerate the pneumoperitoneum required fo r performing laparoscopic surgery. Currently, the major contrain dication to completing \\\\na laparoscopic cholecystectomy is an inabil ity to clearly identify all of the anatom ic structures. A liberal policy of converti ')]\""
            ],
            "application/vnd.google.colaboratory.intrinsic+json": {
              "type": "string"
            }
          },
          "metadata": {},
          "execution_count": 99
        }
      ]
    },
    {
      "cell_type": "code",
      "source": [
        "model = ChatGroq(\n",
        "    model=\"llama-3.1-70b-versatile\",\n",
        "    verbose=True,\n",
        "    temperature=0.5,\n",
        "    api_key=api_key\n",
        ")\n",
        "\n",
        "model_with_tools = model.bind_tools(tools)\n",
        "#model_with_tools\n",
        "model_with_tools.invoke('What are the anatomical considerations for a laparoscopic cholecystectomy in a patient with a history of previous right upper quadrant surgery?').tool_calls\n",
        "# model_with_tools.invoke('What are the anatomical considerations for a laparoscopic cholecystectomy in a patient with a history of previous right upper quadrant surgery?')"
      ],
      "metadata": {
        "id": "pAJb5_kXEBRH",
        "colab": {
          "base_uri": "https://localhost:8080/"
        },
        "outputId": "e50527b9-3d6c-46b4-a715-b9924ee4f664"
      },
      "execution_count": 100,
      "outputs": [
        {
          "output_type": "execute_result",
          "data": {
            "text/plain": [
              "[{'name': 'query_database',\n",
              "  'args': {'search_query': 'anatomical considerations for laparoscopic cholecystectomy in patient with history of previous right upper quadrant surgery'},\n",
              "  'id': 'call_a23p',\n",
              "  'type': 'tool_call'}]"
            ]
          },
          "metadata": {},
          "execution_count": 100
        }
      ]
    },
    {
      "cell_type": "code",
      "source": [
        "from typing import Literal\n",
        "from langchain_core.prompts import PromptTemplate\n",
        "from langgraph.graph import StateGraph, MessagesState, START, END\n",
        "\n",
        "class Grade(BaseModel):\n",
        "  grade: str = Field(description=\"Grade the relevance of retrieved file\")\n",
        "\n",
        "class State(TypedDict):\n",
        "  messages: Annotated[list, add_messages]\n",
        "  max_iteration: int\n",
        "  current_iteration: int\n",
        "\n",
        "structure_model = model.with_structured_output(Grade)\n",
        "\n",
        "# def should_continue(state: MessagesState):\n",
        "#     messages = state[\"messages\"]\n",
        "#     last_message = messages[-1]\n",
        "#     if last_message.tool_calls:\n",
        "#         return \"tools\"\n",
        "#     return \"dummy\"\n",
        "\n",
        "\n",
        "def call_model(state: State):\n",
        "    messages = state[\"messages\"]\n",
        "    prompt = f\"Summarize the content of messages {messages}\"\n",
        "    state['messages'].append(HumanMessage(content=prompt))\n",
        "    response = model_with_tools.invoke(messages)\n",
        "    return {\"messages\": [response]}\n",
        "\n",
        "def grade_documents(state) -> Literal[\"dummy\", \"rewrite\"]:\n",
        "    print(\"---CHECK RELEVANCE---\")\n",
        "    # Prompt\n",
        "    prompt = PromptTemplate(\n",
        "        template=\"\"\"You are a grader assessing relevance of a retrieved document to a user question. \\n\n",
        "        Here is the retrieved document: \\n\\n {context} \\n\\n\n",
        "        Here is the user question: {question} \\n\n",
        "        If the document contains keyword(s) or semantic meaning related to the user question, grade it as relevant. \\n\n",
        "        Give a binary score 'yes' or 'no' score to indicate whether the document is relevant to the question.\"\"\",\n",
        "        input_variables=[\"context\", \"question\"],\n",
        "    )\n",
        "    # Chain\n",
        "    chain = prompt | structure_model\n",
        "    messages = state[\"messages\"]\n",
        "    last_message = messages[-1]\n",
        "    max_iteration = state.get(\"max_iteration\", 1)\n",
        "    current_iteration = state.get('current_iteration', 0)\n",
        "\n",
        "    question = messages[0].content\n",
        "    docs = last_message.content\n",
        "    scored_result = chain.invoke({\"question\": question, \"context\": docs})\n",
        "    score = scored_result.grade\n",
        "    if score == \"no\" and current_iteration < max_iteration:\n",
        "        print(\"---DECISION: DOCS NOT RELEVANT---\")\n",
        "        print(score)\n",
        "        return \"rewrite\"\n",
        "    else:\n",
        "        print(\"---DECISION: DOCS RELEVANT---\")\n",
        "        print(score)\n",
        "        return \"dummy\"\n",
        "\n",
        "# def relevance_checker(state: MessagesState):\n",
        "#     messages = state[\"messages\"]\n",
        "#     last_message = messages[-1]\n",
        "#     prompt = f\"\"\"Check the relevance of retrieved document from the pinecone database\n",
        "#             {last_message}. Return 'yes' for relevance and 'no' for non-relevance. return\n",
        "#             yes or no only\n",
        "#             \"\"\"\n",
        "#     response = structure_model.invoke(prompt)\n",
        "#     relevance_message = AIMessage(content=response.grade)\n",
        "#     print('relevance_message')\n",
        "#     if response.grade == 'yes':\n",
        "#         return \"dummy\"\n",
        "#     return \"rewrite\"\n",
        "\n",
        "\n",
        "# def relevance_router(state: State):\n",
        "#     last_message = state['messages'][-1].content  # Assuming content holds the message text\n",
        "#     consecutive_yes = 0\n",
        "#     for msg in reversed(state['messages']):\n",
        "#         if msg.content == 'yes':\n",
        "#             consecutive_yes += 1\n",
        "#         else:\n",
        "#             break\n",
        "#     if consecutive_yes > 3:\n",
        "#         return \"dummy\"\n",
        "#     if last_message == 'yes':\n",
        "#         return \"agent\"\n",
        "#     return \"tools\"\n",
        "\n",
        "def rewrite(state: State):\n",
        "    print(\"---TRANSFORM QUERY---\")\n",
        "    messages = state[\"messages\"]\n",
        "    question = messages[0].content\n",
        "    current_iteration = state.get('current_iteration', 0)\n",
        "    msg = [\n",
        "        HumanMessage(\n",
        "            content=f\"\"\" \\n\n",
        "    Look at the input and try to reason about the underlying semantic intent / meaning. \\n\n",
        "    Here is the initial question:\n",
        "    \\n ------- \\n\n",
        "    {question}\n",
        "    \\n ------- \\n\n",
        "    Formulate an improved question: \"\"\",\n",
        "        )\n",
        "    ]\n",
        "    response = model.invoke(msg)\n",
        "    current_iteration += 1\n",
        "    messages.append(response)\n",
        "    return state\n",
        "\n",
        "\n",
        "def dummy(state: MessagesState):\n",
        "    messages = state[\"messages\"]\n",
        "    return {\"messages\": ['Dummy Response']}\n",
        "\n",
        "\n",
        "workflow = StateGraph(MessagesState)\n",
        "\n",
        "# Define the two nodes we will cycle between\n",
        "workflow.add_node(\"agent\", call_model)\n",
        "workflow.add_node(\"rewrite\", rewrite)\n",
        "workflow.add_node(\"tools\", tool_node)\n",
        "workflow.add_node(\"dummy\", dummy)\n",
        "\n",
        "workflow.add_edge(START, \"agent\")\n",
        "workflow.add_edge(\"agent\", \"tools\")\n",
        "workflow.add_conditional_edges(\"tools\", grade_documents, ['dummy', 'rewrite']) # Changed \"relevant\" to \"dummy\" and \"irrelevant\" to \"rewrite\"\n",
        "workflow.add_edge(\"rewrite\", \"agent\")\n",
        "workflow.add_edge(\"dummy\", END)\n",
        "# workflow.add_edge(\"rewrite\", END) # Added this line to define \"rewrite\" as an end state\n",
        "app = workflow.compile()\n",
        "display(Image(app.get_graph().draw_mermaid_png()))"
      ],
      "metadata": {
        "colab": {
          "base_uri": "https://localhost:8080/",
          "height": 449
        },
        "id": "LwkhY-CagwJo",
        "outputId": "811b83d6-b199-4368-dd98-32bc4e437ce1"
      },
      "execution_count": 101,
      "outputs": [
        {
          "output_type": "display_data",
          "data": {
            "image/png": "[encoded data removed]",
            "text/plain": [
              "<IPython.core.display.Image object>"
            ]
          },
          "metadata": {}
        }
      ]
    },
    {
      "cell_type": "code",
      "source": [
        "state = {\n",
        "    'messages': [(\"human\", \"What are the anatomical considerations for a laparoscopic cholecystectomy in a patient with a history of previous right upper quadrant surgery?\")],\n",
        "    'max_iteration': 1,\n",
        "    'current_iteration': 0\n",
        "}"
      ],
      "metadata": {
        "id": "dPJ0TBdsm8Lj"
      },
      "execution_count": 109,
      "outputs": []
    },
    {
      "cell_type": "code",
      "source": [
        "for chunk in app.stream(\n",
        "    state, stream_mode=\"values\"\n",
        "):\n",
        "    # Add max_iteration and current_iteration to each chunk's state if needed\n",
        "    state[\"max_iteration\"] = state.get(\"max_iteration\", 1)  # Default to 5 if missing\n",
        "    state[\"current_iteration\"] = state.get(\"current_iteration\", 0)\n",
        "    chunk[\"messages\"][-1].pretty_print()"
      ],
      "metadata": {
        "colab": {
          "base_uri": "https://localhost:8080/"
        },
        "id": "-VO4ULS4hKJp",
        "outputId": "cfc9574e-2ea2-4a44-a3e5-031fbc93e98c"
      },
      "execution_count": 111,
      "outputs": [
        {
          "output_type": "stream",
          "name": "stdout",
          "text": [
            "================================\u001b[1m Human Message \u001b[0m=================================\n",
            "\n",
            "What are the anatomical considerations for a laparoscopic cholecystectomy in a patient with a history of previous right upper quadrant surgery?\n",
            "==================================\u001b[1m Ai Message \u001b[0m==================================\n",
            "Tool Calls:\n",
            "  query_database (call_mqvr)\n",
            " Call ID: call_mqvr\n",
            "  Args:\n",
            "    search_query: anatomical considerations laparoscopic cholecystectomy previous right upper quadrant surgery\n",
            "Query Database\n",
            "---CHECK RELEVANCE---\n",
            "---DECISION: DOCS NOT RELEVANT---\n",
            "no\n",
            "=================================\u001b[1m Tool Message \u001b[0m=================================\n",
            "Name: query_database\n",
            "\n",
            "[Document(id='8963860b-4cd3-44b2-952c-d1af583b1a9b', metadata={'chunk_index': 9125.0, 'source': 'Norman Williams, P Ronan O’Connell, Andrew McCaskie (eds.) - Bailey & Love’s Short Practice of Surgery-CRC Press (2018).pdf'}, page_content='copy or by open techniques. Laparoscopic cholecystectomy is the procedure of choice for the majority of patients with gallbladder disease. The key, as in open surgery, is the identification and safe dis-section of Calot’s triangle (Figure 67.31).\\nThe patient is placed supine on the operating table. Fol-\\nlowing induction and maintenance of general anaesthesia, the abdomen is prepared in a standard fashion. Pneumoperi -\\ntoneum is established. A number of techniques are described. The author’s preference is to'), Document(id='589ecb7a-cdcd-4504-a27d-8edcfe6a4886', metadata={'chunk_index': 9127.0, 'source': 'Norman Williams, P Ronan O’Connell, Andrew McCaskie (eds.) - Bailey & Love’s Short Practice of Surgery-CRC Press (2018).pdf'}, page_content='31  Operative image \\nof a laparoscopic cholecystectomy. \\nLaparoscopic for\\nceps (arrow) are used to dissect Calot’s triangle.\\n11_67-B&L27_Pt11_Ch67.indd   1202 25/10/2017   09:52Cholecystect\\nomy 1203\\nPART 11 | ABDOMINAL\\ndoes all the work’ – Moynihan). Alternatively, a stabilised \\nring retractor is used to keep the packs in position.\\nAn artery or Duval forceps is placed on the infundibulum \\nof the gallbladder and the peritoneum overlying Calot’\\ns tri-\\nangle is placed on a stretch. The peritoneum is then divid'), Document(id='d92c3466-b14d-4b87-94cc-c90dd4b967e4', metadata={'chunk_index': 15024.0, 'source': 'Sabiston Textbook Of Surgery (Courtney Townsend, R. Daniel Beauchamp etc.) (Z-Library).pdf'}, page_content='proximately 0.1% with cardiovascular complications be ing the most frequent cause of death. The most signif icant complication \\nfollowing laparoscopic cholec ystectomy is injury to the biliary tract. Overall,  complications occur in fewer than 10% of patien ts. Conversion to an open \\ncholecystectomy is necessary in less than  5% of patients undergoing laparoscopic c holecystectomy for chroni c cholecystitis. Con version rates are \\nincreased in elderly, obese, and male patients. \\nThe long-term results of lap'), Document(id='60db7a73-7410-4a5e-a64c-984c57b245bf', metadata={'chunk_index': 15056.0, 'source': 'Sabiston Textbook Of Surgery (Courtney Townsend, R. Daniel Beauchamp etc.) (Z-Library).pdf'}, page_content='often reveals few adhesions or adhesions  that can be dissected laparosc opically, permitting \\ncompletion of a laparoscopic cholecystectomy. Elective laparoscopic cholecystectomy has also been completed safely in patients with well-\\ncompensated cirrhosis (Childs classes A a nd B), although difficulty retr acting the firm liver and increased bleeding from colla terals have been noted. \\nLaparoscopic Cholecystectomy \\nPatients undergoing laparoscopic c holecystectomy are prepared and draped in a si milar fashio')]\n",
            "---TRANSFORM QUERY---\n",
            "==================================\u001b[1m Ai Message \u001b[0m==================================\n",
            "\n",
            "Based on the input, the underlying semantic intent appears to be seeking information on how a patient's previous surgery in the right upper quadrant may affect the anatomy and potentially impact a laparoscopic cholecystectomy procedure.\n",
            "\n",
            "Here's a reformulated question that's more specific and targeted:\n",
            "\n",
            "\"What anatomical variations or challenges should be anticipated and addressed during a laparoscopic cholecystectomy in a patient with a history of previous right upper quadrant surgery, and how can these variations be managed to ensure a safe and successful procedure?\"\n",
            "\n",
            "This revised question:\n",
            "\n",
            "1. Clarifies the specific concern (anatomical variations and challenges)\n",
            "2. Asks for actionable information (how to manage these variations)\n",
            "3. Provides context for the question (previous right upper quadrant surgery)\n",
            "\n",
            "This reformulated question should yield more relevant and practical information for the person seeking knowledge.\n",
            "==================================\u001b[1m Ai Message \u001b[0m==================================\n",
            "\n",
            "The anatomical considerations for a laparoscopic cholecystectomy in a patient with a history of previous right upper quadrant surgery include the potential for adhesions, which can make the procedure more challenging. However, elective laparoscopic cholecystectomy has been safely completed in patients with well-compensated cirrhosis, although difficulty retracting the firm liver and increased bleeding from collaterals have been noted.\n",
            "---CHECK RELEVANCE---\n",
            "---DECISION: DOCS RELEVANT---\n",
            "yes\n",
            "==================================\u001b[1m Ai Message \u001b[0m==================================\n",
            "\n",
            "The anatomical considerations for a laparoscopic cholecystectomy in a patient with a history of previous right upper quadrant surgery include the potential for adhesions, which can make the procedure more challenging. However, elective laparoscopic cholecystectomy has been safely completed in patients with well-compensated cirrhosis, although difficulty retracting the firm liver and increased bleeding from collaterals have been noted.\n",
            "================================\u001b[1m Human Message \u001b[0m=================================\n",
            "\n",
            "Dummy Response\n"
          ]
        }
      ]
    },
    {
      "cell_type": "code",
      "source": [
        "result = app.invoke({\"messages\": [(\"human\", \"What are the anatomical considerations for a laparoscopic cholecystectomy in a patient with a history of previous right upper quadrant surgery?\")]})"
      ],
      "metadata": {
        "colab": {
          "base_uri": "https://localhost:8080/"
        },
        "id": "oF1-dPEN8gn8",
        "outputId": "127d48e9-16e0-4fe0-b493-95b9eee3c507"
      },
      "execution_count": null,
      "outputs": [
        {
          "output_type": "stream",
          "name": "stdout",
          "text": [
            "---CHECK RELEVANCE---\n",
            "---DECISION: DOCS RELEVANT---\n",
            "yes\n"
          ]
        }
      ]
    },
    {
      "cell_type": "code",
      "source": [],
      "metadata": {
        "id": "BSuf9W1c8gkX"
      },
      "execution_count": null,
      "outputs": []
    },
    {
      "cell_type": "code",
      "source": [],
      "metadata": {
        "id": "jbeZ_rgo8ghq"
      },
      "execution_count": null,
      "outputs": []
    },
    {
      "cell_type": "code",
      "source": [],
      "metadata": {
        "id": "NfpU4dMyKkAx"
      },
      "execution_count": null,
      "outputs": []
    }
  ]
}