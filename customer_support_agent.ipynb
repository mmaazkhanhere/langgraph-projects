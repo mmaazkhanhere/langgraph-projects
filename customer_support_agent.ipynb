{
  "nbformat": 4,
  "nbformat_minor": 0,
  "metadata": {
    "colab": {
      "provenance": []
    },
    "kernelspec": {
      "name": "python3",
      "display_name": "Python 3"
    },
    "language_info": {
      "name": "python"
    }
  },
  "cells": [
    {
      "cell_type": "code",
      "execution_count": 1,
      "metadata": {
        "id": "calSqckXk1XN",
        "colab": {
          "base_uri": "https://localhost:8080/"
        },
        "outputId": "22dd4de9-1f31-4fff-ee41-2299a8705963"
      },
      "outputs": [
        {
          "output_type": "stream",
          "name": "stdout",
          "text": [
            "\u001b[?25l   \u001b[90m━━━━━━━━━━━━━━━━━━━━━━━━━━━━━━━━━━━━━━━━\u001b[0m \u001b[32m0.0/119.3 kB\u001b[0m \u001b[31m?\u001b[0m eta \u001b[36m-:--:--\u001b[0m\r\u001b[2K   \u001b[90m━━━━━━━━━━━━━━━━━━━━━━━━━━━━━━━━━━━━━━━━\u001b[0m \u001b[32m119.3/119.3 kB\u001b[0m \u001b[31m3.6 MB/s\u001b[0m eta \u001b[36m0:00:00\u001b[0m\n",
            "\u001b[2K   \u001b[90m━━━━━━━━━━━━━━━━━━━━━━━━━━━━━━━━━━━━━━━━\u001b[0m \u001b[32m408.7/408.7 kB\u001b[0m \u001b[31m14.6 MB/s\u001b[0m eta \u001b[36m0:00:00\u001b[0m\n",
            "\u001b[2K   \u001b[90m━━━━━━━━━━━━━━━━━━━━━━━━━━━━━━━━━━━━━━━━\u001b[0m \u001b[32m41.8/41.8 kB\u001b[0m \u001b[31m1.1 MB/s\u001b[0m eta \u001b[36m0:00:00\u001b[0m\n",
            "\u001b[2K   \u001b[90m━━━━━━━━━━━━━━━━━━━━━━━━━━━━━━━━━━━━━━━━\u001b[0m \u001b[32m2.4/2.4 MB\u001b[0m \u001b[31m24.8 MB/s\u001b[0m eta \u001b[36m0:00:00\u001b[0m\n",
            "\u001b[2K   \u001b[90m━━━━━━━━━━━━━━━━━━━━━━━━━━━━━━━━━━━━━━━━\u001b[0m \u001b[32m1.0/1.0 MB\u001b[0m \u001b[31m44.6 MB/s\u001b[0m eta \u001b[36m0:00:00\u001b[0m\n",
            "\u001b[2K   \u001b[90m━━━━━━━━━━━━━━━━━━━━━━━━━━━━━━━━━━━━━━━━\u001b[0m \u001b[32m3.1/3.1 MB\u001b[0m \u001b[31m74.8 MB/s\u001b[0m eta \u001b[36m0:00:00\u001b[0m\n",
            "\u001b[2K   \u001b[90m━━━━━━━━━━━━━━━━━━━━━━━━━━━━━━━━━━━━━━━━\u001b[0m \u001b[32m1.2/1.2 MB\u001b[0m \u001b[31m50.3 MB/s\u001b[0m eta \u001b[36m0:00:00\u001b[0m\n",
            "\u001b[2K   \u001b[90m━━━━━━━━━━━━━━━━━━━━━━━━━━━━━━━━━━━━━━━━\u001b[0m \u001b[32m49.5/49.5 kB\u001b[0m \u001b[31m3.3 MB/s\u001b[0m eta \u001b[36m0:00:00\u001b[0m\n",
            "\u001b[?25h"
          ]
        }
      ],
      "source": [
        "!pip install  --quiet langgraph\n",
        "!pip install  --quiet langchain-google-genai\n",
        "!pip install --quiet langchain\n",
        "!pip install --quiet tavily-python langchain_community"
      ]
    },
    {
      "cell_type": "code",
      "source": [
        "from google.colab import userdata\n",
        "from IPython.display import Image, display\n",
        "from typing_extensions import TypedDict\n",
        "from typing import Dict\n",
        "\n",
        "from langgraph.graph import StateGraph, START, END\n",
        "from langgraph.graph.state import CompiledStateGraph\n",
        "\n",
        "from langchain_google_genai import ChatGoogleGenerativeAI\n",
        "from langchain.schema import AIMessage, HumanMessage\n",
        "from langchain_core.prompts import ChatPromptTemplate"
      ],
      "metadata": {
        "id": "-LlgAT6xkR9s"
      },
      "execution_count": 37,
      "outputs": []
    },
    {
      "cell_type": "code",
      "source": [
        "google_api_key = userdata.get('GOOGLE_API_KEY')\n",
        "\n",
        "llm: ChatGoogleGenerativeAI = ChatGoogleGenerativeAI(model='gemini-1.5-flash',\n",
        "                                                     api_key=google_api_key)\n",
        "\n",
        "llm.invoke(\"What is 2+2?\").content"
      ],
      "metadata": {
        "colab": {
          "base_uri": "https://localhost:8080/",
          "height": 35
        },
        "id": "r7ZfPZisnpaX",
        "outputId": "241d4475-41fc-44e8-9aa3-539d75a0498f"
      },
      "execution_count": 4,
      "outputs": [
        {
          "output_type": "execute_result",
          "data": {
            "text/plain": [
              "'2 + 2 = 4 \\n'"
            ],
            "application/vnd.google.colaboratory.intrinsic+json": {
              "type": "string"
            }
          },
          "metadata": {},
          "execution_count": 4
        }
      ]
    },
    {
      "cell_type": "code",
      "source": [
        "class State(TypedDict):\n",
        "  query: str\n",
        "  category: str\n",
        "  sentiment: str\n",
        "  response: str\n",
        "\n",
        "def categorization_node(state: State):\n",
        "  \"\"\"Agent node that categorizes the query.\"\"\"\n",
        "  query = state[\"query\"]\n",
        "  prompt = ChatPromptTemplate.from_template(\n",
        "      \"Categorize the following customer query into one of these categories: \"\n",
        "      \"Technical, Billing or General. Just return category. Query: {query}\"\n",
        "  )\n",
        "  category: str = llm.invoke(prompt.format(query=query)).content\n",
        "  return {\"category\": category}\n",
        "\n",
        "\n",
        "def sentiment_node(state: State):\n",
        "  \"\"\"Agent node that analyze the sentiment of query and classify it\"\"\"\n",
        "  query = state[\"query\"]\n",
        "  prompt = ChatPromptTemplate.from_template(\n",
        "      \"Classify the following customer query into one of these sentiments: \"\n",
        "      \"Positive, Negative or Neutral. Just return sentiment. Query: {query}\"\n",
        "  )\n",
        "  sentiment: str = llm.invoke(prompt.format(query=query)).content\n",
        "  return {\"sentiment\": sentiment}\n",
        "\n",
        "\n",
        "def escalate_node(state: State):\n",
        "  \"\"\"Agent node that escale query to human agent due to negative sentiment\"\"\"\n",
        "  return {\"response\": \"This query will be answered by human agent due to its negative sentiment.\"}\n",
        "\n",
        "def billing_query_node(state: State):\n",
        "  \"\"\" Agent node that handles billing query\"\"\"\n",
        "  query = state[\"query\"]\n",
        "  prompt = ChatPromptTemplate.from_template(\n",
        "      \"Provide support to the following billing query with respect and friendly tone. Just return answer. Query: {query}\"\n",
        "  )\n",
        "  response: str = llm.invoke(prompt.format(query=query)).content\n",
        "  return {\"response\": response}\n",
        "\n",
        "\n",
        "def general_query_node(state: State)->str:\n",
        "  \"\"\" Agent node that handles general query\"\"\"\n",
        "  query = state[\"query\"]\n",
        "  prompt = ChatPromptTemplate.from_template(\n",
        "      \"Provide support to the following general query with respect and friendly tone. Just return answer. Query: {query}\"\n",
        "  )\n",
        "  response: str = llm.invoke(prompt.format(query=query)).content\n",
        "  return {\"response\": response}\n",
        "\n",
        "\n",
        "def technical_query_node(state: State)->str:\n",
        "  \"\"\" Agent node that handles technical query\"\"\"\n",
        "  query = state[\"query\"]\n",
        "  prompt = ChatPromptTemplate.from_template(\n",
        "      \"Provide support to the following technical query with respect and friendly tone. Just return answer. Query: {query}\"\n",
        "  )\n",
        "  response: str = llm.invoke(prompt.format(query=query)).content\n",
        "  return {\"response\": response}\n",
        "\n",
        "def node_decider(state: State):\n",
        "  if 'Negative' in state[\"sentiment\"]:\n",
        "    return \"escalate_node\"\n",
        "  elif 'Technical' in state['category']:\n",
        "    return \"technical_query_node\"\n",
        "  elif 'Billing' in state['category']:\n",
        "    return \"billing_query_node\"\n",
        "  else:\n",
        "    return \"general_query_node\"\n"
      ],
      "metadata": {
        "id": "_aLRqYXen_3Y"
      },
      "execution_count": 60,
      "outputs": []
    },
    {
      "cell_type": "code",
      "source": [
        "builder: StateGraph = StateGraph(State)\n",
        "\n",
        "builder.add_node(\"categorization_node\", categorization_node)\n",
        "builder.add_node(\"sentiment_node\", sentiment_node)\n",
        "builder.add_node(\"escalate_node\", escalate_node)\n",
        "builder.add_node(\"billing_query_node\", billing_query_node)\n",
        "builder.add_node(\"general_query_node\", general_query_node)\n",
        "builder.add_node(\"technical_query_node\", technical_query_node)\n",
        "\n",
        "builder.add_edge(START, \"categorization_node\")\n",
        "builder.add_edge(\"categorization_node\", \"sentiment_node\")\n",
        "builder.add_conditional_edges(\"sentiment_node\", node_decider,{\n",
        "    \"escalate_node\": 'escalate_node',\n",
        "    \"billing_query_node\": 'billing_query_node',\n",
        "    \"general_query_node\": 'general_query_node',\n",
        "    \"technical_query_node\": 'technical_query_node'\n",
        "})\n",
        "builder.add_edge(\"escalate_node\", END)\n",
        "builder.add_edge(\"billing_query_node\", END)\n",
        "builder.add_edge(\"general_query_node\", END)\n",
        "builder.add_edge(\"technical_query_node\", END)\n",
        "\n",
        "agent: CompiledStateGraph = builder.compile()"
      ],
      "metadata": {
        "id": "VRbYtrx2rCfF"
      },
      "execution_count": 61,
      "outputs": []
    },
    {
      "cell_type": "code",
      "source": [
        "display(Image(agent.get_graph().draw_mermaid_png()))"
      ],
      "metadata": {
        "colab": {
          "base_uri": "https://localhost:8080/",
          "height": 449
        },
        "id": "31YaMx3IsEo1",
        "outputId": "4b495416-4668-45bf-91fe-f19f1d5e479c"
      },
      "execution_count": 62,
      "outputs": [
        {
          "output_type": "display_data",
          "data": {
            "image/jpeg": "[encoded data removed]",
            "text/plain": [
              "<IPython.core.display.Image object>"
            ]
          },
          "metadata": {}
        }
      ]
    },
    {
      "cell_type": "code",
      "source": [
        "query = \"My internet connection keeps dropping. Can you help?\"\n",
        "result = agent.invoke({\"query\": query})\n",
        "result"
      ],
      "metadata": {
        "colab": {
          "base_uri": "https://localhost:8080/"
        },
        "id": "4bPNzn2MsIqk",
        "outputId": "2a5a74e3-23f7-447e-ab06-6d94889e2b88"
      },
      "execution_count": 63,
      "outputs": [
        {
          "output_type": "execute_result",
          "data": {
            "text/plain": [
              "{'query': 'My internet connection keeps dropping. Can you help?',\n",
              " 'category': 'Technical \\n',\n",
              " 'sentiment': 'Negative \\n',\n",
              " 'response': 'This query will be answered by human agent due to its negative sentiment.'}"
            ]
          },
          "metadata": {},
          "execution_count": 63
        }
      ]
    },
    {
      "cell_type": "code",
      "source": [
        "def run_customer_support(query: str) -> Dict[str, str]:\n",
        "    \"\"\"Process a customer query through the LangGraph workflow.\n",
        "\n",
        "    Args:\n",
        "        query (str): The customer's query\n",
        "\n",
        "    Returns:\n",
        "        Dict[str, str]: A dictionary containing the query's category, sentiment, and response\n",
        "    \"\"\"\n",
        "    results = agent.invoke({\"query\": query})\n",
        "    return {\n",
        "        \"category\": results[\"category\"],\n",
        "        \"sentiment\": results[\"sentiment\"],\n",
        "        \"response\": results[\"response\"]\n",
        "    }"
      ],
      "metadata": {
        "id": "9znzR-wCtAyF"
      },
      "execution_count": 64,
      "outputs": []
    },
    {
      "cell_type": "code",
      "source": [
        "query = \"My internet connection keeps dropping. Can you help?\"\n",
        "result = run_customer_support(query)\n",
        "print(f\"Query: {query}\")\n",
        "print(f\"Category: {result['category']}\")\n",
        "print(f\"Sentiment: {result['sentiment']}\")\n",
        "print(f\"Response: {result['response']}\")"
      ],
      "metadata": {
        "colab": {
          "base_uri": "https://localhost:8080/"
        },
        "id": "kvhkcMXTudt_",
        "outputId": "b1904114-8d92-4cf9-a1d6-0bfe7a9504be"
      },
      "execution_count": 65,
      "outputs": [
        {
          "output_type": "stream",
          "name": "stdout",
          "text": [
            "Query: My internet connection keeps dropping. Can you help?\n",
            "Category: Technical \n",
            "\n",
            "Sentiment: Negative \n",
            "\n",
            "Response: This query will be answered by human agent due to its negative sentiment.\n"
          ]
        }
      ]
    },
    {
      "cell_type": "code",
      "source": [
        "query = \"How to sign in ChatGPT with my Google account\"\n",
        "result = run_customer_support(query)\n",
        "print(f\"Query: {query}\")\n",
        "print(f\"Category: {result['category']}\")\n",
        "print(f\"Sentiment: {result['sentiment']}\")\n",
        "print(f\"Response: {result['response']}\")\n",
        "print(\"\\n\")"
      ],
      "metadata": {
        "colab": {
          "base_uri": "https://localhost:8080/"
        },
        "id": "o5-4A3NeuteC",
        "outputId": "73ee44d1-4316-45ff-8bac-729b2deeac09"
      },
      "execution_count": 70,
      "outputs": [
        {
          "output_type": "stream",
          "name": "stdout",
          "text": [
            "Query: How to sign in ChatGPT with my Google account\n",
            "Category: Technical \n",
            "\n",
            "Sentiment: Neutral \n",
            "\n",
            "Response: ChatGPT doesn't currently have a sign-in option using a Google account. It's a standalone AI chatbot. \n",
            "\n",
            "\n",
            "\n"
          ]
        }
      ]
    },
    {
      "cell_type": "code",
      "source": [
        " # handle_billing\n",
        "\n",
        "query = \"where can i find my receipt?\"\n",
        "result = run_customer_support(query)\n",
        "print(f\"Query: {query}\")\n",
        "print(f\"Category: {result['category']}\")\n",
        "print(f\"Sentiment: {result['sentiment']}\")\n",
        "print(f\"Response: {result['response']}\")\n",
        "print(\"\\n\")"
      ],
      "metadata": {
        "colab": {
          "base_uri": "https://localhost:8080/"
        },
        "id": "D0SBxCCgvYhh",
        "outputId": "a43cddaf-9ee1-4780-d567-88be06018346"
      },
      "execution_count": 67,
      "outputs": [
        {
          "output_type": "stream",
          "name": "stdout",
          "text": [
            "Query: where can i find my receipt?\n",
            "Category: Billing \n",
            "\n",
            "Sentiment: Neutral \n",
            "\n",
            "Response: I understand you're looking for your receipt.  Let's get that for you! Can you tell me a little more about what you're looking for?  For example,  what was the purchase for, when did you make it, and what method of payment did you use?  This will help me find your receipt quickly. 😊 \n",
            "\n",
            "\n",
            "\n"
          ]
        }
      ]
    },
    {
      "cell_type": "code",
      "source": [
        "# handle_general\n",
        "\n",
        "query = \"What are your business hours?\"\n",
        "result = run_customer_support(query)\n",
        "print(f\"Query: {query}\")\n",
        "print(f\"Category: {result['category']}\")\n",
        "print(f\"Sentiment: {result['sentiment']}\")\n",
        "print(f\"Response: {result['response']}\")"
      ],
      "metadata": {
        "colab": {
          "base_uri": "https://localhost:8080/"
        },
        "id": "X304xKqtwOxQ",
        "outputId": "605ca5c6-796e-4e56-b286-7f46d6af8689"
      },
      "execution_count": 68,
      "outputs": [
        {
          "output_type": "stream",
          "name": "stdout",
          "text": [
            "Query: What are your business hours?\n",
            "Category: General \n",
            "\n",
            "Sentiment: Neutral \n",
            "\n",
            "Response: We're here to help you! Our business hours are [Insert Business Hours]. 😊 \n",
            "\n"
          ]
        }
      ]
    },
    {
      "cell_type": "code",
      "source": [],
      "metadata": {
        "id": "N_24H5j9wR__"
      },
      "execution_count": null,
      "outputs": []
    }
  ]
}