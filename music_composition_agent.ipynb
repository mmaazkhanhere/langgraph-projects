{
  "nbformat": 4,
  "nbformat_minor": 0,
  "metadata": {
    "colab": {
      "provenance": []
    },
    "kernelspec": {
      "name": "python3",
      "display_name": "Python 3"
    },
    "language_info": {
      "name": "python"
    }
  },
  "cells": [
    {
      "cell_type": "code",
      "execution_count": 1,
      "metadata": {
        "colab": {
          "base_uri": "https://localhost:8080/"
        },
        "id": "yhiTi3YQI_kU",
        "outputId": "7b1bb882-de6a-4a71-d9c7-24cbf51ef758"
      },
      "outputs": [
        {
          "output_type": "stream",
          "name": "stdout",
          "text": [
            "\u001b[2K   \u001b[90m━━━━━━━━━━━━━━━━━━━━━━━━━━━━━━━━━━━━━━━━\u001b[0m \u001b[32m120.8/120.8 kB\u001b[0m \u001b[31m4.0 MB/s\u001b[0m eta \u001b[36m0:00:00\u001b[0m\n",
            "\u001b[2K   \u001b[90m━━━━━━━━━━━━━━━━━━━━━━━━━━━━━━━━━━━━━━━━\u001b[0m \u001b[32m41.8/41.8 kB\u001b[0m \u001b[31m1.3 MB/s\u001b[0m eta \u001b[36m0:00:00\u001b[0m\n",
            "\u001b[?25h"
          ]
        }
      ],
      "source": [
        "!pip install  --quiet langgraph\n",
        "!pip install  --quiet langchain-google-genai\n",
        "!pip install --quiet langchain"
      ]
    },
    {
      "cell_type": "code",
      "source": [
        "from google.colab import userdata\n",
        "import music21\n",
        "import pygame\n",
        "import tempfile\n",
        "import random\n",
        "from IPython.display import Image, display\n",
        "\n",
        "from typing import TypedDict, Dict\n",
        "\n",
        "from langchain_google_genai import ChatGoogleGenerativeAI\n",
        "from langchain.prompts import ChatPromptTemplate\n",
        "\n",
        "from langgraph.graph.state import CompiledStateGraph\n",
        "from langgraph.graph import END, START, StateGraph"
      ],
      "metadata": {
        "id": "Dobeh_KXLw2b"
      },
      "execution_count": 18,
      "outputs": []
    },
    {
      "cell_type": "code",
      "source": [
        "google_api_key = userdata.get('GOOGLE_API_KEY')\n",
        "llm: ChatGoogleGenerativeAI = ChatGoogleGenerativeAI(model='gemini-1.5-flash',\n",
        "                                                     api_key=google_api_key)\n",
        "\n",
        "llm.invoke(\"What is 2 * 2?\").content"
      ],
      "metadata": {
        "colab": {
          "base_uri": "https://localhost:8080/",
          "height": 36
        },
        "id": "5xArZXcLMkYq",
        "outputId": "fd7f2800-f9c8-469f-baad-b37f1b95b858"
      },
      "execution_count": 4,
      "outputs": [
        {
          "output_type": "execute_result",
          "data": {
            "text/plain": [
              "'2 * 2 = 4 \\n'"
            ],
            "application/vnd.google.colaboratory.intrinsic+json": {
              "type": "string"
            }
          },
          "metadata": {},
          "execution_count": 4
        }
      ]
    },
    {
      "cell_type": "code",
      "source": [
        "class MusicState(TypedDict):\n",
        "  input: str\n",
        "  melody: str\n",
        "  harmony: str\n",
        "  rhythm: str\n",
        "  style: str\n",
        "  composition: str\n",
        "  midi_file: str"
      ],
      "metadata": {
        "id": "RNNOl8hpM5FZ"
      },
      "execution_count": 31,
      "outputs": []
    },
    {
      "cell_type": "code",
      "source": [
        "def melody_generator_node(state: MusicState)->Dict:\n",
        "  \"\"\"Graph node that generates melody based on user input\"\"\"\n",
        "  prompt: str = f\"\"\"Generate a melody based on the input {state[\"input\"]}. Represent\n",
        "                it as a string of notes in music21 format\n",
        "                \"\"\"\n",
        "  melody = llm.invoke(prompt).content\n",
        "  return {\"melody\": melody}\n",
        "\n",
        "def harmony_generator_node(state: MusicState)->Dict:\n",
        "  \"\"\"Graph node that generates harmony based on user input\"\"\"\n",
        "  prompt: str = f\"\"\"Create a harmony based on the input {state[\"input\"]}. Represent\n",
        "                it as a string of chords in music21 format\n",
        "                \"\"\"\n",
        "  harmony = llm.invoke(prompt).content\n",
        "  return {\"harmony\": harmony}\n",
        "\n",
        "def rhythm_generator_node(state: MusicState)->Dict:\n",
        "  \"\"\"Graph node that generates rhythm based on user input\"\"\"\n",
        "  prompt: str = f\"\"\"Analyze and suggest rhythm for the melody {state['melody']}\n",
        "                and harmony {state[\"harmony\"]}. Represent it as string of duration\n",
        "                in music21 format\n",
        "                \"\"\"\n",
        "  rhythm = llm.invoke(prompt).content\n",
        "  return {\"rhythm\": rhythm}\n",
        "\n",
        "def style_adapter_node(state: MusicState)->Dict:\n",
        "  \"\"\"Graph node that adapts style based on user input\"\"\"\n",
        "  prompt: str = f\"\"\"Adapt this composition to the style {state[\"style\"]}, melody {state[\"melody\"]}\n",
        "                , harmony {state[\"harmony\"]} and rhythm {state[\"rhythm\"]}. Provide the\n",
        "                result in music21 format\n",
        "                \"\"\"\n",
        "  style = llm.invoke(prompt).content\n",
        "  return {\"composition\": style}\n",
        "\n",
        "def midi_converter(state: MusicState) -> Dict:\n",
        "    \"\"\"Convert the composition to MIDI format and save it as a file.\"\"\"\n",
        "    # Create a new stream\n",
        "    piece = music21.stream.Score()\n",
        "\n",
        "    # Add the composition description to the stream as a text expression\n",
        "    description = music21.expressions.TextExpression(state[\"composition\"])\n",
        "    piece.append(description)\n",
        "\n",
        "    # Define a wide variety of scales and chords\n",
        "    scales = {\n",
        "        'C major': ['C', 'D', 'E', 'F', 'G', 'A', 'B'],\n",
        "        'C minor': ['C', 'D', 'Eb', 'F', 'G', 'Ab', 'Bb'],\n",
        "        'C harmonic minor': ['C', 'D', 'Eb', 'F', 'G', 'Ab', 'B'],\n",
        "        'C melodic minor': ['C', 'D', 'Eb', 'F', 'G', 'A', 'B'],\n",
        "        'C dorian': ['C', 'D', 'Eb', 'F', 'G', 'A', 'Bb'],\n",
        "        'C phrygian': ['C', 'Db', 'Eb', 'F', 'G', 'Ab', 'Bb'],\n",
        "        'C lydian': ['C', 'D', 'E', 'F#', 'G', 'A', 'B'],\n",
        "        'C mixolydian': ['C', 'D', 'E', 'F', 'G', 'A', 'Bb'],\n",
        "        'C locrian': ['C', 'Db', 'Eb', 'F', 'Gb', 'Ab', 'Bb'],\n",
        "        'C whole tone': ['C', 'D', 'E', 'F#', 'G#', 'A#'],\n",
        "        'C diminished': ['C', 'D', 'Eb', 'F', 'Gb', 'Ab', 'A', 'B'],\n",
        "    }\n",
        "\n",
        "    chords = {\n",
        "        'C major': ['C4', 'E4', 'G4'],\n",
        "        'C minor': ['C4', 'Eb4', 'G4'],\n",
        "        'C diminished': ['C4', 'Eb4', 'Gb4'],\n",
        "        'C augmented': ['C4', 'E4', 'G#4'],\n",
        "        'C dominant 7th': ['C4', 'E4', 'G4', 'Bb4'],\n",
        "        'C major 7th': ['C4', 'E4', 'G4', 'B4'],\n",
        "        'C minor 7th': ['C4', 'Eb4', 'G4', 'Bb4'],\n",
        "        'C half-diminished 7th': ['C4', 'Eb4', 'Gb4', 'Bb4'],\n",
        "        'C fully diminished 7th': ['C4', 'Eb4', 'Gb4', 'A4'],\n",
        "    }\n",
        "\n",
        "    def create_melody(scale_name, duration):\n",
        "        \"\"\"Create a melody based on a given scale.\"\"\"\n",
        "        melody = music21.stream.Part()\n",
        "        scale = scales[scale_name]\n",
        "        for _ in range(duration):\n",
        "            note = music21.note.Note(random.choice(scale) + '4')\n",
        "            note.quarterLength = 1\n",
        "            melody.append(note)\n",
        "        return melody\n",
        "\n",
        "    def create_chord_progression(duration):\n",
        "        \"\"\"Create a chord progression.\"\"\"\n",
        "        harmony = music21.stream.Part()\n",
        "        for _ in range(duration):\n",
        "            chord_name = random.choice(list(chords.keys()))\n",
        "            chord = music21.chord.Chord(chords[chord_name])\n",
        "            chord.quarterLength = 1\n",
        "            harmony.append(chord)\n",
        "        return harmony\n",
        "\n",
        "    # Parse the user input to determine scale and style\n",
        "    user_input = state['input'].lower()\n",
        "    if 'minor' in user_input:\n",
        "        scale_name = 'C minor'\n",
        "    elif 'major' in user_input:\n",
        "        scale_name = 'C major'\n",
        "    else:\n",
        "        scale_name = random.choice(list(scales.keys()))\n",
        "\n",
        "    # Create a 7-second piece (7 beats at 60 BPM)\n",
        "    melody = create_melody(scale_name, 7)\n",
        "    harmony = create_chord_progression(7)\n",
        "\n",
        "    # Add a final whole note to make it exactly 8 beats (7 seconds at 60 BPM)\n",
        "    final_note = music21.note.Note(scales[scale_name][0] + '4')\n",
        "    final_note.quarterLength = 1\n",
        "    melody.append(final_note)\n",
        "\n",
        "    final_chord = music21.chord.Chord(chords[scale_name.split()[0] + ' ' + scale_name.split()[1]])\n",
        "    final_chord.quarterLength = 1\n",
        "    harmony.append(final_chord)\n",
        "\n",
        "    # Add the melody and harmony to the piece\n",
        "    piece.append(melody)\n",
        "    piece.append(harmony)\n",
        "\n",
        "    # Set the tempo to 60 BPM\n",
        "    piece.insert(0, music21.tempo.MetronomeMark(number=60))\n",
        "\n",
        "    # Create a temporary MIDI file\n",
        "    with tempfile.NamedTemporaryFile(delete=False, suffix='.mid') as temp_midi:\n",
        "        piece.write('midi', temp_midi.name)\n",
        "\n",
        "    return {\"midi_file\": temp_midi.name}"
      ],
      "metadata": {
        "id": "nqdpIu4JNLKV"
      },
      "execution_count": 35,
      "outputs": []
    },
    {
      "cell_type": "code",
      "source": [
        "builder: StateGraph = StateGraph(MusicState)\n",
        "\n",
        "builder.add_node(\"Melody Generator\", melody_generator_node)\n",
        "builder.add_node(\"Harmony Creator\", harmony_generator_node)\n",
        "builder.add_node(\"Rhythm Analyzer\", rhythm_generator_node)\n",
        "builder.add_node(\"Style Adapter\", style_adapter_node)\n",
        "builder.add_node(\"MIDI Converter\", midi_converter)\n",
        "\n",
        "builder.add_edge(START, \"Melody Generator\")\n",
        "builder.add_edge(\"Melody Generator\", \"Harmony Creator\")\n",
        "builder.add_edge(\"Harmony Creator\", \"Rhythm Analyzer\")\n",
        "builder.add_edge(\"Rhythm Analyzer\", \"Style Adapter\")\n",
        "builder.add_edge(\"Style Adapter\", 'MIDI Converter')\n",
        "builder.add_edge('MIDI Converter', END)\n",
        "\n",
        "agent: CompiledStateGraph = builder.compile()\n",
        "display(Image(agent.get_graph().draw_mermaid_png()))"
      ],
      "metadata": {
        "colab": {
          "base_uri": "https://localhost:8080/",
          "height": 647
        },
        "id": "_F5UL_GyPmMZ",
        "outputId": "0f2f8740-5e08-4df6-be63-13666d35bf66"
      },
      "execution_count": 36,
      "outputs": [
        {
          "output_type": "display_data",
          "data": {
            "image/jpeg": "[encoded data removed]",
            "text/plain": [
              "<IPython.core.display.Image object>"
            ]
          },
          "metadata": {}
        }
      ]
    },
    {
      "cell_type": "code",
      "source": [
        "inputs = {\n",
        "    \"input\": \"Create a happy piano piece in C major\",\n",
        "    \"style\": \"Romantic era\"\n",
        "}\n",
        "\n",
        "# Invoke the workflow\n",
        "result = agent.invoke(inputs)\n",
        "\n",
        "print(\"Composition created\")\n",
        "print(f\"MIDI file saved at: {result['midi_file']}\")"
      ],
      "metadata": {
        "colab": {
          "base_uri": "https://localhost:8080/"
        },
        "id": "-5IEEX5hQJjX",
        "outputId": "763f6954-d401-4970-b63c-9607d8bd410d"
      },
      "execution_count": 37,
      "outputs": [
        {
          "output_type": "stream",
          "name": "stdout",
          "text": [
            "Composition created\n",
            "MIDI file saved at: /tmp/tmpx83fqhvj.mid\n"
          ]
        }
      ]
    },
    {
      "cell_type": "code",
      "source": [
        "def play_midi(midi_file_path):\n",
        "    \"\"\"Play the generated MIDI file.\"\"\"\n",
        "    pygame.mixer.init()\n",
        "    pygame.mixer.music.load(midi_file_path)\n",
        "    pygame.mixer.music.play()\n",
        "\n",
        "    # Wait for playback to finish\n",
        "    while pygame.mixer.music.get_busy():\n",
        "        pygame.time.Clock().tick(10)\n",
        "\n",
        "    # Clean up\n",
        "    pygame.mixer.quit()\n",
        "\n",
        "\n",
        "print(\"To create and play a melody, run the following in a new cell:\")\n",
        "print(\"play_midi(result['midi_file'])\")"
      ],
      "metadata": {
        "colab": {
          "base_uri": "https://localhost:8080/"
        },
        "id": "ADwwwzt8QbQG",
        "outputId": "dc9ae874-f9ba-47c6-d58e-8942cd38e67e"
      },
      "execution_count": 38,
      "outputs": [
        {
          "output_type": "stream",
          "name": "stdout",
          "text": [
            "To create and play a melody, run the following in a new cell:\n",
            "play_midi(result['midi_file'])\n"
          ]
        }
      ]
    },
    {
      "cell_type": "code",
      "source": [],
      "metadata": {
        "id": "XNXC3KcxSrrW"
      },
      "execution_count": null,
      "outputs": []
    }
  ]
}