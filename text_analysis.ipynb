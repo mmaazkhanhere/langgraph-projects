{
  "nbformat": 4,
  "nbformat_minor": 0,
  "metadata": {
    "colab": {
      "provenance": []
    },
    "kernelspec": {
      "name": "python3",
      "display_name": "Python 3"
    },
    "language_info": {
      "name": "python"
    }
  },
  "cells": [
    {
      "cell_type": "code",
      "execution_count": 1,
      "metadata": {
        "colab": {
          "base_uri": "https://localhost:8080/"
        },
        "id": "792-k6UvSDq7",
        "outputId": "232de985-115d-4771-e04a-1f9dffa05373"
      },
      "outputs": [
        {
          "output_type": "stream",
          "name": "stdout",
          "text": [
            "\u001b[?25l   \u001b[90m━━━━━━━━━━━━━━━━━━━━━━━━━━━━━━━━━━━━━━━━\u001b[0m \u001b[32m0.0/119.3 kB\u001b[0m \u001b[31m?\u001b[0m eta \u001b[36m-:--:--\u001b[0m\r\u001b[2K   \u001b[90m━━━━━━━━━━━━━━━━━━━━━━━━━━━━━━━━━━━━━━━━\u001b[0m \u001b[32m119.3/119.3 kB\u001b[0m \u001b[31m3.9 MB/s\u001b[0m eta \u001b[36m0:00:00\u001b[0m\n",
            "\u001b[2K   \u001b[90m━━━━━━━━━━━━━━━━━━━━━━━━━━━━━━━━━━━━━━━━\u001b[0m \u001b[32m408.7/408.7 kB\u001b[0m \u001b[31m10.9 MB/s\u001b[0m eta \u001b[36m0:00:00\u001b[0m\n",
            "\u001b[2K   \u001b[90m━━━━━━━━━━━━━━━━━━━━━━━━━━━━━━━━━━━━━━━━\u001b[0m \u001b[32m41.8/41.8 kB\u001b[0m \u001b[31m1.5 MB/s\u001b[0m eta \u001b[36m0:00:00\u001b[0m\n",
            "\u001b[2K   \u001b[90m━━━━━━━━━━━━━━━━━━━━━━━━━━━━━━━━━━━━━━━━\u001b[0m \u001b[32m2.4/2.4 MB\u001b[0m \u001b[31m7.9 MB/s\u001b[0m eta \u001b[36m0:00:00\u001b[0m\n",
            "\u001b[2K   \u001b[90m━━━━━━━━━━━━━━━━━━━━━━━━━━━━━━━━━━━━━━━━\u001b[0m \u001b[32m1.0/1.0 MB\u001b[0m \u001b[31m34.8 MB/s\u001b[0m eta \u001b[36m0:00:00\u001b[0m\n",
            "\u001b[2K   \u001b[90m━━━━━━━━━━━━━━━━━━━━━━━━━━━━━━━━━━━━━━━━\u001b[0m \u001b[32m3.1/3.1 MB\u001b[0m \u001b[31m57.8 MB/s\u001b[0m eta \u001b[36m0:00:00\u001b[0m\n",
            "\u001b[2K   \u001b[90m━━━━━━━━━━━━━━━━━━━━━━━━━━━━━━━━━━━━━━━━\u001b[0m \u001b[32m1.2/1.2 MB\u001b[0m \u001b[31m47.6 MB/s\u001b[0m eta \u001b[36m0:00:00\u001b[0m\n",
            "\u001b[2K   \u001b[90m━━━━━━━━━━━━━━━━━━━━━━━━━━━━━━━━━━━━━━━━\u001b[0m \u001b[32m49.5/49.5 kB\u001b[0m \u001b[31m2.2 MB/s\u001b[0m eta \u001b[36m0:00:00\u001b[0m\n",
            "\u001b[?25h"
          ]
        }
      ],
      "source": [
        "!pip install  --quiet langgraph\n",
        "!pip install  --quiet langchain-google-genai\n",
        "!pip install --quiet langchain\n",
        "!pip install --quiet tavily-python langchain_community"
      ]
    },
    {
      "cell_type": "code",
      "source": [
        "from google.colab import userdata\n",
        "import getpass\n",
        "import textwrap\n",
        "from typing_extensions import TypedDict\n",
        "from typing import List\n",
        "\n",
        "from langchain_google_genai import ChatGoogleGenerativeAI\n",
        "from langchain_core.messages import AIMessage, HumanMessage\n",
        "from langchain.prompts import PromptTemplate\n",
        "\n",
        "from langgraph.graph import StateGraph, START, END, MessagesState\n",
        "from langgraph.graph.state import StateGraph\n",
        "from langgraph.graph.message import add_messages\n",
        "\n",
        "from IPython.display import Image, display, Markdown"
      ],
      "metadata": {
        "id": "2R6wrcsDCuXZ"
      },
      "execution_count": 53,
      "outputs": []
    },
    {
      "cell_type": "code",
      "source": [
        "# testing the llm\n",
        "\n",
        "google_api_key = userdata.get('GOOGLE_API_KEY')\n",
        "llm: ChatGoogleGenerativeAI = ChatGoogleGenerativeAI(model='gemini-1.5-flash',\n",
        "                                                    api_key=google_api_key\n",
        "                                                    )\n",
        "prompt: HumanMessage = HumanMessage(content=\"What is  2+2?\")\n",
        "messages = [prompt]\n",
        "response: AIMessage = llm.invoke(messages)\n",
        "\n",
        "print(response.content)"
      ],
      "metadata": {
        "colab": {
          "base_uri": "https://localhost:8080/"
        },
        "id": "NevuhTENDh4F",
        "outputId": "d420e481-6a82-4e53-cc43-0bfcff1ad15c"
      },
      "execution_count": 44,
      "outputs": [
        {
          "output_type": "stream",
          "name": "stdout",
          "text": [
            "2 + 2 = 4 \n",
            "\n"
          ]
        }
      ]
    },
    {
      "cell_type": "code",
      "source": [
        "class State(TypedDict):\n",
        "    text: str\n",
        "    classification: str\n",
        "    entities: List[str]\n",
        "    summary: str\n",
        "\n",
        "def to_markdown(text)-> Markdown:\n",
        "    text : str = text.replace(\"•\", \"  *\")\n",
        "    return Markdown(textwrap.indent(text, \"> \", predicate=lambda _: True))"
      ],
      "metadata": {
        "id": "Ry95G4MnEpym"
      },
      "execution_count": 77,
      "outputs": []
    },
    {
      "cell_type": "code",
      "source": [
        "def text_classification(state: State):\n",
        "  \"\"\"Classify text into one of the categories: News, Blog, Research or Other\"\"\"\n",
        "\n",
        "  text = state['text']\n",
        "  prompt = f\"You will be given a text {text} and you have to classify in one of the categories: News, Blog, Research, or Other. Just return the category\"\n",
        "  message = [prompt]\n",
        "  classification = llm.invoke(message).content\n",
        "  return {\"classification\": classification}\n",
        "\n",
        "def entity_extraction(state: State ):\n",
        "  \"\"\"Extract all the entities (Person, Organization, Location) from the text\"\"\"\n",
        "\n",
        "  input_text = state['text']\n",
        "  prompt = f\"\"\"You will get an input text {input_text} that you will identify and extract\n",
        "  key entities such as persons, organizations, and locations from the text. Just give the\n",
        "  entities only in form of list\"\"\"\n",
        "  message = [prompt]\n",
        "  entities = llm.invoke(message).content\n",
        "  return {\"entities\": entities}\n",
        "\n",
        "def text_summarization(state: State):\n",
        "  \"\"\"Sumarize given text in one short sentence\"\"\"\n",
        "\n",
        "  input_text = state['text']\n",
        "  prompt = f\"\"\"You will get an input text {input_text} that you will summarize in one sentence.\"\"\"\n",
        "  summary: AIMessage = llm.invoke(prompt).content\n",
        "  return {\"summary\": summary}"
      ],
      "metadata": {
        "id": "1pvjWb6cJrTi"
      },
      "execution_count": 78,
      "outputs": []
    },
    {
      "cell_type": "code",
      "source": [
        "builder: StateGraph = StateGraph(State)\n",
        "\n",
        "builder.add_node(\"text_classification\", text_classification)\n",
        "builder.add_node(\"entity_extraction\", entity_extraction)\n",
        "builder.add_node(\"text_summarization\", text_summarization)\n",
        "\n",
        "builder.add_edge(START, \"text_classification\")\n",
        "builder.add_edge(\"text_classification\", \"entity_extraction\")\n",
        "builder.add_edge(\"entity_extraction\", \"text_summarization\")\n",
        "builder.add_edge(\"text_summarization\", END)\n",
        "\n",
        "graph: StateGraph = builder.compile()"
      ],
      "metadata": {
        "id": "0HFl-FggJtjv"
      },
      "execution_count": 79,
      "outputs": []
    },
    {
      "cell_type": "code",
      "source": [
        "display(Image(graph.get_graph().draw_mermaid_png()))"
      ],
      "metadata": {
        "colab": {
          "base_uri": "https://localhost:8080/",
          "height": 449
        },
        "id": "NQtMu1jHKZog",
        "outputId": "2c7f189d-cb48-4f6a-d726-76e3b1f04377"
      },
      "execution_count": 80,
      "outputs": [
        {
          "output_type": "display_data",
          "data": {
            "image/jpeg": "[encoded data removed]",
            "text/plain": [
              "<IPython.core.display.Image object>"
            ]
          },
          "metadata": {}
        }
      ]
    },
    {
      "cell_type": "code",
      "source": [
        "input = {\"text\": \"\"\"OpenAI has announced the GPT-4 model, which is a large multimodal\n",
        "model that exhibits human-level performance on various professional benchmarks.\n",
        "It is developed to improve the alignment and safety of AI systems.\n",
        "additionally, the model is designed to be more efficient and scalable than its predecessor,\n",
        "GPT-3. The GPT-4 model is expected to be released in the coming months and will be available\n",
        "to the public for research and development purposes.\"\"\"}\n",
        "\n",
        "result = graph.invoke(input)"
      ],
      "metadata": {
        "id": "O8WGoDhkKeV_"
      },
      "execution_count": 81,
      "outputs": []
    },
    {
      "cell_type": "code",
      "source": [
        "print(\"Classification:\", result[\"classification\"])\n",
        "print(\"\\nEntities:\", result[\"entities\"])\n",
        "print(\"\\nSummary:\", result[\"summary\"])"
      ],
      "metadata": {
        "colab": {
          "base_uri": "https://localhost:8080/"
        },
        "id": "uZKmoQnhKrHe",
        "outputId": "584fbfe0-4c99-4e86-c322-8c7e432b13b4"
      },
      "execution_count": 82,
      "outputs": [
        {
          "output_type": "stream",
          "name": "stdout",
          "text": [
            "Classification: News \n",
            "\n",
            "\n",
            "Entities: - OpenAI\n",
            "- GPT-4\n",
            "- GPT-3 \n",
            "\n",
            "\n",
            "Summary: OpenAI's upcoming GPT-4 model, a multimodal AI with human-level capabilities across various professional benchmarks, aims to improve AI safety and efficiency while being made available for public research and development. \n",
            "\n"
          ]
        }
      ]
    },
    {
      "cell_type": "code",
      "source": [],
      "metadata": {
        "id": "mChMdz6GK3LP"
      },
      "execution_count": null,
      "outputs": []
    }
  ]
}