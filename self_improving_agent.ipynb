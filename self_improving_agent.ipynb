{
  "nbformat": 4,
  "nbformat_minor": 0,
  "metadata": {
    "colab": {
      "provenance": []
    },
    "kernelspec": {
      "name": "python3",
      "display_name": "Python 3"
    },
    "language_info": {
      "name": "python"
    }
  },
  "cells": [
    {
      "cell_type": "code",
      "execution_count": 16,
      "metadata": {
        "colab": {
          "base_uri": "https://localhost:8080/"
        },
        "id": "ljha4Y4sFVrW",
        "outputId": "a437569c-29ab-42f1-d817-e6dfcc5b29b2"
      },
      "outputs": [
        {
          "output_type": "stream",
          "name": "stdout",
          "text": [
            "\u001b[?25l   \u001b[90m━━━━━━━━━━━━━━━━━━━━━━━━━━━━━━━━━━━━━━━━\u001b[0m \u001b[32m0.0/124.8 kB\u001b[0m \u001b[31m?\u001b[0m eta \u001b[36m-:--:--\u001b[0m\r\u001b[2K   \u001b[91m━━━━━━━━━━━━━━━━━━━━━━━━━━━━━━━━━━━━━━━\u001b[0m\u001b[90m╺\u001b[0m \u001b[32m122.9/124.8 kB\u001b[0m \u001b[31m4.5 MB/s\u001b[0m eta \u001b[36m0:00:01\u001b[0m\r\u001b[2K   \u001b[90m━━━━━━━━━━━━━━━━━━━━━━━━━━━━━━━━━━━━━━━━\u001b[0m \u001b[32m124.8/124.8 kB\u001b[0m \u001b[31m3.1 MB/s\u001b[0m eta \u001b[36m0:00:00\u001b[0m\n",
            "\u001b[?25h"
          ]
        }
      ],
      "source": [
        "!pip install  --quiet langchain-google-genai\n",
        "!pip install --quiet langchain\n",
        "!pip install --quiet langchain-community\n",
        "!pip install  --quiet langgraph"
      ]
    },
    {
      "cell_type": "code",
      "source": [
        "from google.colab import userdata\n",
        "from IPython.display import Image, display, Markdown\n",
        "from typing import TypedDict, Annotated, List\n",
        "import textwrap\n",
        "\n",
        "from langchain_google_genai import ChatGoogleGenerativeAI\n",
        "\n",
        "from langgraph.graph import StateGraph, END, START\n",
        "from langgraph.graph.state import CompiledStateGraph\n",
        "from langgraph.graph.message import add_messages\n",
        "from langgraph.checkpoint.memory import MemorySaver"
      ],
      "metadata": {
        "id": "YU6elHcLFaMh"
      },
      "execution_count": 46,
      "outputs": []
    },
    {
      "cell_type": "code",
      "source": [
        "google_api_key = userdata.get('GOOGLE_API_KEY')\n",
        "\n",
        "model: ChatGoogleGenerativeAI = ChatGoogleGenerativeAI(model=\"gemini-1.5-flash\",\n",
        "                                                      api_key=google_api_key\n",
        "                                                      )\n",
        "\n",
        "model.invoke(\"What is 2+2?\").content"
      ],
      "metadata": {
        "colab": {
          "base_uri": "https://localhost:8080/",
          "height": 36
        },
        "id": "wv5sO7YyH-Ff",
        "outputId": "a68c4be5-7445-4e9b-ff71-6778fbae012b"
      },
      "execution_count": 8,
      "outputs": [
        {
          "output_type": "execute_result",
          "data": {
            "text/plain": [
              "'2 + 2 = 4\\n'"
            ],
            "application/vnd.google.colaboratory.intrinsic+json": {
              "type": "string"
            }
          },
          "metadata": {},
          "execution_count": 8
        }
      ]
    },
    {
      "cell_type": "code",
      "source": [
        "def to_markdown(text)-> Markdown:\n",
        "    text : str = text.replace(\"•\", \"  *\")\n",
        "    return Markdown(textwrap.indent(text, \"> \", predicate=lambda _: True))"
      ],
      "metadata": {
        "id": "Z4PD0_Y0TSpc"
      },
      "execution_count": 47,
      "outputs": []
    },
    {
      "cell_type": "code",
      "source": [
        "memory = MemorySaver()\n",
        "\n",
        "class AgentState(TypedDict):\n",
        "  message: str\n",
        "  reflection: str\n",
        "  self_improvement: str\n",
        "  response: List[str]\n",
        "  number_of_iters: int"
      ],
      "metadata": {
        "id": "iAWMSm1kKS77"
      },
      "execution_count": 40,
      "outputs": []
    },
    {
      "cell_type": "code",
      "source": [
        "def response_generator_node(state: AgentState):\n",
        "  \"\"\"LangGraph node that is responsible to generate response for given message\"\"\"\n",
        "  print(\"🤖 Response Generator Node \\n\")\n",
        "  message = state['message']\n",
        "  prompt = f\"\"\"Generate appropriate response for the message {message}\"\"\"\n",
        "  model_response = model.invoke(prompt).content\n",
        "  response = state.get('response', [])\n",
        "  response.append(model_response)\n",
        "  print(f\"\\n✉️Response Generator Node ... \\n\\n {model_response[:150]}\")\n",
        "  return {'response': response}\n",
        "\n",
        "\n",
        "def reflection_node(state: AgentState):\n",
        "  \"\"\"LangGraph node that is responsible to generate reflection for given message\"\"\"\n",
        "  print(\"🤔 Reflection Node \\n\")\n",
        "  response = state['response']\n",
        "  prompt = f\"\"\"Generate appropriate reflection for the response {response}\"\"\"\n",
        "  reflection = model.invoke(prompt).content\n",
        "  print(f\"\\n✉️Reflection Node ... \\n\\n {reflection[:150]}\")\n",
        "  return {'reflection': reflection}\n",
        "\n",
        "\n",
        "def self_improvement_node(state: AgentState):\n",
        "  \"\"\"LangGraph node that is responsible to generate self improvement for given message\"\"\"\n",
        "  print(\"📈 Self Improvement Node \\n\")\n",
        "  reflection = state['reflection']\n",
        "  prompt = f\"\"\"Based on these insights {reflection}, update the agent knowledge and behavior.\n",
        "          Summarize the key point to remember\n",
        "          \"\"\"\n",
        "  self_improvement = model.invoke(prompt).content\n",
        "  print(f\"\\n✉️Self Improvement Node ... \\n\\n {self_improvement[:150]}\")\n",
        "  return {'self_improvement': self_improvement}\n",
        "\n",
        "\n",
        "def router(state: AgentState):\n",
        "  \"\"\" A utility function that define how many time to iterate on response to improve\"\"\"\n",
        "  response = state[\"response\"]\n",
        "  number_of_iters = state.get(\"number_of_iters\", 2)\n",
        "  number_of_responses = len(response)\n",
        "  if number_of_responses >= number_of_iters:\n",
        "    return END\n",
        "  return \"Reflection Node\""
      ],
      "metadata": {
        "id": "A23A3ZYiLrQq"
      },
      "execution_count": 41,
      "outputs": []
    },
    {
      "cell_type": "code",
      "source": [
        "builder: StateGraph = StateGraph(AgentState)\n",
        "\n",
        "builder.add_node(\"Response Generator Node\", response_generator_node)\n",
        "builder.add_node(\"Reflection Node\", reflection_node)\n",
        "builder.add_node(\"Self Improvement Node\", self_improvement_node)\n",
        "\n",
        "builder.add_edge(START, \"Response Generator Node\")\n",
        "builder.add_conditional_edges(\"Response Generator Node\", router, ['Reflection Node', END])\n",
        "builder.add_edge(\"Reflection Node\", \"Self Improvement Node\")\n",
        "builder.add_edge(\"Self Improvement Node\", \"Response Generator Node\")\n",
        "\n",
        "agent = builder.compile(checkpointer=memory)\n",
        "display(Image(agent.get_graph().draw_mermaid_png()))"
      ],
      "metadata": {
        "colab": {
          "base_uri": "https://localhost:8080/",
          "height": 365
        },
        "id": "4RM64vdMPdv5",
        "outputId": "4597c0f5-a59f-4ff8-ba22-88c92f32eeb6"
      },
      "execution_count": 42,
      "outputs": [
        {
          "output_type": "display_data",
          "data": {
            "image/png": "[encoded data removed]",
            "text/plain": [
              "<IPython.core.display.Image object>"
            ]
          },
          "metadata": {}
        }
      ]
    },
    {
      "cell_type": "code",
      "source": [
        "message = \"What is attention in human cognition?\"\n",
        "thread = {\"configurable\": {\"thread_id\": \"1\"}}\n",
        "response = agent.invoke({\"message\": message, \"num_of_iters\": 2}, thread)"
      ],
      "metadata": {
        "colab": {
          "base_uri": "https://localhost:8080/"
        },
        "id": "QqmnU1y0RGRX",
        "outputId": "557e90a8-ff31-47fd-9afc-c8178c3812a1"
      },
      "execution_count": 43,
      "outputs": [
        {
          "output_type": "stream",
          "name": "stdout",
          "text": [
            "🤖 Response Generator Node \n",
            "\n",
            "\n",
            "✉️Response Generator Node ... \n",
            "\n",
            " Attention in human cognition refers to the cognitive process of selectively concentrating on a discrete aspect of the environment while ignoring other\n",
            "🤔 Reflection Node \n",
            "\n",
            "\n",
            "✉️Reflection Node ... \n",
            "\n",
            " This response provides a comprehensive and well-structured overview of attention in human cognition.  I appreciate the clear definition that establish\n",
            "📈 Self Improvement Node \n",
            "\n",
            "\n",
            "✉️Self Improvement Node ... \n",
            "\n",
            " The agent's knowledge has been updated to include a more comprehensive understanding of attention in human cognition.  Key improvements include incorp\n",
            "🤖 Response Generator Node \n",
            "\n",
            "\n",
            "✉️Response Generator Node ... \n",
            "\n",
            " Attention in human cognition refers to the cognitive process of selectively concentrating on a discrete aspect of the environment while ignoring other\n"
          ]
        }
      ]
    },
    {
      "cell_type": "code",
      "source": [
        "to_markdown(response['response'][-1])"
      ],
      "metadata": {
        "colab": {
          "base_uri": "https://localhost:8080/",
          "height": 318
        },
        "id": "UND2QoIVR45n",
        "outputId": "67930239-8691-4f7f-fcb5-53c661d763fa"
      },
      "execution_count": 49,
      "outputs": [
        {
          "output_type": "execute_result",
          "data": {
            "text/plain": [
              "<IPython.core.display.Markdown object>"
            ],
            "text/markdown": "> Attention in human cognition refers to the cognitive process of selectively concentrating on a discrete aspect of the environment while ignoring other perceivable aspects.  It's not a single, unified process, but rather a complex set of mechanisms that allow us to filter, prioritize, and process information efficiently.  Key aspects include:\n> \n> * **Selective attention:** Focusing on one thing while ignoring others (e.g., listening to a conversation in a noisy room).  This involves both focusing on a target stimulus and inhibiting distractions.\n> \n> * **Sustained attention:** Maintaining focus over a period of time (e.g., reading a long chapter). This requires vigilance and resistance to fatigue.\n> \n> * **Divisive attention:** Attending to multiple things simultaneously (e.g., driving and talking).  This is often limited and can lead to performance decrements in each task.\n> \n> * **Switching attention:** Shifting focus between different tasks or stimuli (e.g., alternating between reading and writing). This involves cognitive control and executive functions.\n> \n> These different aspects of attention interact and are influenced by various factors such as motivation, arousal, and cognitive load.  Damage to specific brain regions can lead to impairments in different aspects of attention, highlighting the complex neural basis of this crucial cognitive function.  Understanding attention is essential to comprehending how we perceive, learn, and interact with the world.\n"
          },
          "metadata": {},
          "execution_count": 49
        }
      ]
    },
    {
      "cell_type": "code",
      "source": [],
      "metadata": {
        "id": "uOTti8j9TLHw"
      },
      "execution_count": null,
      "outputs": []
    }
  ]
}