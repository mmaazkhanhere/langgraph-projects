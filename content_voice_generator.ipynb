{
  "nbformat": 4,
  "nbformat_minor": 0,
  "metadata": {
    "colab": {
      "provenance": []
    },
    "kernelspec": {
      "name": "python3",
      "display_name": "Python 3"
    },
    "language_info": {
      "name": "python"
    }
  },
  "cells": [
    {
      "cell_type": "code",
      "execution_count": 17,
      "metadata": {
        "id": "LywA02P7N9kj"
      },
      "outputs": [],
      "source": [
        "!pip install  --quiet langgraph\n",
        "!pip install  --quiet langchain-google-genai\n",
        "!pip install --quiet langchain\n",
        "!pip install --quiet text-to-speech"
      ]
    },
    {
      "cell_type": "code",
      "source": [
        "from typing import TypedDict\n",
        "from google.colab import userdata\n",
        "from text_to_speech import save\n",
        "\n",
        "from langchain_core.messages import AIMessage, HumanMessage\n",
        "from langchain_google_genai import ChatGoogleGenerativeAI\n",
        "\n",
        "from langgraph.graph.state import StateGraph, START, END, CompiledStateGraph\n",
        "\n",
        "from IPython.display import Image, display, Markdown"
      ],
      "metadata": {
        "id": "uMxH0EFgOMiv"
      },
      "execution_count": 27,
      "outputs": []
    },
    {
      "cell_type": "code",
      "source": [
        "# getting api key for gemini\n",
        "google_api_key = userdata.get('GOOGLE_API_KEY')\n",
        "\n",
        "#initiating a gemini model\n",
        "gemini: ChatGoogleGenerativeAI = ChatGoogleGenerativeAI(model=\"gemini-1.5-flash\",\n",
        "                                                        api_key=google_api_key)\n",
        "\n",
        "# prompt message that has role of human message (a message from human)\n",
        "prompt: HumanMessage = HumanMessage(content='Hello! What is your name?', name='Gemini')\n",
        "\n",
        "messages = [prompt]\n",
        "\n",
        "#checking gemini response\n",
        "gemini.invoke(messages).content"
      ],
      "metadata": {
        "colab": {
          "base_uri": "https://localhost:8080/",
          "height": 53
        },
        "id": "6DOlOSZlOxxa",
        "outputId": "44f9870d-83c3-431b-f3d1-bbb68e12e50c"
      },
      "execution_count": 12,
      "outputs": [
        {
          "output_type": "execute_result",
          "data": {
            "text/plain": [
              "\"I don't have a name. I am a large language model, and I am not a person. I am here to help you with your questions and requests. \\n\\nWhat can I do for you today? 😊 \\n\""
            ],
            "application/vnd.google.colaboratory.intrinsic+json": {
              "type": "string"
            }
          },
          "metadata": {},
          "execution_count": 12
        }
      ]
    },
    {
      "cell_type": "code",
      "source": [
        "class State(TypedDict):\n",
        "  text: str\n",
        "  classification: str\n",
        "  generation: str\n",
        "  audio_path: str"
      ],
      "metadata": {
        "id": "jjDzrAWcPsfc"
      },
      "execution_count": 28,
      "outputs": []
    },
    {
      "cell_type": "code",
      "source": [
        "def content_classifier_node(state: State):\n",
        "  \"\"\"This function classifies a text\"\"\"\n",
        "  text = state['text']\n",
        "  prompt = f\"\"\"Classify the given text {text} into one of four categories; General,\n",
        "  Poem, News, Joke. Return only category\"\"\"\n",
        "  category = gemini.invoke(prompt).content\n",
        "  return {'classification': category}\n",
        "\n",
        "def process_general_node(state: State):\n",
        "  \"\"\"This function process general category content using AI and return response\"\"\"\n",
        "  text = state[\"text\"]\n",
        "  return {'generation': text}\n",
        "\n",
        "def process_poem_node(state: State):\n",
        "  \"\"\"This function process poem category content using AI and return response\"\"\"\n",
        "  text = state[\"text\"]\n",
        "  prompt = f'''Process the given poem text {text} and rewrite it for enhanced poetic quality'''\n",
        "  response = gemini.invoke(prompt).content\n",
        "  return {'generation': response}\n",
        "\n",
        "def process_news_node(state: State):\n",
        "  \"\"\"This function process news category content using AI and return response\"\"\"\n",
        "  text = state[\"text\"]\n",
        "  prompt = f'''Process the given news text {text} and rewrite and reformat it into a\n",
        "  formal news anchor style'''\n",
        "  response = gemini.invoke(prompt).content\n",
        "  return {'generation': response}\n",
        "\n",
        "def process_joke_node(state: State):\n",
        "  \"\"\"This function process joke category content using AI and return response\"\"\"\n",
        "  text = state[\"text\"]\n",
        "  prompt = f'''Process the given joke text {text} and refined it for humor'''\n",
        "  response = gemini.invoke(prompt).content\n",
        "  return {'generation': response}\n",
        "\n",
        "def text_to_speech_node(state: State):\n",
        "  \"\"\"This function converts text to speech\"\"\"\n",
        "  text = state[\"generation\"]\n",
        "  language = \"en\"\n",
        "  output_file = \"response.mp3\"\n",
        "  save(text, language, output_file)\n",
        "  return {'audio_path': output_file}\n",
        "\n",
        "def node_decider(state:State):\n",
        "  \"\"\"A utility function that decides which node to execute\"\"\"\n",
        "  if 'Poem' in  state['classification']:\n",
        "    return \"process_poem_node\"\n",
        "  elif 'News' in state['classification']:\n",
        "    return \"process_news_node\"\n",
        "  elif 'Joke' in state['classification']:\n",
        "    return \"process_joke_node\"\n",
        "  else:\n",
        "    return \"process_general_node\""
      ],
      "metadata": {
        "id": "QiNeKQlYUb1a"
      },
      "execution_count": 32,
      "outputs": []
    },
    {
      "cell_type": "code",
      "source": [
        "builder: StateGraph = StateGraph(State)\n",
        "\n",
        "builder.add_node(\"content_classifier_node\", content_classifier_node)\n",
        "builder.add_node(\"process_general_node\", process_general_node)\n",
        "builder.add_node(\"process_poem_node\", process_poem_node)\n",
        "builder.add_node(\"process_news_node\", process_news_node)\n",
        "builder.add_node(\"process_joke_node\", process_joke_node)\n",
        "builder.add_node(\"text_to_speech_node\", text_to_speech_node)\n",
        "\n",
        "builder.add_edge(START, \"content_classifier_node\")\n",
        "builder.add_conditional_edges(\"content_classifier_node\", node_decider,{\n",
        "    \"process_general_node\": \"process_general_node\",\n",
        "    \"process_poem_node\": \"process_poem_node\",\n",
        "    \"process_news_node\": \"process_news_node\",\n",
        "    \"process_joke_node\": \"process_joke_node\"\n",
        "})\n",
        "builder.add_edge(\"process_general_node\", \"text_to_speech_node\")\n",
        "builder.add_edge(\"process_poem_node\", \"text_to_speech_node\")\n",
        "builder.add_edge(\"process_news_node\", \"text_to_speech_node\")\n",
        "builder.add_edge(\"process_joke_node\", \"text_to_speech_node\")\n",
        "builder.add_edge(\"text_to_speech_node\", END)\n",
        "\n",
        "agent: CompiledStateGraph = builder.compile()\n",
        "\n",
        "display(Image(agent.get_graph().draw_mermaid_png()))"
      ],
      "metadata": {
        "colab": {
          "base_uri": "https://localhost:8080/",
          "height": 449
        },
        "id": "e8CqDC2Wa6aE",
        "outputId": "a4c07e0f-dd09-4b9e-cf1a-53922329051f"
      },
      "execution_count": 33,
      "outputs": [
        {
          "output_type": "display_data",
          "data": {
            "image/jpeg": "[encoded data removed]",
            "text/plain": [
              "<IPython.core.display.Image object>"
            ]
          },
          "metadata": {}
        }
      ]
    },
    {
      "cell_type": "code",
      "source": [
        "input_text = \"Roses are red, violets are blue, AI is amazing, and so are you!\"\n",
        "result = agent.invoke({\"text\": input_text,\n",
        "                       \"classification\": \"\",\n",
        "                       \"generation\": \"\",\n",
        "                      \"audio_path\": \"\",\n",
        "                      })\n",
        "print(f\"Category: {result['classification']}\")\n",
        "print(f\"Generation: {result['generation']}\")"
      ],
      "metadata": {
        "colab": {
          "base_uri": "https://localhost:8080/"
        },
        "id": "fRGLsbKzdaci",
        "outputId": "b2eb6ebb-5f07-4779-c94c-a7232f473616"
      },
      "execution_count": 34,
      "outputs": [
        {
          "output_type": "stream",
          "name": "stdout",
          "text": [
            "Category: Poem \n",
            "\n",
            "Generation: ##  A Revised Rose\n",
            "\n",
            "Crimson blooms unfurl, a velvet hue,\n",
            "While violets whisper, a gentle blue.\n",
            "AI, a marvel, weaves its magic bright,\n",
            "And in your presence, all the world takes flight. \n",
            "\n"
          ]
        }
      ]
    },
    {
      "cell_type": "code",
      "source": [
        "result[\"audio_path\"]"
      ],
      "metadata": {
        "colab": {
          "base_uri": "https://localhost:8080/",
          "height": 35
        },
        "id": "fM0B7vdmfCpN",
        "outputId": "ea57a07d-0e15-4c74-af5b-3300de2fe51b"
      },
      "execution_count": 35,
      "outputs": [
        {
          "output_type": "execute_result",
          "data": {
            "text/plain": [
              "'response.mp3'"
            ],
            "application/vnd.google.colaboratory.intrinsic+json": {
              "type": "string"
            }
          },
          "metadata": {},
          "execution_count": 35
        }
      ]
    },
    {
      "cell_type": "code",
      "source": [
        "input_text = \"Breaking news: Scientists discover a new species of deep-sea creature in the Mariana Trench.\"\n",
        "result = agent.invoke({\"text\": input_text,\n",
        "                       \"classification\": \"\",\n",
        "                       \"generation\": \"\",\n",
        "                      \"audio_path\": \"\",\n",
        "                      })\n",
        "print(f\"Category: {result['classification']}\")\n",
        "print(f\"Generation: {result['generation']}\")"
      ],
      "metadata": {
        "colab": {
          "base_uri": "https://localhost:8080/"
        },
        "id": "9A5YoZ9NgP_R",
        "outputId": "375b1d68-f4e5-4378-a514-31b176845750"
      },
      "execution_count": 37,
      "outputs": [
        {
          "output_type": "stream",
          "name": "stdout",
          "text": [
            "Category: News \n",
            "\n",
            "Generation: ##  Breaking News:  Deep-Sea Discovery in the Mariana Trench\n",
            "\n",
            "**Good evening, and welcome back. We have breaking news coming in from the world of marine biology. Scientists have just announced the discovery of a new species of deep-sea creature in the Mariana Trench.**\n",
            "\n",
            "This remarkable find is a testament to the incredible biodiversity still waiting to be discovered in the deepest parts of our oceans. The creature, whose name is yet to be formally announced, was discovered during a recent expedition to the trench, the deepest known point on Earth. \n",
            "\n",
            "**We'll be bringing you more information as it becomes available, including details about the creature's appearance, behavior, and potential implications for our understanding of deep-sea ecosystems.** \n",
            "\n",
            "**Stay tuned for updates.** \n",
            "\n"
          ]
        }
      ]
    },
    {
      "cell_type": "code",
      "source": [
        "input_text = \"Why don't scientists trust atoms? Because they make up everything!\"\n",
        "result = agent.invoke({\"text\": input_text,\n",
        "                       \"classification\": \"\",\n",
        "                       \"generation\": \"\",\n",
        "                      \"audio_path\": \"\",\n",
        "                      })\n",
        "print(f\"Category: {result['classification']}\")\n",
        "print(f\"Generation: {result['generation']}\")"
      ],
      "metadata": {
        "colab": {
          "base_uri": "https://localhost:8080/"
        },
        "id": "pcrjyxYBg_Zn",
        "outputId": "0ba809a5-21b0-4668-bb89-f47f16712a8c"
      },
      "execution_count": 39,
      "outputs": [
        {
          "output_type": "stream",
          "name": "stdout",
          "text": [
            "Category: Joke \n",
            "\n",
            "Generation: Here are a few ways to refine the joke \"Why don't scientists trust atoms? Because they make up everything!\" for humor:\n",
            "\n",
            "**Playing with the wording:**\n",
            "\n",
            "* **\"Why don't scientists trust atoms? Because they're always making things up!\"**  This emphasizes the \"make up\" part in a way that makes it sound like atoms are lying. \n",
            "* **\"Why don't scientists trust atoms? Because they're always splitting hairs!\"** This uses the scientific concept of nuclear fission to create a pun about being picky or nitpicky.\n",
            "\n",
            "**Adding a visual element:**\n",
            "\n",
            "* **\"Why don't scientists trust atoms? Because they're always making things up... literally!\"**  This could be followed by a picture of an atom with a mischievous grin or a scientist looking suspicious.\n",
            "\n",
            "**Making it more relatable:**\n",
            "\n",
            "* **\"Why don't scientists trust atoms? Because they're always making up excuses for why they can't be in a relationship!\"** This makes the joke more relevant to everyday life.\n",
            "\n",
            "**Adding a twist:**\n",
            "\n",
            "* **\"Why don't scientists trust atoms? Because they're always talking about their electron cloud!\"** This plays on the idea of atoms being gossipy.\n",
            "\n",
            "Ultimately, the best way to refine the joke depends on your audience and the kind of humor you're aiming for. \n",
            "\n"
          ]
        }
      ]
    },
    {
      "cell_type": "code",
      "source": [],
      "metadata": {
        "id": "3V3Ji64ghPc_"
      },
      "execution_count": null,
      "outputs": []
    }
  ]
}