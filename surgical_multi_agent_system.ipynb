{
  "nbformat": 4,
  "nbformat_minor": 0,
  "metadata": {
    "colab": {
      "provenance": []
    },
    "kernelspec": {
      "name": "python3",
      "display_name": "Python 3"
    },
    "language_info": {
      "name": "python"
    }
  },
  "cells": [
    {
      "cell_type": "code",
      "execution_count": 12,
      "metadata": {
        "id": "MEkJ21oWfz6a"
      },
      "outputs": [],
      "source": [
        "!pip install  --quiet langchain-google-genai\n",
        "!pip install --quiet langchain"
      ]
    },
    {
      "cell_type": "code",
      "source": [
        "import time\n",
        "from google.colab import userdata\n",
        "from typing import List, Dict\n",
        "\n",
        "from langchain_google_genai import ChatGoogleGenerativeAI\n",
        "from langchain.schema import HumanMessage, SystemMessage, AIMessage"
      ],
      "metadata": {
        "id": "kTjFZNoula1o"
      },
      "execution_count": 21,
      "outputs": []
    },
    {
      "cell_type": "code",
      "source": [
        "google_api_key = userdata.get('GOOGLE_API_KEY')\n",
        "\n",
        "model: ChatGoogleGenerativeAI = ChatGoogleGenerativeAI(model=\"gemini-1.5-flash\",\n",
        "                                                      api_key=google_api_key)\n",
        "\n",
        "model.invoke(\"What is capital of Australia?\").content"
      ],
      "metadata": {
        "colab": {
          "base_uri": "https://localhost:8080/",
          "height": 36
        },
        "id": "eh7Xa-rUlp2U",
        "outputId": "1b1a274c-6dba-46fc-8146-45e61772b1fd"
      },
      "execution_count": 22,
      "outputs": [
        {
          "output_type": "execute_result",
          "data": {
            "text/plain": [
              "'The capital of Australia is **Canberra**. \\n'"
            ],
            "application/vnd.google.colaboratory.intrinsic+json": {
              "type": "string"
            }
          },
          "metadata": {},
          "execution_count": 22
        }
      ]
    },
    {
      "cell_type": "code",
      "source": [
        "class Agent:\n",
        "  def __init__(self, name: str, role: str, skills: List[str]):\n",
        "    self.name = name\n",
        "    self.role = role\n",
        "    self.skills = skills\n",
        "    self.model = model\n",
        "\n",
        "  def process(self, task: str, context: List[Dict] = None):\n",
        "    messages = [\n",
        "        SystemMessage(content=f\"\"\"You are {self.name}, a {self.role} with following\n",
        "        skills: {\", \".join(self.skills)}. Respond to the surgeon query based\n",
        "        on your role and skills\"\"\"),\n",
        "    ]\n",
        "    if context: #check if context available\n",
        "      for message in context: # for every message in context\n",
        "        if message[\"role\"] == \"human\":\n",
        "          messages.append(HumanMessage(content=message[\"content\"]))\n",
        "        elif message[\"role\"] == \"ai\":\n",
        "          messages.append(AIMessage(content=message[\"content\"]))\n",
        "    # if no context, the first message is a human message whose content is the\n",
        "    # the task that is assigned to the agent\n",
        "    messages.append(HumanMessage(content=task))\n",
        "    # process the messages with llm\n",
        "    response = self.model.invoke(messages)\n",
        "    return response.content"
      ],
      "metadata": {
        "id": "1y1farBTpVOz"
      },
      "execution_count": 23,
      "outputs": []
    },
    {
      "cell_type": "code",
      "source": [
        "# defininig specialized agents\n",
        "class AnatomySpecialistAgent(Agent):\n",
        "  def __init__(self):\n",
        "    super().__init__(\"James\",\n",
        "                     \"Human Anatomy Specialist\",\n",
        "                      [\"deep knowledge of human anatomy\", \"understanding of surgery complexities\", \"suggesting suitable actions for surgical procedures in context of anatomy\"]\n",
        "                    )\n",
        "\n",
        "class SurgicalRiskAgent(Agent):\n",
        "  def __init__(self):\n",
        "    super().__init__(\"Alice\",\n",
        "                     \"Surgical Risk Analyst\",\n",
        "                     [\"analyses risks of surgeries\", \"surgical guidance\", \"complication prevention\"]\n",
        "                    )"
      ],
      "metadata": {
        "id": "sYrG_hFqG2uU"
      },
      "execution_count": 33,
      "outputs": []
    },
    {
      "cell_type": "code",
      "source": [
        "# defining different functions for collaboration system\n",
        "\n",
        "def anatomy_specialist_function(anatomy_agent, task: str, context: list):\n",
        "  print(\"Anatomy Agent: Analyzing anatomy aspects of surgery\")\n",
        "  anatomy_task = f\"\"\"Provide related anatomy insights to the surgeon query {task} that\n",
        "                may help in successful surgery\n",
        "                \"\"\"\n",
        "  result = anatomy_agent.process(anatomy_task)\n",
        "  context.append({\"role\": \"ai\", \"content\": f\"{result}\"})\n",
        "  print(f\"Anatomy Agent: {result[:150]}... \\n\")\n",
        "  return context\n",
        "\n",
        "\n",
        "def risk_analyst_function(risk_agent, task: str, context: list):\n",
        "  print(\"Risk Analyst: Analyzing surgical risks\")\n",
        "  risk_task = f\"\"\"Provide risk insighted related to the tast {task} that may help\n",
        "              in successful surgery\n",
        "              \"\"\"\n",
        "  result = risk_agent.process(risk_task)\n",
        "  context.append({\"role\": \"ai\", \"content\": f\"{result}\"})\n",
        "  print(f\"Risk Analyst: {result[:150]}... \\n\")\n",
        "  return context\n",
        "\n",
        "def identify_organs_function(anatomy_agent, task: str, context:list):\n",
        "  print(\"Anatomy Agent: Identifying organs involved in surgery\")\n",
        "  anatomy_task = f\"\"\"Identify related organs involved in the surgery {task} that\n",
        "                may help related to the surgery\n",
        "                \"\"\"\n",
        "  result = anatomy_agent.process(anatomy_task)\n",
        "  context.append({\"role\": \"ai\", \"content\": f\"{result}\"})\n",
        "  print(f\"Anatomy Agent: {result[:150]}... \\n\")\n",
        "  return context\n",
        "\n",
        "def risk_assessment_function(risk_agent, task: str, context: list):\n",
        "  print(\"Risk Analyst: Assessing surgical risks\")\n",
        "  risk_task = f\"\"\"Provide risk insighted related to the task {task} and the related\n",
        "              context {context} that may help in successful surgery. Your response\n",
        "              should be brief and conversational like you are answering a question\n",
        "              \"\"\"\n",
        "  result = risk_agent.process(risk_task)\n",
        "  context.append({\"role\": \"ai\", \"content\": f\"{result}\"})\n",
        "  print(f\"Risk Analyst: {result[:150]}... \\n\")\n",
        "  return context\n"
      ],
      "metadata": {
        "id": "yqZw1XrIIamD"
      },
      "execution_count": 41,
      "outputs": []
    },
    {
      "cell_type": "code",
      "source": [
        "class SurgicalAssistantSystem:\n",
        "  def __init__(self):\n",
        "    self.anatomy_agent = AnatomySpecialistAgent()\n",
        "    self.risk_agent = SurgicalRiskAgent()\n",
        "\n",
        "  def solve(self, task: str, timeout: int = 400):\n",
        "    print(f\"\\n Starting collaboration to solve {task}\\n\")\n",
        "    start_time = time.time()\n",
        "    context = []\n",
        "    steps = [\n",
        "        (anatomy_specialist_function, self.anatomy_agent),\n",
        "        (risk_analyst_function, self.risk_agent),\n",
        "        (identify_organs_function, self.anatomy_agent),\n",
        "        (risk_assessment_function, self.risk_agent),\n",
        "        (anatomy_specialist_function, self.anatomy_agent),\n",
        "        (risk_assessment_function, self.risk_agent),\n",
        "    ]\n",
        "    for step_func, agent in steps:\n",
        "      if time.time() - start_time > timeout:\n",
        "        return \"Operation timed out\"\n",
        "      try:\n",
        "        result = step_func(agent, task, context)\n",
        "        if isinstance(result, str):\n",
        "          return result\n",
        "      except Exception as e:\n",
        "        return f\"Error during collaboration: {str(e)}\"\n",
        "\n",
        "    print(\"\\n Collaboration completed successfully!\")\n",
        "    return context[-1]['content']"
      ],
      "metadata": {
        "id": "O9d_i-uxIgWi"
      },
      "execution_count": 42,
      "outputs": []
    },
    {
      "cell_type": "code",
      "source": [
        "# prompt: generate an example conversation between surgeon and assistant surgeon during a cardiac surgery. The assistant surgeon is performing surgery and surgeon is supervising. The assistant surgeon ask question and the suregon responds precisely. Store it in a variable conversation that is of type list\n",
        "\n",
        "conversation = [\n",
        "    {\"speaker\": \"Assistant Surgeon\", \"utterance\": \"Surgeon, could you please confirm the location of the left anterior descending artery?\"},\n",
        "    {\"speaker\": \"Surgeon\", \"utterance\": \"Yes, it's located on the front surface of the heart, running along the left ventricle, supplying blood to the front part of the heart muscle.\"},\n",
        "    {\"speaker\": \"Assistant Surgeon\", \"utterance\": \"Okay. I'm about to cannulate the superior vena cava. Any specific tips for this step?\"},\n",
        "    {\"speaker\": \"Surgeon\", \"utterance\": \"Ensure you avoid any damage to the surrounding structures, especially the right atrium. A gentle and controlled approach is crucial.\"},\n",
        "    {\"speaker\": \"Assistant Surgeon\", \"utterance\": \"I'm encountering some bleeding from a small vessel near the right atrium. How should I manage it?\"},\n",
        "    {\"speaker\": \"Surgeon\", \"utterance\": \"Use a bipolar cautery to seal the bleeding vessel. Be cautious not to damage adjacent tissues.\"},\n",
        "    {\"speaker\": \"Assistant Surgeon\", \"utterance\": \"I'm getting ready to place the aortic cross clamp. Should I start with a gentle clamping force?\"},\n",
        "    {\"speaker\": \"Surgeon\", \"utterance\": \"Yes, start with a gentle force and progressively increase to ensure a complete occlusion. Monitor the aortic pressure carefully.\"},\n",
        "    {\"speaker\": \"Assistant Surgeon\", \"utterance\": \"I'm noticing some slight ventricular fibrillation during the cross-clamp procedure. What do we do?\"},\n",
        "    {\"speaker\": \"Surgeon\", \"utterance\": \"Let's begin cardioplegic arrest immediately. Ensure proper delivery of the cardioplegic solution into the aortic root.\"},\n",
        "    {\"speaker\": \"Assistant Surgeon\", \"utterance\": \"The coronary ostia appear to be slightly obscured. Can you guide me on identifying them clearly?\"},\n",
        "    {\"speaker\": \"Surgeon\", \"utterance\": \"Use a gentle saline flush to clear any blood clots and enhance visualization. Look for the openings located at the sinus of Valsalva.\"},\n",
        "    {\"speaker\": \"Assistant Surgeon\", \"utterance\": \"Surgeon, I've initiated the bypass circuit and now need to manage the patient's temperature during hypothermia. What are your preferences?\"},\n",
        "    {\"speaker\": \"Surgeon\", \"utterance\": \"Let's maintain the core body temperature around 28°C. Use a combination of surface cooling and cooled irrigation solutions.\"},\n",
        "    {\"speaker\": \"Assistant Surgeon\", \"utterance\": \"The mitral valve is severely calcified. How should I approach its repair?\"},\n",
        "    {\"speaker\": \"Surgeon\", \"utterance\": \"Let's proceed with a cautious approach and examine the leaflet mobility before trying to excise any calcium deposits. Use a sharp debridement technique if needed.\"},\n",
        "    {\"speaker\": \"Assistant Surgeon\", \"utterance\": \"The bypass graft is ready to be anastomosed. Could you please review the placement?\"},\n",
        "    {\"speaker\": \"Surgeon\", \"utterance\": \"Yes, it's well positioned. Ensure the distal and proximal anastomoses are adequately secured.\"},\n",
        "    {\"speaker\": \"Assistant Surgeon\", \"utterance\": \"Surgeon, I'm about to remove the aortic cross clamp. What's the expected circulatory response?\"},\n",
        "    {\"speaker\": \"Surgeon\", \"utterance\": \"Expect a gradual return of spontaneous circulation. Monitor the rhythm and blood pressure closely.\"},\n",
        "    {\"speaker\": \"Assistant Surgeon\", \"utterance\": \"We've achieved adequate reperfusion. Do you want me to monitor the patient's urine output now?\"},\n",
        "    {\"speaker\": \"Surgeon\", \"utterance\": \"Yes, that's important. Let's closely monitor the patient's urine output and the kidney function parameters to ensure a successful outcome.\"}\n",
        "]"
      ],
      "metadata": {
        "id": "3p-M5KnDTChZ"
      },
      "execution_count": null,
      "outputs": []
    },
    {
      "cell_type": "code",
      "source": [
        "surgical_ai = SurgicalAssistantSystem()\n",
        "question = \"Okay. I'm about to cannulate the superior vena cava. Any specific tips for this step?\"\n",
        "result = surgical_ai.solve(question)\n",
        "print(result)"
      ],
      "metadata": {
        "colab": {
          "base_uri": "https://localhost:8080/"
        },
        "id": "hbeuGhycQ7rj",
        "outputId": "a5f3481f-1162-43ee-e4eb-6e669f081503"
      },
      "execution_count": 43,
      "outputs": [
        {
          "output_type": "stream",
          "name": "stdout",
          "text": [
            "\n",
            " Starting collaboration to solve Okay. I'm about to cannulate the superior vena cava. Any specific tips for this step?\n",
            "\n",
            "Anatomy Agent: Analyzing anatomy aspects of surgery\n",
            "Anatomy Agent: Okay, I can definitely provide some anatomical insights for cannulating the superior vena cava. Here are some key points to consider:\n",
            "\n",
            "**1. Anatomical... \n",
            "\n",
            "Risk Analyst: Analyzing surgical risks\n",
            "Risk Analyst: Okay, I understand you're about to cannulate the superior vena cava.  Here are some risk insights and tips to help ensure a successful procedure:\n",
            "\n",
            "**R... \n",
            "\n",
            "Anatomy Agent: Identifying organs involved in surgery\n",
            "Anatomy Agent: Okay, I understand. Cannulating the superior vena cava is a crucial step in many surgical procedures. Here are some anatomical considerations and tips... \n",
            "\n",
            "Risk Analyst: Assessing surgical risks\n",
            "Risk Analyst: ... \n",
            "\n",
            "Anatomy Agent: Analyzing anatomy aspects of surgery\n",
            "Anatomy Agent: Okay, I can provide some anatomical insights to help with cannulating the superior vena cava. \n",
            "\n",
            "* **Location:** The superior vena cava (SVC) is a larg... \n",
            "\n",
            "Risk Analyst: Assessing surgical risks\n",
            "Risk Analyst: Okay, here are a few things to keep in mind when cannulating the superior vena cava:\n",
            "\n",
            "* **Ultrasound guidance:** It's really helpful for visualizing t... \n",
            "\n",
            "\n",
            " Collaboration completed successfully!\n",
            "Okay, here are a few things to keep in mind when cannulating the superior vena cava:\n",
            "\n",
            "* **Ultrasound guidance:** It's really helpful for visualizing the SVC and surrounding structures, especially the right lung. It can help you avoid accidental puncture.\n",
            "* **Gentle approach:** Use a small-gauge needle and a gentle, angled approach to minimize the risk of vessel wall injury.\n",
            "* **Confirmation of placement:**  After inserting the needle, aspirate blood to confirm you're in the SVC.\n",
            "* **Slow insertion:** Insert the cannula slowly and monitor for any resistance.\n",
            "\n",
            "Remember, the SVC is close to important structures, so it's crucial to be cautious and deliberate. \n",
            "\n"
          ]
        }
      ]
    },
    {
      "cell_type": "code",
      "source": [],
      "metadata": {
        "id": "92TlfvkrRXJw"
      },
      "execution_count": null,
      "outputs": []
    }
  ]
}