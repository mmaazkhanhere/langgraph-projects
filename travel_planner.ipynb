{
  "nbformat": 4,
  "nbformat_minor": 0,
  "metadata": {
    "colab": {
      "provenance": []
    },
    "kernelspec": {
      "name": "python3",
      "display_name": "Python 3"
    },
    "language_info": {
      "name": "python"
    }
  },
  "cells": [
    {
      "cell_type": "code",
      "execution_count": 1,
      "metadata": {
        "colab": {
          "base_uri": "https://localhost:8080/"
        },
        "id": "6DJKlEnFb-58",
        "outputId": "05fea9ad-902a-4105-8c28-76541b8950e4"
      },
      "outputs": [
        {
          "output_type": "stream",
          "name": "stdout",
          "text": [
            "\u001b[?25l   \u001b[90m━━━━━━━━━━━━━━━━━━━━━━━━━━━━━━━━━━━━━━━━\u001b[0m \u001b[32m0.0/119.3 kB\u001b[0m \u001b[31m?\u001b[0m eta \u001b[36m-:--:--\u001b[0m\r\u001b[2K   \u001b[91m━━━━━━━━━━━━━━━━━━━━━━━━━━━━━━━━━━━━━\u001b[0m\u001b[91m╸\u001b[0m\u001b[90m━━\u001b[0m \u001b[32m112.6/119.3 kB\u001b[0m \u001b[31m5.1 MB/s\u001b[0m eta \u001b[36m0:00:01\u001b[0m\r\u001b[2K   \u001b[90m━━━━━━━━━━━━━━━━━━━━━━━━━━━━━━━━━━━━━━━━\u001b[0m \u001b[32m119.3/119.3 kB\u001b[0m \u001b[31m3.0 MB/s\u001b[0m eta \u001b[36m0:00:00\u001b[0m\n",
            "\u001b[2K   \u001b[90m━━━━━━━━━━━━━━━━━━━━━━━━━━━━━━━━━━━━━━━━\u001b[0m \u001b[32m408.7/408.7 kB\u001b[0m \u001b[31m12.4 MB/s\u001b[0m eta \u001b[36m0:00:00\u001b[0m\n",
            "\u001b[2K   \u001b[90m━━━━━━━━━━━━━━━━━━━━━━━━━━━━━━━━━━━━━━━━\u001b[0m \u001b[32m41.8/41.8 kB\u001b[0m \u001b[31m1.4 MB/s\u001b[0m eta \u001b[36m0:00:00\u001b[0m\n",
            "\u001b[2K   \u001b[90m━━━━━━━━━━━━━━━━━━━━━━━━━━━━━━━━━━━━━━━━\u001b[0m \u001b[32m2.4/2.4 MB\u001b[0m \u001b[31m26.0 MB/s\u001b[0m eta \u001b[36m0:00:00\u001b[0m\n",
            "\u001b[2K   \u001b[90m━━━━━━━━━━━━━━━━━━━━━━━━━━━━━━━━━━━━━━━━\u001b[0m \u001b[32m1.0/1.0 MB\u001b[0m \u001b[31m56.4 MB/s\u001b[0m eta \u001b[36m0:00:00\u001b[0m\n",
            "\u001b[2K   \u001b[90m━━━━━━━━━━━━━━━━━━━━━━━━━━━━━━━━━━━━━━━━\u001b[0m \u001b[32m3.1/3.1 MB\u001b[0m \u001b[31m84.3 MB/s\u001b[0m eta \u001b[36m0:00:00\u001b[0m\n",
            "\u001b[2K   \u001b[90m━━━━━━━━━━━━━━━━━━━━━━━━━━━━━━━━━━━━━━━━\u001b[0m \u001b[32m1.2/1.2 MB\u001b[0m \u001b[31m57.6 MB/s\u001b[0m eta \u001b[36m0:00:00\u001b[0m\n",
            "\u001b[2K   \u001b[90m━━━━━━━━━━━━━━━━━━━━━━━━━━━━━━━━━━━━━━━━\u001b[0m \u001b[32m49.5/49.5 kB\u001b[0m \u001b[31m4.5 MB/s\u001b[0m eta \u001b[36m0:00:00\u001b[0m\n",
            "\u001b[?25h"
          ]
        }
      ],
      "source": [
        "!pip install  --quiet langgraph\n",
        "!pip install  --quiet langchain-google-genai\n",
        "!pip install --quiet langchain\n",
        "!pip install --quiet tavily-python langchain_community"
      ]
    },
    {
      "cell_type": "code",
      "source": [
        "!pip install --quiet langchain-openai"
      ],
      "metadata": {
        "colab": {
          "base_uri": "https://localhost:8080/"
        },
        "id": "5SESnsVLrzhd",
        "outputId": "465ad0a7-4127-4650-a0d9-83d5d8c7ac46"
      },
      "execution_count": 21,
      "outputs": [
        {
          "output_type": "stream",
          "name": "stdout",
          "text": [
            "\u001b[?25l   \u001b[90m━━━━━━━━━━━━━━━━━━━━━━━━━━━━━━━━━━━━━━━━\u001b[0m \u001b[32m0.0/50.4 kB\u001b[0m \u001b[31m?\u001b[0m eta \u001b[36m-:--:--\u001b[0m\r\u001b[2K   \u001b[90m━━━━━━━━━━━━━━━━━━━━━━━━━━━━━━━━━━━━━━━━\u001b[0m \u001b[32m50.4/50.4 kB\u001b[0m \u001b[31m1.9 MB/s\u001b[0m eta \u001b[36m0:00:00\u001b[0m\n",
            "\u001b[?25h\u001b[?25l   \u001b[90m━━━━━━━━━━━━━━━━━━━━━━━━━━━━━━━━━━━━━━━━\u001b[0m \u001b[32m0.0/389.6 kB\u001b[0m \u001b[31m?\u001b[0m eta \u001b[36m-:--:--\u001b[0m\r\u001b[2K   \u001b[91m━━━━━━━━━━━━━━━━━━━━━━━━━━━━━━━━━━━━━━━\u001b[0m\u001b[91m╸\u001b[0m \u001b[32m389.1/389.6 kB\u001b[0m \u001b[31m11.7 MB/s\u001b[0m eta \u001b[36m0:00:01\u001b[0m\r\u001b[2K   \u001b[90m━━━━━━━━━━━━━━━━━━━━━━━━━━━━━━━━━━━━━━━━\u001b[0m \u001b[32m389.6/389.6 kB\u001b[0m \u001b[31m8.8 MB/s\u001b[0m eta \u001b[36m0:00:00\u001b[0m\n",
            "\u001b[?25h"
          ]
        }
      ]
    },
    {
      "cell_type": "code",
      "source": [
        "from google.colab import userdata\n",
        "from IPython.display import Image, display, Markdown\n",
        "from typing_extensions import TypedDict\n",
        "from typing import Dict, List\n",
        "import textwrap\n",
        "\n",
        "from langgraph.graph import StateGraph, START, END\n",
        "from langgraph.graph.state import CompiledStateGraph\n",
        "\n",
        "from langchain_google_genai import ChatGoogleGenerativeAI\n",
        "\n",
        "\n",
        "from langchain_core.prompts import ChatPromptTemplate"
      ],
      "metadata": {
        "id": "WOnZKqFFc0oA"
      },
      "execution_count": 65,
      "outputs": []
    },
    {
      "cell_type": "code",
      "source": [
        "google_api_key = userdata.get('GOOGLE_API_KEY')\n",
        "\n",
        "llm: ChatGoogleGenerativeAI = ChatGoogleGenerativeAI(model=\"gemini-1.5-flash\",\n",
        "                                                     api_key=google_api_key)\n",
        "\n",
        "llm.invoke(\"What is your name?\").content"
      ],
      "metadata": {
        "colab": {
          "base_uri": "https://localhost:8080/",
          "height": 35
        },
        "id": "5Ro7TybPc5N-",
        "outputId": "7da8f0b5-57b8-45e8-8252-fed13395a5a4"
      },
      "execution_count": 6,
      "outputs": [
        {
          "output_type": "execute_result",
          "data": {
            "text/plain": [
              "'I am a large language model, trained by Google. I do not have a name. \\n'"
            ],
            "application/vnd.google.colaboratory.intrinsic+json": {
              "type": "string"
            }
          },
          "metadata": {},
          "execution_count": 6
        }
      ]
    },
    {
      "cell_type": "code",
      "source": [
        "class State(TypedDict):\n",
        "    city: str\n",
        "    interests: List[str]\n",
        "    response: str\n",
        "\n",
        "def input_city(state: State):\n",
        "  \"\"\"LangGraph node that takes city input from the user\"\"\"\n",
        "  city: str = input(\"What is your city?\")\n",
        "  state[\"city\"] = city\n",
        "  return {\"city\": city}\n",
        "\n",
        "def input_interest(state: State):\n",
        "  \"\"\"LangGraph node that takes interest from the user\"\"\"\n",
        "  interests: List[str] = []\n",
        "  user_input = ''\n",
        "  while user_input != \"q\":\n",
        "    interests.append(user_input)\n",
        "    user_input = input(\"Enter your interests. Enter 'q' when you are finished\")\n",
        "  state[\"interests\"] = interests\n",
        "  return {\"interests\": interests}\n",
        "\n",
        "def generate_response(state: State):\n",
        "  \"\"\"LangGraph node that generates a travel planner for the user\"\"\"\n",
        "  city: str = state[\"city\"]\n",
        "  interests: List[str] = state[\"interests\"]\n",
        "  prompt = ChatPromptTemplate.from_template(\n",
        "      \"You are an experience travel agent. You will create a traveling plan \"\n",
        "      \"for the city {city} with the interests {interests}.\"\n",
        "  )\n",
        "  response = llm(prompt.format_messages(city=city, interests=interests))\n",
        "  state[\"response\"] = response.content\n",
        "  return {\"response\": response.content}"
      ],
      "metadata": {
        "id": "ksOO8Hdhdglu"
      },
      "execution_count": 7,
      "outputs": []
    },
    {
      "cell_type": "code",
      "source": [
        "graph: StateGraph = StateGraph(State)\n",
        "\n",
        "graph.add_node(\"input_city\", input_city)\n",
        "graph.add_node(\"input_interest\", input_interest)\n",
        "graph.add_node(\"generate_response\", generate_response)\n",
        "\n",
        "graph.add_edge(START, \"input_city\")\n",
        "graph.add_edge(\"input_city\", \"input_interest\")\n",
        "graph.add_edge(\"input_interest\", \"generate_response\")\n",
        "graph.add_edge(\"generate_response\", END)\n",
        "\n",
        "agent: CompiledStateGraph = graph.compile()"
      ],
      "metadata": {
        "id": "fLgZpvVhjQH6"
      },
      "execution_count": 8,
      "outputs": []
    },
    {
      "cell_type": "code",
      "source": [
        "display(Image(agent.get_graph().draw_mermaid_png()))"
      ],
      "metadata": {
        "colab": {
          "base_uri": "https://localhost:8080/",
          "height": 449
        },
        "id": "oDnxGtoMj5wY",
        "outputId": "13bc29d3-c508-4d6f-dbd6-6f3c5bca0357"
      },
      "execution_count": 9,
      "outputs": [
        {
          "output_type": "display_data",
          "data": {
            "image/jpeg": "[encoded data removed]",
            "text/plain": [
              "<IPython.core.display.Image object>"
            ]
          },
          "metadata": {}
        }
      ]
    },
    {
      "cell_type": "code",
      "source": [
        "result = agent.invoke({\"city\": 'Tokyo'})['response']"
      ],
      "metadata": {
        "colab": {
          "base_uri": "https://localhost:8080/"
        },
        "id": "IOrtTxHTkA_4",
        "outputId": "75c0db71-48f9-46f8-9ebb-d99f949d8476"
      },
      "execution_count": 15,
      "outputs": [
        {
          "name": "stdout",
          "output_type": "stream",
          "text": [
            "What is your city?London\n",
            "Enter your interests. Enter 'q' when you are finishedHistorical Sites\n",
            "Enter your interests. Enter 'q' when you are finishedq\n"
          ]
        }
      ]
    },
    {
      "cell_type": "code",
      "source": [
        "def to_markdown(text)-> Markdown:\n",
        "    text : str = text.replace(\"•\", \"  *\")\n",
        "    return Markdown(textwrap.indent(text, \"> \", predicate=lambda _: True))\n",
        "\n",
        "to_markdown(result)"
      ],
      "metadata": {
        "colab": {
          "base_uri": "https://localhost:8080/",
          "height": 696
        },
        "id": "G7jpZWEvnWsi",
        "outputId": "f789baee-248b-409c-d723-cd6a12ee68f7"
      },
      "execution_count": 19,
      "outputs": [
        {
          "output_type": "execute_result",
          "data": {
            "text/plain": [
              "<IPython.core.display.Markdown object>"
            ],
            "text/markdown": "> ## London: A Journey Through Time - Historical Sites Edition\n> \n> **Welcome to London, a city where history whispers around every corner!** This itinerary is designed to immerse you in the rich tapestry of London's past, from ancient Roman foundations to royal palaces and grand cathedrals.\n> \n> **Day 1: Ancient Roots and Royal Splendor**\n> \n> * **Morning:** Begin your journey at the **Tower of London**, a UNESCO World Heritage site steeped in history. Explore the infamous Tower, walk the ramparts, and learn about its role as a prison, royal residence, and treasury.\n> * **Lunch:** Enjoy a traditional pub lunch near the Tower of London, savoring classic British fare.\n> * **Afternoon:** Immerse yourself in the grandeur of **Buckingham Palace**, the official residence of the Queen. Witness the Changing of the Guard ceremony, a captivating spectacle steeped in tradition.\n> * **Evening:** Indulge in a delicious dinner in the heart of **Mayfair**, renowned for its upscale dining and elegant atmosphere.\n> \n> **Day 2: Gothic Majesty and Literary Legacy**\n> \n> * **Morning:** Step back in time at **Westminster Abbey**, a masterpiece of Gothic architecture where monarchs have been crowned for centuries. Explore its intricate details and learn about its historical significance.\n> * **Lunch:** Enjoy a picnic in **St. James's Park**, a tranquil oasis in the heart of the city, offering stunning views of Buckingham Palace.\n> * **Afternoon:** Immerse yourself in the world of **Shakespeare's Globe Theatre**, a reconstruction of the original Elizabethan playhouse. Enjoy a performance or a guided tour to experience the magic of Shakespearean theatre.\n> * **Evening:** Discover the literary heart of London at **Shakespeare's Birthplace** and the **British Library**, home to a vast collection of manuscripts and rare books.\n> \n> **Day 3: Revolutionary Spirit and Modern Marvels**\n> \n> * **Morning:** Explore the **Houses of Parliament**, the seat of the British government, and witness the iconic Big Ben clock tower.\n> * **Lunch:** Enjoy a traditional fish and chips lunch at a local market in **Covent Garden**, a bustling hub of street performers and vibrant street food.\n> * **Afternoon:** Discover the **National Gallery**, a world-renowned collection of European paintings spanning centuries. Marvel at masterpieces by Van Gogh, Monet, and Rembrandt.\n> * **Evening:** Take a stroll along the **South Bank**, a vibrant cultural hub with modern art installations, street performers, and stunning views of the Thames.\n> \n> **Bonus:**\n> \n> * **Explore the Churchill War Rooms**, a fascinating underground bunker where Churchill led the nation during World War II.\n> * **Visit the Imperial War Museums**, dedicated to the history of war and its impact on society.\n> * **Take a walking tour of the City of London**, the historic financial district with Roman ruins and medieval churches.\n> * **Explore the British Museum**, home to a vast collection of artifacts from around the world.\n> \n> **This itinerary is just a starting point. Customize it to your interests and time constraints.** London offers a wealth of historical treasures waiting to be discovered. Enjoy your journey through time!\n> \n> **Pro-Tip:** Consider purchasing a London Pass for access to numerous attractions and convenient travel options."
          },
          "metadata": {},
          "execution_count": 19
        }
      ]
    }
  ]
}