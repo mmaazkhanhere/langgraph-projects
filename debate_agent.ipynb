{
  "cells": [
    {
      "cell_type": "code",
      "execution_count": 1,
      "metadata": {
        "id": "geqbxDKea8uf",
        "colab": {
          "base_uri": "https://localhost:8080/"
        },
        "outputId": "d8e76345-cc5e-4d39-df63-94da51b1712e"
      },
      "outputs": [
        {
          "output_type": "stream",
          "name": "stdout",
          "text": [
            "\u001b[2K   \u001b[90m━━━━━━━━━━━━━━━━━━━━━━━━━━━━━━━━━━━━━━━━\u001b[0m \u001b[32m125.1/125.1 kB\u001b[0m \u001b[31m6.2 MB/s\u001b[0m eta \u001b[36m0:00:00\u001b[0m\n",
            "\u001b[2K   \u001b[90m━━━━━━━━━━━━━━━━━━━━━━━━━━━━━━━━━━━━━━━━\u001b[0m \u001b[32m41.3/41.3 kB\u001b[0m \u001b[31m3.1 MB/s\u001b[0m eta \u001b[36m0:00:00\u001b[0m\n",
            "\u001b[2K   \u001b[90m━━━━━━━━━━━━━━━━━━━━━━━━━━━━━━━━━━━━━━━━\u001b[0m \u001b[32m1.2/1.2 MB\u001b[0m \u001b[31m45.8 MB/s\u001b[0m eta \u001b[36m0:00:00\u001b[0m\n",
            "\u001b[2K   \u001b[90m━━━━━━━━━━━━━━━━━━━━━━━━━━━━━━━━━━━━━━━━\u001b[0m \u001b[32m2.4/2.4 MB\u001b[0m \u001b[31m38.5 MB/s\u001b[0m eta \u001b[36m0:00:00\u001b[0m\n",
            "\u001b[2K   \u001b[90m━━━━━━━━━━━━━━━━━━━━━━━━━━━━━━━━━━━━━━━━\u001b[0m \u001b[32m1.0/1.0 MB\u001b[0m \u001b[31m40.3 MB/s\u001b[0m eta \u001b[36m0:00:00\u001b[0m\n",
            "\u001b[2K   \u001b[90m━━━━━━━━━━━━━━━━━━━━━━━━━━━━━━━━━━━━━━━━\u001b[0m \u001b[32m409.5/409.5 kB\u001b[0m \u001b[31m16.0 MB/s\u001b[0m eta \u001b[36m0:00:00\u001b[0m\n",
            "\u001b[2K   \u001b[90m━━━━━━━━━━━━━━━━━━━━━━━━━━━━━━━━━━━━━━━━\u001b[0m \u001b[32m3.1/3.1 MB\u001b[0m \u001b[31m49.8 MB/s\u001b[0m eta \u001b[36m0:00:00\u001b[0m\n",
            "\u001b[2K   \u001b[90m━━━━━━━━━━━━━━━━━━━━━━━━━━━━━━━━━━━━━━━━\u001b[0m \u001b[32m49.5/49.5 kB\u001b[0m \u001b[31m3.2 MB/s\u001b[0m eta \u001b[36m0:00:00\u001b[0m\n",
            "\u001b[2K   \u001b[90m━━━━━━━━━━━━━━━━━━━━━━━━━━━━━━━━━━━━━━━━\u001b[0m \u001b[32m108.9/108.9 kB\u001b[0m \u001b[31m9.1 MB/s\u001b[0m eta \u001b[36m0:00:00\u001b[0m\n",
            "\u001b[?25h  Preparing metadata (setup.py) ... \u001b[?25l\u001b[?25hdone\n",
            "  Building wheel for wikipedia (setup.py) ... \u001b[?25l\u001b[?25hdone\n",
            "\u001b[2K   \u001b[90m━━━━━━━━━━━━━━━━━━━━━━━━━━━━━━━━━━━━━━━━\u001b[0m \u001b[32m3.0/3.0 MB\u001b[0m \u001b[31m74.0 MB/s\u001b[0m eta \u001b[36m0:00:00\u001b[0m\n",
            "\u001b[?25h"
          ]
        }
      ],
      "source": [
        "!pip install  --quiet langgraph\n",
        "!pip install  --quiet langchain-google-genai\n",
        "!pip install --quiet langchain\n",
        "!pip install --quiet tavily-python\n",
        "!pip install --quiet langchain_community\n",
        "!pip install --quiet langchain-groq\n",
        "!pip install --quiet wikipedia\n",
        "!pip install --quiet google-generativeai\n",
        "!pip install --quiet duckduckgo-search\n"
      ]
    },
    {
      "cell_type": "code",
      "execution_count": 60,
      "metadata": {
        "id": "LbeKuTKIb-9y"
      },
      "outputs": [],
      "source": [
        "from google.colab import userdata\n",
        "from IPython.display import Image, display, Markdown\n",
        "import textwrap\n",
        "import os\n",
        "import getpass\n",
        "import time\n",
        "import asyncio\n",
        "\n",
        "from typing import Any, Annotated, List, TypedDict\n",
        "from pydantic import BaseModel, Field\n",
        "\n",
        "from langchain_core.messages import get_buffer_string, AIMessage, HumanMessage, SystemMessage\n",
        "from langchain_community.utilities import DuckDuckGoSearchAPIWrapper\n",
        "from langchain_community.tools import DuckDuckGoSearchRun\n",
        "from langchain_community.tools import DuckDuckGoSearchResults\n",
        "from langchain_community.retrievers import WikipediaRetriever\n",
        "from langchain_google_genai import ChatGoogleGenerativeAI\n",
        "from langchain_groq import ChatGroq\n",
        "\n",
        "from langgraph.graph import MessagesState\n",
        "from langgraph.graph.state import StateGraph, END, START\n",
        "from langgraph.checkpoint.memory import MemorySaver\n",
        "from langgraph.graph.message import add_messages\n",
        "from openai import OpenAI"
      ]
    },
    {
      "cell_type": "code",
      "execution_count": 61,
      "metadata": {
        "id": "HaLc7G7Bccnw"
      },
      "outputs": [],
      "source": [
        "google_api_key = userdata.get('GOOGLE_API_KEY')\n",
        "\n",
        "gemini_model = ChatGoogleGenerativeAI(model=\"gemini-1.5-flash\",\n",
        "                              api_key=google_api_key\n",
        "                              )\n",
        "\n",
        "# model.invoke(\"Test\")"
      ]
    },
    {
      "cell_type": "code",
      "source": [
        "api_key = userdata.get(\"GROQ_API_KEY\")\n",
        "\n",
        "model = ChatGroq(\n",
        "    model=\"llama-3.1-70b-versatile\",\n",
        "    verbose=True,\n",
        "    temperature=0.5,\n",
        "    api_key=api_key\n",
        ")\n",
        "\n",
        "model.invoke('TEST').content"
      ],
      "metadata": {
        "id": "J_-kSLwzLUI2",
        "colab": {
          "base_uri": "https://localhost:8080/",
          "height": 54
        },
        "outputId": "e9af4123-db20-492b-f7b9-f47e5d3b1aaf"
      },
      "execution_count": 62,
      "outputs": [
        {
          "output_type": "execute_result",
          "data": {
            "text/plain": [
              "\"It looks like you're testing to see if I'm working properly. Is there anything else I can help you with or would you like to have a conversation?\""
            ],
            "application/vnd.google.colaboratory.intrinsic+json": {
              "type": "string"
            }
          },
          "metadata": {},
          "execution_count": 62
        }
      ]
    },
    {
      "cell_type": "code",
      "execution_count": 63,
      "metadata": {
        "id": "6CLl7rIMH_ij"
      },
      "outputs": [],
      "source": [
        "# def _set_env(var: str):\n",
        "#     if not os.environ.get(var):\n",
        "#         os.environ[var] = getpass.getpass(f\"{var}: \")\n",
        "\n",
        "\n",
        "# _set_env(\"TAVILY_API_KEY\")"
      ]
    },
    {
      "cell_type": "code",
      "execution_count": 97,
      "metadata": {
        "id": "wQinv6poc4bB"
      },
      "outputs": [],
      "source": [
        "memory = MemorySaver()\n",
        "\n",
        "class State(TypedDict):\n",
        "  topic: str\n",
        "  pro_debator: str\n",
        "  anti_debator: str\n",
        "  greetings: str\n",
        "  analysis: str\n",
        "  pro_debator_response: str\n",
        "  anti_debator_response: str\n",
        "  context: Annotated[list, add_messages]\n",
        "  debate: Annotated[list, add_messages]\n",
        "  debate_history: List[str]\n",
        "  iteration: int\n",
        "  max_iteration: int\n",
        "\n",
        "# class SearchQuery(BaseModel):\n",
        "#   search_query: str = Field(description=\"The search query for retrieval\")\n",
        "\n",
        "# structure_llm = model.with_structured_output(SearchQuery)\n",
        "# structure_llm"
      ]
    },
    {
      "cell_type": "code",
      "source": [
        "\n",
        "def measure_time(node_function):\n",
        "    \"\"\"Decorator to measure and log the execution time of a node function.\"\"\"\n",
        "    def wrapper(state, *args, **kwargs):\n",
        "        start_time = time.time()\n",
        "        print(f\"Starting node: {node_function.__name__}\")\n",
        "        result = node_function(state, *args, **kwargs)\n",
        "        end_time = time.time()\n",
        "        elapsed_time = end_time - start_time\n",
        "        print(f\"Node {node_function.__name__} completed in {elapsed_time:.2f} seconds.\\n\")\n",
        "\n",
        "        # Optionally store in state for later analysis\n",
        "        if \"node_times\" not in state:\n",
        "            state[\"node_times\"] = {}\n",
        "        state[\"node_times\"][node_function.__name__] = elapsed_time\n",
        "\n",
        "        return result\n",
        "    return wrapper\n",
        "\n"
      ],
      "metadata": {
        "id": "qOgKP16PKLUO"
      },
      "execution_count": 98,
      "outputs": []
    },
    {
      "cell_type": "code",
      "execution_count": 112,
      "metadata": {
        "id": "6WwmmYvGeA8w"
      },
      "outputs": [],
      "source": [
        "@measure_time\n",
        "def greeting_node(state: State):\n",
        "    \"\"\"LangGraph node that greets the debaters and introduces them\"\"\"\n",
        "    print(\"Greeting Node\")\n",
        "    topic = state['topic']\n",
        "    pro_debator = state['pro_debator']\n",
        "    anti_debator = state['anti_debator']\n",
        "\n",
        "    prompt = f\"\"\"\n",
        "    You are a professional and unbiased debate host introducing a debate between two participants:\n",
        "    - {pro_debator}, who supports the topic.\n",
        "    - {anti_debator}, who opposes the topic.\n",
        "    Topic: \"{topic}\"\n",
        "    Instructions:\n",
        "    1. Clearly and briefly introduce the participants and the topic to the audience.\n",
        "    2. Avoid opinions, commentary, or humor. Maintain a formal and neutral tone.\n",
        "    3. Do not include information not provided in this prompt. Keep the introduction concise, no more than 3 sentences.\n",
        "    4. Ensure the output is free from errors or irrelevant content.\n",
        "    Format:\n",
        "    - Start by welcoming the audience.\n",
        "    - Introduce the participants and their respective backgrounds.\n",
        "    - Introduce the topic of debate like a host.\n",
        "    \"\"\"\n",
        "\n",
        "    greetings = model.invoke(prompt).content\n",
        "    return {\"greetings\": greetings}\n",
        "\n",
        "\n",
        "@measure_time\n",
        "def analyzer_node(state: State):\n",
        "    \"\"\"LangGraph node that analyzes the latest argument for web search\"\"\"\n",
        "    print(\"Analyzer Node\")\n",
        "    topic = state['topic']\n",
        "    debate = state['debate']\n",
        "    pro_debator = state['pro_debator']\n",
        "    anti_debator = state['anti_debator']\n",
        "    last_message = debate[-1]\n",
        "    analysis_prompt = None\n",
        "\n",
        "    if isinstance(last_message, HumanMessage):\n",
        "        print(\"Analyzing for Anti Debator\")\n",
        "        analysis_prompt = f\"\"\"\n",
        "        You are an expert debate analyst providing guidance for effective counterarguments.\n",
        "        Task:\n",
        "        Analyze the most recent argument presented by the pro-debator, {pro_debator}, on the topic \"{topic}\".\n",
        "        - Highlight the key strengths and logical points of the argument.\n",
        "        - Identify weaknesses, gaps, or fallacies in the argument, if any.\n",
        "        - Provide specific and actionable guidance to help the anti-debator, {anti_debator}, develop a strong refutation.\n",
        "        Constraints:\n",
        "        - Keep the analysis concise and relevant, limited to 3-4 sentences.\n",
        "        - Avoid including opinions or unsupported assumptions.\n",
        "        - Only use information provided in the argument below.\n",
        "        Argument by Pro-Debator:\n",
        "        \"{last_message.content}\"\n",
        "        \"\"\"\n",
        "\n",
        "    elif isinstance(last_message, AIMessage):\n",
        "        # Analysis for an AIMessage (anti-debator's counterargument)\n",
        "        print(\"Analyzing for Pro Debator\")\n",
        "        analysis_prompt = f\"\"\"\n",
        "        You are an expert debate analyst providing guidance for effective counterarguments.\n",
        "        Task:\n",
        "        Analyze the most recent counterargument presented by the anti-debator, {anti_debator}, on the topic \"{topic}\".\n",
        "        - Highlight the key points and logical strengths of the counterargument.\n",
        "        - Identify weaknesses, gaps, or fallacies in the counterargument, if any.\n",
        "        - Provide specific and actionable guidance to help the pro-debator, {pro_debator}, effectively refute these points.\n",
        "        Constraints:\n",
        "        - Keep the analysis concise and relevant, limited to 3-4 sentences.\n",
        "        - Avoid including opinions or unsupported assumptions.\n",
        "        - Only use information provided in the counterargument below.\n",
        "        Counterargument by Anti-Debator:\n",
        "        \"{last_message.content}\"\n",
        "        \"\"\"\n",
        "\n",
        "    analysis = model.invoke(analysis_prompt).content\n",
        "    return {\"analysis\": analysis}\n",
        "\n",
        "\n",
        "\n",
        "@measure_time\n",
        "def search_web(state: State):\n",
        "    \"\"\"LangGraph node to search the web using Tavily Search API and append the results to context.\"\"\"\n",
        "    analysis = state['analysis']\n",
        "    context = state['context']\n",
        "    debate_history = state['debate_history']\n",
        "    # Generate a concise and focused search query\n",
        "    search_query_prompt = f\"\"\"\n",
        "    You are a search assistant creating a concise and high-quality web search query.\n",
        "    Task:\n",
        "    Based on the following debate history and analysis, generate a single-sentence search query:\n",
        "    - The query must focus on retrieving factual information, particularly numeric data, statistics, or figures directly relevant to the topic.\n",
        "    - Avoid verbose or generic phrasing. Be as specific as possible.\n",
        "    Analysis:\n",
        "    \"{analysis}\"\n",
        "    Debate History:\n",
        "    \"{debate_history}\"\n",
        "    Output:\n",
        "    A single, short and concise search query focusing on numeric data.\n",
        "    \"\"\"\n",
        "    search_query = model.invoke(search_query_prompt).content.strip()\n",
        "    # Perform the web search\n",
        "    search = DuckDuckGoSearchResults(backend=\"news\", output_format='list')\n",
        "    search_result = search.invoke(search_query)\n",
        "    # Compile results\n",
        "    result = \"\"\n",
        "    for entry in search_result:\n",
        "        print(entry['snippet'])\n",
        "        result += entry['snippet'] + \"\\n\"\n",
        "\n",
        "    print(state['context'])\n",
        "    return {\"context\": [result]}\n",
        "\n",
        "\n",
        "@measure_time\n",
        "def search_wikipedia(state: State):\n",
        "    \"\"\"Retrieve docs from Wikipedia using WikipediaRetriever\"\"\"\n",
        "    print(\"Searching Wikipedia\")\n",
        "\n",
        "    # Analysis and debate context\n",
        "    analysis = state['analysis']\n",
        "    debate_history = state['debate_history']\n",
        "\n",
        "    # Generate a concise, single-sentence Wikipedia search query\n",
        "    search_query_prompt = f\"\"\"\n",
        "    You are a search assistant generating a concise search query for Wikipedia.\n",
        "    Task:\n",
        "    Based on the analysis and debate history provided, generate a single-sentence search query:\n",
        "    - Focus on retrieving relevant and factual information from Wikipedia.\n",
        "    - Avoid verbose or redundant phrasing.\n",
        "    Analysis:\n",
        "    \"{analysis}\"\n",
        "    Debate History:\n",
        "    \"{debate_history}\"\n",
        "    Output:\n",
        "    A single concise search query relevant to the topic.\n",
        "    \"\"\"\n",
        "    search_query = model.invoke(search_query_prompt).content.strip()\n",
        "    print(\"Wikipedia Search Query:\", search_query)\n",
        "\n",
        "    retriever = WikipediaRetriever()\n",
        "    search_docs = retriever.invoke(search_query)\n",
        "    all_summaries = \"\"\n",
        "    for doc in search_docs:\n",
        "        if 'summary' in doc.metadata:\n",
        "            all_summaries += doc.metadata['summary'] + \"\\n\\n\"\n",
        "\n",
        "    print(f\"Wikipedia Docs Summaries: {all_summaries}\")\n",
        "    print(state['context'])\n",
        "    return {\"context\": [all_summaries]}\n",
        "\n",
        "\n",
        "@measure_time\n",
        "def router(state: State):\n",
        "    \"\"\"LangGraph node that routes to the appropriate search function\"\"\"\n",
        "    debate_history = state[\"debate_history\"]\n",
        "    if debate_history == []:\n",
        "        return \"Pro Debator\"\n",
        "    else:\n",
        "      return \"Analyzer\"\n",
        "\n",
        "def iteration_router(state: State):\n",
        "    \"\"\"Routes the flow based on the current iteration and max_iteration\"\"\"\n",
        "    if state['iteration'] >= state['max_iteration']:\n",
        "        print(\"Ending the debate as max iteration is reached.\")\n",
        "        return END\n",
        "    print(f\"Iteration Round: {state['iteration']}\")\n",
        "    state['iteration'] += 1  # Failsafe increment\n",
        "    return \"Analyzer\"\n",
        "\n",
        "\n",
        "\n",
        "@measure_time\n",
        "def analyzer_router(state: State):\n",
        "    \"\"\"Function that routes to the appropriate next node\"\"\"\n",
        "    debate = state['debate']\n",
        "    last_message = debate[-1]\n",
        "    if isinstance(last_message, AIMessage):\n",
        "        return \"Pro Debator\"  # Pro Debator responds to the anti-debator's argument\n",
        "    else:\n",
        "        return \"Anti Debator\"  # Anti Debator responds to the pro-debator's argument\n"
      ]
    },
    {
      "cell_type": "code",
      "execution_count": 113,
      "metadata": {
        "id": "I22jJGnD8k3T"
      },
      "outputs": [],
      "source": [
        "def pro_debator_node(state: State):\n",
        "    \"\"\"LangGraph node that represents the pro debator\"\"\"\n",
        "\n",
        "    print(\"Pro Debator Node\")\n",
        "\n",
        "    topic = state['topic']\n",
        "    anti_debator_response = state.get('anti_debator_response')\n",
        "    pro_debator = state['pro_debator']\n",
        "    anti_debator = state['anti_debator']\n",
        "    debate_history = state.get('debate_history', [])\n",
        "    debate = state.get('debate', [])\n",
        "    context = state.get('context', \"\")\n",
        "\n",
        "    if not anti_debator_response and not debate:\n",
        "        # Greeting and opening argument scenario\n",
        "        prompt_template = \"\"\"\n",
        "            You are {pro_debator}, presenting the affirmative stance on the topic: \"{topic}\" in a debate.\n",
        "            Your goal is to deliver a strong and concise opening argument in favor of \"{topic}\" in no more than 3-4 sentences.\n",
        "            Your language should be conversational, persuasive, and directly relevant to the topic. Avoid lengthy introductions.\n",
        "\n",
        "            Guidelines:\n",
        "            1. **Persona Alignment**: Use language and phrases consistent with {pro_debator}'s persona.\n",
        "            2. **Clarity and Brevity**: Make your opening impactful but keep it conversational and limited to 3-4 sentences.\n",
        "            3. **Focus on Core Argument**: Present clear and logical points without unnecessary elaboration or excessive detail.\n",
        "\n",
        "            **Context (if applicable)**: {context}\n",
        "\n",
        "            Begin your opening statement.\n",
        "        \"\"\"\n",
        "        system_message = prompt_template.format(\n",
        "            pro_debator=pro_debator,\n",
        "            anti_debator=anti_debator,\n",
        "            topic=topic,\n",
        "            context=context\n",
        "        )\n",
        "    else:\n",
        "        # Responding to latest argument scenario\n",
        "        prompt_template = \"\"\"\n",
        "          You are {pro_debator}, presenting your affirmative stance on the topic: \"{topic}\" in a debate.\n",
        "          Your task is to directly respond to the latest argument by {anti_debator} in a concise and conversational manner, limited to 3-4 sentences.\n",
        "          Focus on addressing weaknesses, logical fallacies, or gaps in their argument while maintaining a persuasive tone.\n",
        "\n",
        "          Guidelines:\n",
        "          1. **Direct Rebuttal**: Address the latest response from {anti_debator} directly.\n",
        "          2. **Persona Alignment**: Use language and phrases consistent with {pro_debator}'s persona.\n",
        "          3. **Clarity and Brevity**: Keep your response impactful but limited to 3-4 sentences.\n",
        "          4. **Avoid Redundancy**: Leverage details from the debate history to strengthen your response without repeating previous arguments.\n",
        "          5. **Use Context**: Use relevant details from the context or debate history (if applicable) to make your argument more credible.\n",
        "\n",
        "          **Debate History**:\n",
        "          {debate_history}\n",
        "\n",
        "          **Latest Argument from {anti_debator}**:\n",
        "          {anti_debator_response}\n",
        "\n",
        "          **Context**:\n",
        "          {context}\n",
        "\n",
        "          Craft your rebuttal.\n",
        "        \"\"\"\n",
        "        system_message = prompt_template.format(\n",
        "            pro_debator=pro_debator,\n",
        "            topic=topic,\n",
        "            anti_debator=anti_debator,\n",
        "            debate_history=debate_history,\n",
        "            anti_debator_response=anti_debator_response,\n",
        "            context=context\n",
        "        )\n",
        "\n",
        "    # Generate response using the model\n",
        "    pro_debator_response_content = gemini_model.invoke(system_message).content\n",
        "\n",
        "    # Create a HumanMessage with the response content and assign a name\n",
        "    pro_debator_response = HumanMessage(\n",
        "        content=f\"{pro_debator}: {pro_debator_response_content}\",\n",
        "        name=\"pro_response\"\n",
        "    )\n",
        "\n",
        "    debate.append(pro_debator_response)\n",
        "    return {\"pro_debator_response\": pro_debator_response, \"debate\": debate}\n"
      ]
    },
    {
      "cell_type": "code",
      "execution_count": 114,
      "metadata": {
        "id": "wJGrpaQfQfI3"
      },
      "outputs": [],
      "source": [
        "def anti_debator_node(state: State):\n",
        "    \"\"\"LangGraph node that represents the anti debator\"\"\"\n",
        "    print(\"Anti Debator Node\")\n",
        "    topic = state['topic']\n",
        "    anti_debator_response = state.get('anti_debator_response')\n",
        "    pro_debator = state['pro_debator']\n",
        "    anti_debator = state['anti_debator']\n",
        "    debate_history = state.get('debate_history', [])\n",
        "    debate = state.get('debate', [])\n",
        "    context = state.get('context', \"\")\n",
        "\n",
        "    # Improved prompt with guardrails\n",
        "    prompt_template = \"\"\"\n",
        "        You are {anti_debator}, presenting your opposing stance on the topic: \"{topic}\" in a debate.\n",
        "        Your task is to craft a direct and concise rebuttal to the latest argument provided by {pro_debator}.\n",
        "        The opinion should reflect a real stance that {anti_debator} has taken on the topic \"{topic}\" and align with their persona.\n",
        "\n",
        "        Guidelines for crafting your rebuttal:\n",
        "        1. **Direct Rebuttal**: Respond specifically to the latest argument from {pro_debator}. Address any logical flaws, missing evidence, or weak points while maintaining a respectful tone.\n",
        "        2. **Clarity and Brevity**: Limit your response to no more than 3 sentences. Ensure it is conversational, impactful, and easy to follow.\n",
        "        3. **Debate Continuity**: Use relevant details from the debate history (if provided) to strengthen your response while avoiding redundancy.\n",
        "        4. **Persona Consistency**: Use language, phrases, and tone that align with {anti_debator}'s persona and style of communication.\n",
        "        5. **Guardrails**: Avoid unsupported claims, personal attacks, or unrelated points. Stick to the topic and present logical arguments.\n",
        "        6. **Use of Context**: Incorporate credible evidence or insights from the provided context (if applicable) to make your argument more persuasive.\n",
        "\n",
        "        **Context (if applicable)**:\n",
        "        {context}\n",
        "\n",
        "        **Debate History (recent exchanges)**:\n",
        "        {debate_history}\n",
        "\n",
        "        **Latest Argument from {pro_debator}**:\n",
        "        {pro_debator_response}\n",
        "\n",
        "        **Your Rebuttal**:\n",
        "    \"\"\"\n",
        "\n",
        "    # Generate the system message for the model\n",
        "    system_message = prompt_template.format(\n",
        "        topic=topic,\n",
        "        pro_debator=pro_debator,\n",
        "        pro_debator_response=anti_debator_response,\n",
        "        anti_debator=anti_debator,\n",
        "        debate_history=debate_history,\n",
        "        context=context\n",
        "    )\n",
        "\n",
        "    # Generate response using the model\n",
        "    anti_debator_response_content = gemini_model.invoke(system_message).content\n",
        "\n",
        "    # Create an AIMessage with the response content and assign a name\n",
        "    anti_debator_response = AIMessage(\n",
        "        content=f\"{anti_debator}: {anti_debator_response_content}\",\n",
        "        name=\"anti_response\"\n",
        "    )\n",
        "\n",
        "    debate.append(anti_debator_response)\n",
        "    return {\"anti_debator_response\": anti_debator_response, \"debate\": debate}\n"
      ]
    },
    {
      "cell_type": "code",
      "execution_count": 115,
      "metadata": {
        "id": "BhO8NyCwQg7e"
      },
      "outputs": [],
      "source": [
        "@measure_time\n",
        "def debate_summarizer_node(state: State):\n",
        "  \"\"\"LangGraph node that summarizes the exchange of arguments between debator\n",
        "  and append to history for future consideration\n",
        "  \"\"\"\n",
        "  pro_debator = state['pro_debator']\n",
        "  anti_debator = state['anti_debator']\n",
        "  debate_history = state['debate_history']\n",
        "  anti_debator_response = state['anti_debator_response']\n",
        "  pro_debator_response = state['pro_debator_response']\n",
        "  prompt = \"\"\"\n",
        "            Summarize the conversation between the pro {pro_debator} and anti debator {anti_debator},\n",
        "            highlighting the key points of their arguments and discarding unnecessary points. The\n",
        "            summary should be concise and brief, with high quality.\n",
        "            **Instructions:**\n",
        "            * Focus on the core arguments presented by both sides.\n",
        "            * Identify the main points of agreement and disagreement.\n",
        "            * Provide a clear and objective overview of the debate.\n",
        "            * Avoid including irrelevant details or repetitive information.\n",
        "            * Ensure that the summary is easy to understand and informative.\n",
        "            **Pro Debator:**\n",
        "            {pro_debator_response}\n",
        "            **Anti Debator:**\n",
        "            {anti_debator_response}\n",
        "          \"\"\"\n",
        "  system_message = prompt.format(\n",
        "                      pro_debator=pro_debator,\n",
        "                      pro_debator_response=pro_debator_response,\n",
        "                      anti_debator=anti_debator,\n",
        "                      anti_debator_response=anti_debator_response,\n",
        "                    )\n",
        "  summary = model.invoke(system_message).content\n",
        "  debate_history.append(summary)\n",
        "  state['debate_history'] = debate_history\n",
        "  state['iteration'] += 1\n",
        "  print(f\"Updated Iteration: {state['iteration']}\")\n",
        "  return state\n",
        "\n"
      ]
    },
    {
      "cell_type": "code",
      "source": [
        "async def streaming_response_node(state: State):\n",
        "  last_message = state['debate'][-1]\n",
        "  yield {\"stream\": last_message}"
      ],
      "metadata": {
        "id": "8mwOlN6cc8FI"
      },
      "execution_count": 116,
      "outputs": []
    },
    {
      "cell_type": "code",
      "execution_count": 103,
      "metadata": {
        "id": "Sm5Cm23LapZY"
      },
      "outputs": [],
      "source": []
    },
    {
      "cell_type": "code",
      "execution_count": 104,
      "metadata": {
        "id": "K7VZ--S4uPrQ",
        "colab": {
          "base_uri": "https://localhost:8080/",
          "height": 647
        },
        "outputId": "852772d9-b1ef-4ec4-f2a0-79b4a2436724"
      },
      "outputs": [
        {
          "output_type": "display_data",
          "data": {
            "image/png": "[encoded data removed]",
            "text/plain": [
              "<IPython.core.display.Image object>"
            ]
          },
          "metadata": {}
        }
      ],
      "source": [
        "builder = StateGraph(State)\n",
        "# Add nodes\n",
        "builder.add_node(\"Greetings\", greeting_node)\n",
        "builder.add_node(\"Pro Debator\", pro_debator_node)\n",
        "builder.add_node(\"Analyzer\", analyzer_node)\n",
        "builder.add_node(\"Search Web\", search_web)\n",
        "builder.add_node(\"Search Wikipedia\", search_wikipedia)\n",
        "builder.add_node(\"Anti Debator\", anti_debator_node)\n",
        "builder.add_node(\"Debate Summarizer\", debate_summarizer_node)\n",
        "\n",
        "# Add edges\n",
        "builder.add_edge(START, \"Greetings\")\n",
        "builder.add_conditional_edges(\"Greetings\", router, ['Analyzer', 'Pro Debator'])\n",
        "builder.add_edge(\"Analyzer\", \"Search Web\")\n",
        "builder.add_edge(\"Analyzer\", \"Search Wikipedia\")\n",
        "builder.add_conditional_edges(\"Search Web\", analyzer_router, [\"Pro Debator\", \"Anti Debator\"])\n",
        "builder.add_conditional_edges(\"Search Wikipedia\", analyzer_router, [\"Pro Debator\", \"Anti Debator\"])\n",
        "builder.add_edge(\"Pro Debator\", \"Analyzer\")\n",
        "builder.add_edge(\"Anti Debator\", \"Debate Summarizer\")\n",
        "builder.add_conditional_edges(\n",
        "    \"Debate Summarizer\",\n",
        "    iteration_router,\n",
        "    [\"Analyzer\", END]\n",
        ")\n",
        "\n",
        "\n",
        "# Compile the graph\n",
        "debator = builder.compile(checkpointer=memory).with_config(run_name=\"Create podcast\")\n",
        "\n",
        "# Display the graph\n",
        "display(Image(debator.get_graph().draw_mermaid_png()))\n"
      ]
    },
    {
      "cell_type": "code",
      "execution_count": 105,
      "metadata": {
        "id": "Lg7mTyfHX1kD"
      },
      "outputs": [],
      "source": [
        "state = {\n",
        "    \"topic\": \"illegal immigration\",\n",
        "    \"pro_debator\": \"Kamala Harris\",\n",
        "    \"anti_debator\": \"Donald Trump\",\n",
        "    \"greetings\": \"\",\n",
        "    \"analysis\": \"\",\n",
        "    \"pro_debator_response\": \"\",\n",
        "    \"anti_debator_response\": \"\",\n",
        "    \"context\": [],\n",
        "    \"debate\": [],\n",
        "    \"debate_history\": [],\n",
        "    \"iteration\": 0,\n",
        "    \"max_iteration\": 2\n",
        "}\n"
      ]
    },
    {
      "cell_type": "code",
      "execution_count": 106,
      "metadata": {
        "id": "dgM_htTJu2kl",
        "colab": {
          "base_uri": "https://localhost:8080/"
        },
        "outputId": "12a7be65-eeaf-453a-c0d9-4eb6380ea397"
      },
      "outputs": [
        {
          "output_type": "stream",
          "name": "stdout",
          "text": [
            "Starting node: greeting_node\n",
            "Greeting Node\n",
            "Node greeting_node completed in 0.54 seconds.\n",
            "\n",
            "Starting node: router\n",
            "Node router completed in 0.00 seconds.\n",
            "\n",
            "Pro Debator Node\n",
            "Starting node: analyzer_node\n",
            "Analyzer Node\n",
            "Analyzing for Anti Debator\n",
            "Node analyzer_node completed in 1.27 seconds.\n",
            "\n",
            "Starting node: search_web\n",
            "Starting node: search_wikipedia\n",
            "Searching Wikipedia\n",
            "Wikipedia Search Query: \"Kamala Harris immigration policy\"\n",
            "Node search_web completed in 0.64 seconds.\n",
            "\n",
            "Starting node: analyzer_router\n",
            "Node analyzer_router completed in 0.00 seconds.\n",
            "\n",
            "Wikipedia Docs Summaries: \n",
            "Node search_wikipedia completed in 0.64 seconds.\n",
            "\n",
            "Starting node: analyzer_router\n",
            "Node analyzer_router completed in 0.00 seconds.\n",
            "\n",
            "Anti Debator Node\n",
            "Starting node: debate_summarizer_node\n",
            "Updated Iteration: 1\n",
            "Node debate_summarizer_node completed in 1.46 seconds.\n",
            "\n",
            "Iteration Round: 1\n",
            "Starting node: analyzer_node\n",
            "Analyzer Node\n",
            "Analyzing for Pro Debator\n",
            "Node analyzer_node completed in 0.98 seconds.\n",
            "\n",
            "Starting node: search_webStarting node: search_wikipedia\n",
            "Searching Wikipedia\n",
            "\n",
            "Wikipedia Search Query: \"Kamala Harris vs Donald Trump immigration debate summary\"\n",
            "Wikipedia Docs Summaries: \n",
            "Node search_wikipedia completed in 0.57 seconds.\n",
            "\n",
            "Starting node: analyzer_router\n",
            "Node analyzer_router completed in 0.00 seconds.\n",
            "\n",
            "Node search_web completed in 0.65 seconds.\n",
            "\n",
            "Starting node: analyzer_router\n",
            "Node analyzer_router completed in 0.00 seconds.\n",
            "\n",
            "Pro Debator Node\n",
            "Starting node: analyzer_node\n",
            "Analyzer Node\n",
            "Analyzing for Anti Debator\n",
            "Node analyzer_node completed in 0.92 seconds.\n",
            "\n",
            "Starting node: search_webStarting node: search_wikipedia\n",
            "Searching Wikipedia\n",
            "\n",
            "Wikipedia Search Query: \"Kamala Harris vs Donald Trump immigration debate Wikipedia\"\n",
            "Wikipedia Docs Summaries: \n",
            "Node search_wikipedia completed in 0.53 seconds.\n",
            "\n",
            "Starting node: analyzer_router\n",
            "Node analyzer_router completed in 0.00 seconds.\n",
            "\n",
            "Node search_web completed in 0.72 seconds.\n",
            "\n",
            "Starting node: analyzer_router\n",
            "Node analyzer_router completed in 0.00 seconds.\n",
            "\n",
            "Anti Debator Node\n",
            "Starting node: debate_summarizer_node\n",
            "Updated Iteration: 2\n",
            "Node debate_summarizer_node completed in 1.31 seconds.\n",
            "\n",
            "Ending the debate as max iteration is reached.\n"
          ]
        },
        {
          "output_type": "execute_result",
          "data": {
            "text/plain": [
              "{'topic': 'illegal immigration',\n",
              " 'pro_debator': 'Kamala Harris',\n",
              " 'anti_debator': 'Donald Trump',\n",
              " 'greetings': 'Ladies and gentlemen, welcome to tonight\\'s debate. We have the honor of hosting two distinguished guests: Senator Kamala Harris, a former Attorney General of California and a prominent figure in American politics, and Donald Trump, the 45th President of the United States and a renowned businessman. Tonight, they will engage in a discussion on the topic of \"illegal immigration,\" with Senator Harris arguing in support of a more permissive approach and President Trump arguing in opposition.',\n",
              " 'analysis': 'Analysis:\\n\\nKey strengths of Kamala Harris\\' argument include:\\n- Framing the issue as complex, requiring a multifaceted approach rather than a singular solution (wall).\\n- Implying that Trump\\'s solution is outdated and inhumane, which may evoke emotional responses from the audience.\\n\\nWeaknesses and gaps in the argument:\\n- Lack of specific examples or data to support the effectiveness of comprehensive strategies.\\n- The argument relies on an emotional appeal (calling Trump\\'s solution \"inhumane\") rather than providing concrete evidence.\\n\\nGuidance for Donald Trump\\'s refutation:\\n- Challenge Harris to provide concrete evidence and data to support the effectiveness of comprehensive strategies.\\n- Counter her emotional appeal by highlighting the humanitarian concerns related to unregulated immigration, such as human trafficking and national security risks.\\n- Emphasize the need for a physical barrier as a necessary component of a comprehensive border security strategy, rather than a standalone solution.',\n",
              " 'pro_debator_response': HumanMessage(content='Kamala Harris: With all due respect, Mr. Trump,  calling our border a \"disaster\" is a simplification.  Focusing solely on a wall ignores the complex root causes of migration and the proven effectiveness of comprehensive strategies.  Your solution is outdated and frankly, inhumane.\\n', additional_kwargs={}, response_metadata={}, name='pro_response', id='ad041015-501f-47ec-8cd8-3994b99de64b'),\n",
              " 'anti_debator_response': AIMessage(content='Donald Trump: Wrong, Kamala.  The border *is* a disaster, and your open-borders policies are making it worse.  A wall works, and it’s common sense – unlike your failed approach.\\n', additional_kwargs={}, response_metadata={}, name='anti_response', id='a66369df-7c95-42dd-85f3-9dcf72eb7114'),\n",
              " 'context': [HumanMessage(content='', additional_kwargs={}, response_metadata={}, id='dad13292-002e-46b1-b5e3-8d5b930988b3'),\n",
              "  HumanMessage(content='', additional_kwargs={}, response_metadata={}, id='cda7c1a5-a535-4de9-8b68-ae593012595e'),\n",
              "  HumanMessage(content='', additional_kwargs={}, response_metadata={}, id='ca346076-ded6-4c74-9404-c8a2ac4f0e9f'),\n",
              "  HumanMessage(content='', additional_kwargs={}, response_metadata={}, id='f67d26ad-9a3c-4886-b78f-eaba6d1d1d4b'),\n",
              "  HumanMessage(content='', additional_kwargs={}, response_metadata={}, id='d8be5c5d-7194-4cd8-a7ef-ec28d2ce8910'),\n",
              "  HumanMessage(content='', additional_kwargs={}, response_metadata={}, id='8d3cd7e8-633b-4e7f-ba41-539570c59328')],\n",
              " 'debate': [HumanMessage(content='Kamala Harris: Let\\'s be clear:  the term \"illegal immigration\" itself is problematic, framing human beings as criminals.  We need a humane and comprehensive approach to immigration, recognizing the contributions immigrants make to our economy and society.  Focusing solely on enforcement ignores the underlying issues driving migration and the real human stories behind them.\\n', additional_kwargs={}, response_metadata={}, name='pro_response', id='c38a998a-2640-477c-b31d-8ace476fc58a'),\n",
              "  AIMessage(content=\"Donald Trump: Kamala, you talk a good game, but the facts don't lie.  Our border is a disaster, and your policies haven't fixed it.  We need a wall, and we need it now.\\n\", additional_kwargs={}, response_metadata={}, name='anti_response', id='027c2876-d2bd-4150-8efc-f2803f217d06'),\n",
              "  HumanMessage(content='Kamala Harris: With all due respect, Mr. Trump,  calling our border a \"disaster\" is a simplification.  Focusing solely on a wall ignores the complex root causes of migration and the proven effectiveness of comprehensive strategies.  Your solution is outdated and frankly, inhumane.\\n', additional_kwargs={}, response_metadata={}, name='pro_response', id='ad041015-501f-47ec-8cd8-3994b99de64b'),\n",
              "  AIMessage(content='Donald Trump: Wrong, Kamala.  The border *is* a disaster, and your open-borders policies are making it worse.  A wall works, and it’s common sense – unlike your failed approach.\\n', additional_kwargs={}, response_metadata={}, name='anti_response', id='a66369df-7c95-42dd-85f3-9dcf72eb7114')],\n",
              " 'debate_history': ['**Summary of the Debate: Kamala Harris vs. Donald Trump on Immigration**\\n\\n**Key Points:**\\n\\n* **Kamala Harris (Pro):**\\n\\t+ Argues that the term \"illegal immigration\" is problematic and dehumanizing.\\n\\t+ Advocates for a humane and comprehensive approach to immigration, recognizing the contributions of immigrants to the economy and society.\\n\\t+ Emphasizes the need to address the underlying issues driving migration and the human stories behind them.\\n* **Donald Trump (Anti):**\\n\\t+ Claims that the border is a disaster and that Harris\\' policies have failed to address the issue.\\n\\t+ Insists on the need for a physical wall to secure the border.\\n\\n**Main Points of Agreement and Disagreement:**\\n\\n* **Disagreement:** The two debaters fundamentally disagree on the approach to immigration, with Harris advocating for a more humane and comprehensive approach, and Trump emphasizing the need for a physical barrier.\\n* **No clear points of agreement:** The debate highlights a significant divide between the two debaters, with no apparent common ground on the issue of immigration.\\n\\n**Objective Overview:**\\n\\nThe debate between Kamala Harris and Donald Trump on immigration highlights two vastly different approaches to addressing the issue. Harris emphasizes the need for a humane and comprehensive approach, recognizing the contributions of immigrants to society, while Trump insists on a more enforcement-focused approach, prioritizing the construction of a physical wall. The debate underscores the deep divisions on this issue and the need for a more nuanced and multifaceted discussion.',\n",
              "  '**Debate Summary: Border Security and Immigration**\\n\\nPro Debator Kamala Harris and Anti Debator Donald Trump engaged in a debate on border security and immigration. The key points of their arguments are:\\n\\n**Kamala Harris:**\\n\\n* Described the border situation as complex, requiring comprehensive strategies to address root causes of migration.\\n* Argued that focusing solely on a wall is outdated and inhumane.\\n* Emphasized the need for a multifaceted approach to immigration.\\n\\n**Donald Trump:**\\n\\n* Described the border as a \"disaster\" and blamed open-borders policies for exacerbating the issue.\\n* Argued that a wall is a common-sense solution that works.\\n* Criticized Harris\\' approach as failed and ineffective.\\n\\n**Main Points of Agreement and Disagreement:**\\n\\n* Both debators agree that the border situation is a significant issue.\\n* They disagree on the effectiveness of a wall as a solution, with Trump supporting it and Harris opposing it.\\n* They also disagree on the approach to immigration, with Harris advocating for a comprehensive strategy and Trump pushing for a more restrictive approach.\\n\\nOverall, the debate highlights the stark contrast between the two debators\\' views on border security and immigration, with Harris emphasizing the need for a nuanced approach and Trump advocating for a more straightforward, wall-based solution.'],\n",
              " 'iteration': 2,\n",
              " 'max_iteration': 2}"
            ]
          },
          "metadata": {},
          "execution_count": 106
        }
      ],
      "source": [
        "thread = {\"configurable\": {\"thread_id\": \"1\"}}\n",
        "result = debator.invoke(state, thread)\n",
        "result"
      ]
    },
    {
      "cell_type": "code",
      "execution_count": 107,
      "metadata": {
        "id": "GAM-zmcjncup",
        "colab": {
          "base_uri": "https://localhost:8080/"
        },
        "outputId": "f18f170b-71f7-4327-b1d2-1ec1bae80cd9"
      },
      "outputs": [
        {
          "output_type": "stream",
          "name": "stdout",
          "text": [
            "(\"Ladies and gentlemen, welcome to tonight's debate. We have the honor of \"\n",
            " 'hosting two distinguished guests: Senator Kamala Harris, a former Attorney '\n",
            " 'General of California and a prominent figure in American politics, and '\n",
            " 'Donald Trump, the 45th President of the United States and a renowned '\n",
            " 'businessman. Tonight, they will engage in a discussion on the topic of '\n",
            " '\"illegal immigration,\" with Senator Harris arguing in support of a more '\n",
            " 'permissive approach and President Trump arguing in opposition.')\n"
          ]
        }
      ],
      "source": [
        "pprint.pprint(result['greetings'])"
      ]
    },
    {
      "cell_type": "code",
      "execution_count": 108,
      "metadata": {
        "id": "tluh5bmpylTP",
        "colab": {
          "base_uri": "https://localhost:8080/"
        },
        "outputId": "c2c1bdf0-8d43-4e26-882e-74ee3de9c36c"
      },
      "outputs": [
        {
          "output_type": "stream",
          "name": "stdout",
          "text": [
            "('Kamala Harris: With all due respect, Mr. Trump,  calling our border a '\n",
            " '\"disaster\" is a simplification.  Focusing solely on a wall ignores the '\n",
            " 'complex root causes of migration and the proven effectiveness of '\n",
            " 'comprehensive strategies.  Your solution is outdated and frankly, '\n",
            " 'inhumane.\\n')\n"
          ]
        }
      ],
      "source": [
        "import pprint\n",
        "pprint.pprint(result['pro_debator_response'].content)"
      ]
    },
    {
      "cell_type": "code",
      "execution_count": 109,
      "metadata": {
        "id": "mjoPrUleZgbi",
        "colab": {
          "base_uri": "https://localhost:8080/"
        },
        "outputId": "3349c00a-4e5b-4c38-febe-284eeb01346a"
      },
      "outputs": [
        {
          "output_type": "stream",
          "name": "stdout",
          "text": [
            "('Donald Trump: Wrong, Kamala.  The border *is* a disaster, and your '\n",
            " 'open-borders policies are making it worse.  A wall works, and it’s common '\n",
            " 'sense – unlike your failed approach.\\n')\n"
          ]
        }
      ],
      "source": [
        "pprint.pprint(result['anti_debator_response'].content)"
      ]
    },
    {
      "cell_type": "code",
      "execution_count": 110,
      "metadata": {
        "id": "3lSByHOpno8M",
        "colab": {
          "base_uri": "https://localhost:8080/"
        },
        "outputId": "69b70115-e23c-42ec-99a8-1e6c0a3b117a"
      },
      "outputs": [
        {
          "output_type": "stream",
          "name": "stdout",
          "text": [
            "('Analysis:\\n'\n",
            " '\\n'\n",
            " \"Key strengths of Kamala Harris' argument include:\\n\"\n",
            " '- Framing the issue as complex, requiring a multifaceted approach rather '\n",
            " 'than a singular solution (wall).\\n'\n",
            " \"- Implying that Trump's solution is outdated and inhumane, which may evoke \"\n",
            " 'emotional responses from the audience.\\n'\n",
            " '\\n'\n",
            " 'Weaknesses and gaps in the argument:\\n'\n",
            " '- Lack of specific examples or data to support the effectiveness of '\n",
            " 'comprehensive strategies.\\n'\n",
            " \"- The argument relies on an emotional appeal (calling Trump's solution \"\n",
            " '\"inhumane\") rather than providing concrete evidence.\\n'\n",
            " '\\n'\n",
            " \"Guidance for Donald Trump's refutation:\\n\"\n",
            " '- Challenge Harris to provide concrete evidence and data to support the '\n",
            " 'effectiveness of comprehensive strategies.\\n'\n",
            " '- Counter her emotional appeal by highlighting the humanitarian concerns '\n",
            " 'related to unregulated immigration, such as human trafficking and national '\n",
            " 'security risks.\\n'\n",
            " '- Emphasize the need for a physical barrier as a necessary component of a '\n",
            " 'comprehensive border security strategy, rather than a standalone solution.')\n"
          ]
        }
      ],
      "source": [
        "pprint.pprint(result['analysis'])"
      ]
    },
    {
      "cell_type": "code",
      "execution_count": 111,
      "metadata": {
        "id": "BUOaWKFenwoT",
        "colab": {
          "base_uri": "https://localhost:8080/"
        },
        "outputId": "34feaab1-2723-4d8c-d2c5-18f109fe3141"
      },
      "outputs": [
        {
          "output_type": "execute_result",
          "data": {
            "text/plain": [
              "[HumanMessage(content='Kamala Harris: Let\\'s be clear:  the term \"illegal immigration\" itself is problematic, framing human beings as criminals.  We need a humane and comprehensive approach to immigration, recognizing the contributions immigrants make to our economy and society.  Focusing solely on enforcement ignores the underlying issues driving migration and the real human stories behind them.\\n', additional_kwargs={}, response_metadata={}, name='pro_response', id='c38a998a-2640-477c-b31d-8ace476fc58a'),\n",
              " AIMessage(content=\"Donald Trump: Kamala, you talk a good game, but the facts don't lie.  Our border is a disaster, and your policies haven't fixed it.  We need a wall, and we need it now.\\n\", additional_kwargs={}, response_metadata={}, name='anti_response', id='027c2876-d2bd-4150-8efc-f2803f217d06'),\n",
              " HumanMessage(content='Kamala Harris: With all due respect, Mr. Trump,  calling our border a \"disaster\" is a simplification.  Focusing solely on a wall ignores the complex root causes of migration and the proven effectiveness of comprehensive strategies.  Your solution is outdated and frankly, inhumane.\\n', additional_kwargs={}, response_metadata={}, name='pro_response', id='ad041015-501f-47ec-8cd8-3994b99de64b'),\n",
              " AIMessage(content='Donald Trump: Wrong, Kamala.  The border *is* a disaster, and your open-borders policies are making it worse.  A wall works, and it’s common sense – unlike your failed approach.\\n', additional_kwargs={}, response_metadata={}, name='anti_response', id='a66369df-7c95-42dd-85f3-9dcf72eb7114')]"
            ]
          },
          "metadata": {},
          "execution_count": 111
        }
      ],
      "source": [
        "result['debate']"
      ]
    },
    {
      "cell_type": "code",
      "execution_count": 78,
      "metadata": {
        "id": "E53U_X22p088",
        "colab": {
          "base_uri": "https://localhost:8080/"
        },
        "outputId": "320ce530-3cde-4d2c-a4bb-35e70ef86bfb"
      },
      "outputs": [
        {
          "output_type": "execute_result",
          "data": {
            "text/plain": [
              "['**Debate Summary: Border Security and Immigration Reform**\\n\\n**Key Points:**\\n\\n* **Pro Debator (Kamala Harris):**\\n\\t+ Progress has been made in strengthening border security.\\n\\t+ Comprehensive immigration reform and addressing root causes of migration are necessary.\\n\\t+ Building walls is not a solution and creates more problems.\\n* **Anti Debator (Donald Trump):**\\n\\t+ Strong borders are necessary for safety and upholding the rule of law.\\n\\t+ Compassion does not mean open borders.\\n\\n**Main Points of Agreement and Disagreement:**\\n\\n* **Agreement:** Both debators acknowledge the importance of border security.\\n* **Disagreement:**\\n\\t+ Approach to border security: Harris advocates for comprehensive reform, while Trump emphasizes strong borders and walls.\\n\\t+ Definition of compassion: Harris believes compassion involves addressing root causes of migration, while Trump sees it as distinct from open borders.\\n\\n**Objective Overview:**\\nThe debate highlights fundamental differences in approach to border security and immigration reform. Harris emphasizes the need for comprehensive solutions, while Trump prioritizes strong borders and safety. The discussion underscores the complexity of the issue and the need for nuanced policy approaches.',\n",
              " '**Debate Summary: Kamala Harris vs. Donald Trump on Immigration**\\n\\n**Key Points:**\\n\\n* **Kamala Harris (Pro):** Strong borders are not a magic solution to immigration. Comprehensive solutions addressing humanitarian and economic factors are needed, rather than simplistic slogans.\\n* **Donald Trump (Anti):** Strong borders are essential, and building a wall is a necessary step to stop illegal immigration. Compassion is not a substitute for border security.\\n\\n**Main Points of Agreement and Disagreement:**\\n\\n* **Disagreement:** Approach to immigration (comprehensive solutions vs. strong borders).\\n* **Disagreement:** Effectiveness of a wall in stopping illegal immigration (Harris sees it as simplistic, Trump sees it as necessary).\\n* **No clear agreement:** Both debaters acknowledge the importance of addressing immigration, but differ on the approach.\\n\\n**Objective Overview:**\\n\\nThe debate highlights the contrasting views of Kamala Harris and Donald Trump on immigration. Harris advocates for comprehensive solutions addressing humanitarian and economic factors, while Trump prioritizes strong borders and building a wall to stop illegal immigration. The debate showcases the fundamental disagreement on the approach to immigration, with both sides presenting distinct perspectives.']"
            ]
          },
          "metadata": {},
          "execution_count": 78
        }
      ],
      "source": [
        "result['debate_history']"
      ]
    },
    {
      "cell_type": "code",
      "source": [],
      "metadata": {
        "id": "kafddUtFTkWv"
      },
      "execution_count": null,
      "outputs": []
    }
  ],
  "metadata": {
    "colab": {
      "provenance": []
    },
    "kernelspec": {
      "display_name": "Python 3",
      "name": "python3"
    },
    "language_info": {
      "name": "python"
    }
  },
  "nbformat": 4,
  "nbformat_minor": 0
}