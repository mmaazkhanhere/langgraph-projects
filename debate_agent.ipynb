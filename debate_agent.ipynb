{
  "nbformat": 4,
  "nbformat_minor": 0,
  "metadata": {
    "colab": {
      "provenance": []
    },
    "kernelspec": {
      "name": "python3",
      "display_name": "Python 3"
    },
    "language_info": {
      "name": "python"
    }
  },
  "cells": [
    {
      "cell_type": "code",
      "execution_count": 6,
      "metadata": {
        "id": "geqbxDKea8uf"
      },
      "outputs": [],
      "source": [
        "!pip install  --quiet langgraph\n",
        "!pip install  --quiet langchain-google-genai\n",
        "!pip install --quiet langchain\n",
        "!pip install --quiet tavily-python\n",
        "!pip install --quiet langchain_community\n",
        "!pip install --quiet wikipedia\n",
        "!pip install --quiet google-generativeai"
      ]
    },
    {
      "cell_type": "code",
      "source": [
        "from google.colab import userdata\n",
        "from IPython.display import Image, display, Markdown\n",
        "import textwrap\n",
        "import os\n",
        "import getpass\n",
        "\n",
        "from typing import Any, Annotated, List, TypedDict\n",
        "from pydantic import BaseModel, Field\n",
        "\n",
        "from langchain_google_genai import ChatGoogleGenerativeAI\n",
        "from langchain_core.messages import get_buffer_string, AIMessage, HumanMessage, SystemMessage\n",
        "from langchain_community.tools.tavily_search import TavilySearchResults\n",
        "from langchain_community.document_loaders import WikipediaLoader\n",
        "\n",
        "from langgraph.graph import MessagesState\n",
        "from langgraph.graph.state import StateGraph, END, START\n",
        "from langgraph.checkpoint.memory import MemorySaver\n"
      ],
      "metadata": {
        "id": "LbeKuTKIb-9y"
      },
      "execution_count": 7,
      "outputs": []
    },
    {
      "cell_type": "code",
      "source": [
        "google_api_key = userdata.get('GOOGLE_API_KEY')\n",
        "\n",
        "model = ChatGoogleGenerativeAI(model=\"gemini-1.5-flash\",\n",
        "                              api_key=google_api_key\n",
        "                              )\n",
        "\n",
        "# model.invoke(\"Test\")"
      ],
      "metadata": {
        "id": "HaLc7G7Bccnw"
      },
      "execution_count": 9,
      "outputs": []
    },
    {
      "cell_type": "code",
      "source": [
        "class State(TypedDict):\n",
        "  topic: str\n",
        "  pro_debator: str\n",
        "  anti_debator: str\n",
        "  greetings: str\n",
        "  sentiment: str\n",
        "  analysis: str\n",
        "  pro_debator_response: str\n",
        "  anti_debator_response: str\n",
        "  debate_history: List[str]\n",
        "  iteration: int\n",
        "\n",
        "class SearchQuery(BaseModel):\n",
        "  search_query: str = Field(description=\"The search query for retrieval\")"
      ],
      "metadata": {
        "id": "wQinv6poc4bB"
      },
      "execution_count": 26,
      "outputs": []
    },
    {
      "cell_type": "code",
      "source": [
        "def greeting_node(state: State):\n",
        "  \"\"\"LangGraph node that greets the debators and introduces them\"\"\"\n",
        "  topic = state['topic']\n",
        "  pro_debator = state['pro_debator']\n",
        "  anti_debator = state['anti_debator']\n",
        "\n",
        "  prompt = f\"\"\"You are hosting a debate between {pro_debator} and {anti_debator}\n",
        "            on the topic {topic}. {pro_debator} is pro while {anti_debator} is\n",
        "            against. You have to introduce the topic and debators to the audience.\n",
        "            \"\"\"\n",
        "\n",
        "  greetings = model.invoke(prompt).content\n",
        "  return {\"greetings\": greetings}\n",
        "\n",
        "def analyzer_node(state: State):\n",
        "  \"\"\"LangGraph node that analyzes the latest argument that can be used for web search\"\"\"\n",
        "  topic = state['topic']\n",
        "  pro_debator = state['pro_debator']\n",
        "  anti_debator = state['anti_debator']\n",
        "  pro_debator_response = state['pro_debator_response']\n",
        "  anti_debator_response = state['anti_debator_response']\n",
        "\n",
        "\n"
      ],
      "metadata": {
        "id": "6WwmmYvGeA8w"
      },
      "execution_count": 23,
      "outputs": []
    },
    {
      "cell_type": "code",
      "source": [],
      "metadata": {
        "id": "8FfReHQx8lIH"
      },
      "execution_count": null,
      "outputs": []
    },
    {
      "cell_type": "code",
      "source": [],
      "metadata": {
        "id": "So6-HlBE8lFx"
      },
      "execution_count": null,
      "outputs": []
    },
    {
      "cell_type": "code",
      "source": [],
      "metadata": {
        "id": "XnCHPUph8lCt"
      },
      "execution_count": null,
      "outputs": []
    },
    {
      "cell_type": "code",
      "source": [],
      "metadata": {
        "id": "pIX-2KdB8k_3"
      },
      "execution_count": null,
      "outputs": []
    },
    {
      "cell_type": "code",
      "source": [],
      "metadata": {
        "id": "AIIO6jya8k9B"
      },
      "execution_count": null,
      "outputs": []
    },
    {
      "cell_type": "code",
      "source": [],
      "metadata": {
        "id": "NrI4ezFU8k6G"
      },
      "execution_count": null,
      "outputs": []
    },
    {
      "cell_type": "code",
      "source": [
        "def pro_debator_node(state: State):\n",
        "  \"\"\"LangGraph node that represents the pro debator\"\"\"\n",
        "  topic = state['topic']\n",
        "  anti_debator_response = state['anti_debator_response']\n",
        "  pro_debator = state['pro_debator']\n",
        "  anti_debator = state['anti_debator']\n",
        "  debate_history = state['debate_history']\n",
        "  if anti_debator_response is None and debate_history == []:\n",
        "    prompt_template = \"\"\"\n",
        "                      You are {pro_debator} a pro debator on the topic of {topic} having a debate with {anti_debator}.\n",
        "                      Your goal is to present compelling arguments in favor of {topic} while maintaining the persona of {pro_debator}.\n",
        "                      Ensure your responses are coherent, logical, and persuasive.\n",
        "                      Keep the persona of {pro_debator} throughout the entire conversation.\n",
        "                      Your responses should be relevant to the current stage of the debate.\n",
        "                      You can refute the other debator's arguments and present your own supporting evidence for {topic}.\n",
        "                      Do not deviate from your persona. Respond should be concise and should be no more than\n",
        "                      3 sentences.\n",
        "                      \"\"\"\n",
        "    system_message = prompt_template.format(topic=topic, pro_debator=pro_debator, anti_debator=anti_debator)\n",
        "    pro_debator_response = model.invoke(system_message).content\n",
        "    return {\"pro_debator_response\": f\"\"\"{pro_debator}: pro_debator_response\"\"\"}\n",
        "  else:\n",
        "    prompt_template = \"\"\"\n",
        "                      You are a professional debater, embodying the persona of {pro_debator}. Your goal is to convincingly argue the affirmative side of the debate topic: \"{topic}\".\n",
        "                      You must maintain your assigned persona throughout the debate and ensure that your arguments align with it.\n",
        "                      Remember the following:\n",
        "                      1. Respond to the latest argument of the anti-debator provided below, ensuring your response directly addresses their points.\n",
        "                      2. Consider the context of the debate history, building upon your previous arguments and refuting the anti-debator's counterarguments effectively.\n",
        "                      3. Use eloquent and persuasive language, demonstrating your mastery of the topic and your persona.\n",
        "                      4. Avoid making factual errors or inconsistencies that might damage your credibility.\n",
        "                      **Debate History:**\n",
        "                      {debate_history}\n",
        "                      **Latest Anti-Debator Argument:**\n",
        "                      {anti_debator_response}\n",
        "                      **Your Response (Pro Debator):**\n",
        "                      \"\"\"\n",
        "    system_message = prompt_template.format(topic=topic, pro_debator=pro_debator, anti_debator=anti_debator, debate_history=debate_history)\n",
        "    # The change is here: Pass the content of the SystemMessage as a string to model.invoke\n",
        "    pro_debator_response = model.invoke(system_message).content\n",
        "    #pro_debator_response.name = \"pro_response\"\n",
        "    return {\"pro_debator_response\": pro_debator_response}"
      ],
      "metadata": {
        "id": "I22jJGnD8k3T"
      },
      "execution_count": 27,
      "outputs": []
    },
    {
      "cell_type": "code",
      "source": [
        "builder: StateGraph = StateGraph(State)\n",
        "\n",
        "builder.add_node(\"Greetings\", greeting_node)\n",
        "builder.add_node(\"Pro Debator\", pro_debator_node)\n",
        "\n",
        "builder.add_edge(START, \"Greetings\")\n",
        "builder.add_edge(\"Greetings\", \"Pro Debator\")\n",
        "builder.add_edge(\"Pro Debator\", END)\n",
        "\n",
        "debator = builder.compile()\n",
        "\n",
        "display(Image(debator.get_graph().draw_mermaid_png()))"
      ],
      "metadata": {
        "id": "K7VZ--S4uPrQ",
        "colab": {
          "base_uri": "https://localhost:8080/",
          "height": 350
        },
        "outputId": "94b03c51-66fe-4c43-9873-b5932644ffcb"
      },
      "execution_count": 24,
      "outputs": [
        {
          "output_type": "display_data",
          "data": {
            "image/png": "[encoded data removed]",
            "text/plain": [
              "<IPython.core.display.Image object>"
            ]
          },
          "metadata": {}
        }
      ]
    },
    {
      "cell_type": "code",
      "source": [
        "debator.invoke({'topic': 'Ukraine War', 'pro_debator': 'Joe Biden', 'anti_debator': 'Donald Trump', 'anti_debator_response': None, 'debate_history': []})"
      ],
      "metadata": {
        "id": "dgM_htTJu2kl",
        "colab": {
          "base_uri": "https://localhost:8080/"
        },
        "outputId": "bafa6a4d-c09b-42a8-b11c-0495a48eb4e7"
      },
      "execution_count": 25,
      "outputs": [
        {
          "output_type": "execute_result",
          "data": {
            "text/plain": [
              "{'topic': 'Ukraine War',\n",
              " 'pro_debator': 'Joe Biden',\n",
              " 'anti_debator': 'Donald Trump',\n",
              " 'greetings': \"Good evening, ladies and gentlemen, and welcome to tonight's crucial debate.  We are gathered here to discuss a matter of paramount importance to global security and the future of democracy: the war in Ukraine. This conflict has dramatically reshaped the geopolitical landscape, prompting profound questions about international relations, alliances, and the very principles of sovereignty.\\n\\nTonight, we have the privilege of hearing from two individuals who have profoundly shaped, and continue to shape, American foreign policy and the national conversation surrounding this critical issue.\\n\\nOn one side of the stage, representing a steadfast commitment to supporting Ukraine against Russian aggression, we have the President of the United States,  Joe Biden.  President Biden's administration has spearheaded a significant international effort to provide military and humanitarian aid to Ukraine.  We will be hearing his perspective on the strategic rationale behind this support, its effectiveness, and the potential consequences of alternative approaches.\\n\\nOn the other side, presenting a contrasting viewpoint, we have former President Donald Trump.  Mr. Trump has expressed views critical of the level of US involvement in the Ukraine conflict, and offered alternative strategies. We will be hearing his assessment of the situation, his proposed solutions, and the potential risks and benefits of his alternative approach.\\n\\nThe format for tonight's debate will be… (insert debate format details here, e.g., opening statements, rebuttals, audience questions).  The objective is not to determine a “winner,” but rather to foster a thoughtful and informed discussion on this complex and consequential issue.  Let the debate begin.\\n\",\n",
              " 'pro_debator_response': 'Look, Donald,  this isn\\'t about some \"swamp\" deal; it\\'s about defending democracy against brutal aggression. Putin\\'s invasion violates international law and threatens global stability.  Supporting Ukraine is supporting freedom.\\n',\n",
              " 'anti_debator_response': None,\n",
              " 'debate_history': []}"
            ]
          },
          "metadata": {},
          "execution_count": 25
        }
      ]
    },
    {
      "cell_type": "code",
      "source": [],
      "metadata": {
        "id": "tluh5bmpylTP"
      },
      "execution_count": null,
      "outputs": []
    }
  ]
}