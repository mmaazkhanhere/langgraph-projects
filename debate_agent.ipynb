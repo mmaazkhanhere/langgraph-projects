{
  "nbformat": 4,
  "nbformat_minor": 0,
  "metadata": {
    "colab": {
      "provenance": []
    },
    "kernelspec": {
      "name": "python3",
      "display_name": "Python 3"
    },
    "language_info": {
      "name": "python"
    }
  },
  "cells": [
    {
      "cell_type": "code",
      "execution_count": 6,
      "metadata": {
        "id": "geqbxDKea8uf"
      },
      "outputs": [],
      "source": [
        "!pip install  --quiet langgraph\n",
        "!pip install  --quiet langchain-google-genai\n",
        "!pip install --quiet langchain\n",
        "!pip install --quiet tavily-python\n",
        "!pip install --quiet langchain_community\n",
        "!pip install --quiet wikipedia\n",
        "!pip install --quiet google-generativeai"
      ]
    },
    {
      "cell_type": "code",
      "source": [
        "from google.colab import userdata\n",
        "from IPython.display import Image, display, Markdown\n",
        "import textwrap\n",
        "import os\n",
        "import getpass\n",
        "\n",
        "from typing import Any, Annotated, List, TypedDict\n",
        "from pydantic import BaseModel, Field\n",
        "\n",
        "from langchain_google_genai import ChatGoogleGenerativeAI\n",
        "from langchain_core.messages import get_buffer_string, AIMessage, HumanMessage, SystemMessage\n",
        "from langchain_community.tools.tavily_search import TavilySearchResults\n",
        "from langchain_community.document_loaders import WikipediaLoader\n",
        "\n",
        "from langgraph.graph import MessagesState\n",
        "from langgraph.graph.state import StateGraph, END, START\n",
        "from langgraph.checkpoint.memory import MemorySaver\n",
        "from langgraph.graph.message import add_messages"
      ],
      "metadata": {
        "id": "LbeKuTKIb-9y"
      },
      "execution_count": 38,
      "outputs": []
    },
    {
      "cell_type": "code",
      "source": [
        "google_api_key = userdata.get('GOOGLE_API_KEY')\n",
        "\n",
        "model = ChatGoogleGenerativeAI(model=\"gemini-1.5-flash\",\n",
        "                              api_key=google_api_key\n",
        "                              )\n",
        "\n",
        "# model.invoke(\"Test\")"
      ],
      "metadata": {
        "id": "HaLc7G7Bccnw"
      },
      "execution_count": 9,
      "outputs": []
    },
    {
      "cell_type": "code",
      "source": [
        "def _set_env(var: str):\n",
        "    if not os.environ.get(var):\n",
        "        os.environ[var] = getpass.getpass(f\"{var}: \")\n",
        "\n",
        "\n",
        "_set_env(\"TAVILY_API_KEY\")"
      ],
      "metadata": {
        "colab": {
          "base_uri": "https://localhost:8080/"
        },
        "id": "6CLl7rIMH_ij",
        "outputId": "92b8e8e6-3ef4-4b9f-9572-4c487397d6b7"
      },
      "execution_count": 41,
      "outputs": [
        {
          "name": "stdout",
          "output_type": "stream",
          "text": [
            "TAVILY_API_KEY: ··········\n"
          ]
        }
      ]
    },
    {
      "cell_type": "code",
      "source": [
        "memory = MemorySaver()\n",
        "\n",
        "class State(TypedDict):\n",
        "  topic: str\n",
        "  pro_debator: str\n",
        "  anti_debator: str\n",
        "  greetings: str\n",
        "  sentiment: str\n",
        "  analysis: str\n",
        "  pro_debator_response: str\n",
        "  anti_debator_response: str\n",
        "  context: Annotated[list, add_messages]\n",
        "  debate: Annotated[list, add_messages]\n",
        "  debate_history: List[str]\n",
        "  iteration: int\n",
        "\n",
        "class SearchQuery(BaseModel):\n",
        "  search_query: str = Field(description=\"The search query for retrieval\")"
      ],
      "metadata": {
        "id": "wQinv6poc4bB"
      },
      "execution_count": 39,
      "outputs": []
    },
    {
      "cell_type": "code",
      "source": [
        "def greeting_node(state: State):\n",
        "  \"\"\"LangGraph node that greets the debators and introduces them\"\"\"\n",
        "  topic = state['topic']\n",
        "  pro_debator = state['pro_debator']\n",
        "  anti_debator = state['anti_debator']\n",
        "\n",
        "  prompt = f\"\"\"You are hosting a debate between {pro_debator} and {anti_debator}\n",
        "            on the topic {topic}. {pro_debator} is pro while {anti_debator} is\n",
        "            against. You have to introduce the topic and debators to the audience.\n",
        "            Your response should be short and conversational\n",
        "            \"\"\"\n",
        "\n",
        "  greetings = model.invoke(prompt).content\n",
        "  return {\"greetings\": greetings}\n",
        "\n",
        "\n",
        "def analyzer_node(state: State):\n",
        "    \"\"\"LangGraph node that analyzes the latest argument for web search\"\"\"\n",
        "    topic = state['topic']\n",
        "    debate = state['debate']\n",
        "    pro_debator = state['pro_debator']\n",
        "    anti_debator = state['anti_debator']\n",
        "    last_message = debate[-1]\n",
        "    analysis_prompt = None\n",
        "    if isinstance(last_message, HumanMessage):\n",
        "        # Generate a prompt for a HumanMessage (pro-debator)\n",
        "        analysis_prompt = f\"\"\"\n",
        "        Analyze the latest argument made by the pro-debator {pro_debator}  on the topic \"{topic}\".\n",
        "        Focus on its strengths, weaknesses, and logical coherence. Write a short and concise\n",
        "        analytical guidance that can be used for web search to help {anti_debator} better answer the argument\n",
        "        and more completely support their stance on the topic {topic}\n",
        "        **Pro-Debator's Argument:**\n",
        "        {last_message.content}\n",
        "        \"\"\"\n",
        "\n",
        "    elif isinstance(last_message, AIMessage):\n",
        "        # Generate a prompt for an AIMessage (anti-debator)\n",
        "        analysis_prompt = f\"\"\"\n",
        "        Analyze the latest counterargument made by the anti-debator {anti_debator} on the topic \"{topic}\".\n",
        "        Identify key points of contention and evaluate their validity.  Write a short and concise\n",
        "        analytical guidance that can be used for web search to help {anti_debator} to effectively refute these arguments\n",
        "        and more completely support their stance on the topic {topic}\n",
        "        **Anti-Debator's Counterargument:**\n",
        "        {last_message.content}\n",
        "        \"\"\"\n",
        "\n",
        "    analysis = model.invoke(analysis_prompt).content\n",
        "    return {\"analysis\": analysis}\n",
        "\n",
        "\n",
        "def search_web(state: State):\n",
        "    \"\"\" Retrieve docs from web search \"\"\"\n",
        "    # Search query\n",
        "    analysis = state['analysis']\n",
        "    search_query = model.with_structured_output.invoke([analysis]+state['messages'])\n",
        "    # Search\n",
        "    tavily_search = TavilySearchResults(max_results = 3)\n",
        "    search_docs = tavily_search.invoke(search_query.search_query)\n",
        "     # Format\n",
        "    formatted_search_docs = \"\\n\\n---\\n\\n\".join(\n",
        "        [\n",
        "            f'<Document href=\"{doc[\"url\"]}\"/>\\n{doc[\"content\"]}\\n</Document>'\n",
        "            for doc in search_docs\n",
        "        ]\n",
        "    )\n",
        "    return {\"context\": [formatted_search_docs]}\n",
        "\n",
        "\n",
        "def search_wikipedia(state: State):\n",
        "    \"\"\" Retrieve docs from wikipedia \"\"\"\n",
        "    # Search query\n",
        "    analysis = state['analysis']\n",
        "    search_query = model.with_structured_output.invoke([analysis]+state['messages'])\n",
        "    # Search\n",
        "    search_docs = WikipediaLoader(query=search_query.search_query,\n",
        "                                  load_max_docs=2).load()\n",
        "     # Format\n",
        "    formatted_search_docs = \"\\n\\n---\\n\\n\".join(\n",
        "        [\n",
        "            f'<Document source=\"{doc.metadata[\"source\"]}\" page=\"{doc.metadata.get(\"page\", \"\")}\"/>\\n{doc.page_content}\\n</Document>'\n",
        "            for doc in search_docs\n",
        "        ]\n",
        "    )\n",
        "    return {\"context\": [formatted_search_docs]}\n",
        "\n",
        "\n",
        "def router(state: State):\n",
        "    \"\"\"LangGraph node that routes to the appropriate search function\"\"\"\n",
        "    debate_history = state[\"debate_history\"]\n",
        "    if debate_history == []:\n",
        "        return \"Pro Debator\"\n",
        "    else:\n",
        "      return \"Analyzer\""
      ],
      "metadata": {
        "id": "6WwmmYvGeA8w"
      },
      "execution_count": 48,
      "outputs": []
    },
    {
      "cell_type": "code",
      "source": [],
      "metadata": {
        "id": "8FfReHQx8lIH"
      },
      "execution_count": 48,
      "outputs": []
    },
    {
      "cell_type": "code",
      "source": [],
      "metadata": {
        "id": "So6-HlBE8lFx"
      },
      "execution_count": null,
      "outputs": []
    },
    {
      "cell_type": "code",
      "source": [],
      "metadata": {
        "id": "XnCHPUph8lCt"
      },
      "execution_count": null,
      "outputs": []
    },
    {
      "cell_type": "code",
      "source": [],
      "metadata": {
        "id": "pIX-2KdB8k_3"
      },
      "execution_count": null,
      "outputs": []
    },
    {
      "cell_type": "code",
      "source": [],
      "metadata": {
        "id": "AIIO6jya8k9B"
      },
      "execution_count": null,
      "outputs": []
    },
    {
      "cell_type": "code",
      "source": [],
      "metadata": {
        "id": "NrI4ezFU8k6G"
      },
      "execution_count": null,
      "outputs": []
    },
    {
      "cell_type": "code",
      "source": [
        "from langchain_core.messages import HumanMessage\n",
        "\n",
        "def pro_debator_node(state: State):\n",
        "    \"\"\"LangGraph node that represents the pro debator\"\"\"\n",
        "    topic = state['topic']\n",
        "    anti_debator_response = state['anti_debator_response']\n",
        "    pro_debator = state['pro_debator']\n",
        "    anti_debator = state['anti_debator']\n",
        "    debate_history = state['debate_history']\n",
        "    debate = state['debate']\n",
        "\n",
        "    if anti_debator_response is None and debate == []:\n",
        "        prompt_template = \"\"\"\n",
        "            You are {pro_debator}, a pro debator on the topic of {topic} having a debate with {anti_debator}.\n",
        "            Your goal is to present compelling arguments in favor of {topic} while maintaining the persona of {pro_debator}.\n",
        "            Ensure your responses are coherent, logical, and persuasive.\n",
        "            Keep the persona of {pro_debator} throughout the entire conversation.\n",
        "            Your responses should be relevant to the current stage of the debate.\n",
        "            You can refute the other debator's arguments and present your own supporting evidence for {topic}.\n",
        "            Do not deviate from your persona. Respond concisely in no more than 4 or 5 sentences.\n",
        "        \"\"\"\n",
        "        system_message = prompt_template.format(topic=topic, pro_debator=pro_debator, anti_debator=anti_debator)\n",
        "        pro_debator_response_content = model.invoke(system_message).content\n",
        "    else:\n",
        "      context = state['context']\n",
        "      prompt_template = \"\"\"\n",
        "          You are a professional debater, embodying the persona of {pro_debator}. Your goal is to convincingly argue the affirmative side of the debate topic: \"{topic}\".\n",
        "          You must maintain your assigned persona throughout the debate and ensure that your arguments align with it.\n",
        "          Remember the following:\n",
        "          1. Respond to the latest argument of the anti-debator provided below, ensuring your response directly addresses their points.\n",
        "          2. Consider the context of the debate history {debate_history} and data gathered from web search {context}, building upon your\n",
        "          previous arguments and refuting the anti-debator's counterarguments effectively.\n",
        "          3. Use eloquent and persuasive language, demonstrating your mastery of the topic and your persona.\n",
        "          4. Avoid making factual errors or inconsistencies that might damage your credibility.\n",
        "          **Debate History:**\n",
        "          {debate_history}\n",
        "          **Latest Anti-Debator Argument:**\n",
        "          {anti_debator_response}\n",
        "          **Your Response (Pro Debator):**\n",
        "      \"\"\"\n",
        "      system_message = prompt_template.format(\n",
        "          topic=topic,\n",
        "          pro_debator=pro_debator,\n",
        "          anti_debator=anti_debator,\n",
        "          debate_history=debate_history,\n",
        "          anti_debator_response=anti_debator_response,\n",
        "          context=context\n",
        "      )\n",
        "      pro_debator_response_content = model.invoke(system_message).content\n",
        "\n",
        "    # Create a HumanMessage with the response content and assign a name\n",
        "    pro_debator_response = HumanMessage(\n",
        "        content=pro_debator_response_content,\n",
        "        name=\"pro_response\"\n",
        "    )\n",
        "\n",
        "    debate.append(pro_debator_response)\n",
        "    return {\"pro_debator_response\": pro_debator_response, \"debate\": debate}\n"
      ],
      "metadata": {
        "id": "I22jJGnD8k3T"
      },
      "execution_count": 56,
      "outputs": []
    },
    {
      "cell_type": "code",
      "source": [
        "builder: StateGraph = StateGraph(State)\n",
        "\n",
        "builder.add_node(\"Greetings\", greeting_node)\n",
        "builder.add_node(\"Pro Debator\", pro_debator_node)\n",
        "builder.add_node(\"Analyzer\", analyzer_node)\n",
        "builder.add_node(\"Search Web\", search_web)\n",
        "builder.add_node(\"Search Wikipedia\", search_wikipedia)\n",
        "\n",
        "builder.add_edge(START, \"Greetings\")\n",
        "builder.add_conditional_edges(\"Greetings\", router, ['Analyzer', 'Pro Debator'])\n",
        "builder.add_edge(\"Analyzer\", \"Search Web\")\n",
        "builder.add_edge(\"Analyzer\", \"Search Wikipedia\")\n",
        "builder.add_edge(\"Search Web\", 'Pro Debator')\n",
        "builder.add_edge(\"Search Wikipedia\", 'Pro Debator')\n",
        "builder.add_edge(\"Pro Debator\", END)\n",
        "\n",
        "debator = builder.compile(checkpointer=memory).with_config(run_name=\"Create podcast\")\n",
        "\n",
        "display(Image(debator.get_graph().draw_mermaid_png()))"
      ],
      "metadata": {
        "id": "K7VZ--S4uPrQ",
        "colab": {
          "base_uri": "https://localhost:8080/",
          "height": 548
        },
        "outputId": "408e7c75-7edd-4bf7-9bb9-e4ac4b0da7ec"
      },
      "execution_count": 57,
      "outputs": [
        {
          "output_type": "display_data",
          "data": {
            "image/png": "[encoded data removed]",
            "text/plain": [
              "<IPython.core.display.Image object>"
            ]
          },
          "metadata": {}
        }
      ]
    },
    {
      "cell_type": "code",
      "source": [
        "thread = {\"configurable\": {\"thread_id\": \"1\"}}\n",
        "result = debator.invoke({'topic': 'Ukraine War', 'pro_debator': 'Joe Biden', 'anti_debator': 'Donald Trump', 'anti_debator_response': None, 'debate_history': [], 'debate':[], 'context': \"\"}, thread)\n",
        "result"
      ],
      "metadata": {
        "id": "dgM_htTJu2kl",
        "colab": {
          "base_uri": "https://localhost:8080/"
        },
        "outputId": "2b42662f-1c29-4046-bd28-f583008925b6"
      },
      "execution_count": 58,
      "outputs": [
        {
          "output_type": "execute_result",
          "data": {
            "text/plain": [
              "{'topic': 'Ukraine War',\n",
              " 'pro_debator': 'Joe Biden',\n",
              " 'anti_debator': 'Donald Trump',\n",
              " 'greetings': \"Good evening, ladies and gentlemen, and welcome to tonight's crucial debate on a matter of paramount importance to global security and the future of democracy: the war in Ukraine.  For months, the world has watched with bated breath as Russia’s unprovoked invasion has unfolded, causing immense human suffering and threatening the very foundations of the international order.  Tonight, we will delve into the complexities of this conflict, exploring its origins, its impact, and the best path forward.\\n\\nOur debaters tonight represent two distinctly different perspectives on this critical issue.  On one side, we have President Joe Biden, who has championed a robust and unwavering support for Ukraine, providing significant military and economic aid to help them defend their sovereignty against Russian aggression.  President Biden will be arguing in favor of continued and potentially increased support for Ukraine.\\n\\nAnd on the other side, we have former President Donald Trump, who has expressed views questioning the wisdom and effectiveness of the current approach to the conflict, suggesting alternative strategies and raising concerns about the financial and geopolitical implications of continued involvement.  Former President Trump will be arguing against the current level of US involvement in the Ukraine War.\\n\\nThe format for tonight’s debate will be [briefly explain the debate format, e.g., opening statements, rebuttals, closing statements, audience Q&A].  The goal is not to simply score points, but to engage in a respectful yet vigorous exchange of ideas, allowing us all to gain a deeper understanding of this multifaceted crisis.\\n\\nLet's begin with opening statements from President Biden.  President Biden, the floor is yours.\\n\",\n",
              " 'analysis': [],\n",
              " 'pro_debator_response': HumanMessage(content=\"Look, folks, this isn't about some abstract geopolitical game.  This is about basic decency, about standing up for a sovereign nation being brutally attacked by a dictator.  Putin's aggression threatens the entire international order, and if we don't stand with Ukraine, who's next?  Supporting Ukraine isn't just the right thing to do, it's in America's national security interest.  We're strengthening our alliances and deterring future aggression.\\n\", additional_kwargs={}, response_metadata={}, name='pro_response', id='e96ef693-abac-451c-831f-fc31c6764212'),\n",
              " 'anti_debator_response': None,\n",
              " 'debate': [HumanMessage(content=\"Look, folks, this isn't about some abstract geopolitical game.  This is about basic decency, about standing up for a sovereign nation being brutally attacked by a dictator.  Putin's aggression threatens the entire international order, and if we don't stand with Ukraine, who's next?  Supporting Ukraine isn't just the right thing to do, it's in America's national security interest.  We're strengthening our alliances and deterring future aggression.\\n\", additional_kwargs={}, response_metadata={}, name='pro_response', id='e96ef693-abac-451c-831f-fc31c6764212')],\n",
              " 'debate_history': []}"
            ]
          },
          "metadata": {},
          "execution_count": 58
        }
      ]
    },
    {
      "cell_type": "code",
      "source": [],
      "metadata": {
        "id": "tluh5bmpylTP"
      },
      "execution_count": null,
      "outputs": []
    }
  ]
}