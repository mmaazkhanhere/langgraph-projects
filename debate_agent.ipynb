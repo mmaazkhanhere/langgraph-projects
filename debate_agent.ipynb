{
  "cells": [
    {
      "cell_type": "code",
      "execution_count": 2,
      "metadata": {
        "id": "geqbxDKea8uf",
        "colab": {
          "base_uri": "https://localhost:8080/"
        },
        "outputId": "c71a857d-2308-4001-bc8f-32520938b6b9"
      },
      "outputs": [
        {
          "output_type": "stream",
          "name": "stdout",
          "text": [
            "\u001b[2K   \u001b[90m━━━━━━━━━━━━━━━━━━━━━━━━━━━━━━━━━━━━━━━━\u001b[0m \u001b[32m125.1/125.1 kB\u001b[0m \u001b[31m6.2 MB/s\u001b[0m eta \u001b[36m0:00:00\u001b[0m\n",
            "\u001b[2K   \u001b[90m━━━━━━━━━━━━━━━━━━━━━━━━━━━━━━━━━━━━━━━━\u001b[0m \u001b[32m41.3/41.3 kB\u001b[0m \u001b[31m2.4 MB/s\u001b[0m eta \u001b[36m0:00:00\u001b[0m\n",
            "\u001b[2K   \u001b[90m━━━━━━━━━━━━━━━━━━━━━━━━━━━━━━━━━━━━━━━━\u001b[0m \u001b[32m1.2/1.2 MB\u001b[0m \u001b[31m19.5 MB/s\u001b[0m eta \u001b[36m0:00:00\u001b[0m\n",
            "\u001b[2K   \u001b[90m━━━━━━━━━━━━━━━━━━━━━━━━━━━━━━━━━━━━━━━━\u001b[0m \u001b[32m2.4/2.4 MB\u001b[0m \u001b[31m39.7 MB/s\u001b[0m eta \u001b[36m0:00:00\u001b[0m\n",
            "\u001b[2K   \u001b[90m━━━━━━━━━━━━━━━━━━━━━━━━━━━━━━━━━━━━━━━━\u001b[0m \u001b[32m3.1/3.1 MB\u001b[0m \u001b[31m74.0 MB/s\u001b[0m eta \u001b[36m0:00:00\u001b[0m\n",
            "\u001b[2K   \u001b[90m━━━━━━━━━━━━━━━━━━━━━━━━━━━━━━━━━━━━━━━━\u001b[0m \u001b[32m49.5/49.5 kB\u001b[0m \u001b[31m3.6 MB/s\u001b[0m eta \u001b[36m0:00:00\u001b[0m\n",
            "\u001b[2K   \u001b[90m━━━━━━━━━━━━━━━━━━━━━━━━━━━━━━━━━━━━━━━━\u001b[0m \u001b[32m108.9/108.9 kB\u001b[0m \u001b[31m5.4 MB/s\u001b[0m eta \u001b[36m0:00:00\u001b[0m\n",
            "\u001b[?25h  Preparing metadata (setup.py) ... \u001b[?25l\u001b[?25hdone\n",
            "  Building wheel for wikipedia (setup.py) ... \u001b[?25l\u001b[?25hdone\n",
            "\u001b[2K   \u001b[90m━━━━━━━━━━━━━━━━━━━━━━━━━━━━━━━━━━━━━━━━\u001b[0m \u001b[32m3.0/3.0 MB\u001b[0m \u001b[31m48.1 MB/s\u001b[0m eta \u001b[36m0:00:00\u001b[0m\n",
            "\u001b[?25h"
          ]
        }
      ],
      "source": [
        "!pip install  --quiet langgraph\n",
        "!pip install  --quiet langchain-google-genai\n",
        "!pip install --quiet langchain\n",
        "!pip install --quiet tavily-python\n",
        "!pip install --quiet langchain_community\n",
        "!pip install --quiet langchain-groq\n",
        "!pip install --quiet wikipedia\n",
        "!pip install --quiet google-generativeai\n",
        "!pip install --quiet duckduckgo-search\n"
      ]
    },
    {
      "cell_type": "code",
      "execution_count": 61,
      "metadata": {
        "id": "LbeKuTKIb-9y"
      },
      "outputs": [],
      "source": [
        "from google.colab import userdata\n",
        "from IPython.display import Image, display, Markdown\n",
        "import textwrap\n",
        "import os\n",
        "import getpass\n",
        "import time\n",
        "\n",
        "from typing import Any, Annotated, List, TypedDict\n",
        "from pydantic import BaseModel, Field\n",
        "\n",
        "from langchain_google_genai import ChatGoogleGenerativeAI\n",
        "from langchain_core.messages import get_buffer_string, AIMessage, HumanMessage, SystemMessage\n",
        "from langchain_community.utilities import DuckDuckGoSearchAPIWrapper\n",
        "from langchain_community.tools import DuckDuckGoSearchRun\n",
        "from langchain_community.tools import DuckDuckGoSearchResults\n",
        "from langchain_community.retrievers import WikipediaRetriever\n",
        "from langchain_groq import ChatGroq\n",
        "\n",
        "from langgraph.graph import MessagesState\n",
        "from langgraph.graph.state import StateGraph, END, START\n",
        "from langgraph.checkpoint.memory import MemorySaver\n",
        "from langgraph.graph.message import add_messages"
      ]
    },
    {
      "cell_type": "code",
      "execution_count": null,
      "metadata": {
        "id": "HaLc7G7Bccnw"
      },
      "outputs": [],
      "source": [
        "# google_api_key = userdata.get('GOOGLE_API_KEY')\n",
        "\n",
        "# model = ChatGoogleGenerativeAI(model=\"gemini-1.5-flash\",\n",
        "#                               api_key=google_api_key\n",
        "#                               )\n",
        "\n",
        "# # model.invoke(\"Test\")"
      ]
    },
    {
      "cell_type": "code",
      "source": [
        "api_key = userdata.get(\"GROQ_API_KEY\")\n",
        "\n",
        "model = ChatGroq(\n",
        "    model=\"llama-3.1-70b-versatile\",\n",
        "    verbose=True,\n",
        "    temperature=0.5,\n",
        "    api_key=api_key\n",
        ")\n",
        "\n",
        "model.invoke('TEST').content"
      ],
      "metadata": {
        "colab": {
          "base_uri": "https://localhost:8080/",
          "height": 54
        },
        "id": "J_-kSLwzLUI2",
        "outputId": "256b8fc7-f709-404b-fec3-1623f46cb7df"
      },
      "execution_count": 4,
      "outputs": [
        {
          "output_type": "execute_result",
          "data": {
            "text/plain": [
              "\"It looks like you're testing to see if I'm working properly. Is there anything else I can help you with or would you like to have a conversation?\""
            ],
            "application/vnd.google.colaboratory.intrinsic+json": {
              "type": "string"
            }
          },
          "metadata": {},
          "execution_count": 4
        }
      ]
    },
    {
      "cell_type": "code",
      "execution_count": 6,
      "metadata": {
        "id": "6CLl7rIMH_ij"
      },
      "outputs": [],
      "source": [
        "# def _set_env(var: str):\n",
        "#     if not os.environ.get(var):\n",
        "#         os.environ[var] = getpass.getpass(f\"{var}: \")\n",
        "\n",
        "\n",
        "# _set_env(\"TAVILY_API_KEY\")"
      ]
    },
    {
      "cell_type": "code",
      "execution_count": 121,
      "metadata": {
        "id": "wQinv6poc4bB"
      },
      "outputs": [],
      "source": [
        "memory = MemorySaver()\n",
        "\n",
        "class State(TypedDict):\n",
        "  topic: str\n",
        "  pro_debator: str\n",
        "  anti_debator: str\n",
        "  greetings: str\n",
        "  analysis: str\n",
        "  pro_debator_response: str\n",
        "  anti_debator_response: str\n",
        "  context: Annotated[list, add_messages]\n",
        "  debate: Annotated[list, add_messages]\n",
        "  debate_history: List[str]\n",
        "  iteration: int\n",
        "  max_iteration: int\n",
        "\n",
        "class SearchQuery(BaseModel):\n",
        "  search_query: str = Field(description=\"The search query for retrieval\")\n",
        "\n",
        "# structure_llm = model.with_structured_output(SearchQuery)\n",
        "# structure_llm"
      ]
    },
    {
      "cell_type": "code",
      "source": [
        "\n",
        "def measure_time(node_function):\n",
        "    \"\"\"Decorator to measure and log the execution time of a node function.\"\"\"\n",
        "    def wrapper(state, *args, **kwargs):\n",
        "        start_time = time.time()\n",
        "        print(f\"Starting node: {node_function.__name__}\")\n",
        "        result = node_function(state, *args, **kwargs)\n",
        "        end_time = time.time()\n",
        "        elapsed_time = end_time - start_time\n",
        "        print(f\"Node {node_function.__name__} completed in {elapsed_time:.2f} seconds.\\n\")\n",
        "\n",
        "        # Optionally store in state for later analysis\n",
        "        if \"node_times\" not in state:\n",
        "            state[\"node_times\"] = {}\n",
        "        state[\"node_times\"][node_function.__name__] = elapsed_time\n",
        "\n",
        "        return result\n",
        "    return wrapper\n",
        "\n"
      ],
      "metadata": {
        "id": "qOgKP16PKLUO"
      },
      "execution_count": 122,
      "outputs": []
    },
    {
      "cell_type": "code",
      "execution_count": 130,
      "metadata": {
        "id": "6WwmmYvGeA8w"
      },
      "outputs": [],
      "source": [
        "@measure_time\n",
        "def greeting_node(state: State):\n",
        "    \"\"\"LangGraph node that greets the debaters and introduces them\"\"\"\n",
        "    print(\"Greeting Node\")\n",
        "    topic = state['topic']\n",
        "    pro_debator = state['pro_debator']\n",
        "    anti_debator = state['anti_debator']\n",
        "\n",
        "    prompt = f\"\"\"\n",
        "    You are a professional and unbiased debate host introducing a debate between two participants:\n",
        "    - {pro_debator}, who supports the topic.\n",
        "    - {anti_debator}, who opposes the topic.\n",
        "    Topic: \"{topic}\"\n",
        "    Instructions:\n",
        "    1. Clearly and briefly introduce the participants and the topic to the audience.\n",
        "    2. Avoid opinions, commentary, or humor. Maintain a formal and neutral tone.\n",
        "    3. Do not include information not provided in this prompt. Keep the introduction concise, no more than 3 sentences.\n",
        "    4. Ensure the output is free from errors or irrelevant content.\n",
        "    Format:\n",
        "    - Start by welcoming the audience.\n",
        "    - Introduce the participants and their stances.\n",
        "    - Conclude by stating the topic being debated.\n",
        "    \"\"\"\n",
        "\n",
        "    greetings = model.invoke(prompt).content\n",
        "    return {\"greetings\": greetings}\n",
        "\n",
        "\n",
        "@measure_time\n",
        "def analyzer_node(state: State):\n",
        "    \"\"\"LangGraph node that analyzes the latest argument for web search\"\"\"\n",
        "    print(\"Analyzer Node\")\n",
        "    topic = state['topic']\n",
        "    debate = state['debate']\n",
        "    pro_debator = state['pro_debator']\n",
        "    anti_debator = state['anti_debator']\n",
        "    last_message = debate[-1]\n",
        "    analysis_prompt = None\n",
        "\n",
        "    if isinstance(last_message, HumanMessage):\n",
        "        print(\"Analyzing for Anti Debator\")\n",
        "        analysis_prompt = f\"\"\"\n",
        "        You are an expert debate analyst providing guidance for effective counterarguments.\n",
        "        Task:\n",
        "        Analyze the most recent argument presented by the pro-debator, {pro_debator}, on the topic \"{topic}\".\n",
        "        - Highlight the key strengths and logical points of the argument.\n",
        "        - Identify weaknesses, gaps, or fallacies in the argument, if any.\n",
        "        - Provide specific and actionable guidance to help the anti-debator, {anti_debator}, develop a strong refutation.\n",
        "        Constraints:\n",
        "        - Keep the analysis concise and relevant, limited to 3-4 sentences.\n",
        "        - Avoid including opinions or unsupported assumptions.\n",
        "        - Only use information provided in the argument below.\n",
        "        Argument by Pro-Debator:\n",
        "        \"{last_message.content}\"\n",
        "        \"\"\"\n",
        "\n",
        "    elif isinstance(last_message, AIMessage):\n",
        "        # Analysis for an AIMessage (anti-debator's counterargument)\n",
        "        print(\"Analyzing for Pro Debator\")\n",
        "        analysis_prompt = f\"\"\"\n",
        "        You are an expert debate analyst providing guidance for effective counterarguments.\n",
        "        Task:\n",
        "        Analyze the most recent counterargument presented by the anti-debator, {anti_debator}, on the topic \"{topic}\".\n",
        "        - Highlight the key points and logical strengths of the counterargument.\n",
        "        - Identify weaknesses, gaps, or fallacies in the counterargument, if any.\n",
        "        - Provide specific and actionable guidance to help the pro-debator, {pro_debator}, effectively refute these points.\n",
        "        Constraints:\n",
        "        - Keep the analysis concise and relevant, limited to 3-4 sentences.\n",
        "        - Avoid including opinions or unsupported assumptions.\n",
        "        - Only use information provided in the counterargument below.\n",
        "        Counterargument by Anti-Debator:\n",
        "        \"{last_message.content}\"\n",
        "        \"\"\"\n",
        "\n",
        "    analysis = model.invoke(analysis_prompt).content\n",
        "    return {\"analysis\": analysis}\n",
        "\n",
        "\n",
        "\n",
        "@measure_time\n",
        "def search_web(state: State):\n",
        "    \"\"\"LangGraph node to search the web using Tavily Search API and append the results to context.\"\"\"\n",
        "    analysis = state['analysis']\n",
        "    context = state['context']\n",
        "    debate_history = state['debate_history']\n",
        "    # Generate a concise and focused search query\n",
        "    search_query_prompt = f\"\"\"\n",
        "    You are a search assistant creating a concise and high-quality web search query.\n",
        "    Task:\n",
        "    Based on the following debate history and analysis, generate a single-sentence search query:\n",
        "    - The query must focus on retrieving factual information, particularly numeric data, statistics, or figures directly relevant to the topic.\n",
        "    - Avoid verbose or generic phrasing. Be as specific as possible.\n",
        "    Analysis:\n",
        "    \"{analysis}\"\n",
        "    Debate History:\n",
        "    \"{debate_history}\"\n",
        "    Output:\n",
        "    A single, short and concise search query focusing on numeric data.\n",
        "    \"\"\"\n",
        "    search_query = model.invoke(search_query_prompt).content.strip()\n",
        "    # Perform the web search\n",
        "    search = DuckDuckGoSearchResults(backend=\"news\", output_format='list')\n",
        "    search_result = search.invoke(search_query)\n",
        "    # Compile results\n",
        "    result = \"\"\n",
        "    for entry in search_result:\n",
        "        print(entry['snippet'])\n",
        "        result += entry['snippet'] + \"\\n\"\n",
        "\n",
        "    return {\"context\": [result]}\n",
        "\n",
        "\n",
        "@measure_time\n",
        "def search_wikipedia(state: State):\n",
        "    \"\"\"Retrieve docs from Wikipedia using WikipediaRetriever\"\"\"\n",
        "    print(\"Searching Wikipedia\")\n",
        "\n",
        "    # Analysis and debate context\n",
        "    analysis = state['analysis']\n",
        "    debate_history = state['debate_history']\n",
        "\n",
        "    # Generate a concise, single-sentence Wikipedia search query\n",
        "    search_query_prompt = f\"\"\"\n",
        "    You are a search assistant generating a concise search query for Wikipedia.\n",
        "    Task:\n",
        "    Based on the analysis and debate history provided, generate a single-sentence search query:\n",
        "    - Focus on retrieving relevant and factual information from Wikipedia.\n",
        "    - Avoid verbose or redundant phrasing.\n",
        "    Analysis:\n",
        "    \"{analysis}\"\n",
        "    Debate History:\n",
        "    \"{debate_history}\"\n",
        "    Output:\n",
        "    A single concise search query relevant to the topic.\n",
        "    \"\"\"\n",
        "    search_query = model.invoke(search_query_prompt).content.strip()\n",
        "    print(\"Wikipedia Search Query:\", search_query)\n",
        "\n",
        "    retriever = WikipediaRetriever()\n",
        "    search_docs = retriever.invoke(search_query)\n",
        "    all_summaries = \"\"\n",
        "    for doc in search_docs:\n",
        "        if 'summary' in doc.metadata:\n",
        "            all_summaries += doc.metadata['summary'] + \"\\n\\n\"\n",
        "\n",
        "    print(f\"Wikipedia Docs Summaries: {all_summaries}\")\n",
        "    return {\"context\": [all_summaries]}\n",
        "\n",
        "\n",
        "@measure_time\n",
        "def router(state: State):\n",
        "    \"\"\"LangGraph node that routes to the appropriate search function\"\"\"\n",
        "    debate_history = state[\"debate_history\"]\n",
        "    if debate_history == []:\n",
        "        return \"Pro Debator\"\n",
        "    else:\n",
        "      return \"Analyzer\"\n",
        "\n",
        "def iteration_router(state: State):\n",
        "    \"\"\"Routes the flow based on the current iteration and max_iteration\"\"\"\n",
        "\n",
        "    if state['iteration'] < state['max_iteration']:\n",
        "        print(f\"Iteration Round: {state['iteration']}\")\n",
        "        # Increment iteration\n",
        "        state['iteration'] += 1\n",
        "        return \"Analyzer\"\n",
        "    else:\n",
        "        # End the debate\n",
        "        print(\"Ending the debate as max iteration is reached.\")\n",
        "        return \"END\"\n",
        "\n",
        "\n",
        "@measure_time\n",
        "def analyzer_router(state: State):\n",
        "    \"\"\"Function that routes to the appropriate next node\"\"\"\n",
        "    debate = state['debate']\n",
        "    last_message = debate[-1]\n",
        "    if isinstance(last_message, AIMessage):\n",
        "        return \"Pro Debator\"  # Pro Debator responds to the anti-debator's argument\n",
        "    else:\n",
        "        return \"Anti Debator\"  # Anti Debator responds to the pro-debator's argument\n"
      ]
    },
    {
      "cell_type": "code",
      "execution_count": 131,
      "metadata": {
        "id": "I22jJGnD8k3T"
      },
      "outputs": [],
      "source": [
        "def pro_debator_node(state: State):\n",
        "    \"\"\"LangGraph node that represents the pro debator\"\"\"\n",
        "\n",
        "    print(\"Pro Debator Node\")\n",
        "\n",
        "    topic = state['topic']\n",
        "    anti_debator_response = state.get('anti_debator_response')\n",
        "    pro_debator = state['pro_debator']\n",
        "    anti_debator = state['anti_debator']\n",
        "    debate_history = state.get('debate_history', [])\n",
        "    debate = state.get('debate', [])\n",
        "    context = state.get('context', \"\")\n",
        "\n",
        "    if not anti_debator_response and not debate:\n",
        "        # Greeting and opening argument scenario\n",
        "        prompt_template = \"\"\"\n",
        "            You are {pro_debator}, a professional and eloquent debater, presenting the affirmative stance on the topic: \"{topic}\".\n",
        "            Your goal is to initiate the debate by presenting a compelling introduction and strong opening arguments in favor of {topic}.\n",
        "            As {pro_debator}, ensure your language aligns with your persona and is persuasive yet respectful.\n",
        "            Consider the background information or context provided below (if available) to strengthen your opening statements.\n",
        "\n",
        "            **Context**: {context}\n",
        "\n",
        "            Keep your introduction concise and powerful, providing no more than 4 sentences that set the stage for a productive and engaging debate.\n",
        "        \"\"\"\n",
        "        system_message = prompt_template.format(\n",
        "            pro_debator=pro_debator,\n",
        "            topic=topic,\n",
        "            context=context\n",
        "        )\n",
        "    else:\n",
        "        # Responding to latest argument scenario\n",
        "        prompt_template = \"\"\"\n",
        "            You are {pro_debator}, a professional debater arguing in favor of the topic: \"{topic}\".\n",
        "            Your task is to craft a persuasive and logical rebuttal to the latest argument provided by {anti_debator}.\n",
        "            Your response must:\n",
        "            1. Directly address the anti-debator's points and counter them effectively.\n",
        "            2. Incorporate relevant details from the debate history and context (if provided) to strengthen your arguments.\n",
        "            3. Maintain your assigned persona and ensure consistency with your previous responses.\n",
        "\n",
        "            Be concise and ensure your response is no more than 5 sentences while remaining impactful and relevant.\n",
        "\n",
        "            **Debate History**:\n",
        "            {debate_history}\n",
        "\n",
        "            **Latest Argument from {anti_debator}**:\n",
        "            {anti_debator_response}\n",
        "\n",
        "            **Context**:\n",
        "            {context}\n",
        "\n",
        "            **Your Rebuttal**:\n",
        "        \"\"\"\n",
        "        system_message = prompt_template.format(\n",
        "            pro_debator=pro_debator,\n",
        "            topic=topic,\n",
        "            anti_debator=anti_debator,\n",
        "            debate_history=debate_history,\n",
        "            anti_debator_response=anti_debator_response,\n",
        "            context=context\n",
        "        )\n",
        "\n",
        "    # Generate response using the model\n",
        "    pro_debator_response_content = model.invoke(system_message).content\n",
        "\n",
        "    # Create a HumanMessage with the response content and assign a name\n",
        "    pro_debator_response = HumanMessage(\n",
        "        content=f\"{pro_debator}: {pro_debator_response_content}\",\n",
        "        name=\"pro_response\"\n",
        "    )\n",
        "\n",
        "    debate.append(pro_debator_response)\n",
        "    return {\"pro_debator_response\": pro_debator_response, \"debate\": debate}\n"
      ]
    },
    {
      "cell_type": "code",
      "execution_count": 132,
      "metadata": {
        "id": "wJGrpaQfQfI3"
      },
      "outputs": [],
      "source": [
        "def anti_debator_node(state: State):\n",
        "    \"\"\"LangGraph node that represents the anti debator\"\"\"\n",
        "    print(\"Anti Debator Node\")\n",
        "    topic = state['topic']\n",
        "    anti_debator_response = state.get('anti_debator_response')\n",
        "    pro_debator = state['pro_debator']\n",
        "    anti_debator = state['anti_debator']\n",
        "    debate_history = state.get('debate_history', [])\n",
        "    debate = state.get('debate', [])\n",
        "    context = state.get('context', \"\")\n",
        "\n",
        "    # Improved prompt with guardrails\n",
        "    prompt_template = \"\"\"\n",
        "        You are {anti_debator}, a skilled and logical debater tasked with presenting the opposing perspective on the topic: \"{topic}\".\n",
        "        You are debating with {pro_debator}, and your goal is to provide a clear and compelling counterargument to their latest response.\n",
        "        Follow these guidelines to craft your response:\n",
        "        1. **Persona Consistency**: Maintain the persona of {anti_debator} throughout the debate. Your tone should be confident, respectful, and analytical.\n",
        "        2. **Direct Rebuttal**: Address the latest response from the pro debater ({pro_debator_response}) directly. Point out weaknesses, logical fallacies, or missing evidence in their argument.\n",
        "        3. **Use of Context**: Leverage the context provided below to support your rebuttal and introduce credible evidence against the topic.\n",
        "        4. **Debate History**: Build upon the debate history provided to ensure consistency and avoid redundancy.\n",
        "        5. **Clarity and Conciseness**: Keep your response to a maximum of 5 sentences. Ensure each sentence contributes to your argument.\n",
        "        6. **Guardrails**: Avoid making unsupported claims, personal attacks, or irrelevant points. Focus only on the topic and arguments presented.\n",
        "        **Context**:\n",
        "        {context}\n",
        "        **Debate History**:\n",
        "        {debate_history}\n",
        "        **Latest Pro-Debator Argument**:\n",
        "        {pro_debator_response}\n",
        "        **Your Rebuttal**:\n",
        "    \"\"\"\n",
        "\n",
        "    # Generate the system message for the model\n",
        "    system_message = prompt_template.format(\n",
        "        topic=topic,\n",
        "        pro_debator=pro_debator,\n",
        "        pro_debator_response=anti_debator_response,\n",
        "        anti_debator=anti_debator,\n",
        "        debate_history=debate_history,\n",
        "        context=context\n",
        "    )\n",
        "\n",
        "    # Generate response using the model\n",
        "    anti_debator_response_content = model.invoke(system_message).content\n",
        "\n",
        "    # Create an AIMessage with the response content and assign a name\n",
        "    anti_debator_response = AIMessage(\n",
        "        content=f\"{anti_debator}: {anti_debator_response_content}\",\n",
        "        name=\"anti_response\"\n",
        "    )\n",
        "\n",
        "    debate.append(anti_debator_response)\n",
        "    return {\"anti_debator_response\": anti_debator_response, \"debate\": debate}\n"
      ]
    },
    {
      "cell_type": "code",
      "execution_count": 133,
      "metadata": {
        "id": "BhO8NyCwQg7e"
      },
      "outputs": [],
      "source": [
        "@measure_time\n",
        "def debate_summarizer_node(state: State):\n",
        "  \"\"\"LangGraph node that summarizes the exchange of arguments between debator\n",
        "  and append to history for future consideration\n",
        "  \"\"\"\n",
        "  pro_debator = state['pro_debator']\n",
        "  anti_debator = state['anti_debator']\n",
        "  debate_history = state['debate_history']\n",
        "  anti_debator_response = state['anti_debator_response']\n",
        "  pro_debator_response = state['pro_debator_response']\n",
        "  prompt = \"\"\"\n",
        "            Summarize the conversation between the pro {pro_debator} and anti debator {anti_debator},\n",
        "            highlighting the key points of their arguments and discarding unnecessary points. The\n",
        "            summary should be concise and brief, with high quality.\n",
        "            **Instructions:**\n",
        "            * Focus on the core arguments presented by both sides.\n",
        "            * Identify the main points of agreement and disagreement.\n",
        "            * Provide a clear and objective overview of the debate.\n",
        "            * Avoid including irrelevant details or repetitive information.\n",
        "            * Ensure that the summary is easy to understand and informative.\n",
        "            **Pro Debator:**\n",
        "            {pro_debator_response}\n",
        "            **Anti Debator:**\n",
        "            {anti_debator_response}\n",
        "          \"\"\"\n",
        "  system_message = prompt.format(\n",
        "                      pro_debator=pro_debator,\n",
        "                      pro_debator_response=pro_debator_response,\n",
        "                      anti_debator=anti_debator,\n",
        "                      anti_debator_response=anti_debator_response,\n",
        "                    )\n",
        "  summary = model.invoke(system_message).content\n",
        "  debate_history.append(summary)\n",
        "  return {\"debate_history\": debate_history}\n"
      ]
    },
    {
      "cell_type": "code",
      "execution_count": 133,
      "metadata": {
        "id": "Sm5Cm23LapZY"
      },
      "outputs": [],
      "source": []
    },
    {
      "cell_type": "code",
      "execution_count": 134,
      "metadata": {
        "id": "K7VZ--S4uPrQ",
        "colab": {
          "base_uri": "https://localhost:8080/",
          "height": 647
        },
        "outputId": "b749f83b-c826-4b5d-f8de-634a7ce103c1"
      },
      "outputs": [
        {
          "output_type": "display_data",
          "data": {
            "image/png": "[encoded data removed]",
            "text/plain": [
              "<IPython.core.display.Image object>"
            ]
          },
          "metadata": {}
        }
      ],
      "source": [
        "builder = StateGraph(State)\n",
        "\n",
        "# Add nodes\n",
        "builder.add_node(\"Greetings\", greeting_node)\n",
        "builder.add_node(\"Pro Debator\", pro_debator_node)\n",
        "builder.add_node(\"Analyzer\", analyzer_node)\n",
        "builder.add_node(\"Search Web\", search_web)\n",
        "builder.add_node(\"Search Wikipedia\", search_wikipedia)\n",
        "builder.add_node(\"Anti Debator\", anti_debator_node)\n",
        "builder.add_node(\"Debate Summarizer\", debate_summarizer_node)\n",
        "\n",
        "# Add edges\n",
        "builder.add_edge(START, \"Greetings\")\n",
        "builder.add_conditional_edges(\"Greetings\", router, ['Analyzer', 'Pro Debator'])\n",
        "builder.add_edge(\"Analyzer\", \"Search Web\")\n",
        "builder.add_edge(\"Analyzer\", \"Search Wikipedia\")\n",
        "builder.add_conditional_edges(\"Search Web\", analyzer_router, [\"Pro Debator\", \"Anti Debator\"])\n",
        "builder.add_conditional_edges(\"Search Wikipedia\", analyzer_router, [\"Pro Debator\", \"Anti Debator\"])\n",
        "builder.add_edge(\"Pro Debator\", \"Analyzer\")\n",
        "builder.add_edge(\"Anti Debator\", \"Debate Summarizer\")\n",
        "builder.add_conditional_edges(\"Debate Summarizer\", iteration_router, ['Analyzer', END])\n",
        "\n",
        "# Compile the graph\n",
        "debator = builder.compile(checkpointer=memory).with_config(run_name=\"Create podcast\")\n",
        "\n",
        "# Display the graph\n",
        "display(Image(debator.get_graph().draw_mermaid_png()))\n"
      ]
    },
    {
      "cell_type": "code",
      "execution_count": 135,
      "metadata": {
        "id": "Lg7mTyfHX1kD"
      },
      "outputs": [],
      "source": [
        "state = {\n",
        "    \"topic\": \"illegal immigration\",\n",
        "    \"pro_debator\": \"Kamala Harris\",\n",
        "    \"anti_debator\": \"Donald Trump\",\n",
        "    \"greetings\": \"\",\n",
        "    \"analysis\": \"\",\n",
        "    \"pro_debator_response\": \"\",\n",
        "    \"anti_debator_response\": \"\",\n",
        "    \"context\": [],\n",
        "    \"debate\": [],\n",
        "    \"debate_history\": [],\n",
        "    \"iteration\": 0,\n",
        "    \"max_iteration\": 1\n",
        "}\n"
      ]
    },
    {
      "cell_type": "code",
      "execution_count": 136,
      "metadata": {
        "id": "dgM_htTJu2kl",
        "colab": {
          "base_uri": "https://localhost:8080/",
          "height": 1000
        },
        "outputId": "c4547162-41f0-409d-dcc6-7aafbc2b6f15"
      },
      "outputs": [
        {
          "output_type": "stream",
          "name": "stdout",
          "text": [
            "Starting node: greeting_node\n",
            "Greeting Node\n",
            "Node greeting_node completed in 0.52 seconds.\n",
            "\n",
            "Starting node: router\n",
            "Node router completed in 0.00 seconds.\n",
            "\n",
            "Pro Debator Node\n",
            "Starting node: analyzer_node\n",
            "Analyzer Node\n",
            "Analyzing for Anti Debator\n",
            "Node analyzer_node completed in 0.85 seconds.\n",
            "\n",
            "Starting node: search_web\n",
            "Starting node: search_wikipedia\n",
            "Searching Wikipedia\n",
            "Wikipedia Search Query: \"Kamala Harris on illegal immigration Wikipedia\"\n",
            "Wikipedia Docs Summaries: \n",
            "Node search_wikipedia completed in 0.51 seconds.\n",
            "\n",
            "Starting node: analyzer_router\n",
            "Node analyzer_router completed in 0.00 seconds.\n",
            "\n",
            "Node search_web completed in 0.65 seconds.\n",
            "\n",
            "Starting node: analyzer_router\n",
            "Node analyzer_router completed in 0.00 seconds.\n",
            "\n",
            "Anti Debator Node\n",
            "Starting node: debate_summarizer_node\n",
            "Node debate_summarizer_node completed in 1.11 seconds.\n",
            "\n",
            "Iteration Round: 0\n",
            "Starting node: analyzer_node\n",
            "Analyzer Node\n",
            "Analyzing for Pro Debator\n",
            "Node analyzer_node completed in 1.44 seconds.\n",
            "\n",
            "Starting node: search_web\n",
            "Starting node: search_wikipedia\n",
            "Searching Wikipedia\n",
            "Wikipedia Search Query: \"Path to citizenship for undocumented immigrants in the United States Wikipedia\"\n",
            "Wikipedia Docs Summaries: \n",
            "Node search_wikipedia completed in 0.63 seconds.\n",
            "\n",
            "Starting node: analyzer_router\n",
            "Node analyzer_router completed in 0.00 seconds.\n",
            "\n",
            "Node search_web completed in 0.76 seconds.\n",
            "\n",
            "Starting node: analyzer_router\n",
            "Node analyzer_router completed in 0.00 seconds.\n",
            "\n",
            "Pro Debator Node\n",
            "Starting node: analyzer_node\n",
            "Analyzer Node\n",
            "Analyzing for Anti Debator\n",
            "Node analyzer_node completed in 5.33 seconds.\n",
            "\n",
            "Starting node: search_webStarting node: search_wikipedia\n",
            "\n",
            "Searching Wikipedia\n",
            "Wikipedia Search Query: \"Pathway to citizenship for undocumented immigrants in the United States\"\n",
            "Wikipedia Docs Summaries: \n",
            "Node search_wikipedia completed in 9.74 seconds.\n",
            "\n",
            "Starting node: analyzer_router\n",
            "Node analyzer_router completed in 0.00 seconds.\n",
            "\n",
            "Node search_web completed in 16.74 seconds.\n",
            "\n",
            "Starting node: analyzer_router\n",
            "Node analyzer_router completed in 0.00 seconds.\n",
            "\n",
            "Anti Debator Node\n",
            "Starting node: debate_summarizer_node\n",
            "Node debate_summarizer_node completed in 8.68 seconds.\n",
            "\n",
            "Iteration Round: 0\n",
            "Starting node: analyzer_node\n",
            "Analyzer Node\n",
            "Analyzing for Pro Debator\n"
          ]
        },
        {
          "output_type": "error",
          "ename": "KeyboardInterrupt",
          "evalue": "",
          "traceback": [
            "\u001b[0;31m---------------------------------------------------------------------------\u001b[0m",
            "\u001b[0;31mHTTPStatusError\u001b[0m                           Traceback (most recent call last)",
            "\u001b[0;32m/usr/local/lib/python3.10/dist-packages/groq/_base_client.py\u001b[0m in \u001b[0;36m_request\u001b[0;34m(self, cast_to, options, retries_taken, stream, stream_cls)\u001b[0m\n\u001b[1;32m   1034\u001b[0m         \u001b[0;32mtry\u001b[0m\u001b[0;34m:\u001b[0m\u001b[0;34m\u001b[0m\u001b[0;34m\u001b[0m\u001b[0m\n\u001b[0;32m-> 1035\u001b[0;31m             \u001b[0mresponse\u001b[0m\u001b[0;34m.\u001b[0m\u001b[0mraise_for_status\u001b[0m\u001b[0;34m(\u001b[0m\u001b[0;34m)\u001b[0m\u001b[0;34m\u001b[0m\u001b[0;34m\u001b[0m\u001b[0m\n\u001b[0m\u001b[1;32m   1036\u001b[0m         \u001b[0;32mexcept\u001b[0m \u001b[0mhttpx\u001b[0m\u001b[0;34m.\u001b[0m\u001b[0mHTTPStatusError\u001b[0m \u001b[0;32mas\u001b[0m \u001b[0merr\u001b[0m\u001b[0;34m:\u001b[0m  \u001b[0;31m# thrown on 4xx and 5xx status code\u001b[0m\u001b[0;34m\u001b[0m\u001b[0;34m\u001b[0m\u001b[0m\n",
            "\u001b[0;32m/usr/local/lib/python3.10/dist-packages/httpx/_models.py\u001b[0m in \u001b[0;36mraise_for_status\u001b[0;34m(self)\u001b[0m\n\u001b[1;32m    762\u001b[0m         \u001b[0mmessage\u001b[0m \u001b[0;34m=\u001b[0m \u001b[0mmessage\u001b[0m\u001b[0;34m.\u001b[0m\u001b[0mformat\u001b[0m\u001b[0;34m(\u001b[0m\u001b[0mself\u001b[0m\u001b[0;34m,\u001b[0m \u001b[0merror_type\u001b[0m\u001b[0;34m=\u001b[0m\u001b[0merror_type\u001b[0m\u001b[0;34m)\u001b[0m\u001b[0;34m\u001b[0m\u001b[0;34m\u001b[0m\u001b[0m\n\u001b[0;32m--> 763\u001b[0;31m         \u001b[0;32mraise\u001b[0m \u001b[0mHTTPStatusError\u001b[0m\u001b[0;34m(\u001b[0m\u001b[0mmessage\u001b[0m\u001b[0;34m,\u001b[0m \u001b[0mrequest\u001b[0m\u001b[0;34m=\u001b[0m\u001b[0mrequest\u001b[0m\u001b[0;34m,\u001b[0m \u001b[0mresponse\u001b[0m\u001b[0;34m=\u001b[0m\u001b[0mself\u001b[0m\u001b[0;34m)\u001b[0m\u001b[0;34m\u001b[0m\u001b[0;34m\u001b[0m\u001b[0m\n\u001b[0m\u001b[1;32m    764\u001b[0m \u001b[0;34m\u001b[0m\u001b[0m\n",
            "\u001b[0;31mHTTPStatusError\u001b[0m: Client error '429 Too Many Requests' for url 'https://api.groq.com/openai/v1/chat/completions'\nFor more information check: https://developer.mozilla.org/en-US/docs/Web/HTTP/Status/429",
            "\nDuring handling of the above exception, another exception occurred:\n",
            "\u001b[0;31mKeyboardInterrupt\u001b[0m                         Traceback (most recent call last)",
            "\u001b[0;32m<ipython-input-136-fe50a832cd69>\u001b[0m in \u001b[0;36m<cell line: 2>\u001b[0;34m()\u001b[0m\n\u001b[1;32m      1\u001b[0m \u001b[0mthread\u001b[0m \u001b[0;34m=\u001b[0m \u001b[0;34m{\u001b[0m\u001b[0;34m\"configurable\"\u001b[0m\u001b[0;34m:\u001b[0m \u001b[0;34m{\u001b[0m\u001b[0;34m\"thread_id\"\u001b[0m\u001b[0;34m:\u001b[0m \u001b[0;34m\"7\"\u001b[0m\u001b[0;34m}\u001b[0m\u001b[0;34m}\u001b[0m\u001b[0;34m\u001b[0m\u001b[0;34m\u001b[0m\u001b[0m\n\u001b[0;32m----> 2\u001b[0;31m \u001b[0mresult\u001b[0m \u001b[0;34m=\u001b[0m \u001b[0mdebator\u001b[0m\u001b[0;34m.\u001b[0m\u001b[0minvoke\u001b[0m\u001b[0;34m(\u001b[0m\u001b[0mstate\u001b[0m\u001b[0;34m,\u001b[0m \u001b[0mthread\u001b[0m\u001b[0;34m)\u001b[0m\u001b[0;34m\u001b[0m\u001b[0;34m\u001b[0m\u001b[0m\n\u001b[0m\u001b[1;32m      3\u001b[0m \u001b[0mresult\u001b[0m\u001b[0;34m\u001b[0m\u001b[0;34m\u001b[0m\u001b[0m\n",
            "\u001b[0;32m/usr/local/lib/python3.10/dist-packages/langgraph/pregel/__init__.py\u001b[0m in \u001b[0;36minvoke\u001b[0;34m(self, input, config, stream_mode, output_keys, interrupt_before, interrupt_after, debug, **kwargs)\u001b[0m\n\u001b[1;32m   1925\u001b[0m         \u001b[0;32melse\u001b[0m\u001b[0;34m:\u001b[0m\u001b[0;34m\u001b[0m\u001b[0;34m\u001b[0m\u001b[0m\n\u001b[1;32m   1926\u001b[0m             \u001b[0mchunks\u001b[0m \u001b[0;34m=\u001b[0m \u001b[0;34m[\u001b[0m\u001b[0;34m]\u001b[0m\u001b[0;34m\u001b[0m\u001b[0;34m\u001b[0m\u001b[0m\n\u001b[0;32m-> 1927\u001b[0;31m         for chunk in self.stream(\n\u001b[0m\u001b[1;32m   1928\u001b[0m             \u001b[0minput\u001b[0m\u001b[0;34m,\u001b[0m\u001b[0;34m\u001b[0m\u001b[0;34m\u001b[0m\u001b[0m\n\u001b[1;32m   1929\u001b[0m             \u001b[0mconfig\u001b[0m\u001b[0;34m,\u001b[0m\u001b[0;34m\u001b[0m\u001b[0;34m\u001b[0m\u001b[0m\n",
            "\u001b[0;32m/usr/local/lib/python3.10/dist-packages/langgraph/pregel/__init__.py\u001b[0m in \u001b[0;36mstream\u001b[0;34m(self, input, config, stream_mode, output_keys, interrupt_before, interrupt_after, debug, subgraphs)\u001b[0m\n\u001b[1;32m   1645\u001b[0m                 \u001b[0;31m# with channel updates applied only at the transition between steps\u001b[0m\u001b[0;34m\u001b[0m\u001b[0;34m\u001b[0m\u001b[0m\n\u001b[1;32m   1646\u001b[0m                 \u001b[0;32mwhile\u001b[0m \u001b[0mloop\u001b[0m\u001b[0;34m.\u001b[0m\u001b[0mtick\u001b[0m\u001b[0;34m(\u001b[0m\u001b[0minput_keys\u001b[0m\u001b[0;34m=\u001b[0m\u001b[0mself\u001b[0m\u001b[0;34m.\u001b[0m\u001b[0minput_channels\u001b[0m\u001b[0;34m)\u001b[0m\u001b[0;34m:\u001b[0m\u001b[0;34m\u001b[0m\u001b[0;34m\u001b[0m\u001b[0m\n\u001b[0;32m-> 1647\u001b[0;31m                     for _ in runner.tick(\n\u001b[0m\u001b[1;32m   1648\u001b[0m                         \u001b[0mloop\u001b[0m\u001b[0;34m.\u001b[0m\u001b[0mtasks\u001b[0m\u001b[0;34m.\u001b[0m\u001b[0mvalues\u001b[0m\u001b[0;34m(\u001b[0m\u001b[0;34m)\u001b[0m\u001b[0;34m,\u001b[0m\u001b[0;34m\u001b[0m\u001b[0;34m\u001b[0m\u001b[0m\n\u001b[1;32m   1649\u001b[0m                         \u001b[0mtimeout\u001b[0m\u001b[0;34m=\u001b[0m\u001b[0mself\u001b[0m\u001b[0;34m.\u001b[0m\u001b[0mstep_timeout\u001b[0m\u001b[0;34m,\u001b[0m\u001b[0;34m\u001b[0m\u001b[0;34m\u001b[0m\u001b[0m\n",
            "\u001b[0;32m/usr/local/lib/python3.10/dist-packages/langgraph/pregel/runner.py\u001b[0m in \u001b[0;36mtick\u001b[0;34m(self, tasks, reraise, timeout, retry_policy, get_waiter)\u001b[0m\n\u001b[1;32m    102\u001b[0m             \u001b[0mt\u001b[0m \u001b[0;34m=\u001b[0m \u001b[0mtasks\u001b[0m\u001b[0;34m[\u001b[0m\u001b[0;36m0\u001b[0m\u001b[0;34m]\u001b[0m\u001b[0;34m\u001b[0m\u001b[0;34m\u001b[0m\u001b[0m\n\u001b[1;32m    103\u001b[0m             \u001b[0;32mtry\u001b[0m\u001b[0;34m:\u001b[0m\u001b[0;34m\u001b[0m\u001b[0;34m\u001b[0m\u001b[0m\n\u001b[0;32m--> 104\u001b[0;31m                 \u001b[0mrun_with_retry\u001b[0m\u001b[0;34m(\u001b[0m\u001b[0mt\u001b[0m\u001b[0;34m,\u001b[0m \u001b[0mretry_policy\u001b[0m\u001b[0;34m,\u001b[0m \u001b[0mwriter\u001b[0m\u001b[0;34m=\u001b[0m\u001b[0mwriter\u001b[0m\u001b[0;34m)\u001b[0m\u001b[0;34m\u001b[0m\u001b[0;34m\u001b[0m\u001b[0m\n\u001b[0m\u001b[1;32m    105\u001b[0m                 \u001b[0mself\u001b[0m\u001b[0;34m.\u001b[0m\u001b[0mcommit\u001b[0m\u001b[0;34m(\u001b[0m\u001b[0mt\u001b[0m\u001b[0;34m,\u001b[0m \u001b[0;32mNone\u001b[0m\u001b[0;34m)\u001b[0m\u001b[0;34m\u001b[0m\u001b[0;34m\u001b[0m\u001b[0m\n\u001b[1;32m    106\u001b[0m             \u001b[0;32mexcept\u001b[0m \u001b[0mException\u001b[0m \u001b[0;32mas\u001b[0m \u001b[0mexc\u001b[0m\u001b[0;34m:\u001b[0m\u001b[0;34m\u001b[0m\u001b[0;34m\u001b[0m\u001b[0m\n",
            "\u001b[0;32m/usr/local/lib/python3.10/dist-packages/langgraph/pregel/retry.py\u001b[0m in \u001b[0;36mrun_with_retry\u001b[0;34m(task, retry_policy, writer)\u001b[0m\n\u001b[1;32m     38\u001b[0m             \u001b[0mtask\u001b[0m\u001b[0;34m.\u001b[0m\u001b[0mwrites\u001b[0m\u001b[0;34m.\u001b[0m\u001b[0mclear\u001b[0m\u001b[0;34m(\u001b[0m\u001b[0;34m)\u001b[0m\u001b[0;34m\u001b[0m\u001b[0;34m\u001b[0m\u001b[0m\n\u001b[1;32m     39\u001b[0m             \u001b[0;31m# run the task\u001b[0m\u001b[0;34m\u001b[0m\u001b[0;34m\u001b[0m\u001b[0m\n\u001b[0;32m---> 40\u001b[0;31m             \u001b[0mtask\u001b[0m\u001b[0;34m.\u001b[0m\u001b[0mproc\u001b[0m\u001b[0;34m.\u001b[0m\u001b[0minvoke\u001b[0m\u001b[0;34m(\u001b[0m\u001b[0mtask\u001b[0m\u001b[0;34m.\u001b[0m\u001b[0minput\u001b[0m\u001b[0;34m,\u001b[0m \u001b[0mconfig\u001b[0m\u001b[0;34m)\u001b[0m\u001b[0;34m\u001b[0m\u001b[0;34m\u001b[0m\u001b[0m\n\u001b[0m\u001b[1;32m     41\u001b[0m             \u001b[0;31m# if successful, end\u001b[0m\u001b[0;34m\u001b[0m\u001b[0;34m\u001b[0m\u001b[0m\n\u001b[1;32m     42\u001b[0m             \u001b[0;32mbreak\u001b[0m\u001b[0;34m\u001b[0m\u001b[0;34m\u001b[0m\u001b[0m\n",
            "\u001b[0;32m/usr/local/lib/python3.10/dist-packages/langgraph/utils/runnable.py\u001b[0m in \u001b[0;36minvoke\u001b[0;34m(self, input, config, **kwargs)\u001b[0m\n\u001b[1;32m    408\u001b[0m                 \u001b[0mcontext\u001b[0m\u001b[0;34m.\u001b[0m\u001b[0mrun\u001b[0m\u001b[0;34m(\u001b[0m\u001b[0m_set_config_context\u001b[0m\u001b[0;34m,\u001b[0m \u001b[0mconfig\u001b[0m\u001b[0;34m)\u001b[0m\u001b[0;34m\u001b[0m\u001b[0;34m\u001b[0m\u001b[0m\n\u001b[1;32m    409\u001b[0m                 \u001b[0;32mif\u001b[0m \u001b[0mi\u001b[0m \u001b[0;34m==\u001b[0m \u001b[0;36m0\u001b[0m\u001b[0;34m:\u001b[0m\u001b[0;34m\u001b[0m\u001b[0;34m\u001b[0m\u001b[0m\n\u001b[0;32m--> 410\u001b[0;31m                     \u001b[0minput\u001b[0m \u001b[0;34m=\u001b[0m \u001b[0mcontext\u001b[0m\u001b[0;34m.\u001b[0m\u001b[0mrun\u001b[0m\u001b[0;34m(\u001b[0m\u001b[0mstep\u001b[0m\u001b[0;34m.\u001b[0m\u001b[0minvoke\u001b[0m\u001b[0;34m,\u001b[0m \u001b[0minput\u001b[0m\u001b[0;34m,\u001b[0m \u001b[0mconfig\u001b[0m\u001b[0;34m,\u001b[0m \u001b[0;34m**\u001b[0m\u001b[0mkwargs\u001b[0m\u001b[0;34m)\u001b[0m\u001b[0;34m\u001b[0m\u001b[0;34m\u001b[0m\u001b[0m\n\u001b[0m\u001b[1;32m    411\u001b[0m                 \u001b[0;32melse\u001b[0m\u001b[0;34m:\u001b[0m\u001b[0;34m\u001b[0m\u001b[0;34m\u001b[0m\u001b[0m\n\u001b[1;32m    412\u001b[0m                     \u001b[0minput\u001b[0m \u001b[0;34m=\u001b[0m \u001b[0mcontext\u001b[0m\u001b[0;34m.\u001b[0m\u001b[0mrun\u001b[0m\u001b[0;34m(\u001b[0m\u001b[0mstep\u001b[0m\u001b[0;34m.\u001b[0m\u001b[0minvoke\u001b[0m\u001b[0;34m,\u001b[0m \u001b[0minput\u001b[0m\u001b[0;34m,\u001b[0m \u001b[0mconfig\u001b[0m\u001b[0;34m)\u001b[0m\u001b[0;34m\u001b[0m\u001b[0;34m\u001b[0m\u001b[0m\n",
            "\u001b[0;32m/usr/local/lib/python3.10/dist-packages/langgraph/utils/runnable.py\u001b[0m in \u001b[0;36minvoke\u001b[0;34m(self, input, config, **kwargs)\u001b[0m\n\u001b[1;32m    182\u001b[0m         \u001b[0;32melse\u001b[0m\u001b[0;34m:\u001b[0m\u001b[0;34m\u001b[0m\u001b[0;34m\u001b[0m\u001b[0m\n\u001b[1;32m    183\u001b[0m             \u001b[0mcontext\u001b[0m\u001b[0;34m.\u001b[0m\u001b[0mrun\u001b[0m\u001b[0;34m(\u001b[0m\u001b[0m_set_config_context\u001b[0m\u001b[0;34m,\u001b[0m \u001b[0mconfig\u001b[0m\u001b[0;34m)\u001b[0m\u001b[0;34m\u001b[0m\u001b[0;34m\u001b[0m\u001b[0m\n\u001b[0;32m--> 184\u001b[0;31m             \u001b[0mret\u001b[0m \u001b[0;34m=\u001b[0m \u001b[0mcontext\u001b[0m\u001b[0;34m.\u001b[0m\u001b[0mrun\u001b[0m\u001b[0;34m(\u001b[0m\u001b[0mself\u001b[0m\u001b[0;34m.\u001b[0m\u001b[0mfunc\u001b[0m\u001b[0;34m,\u001b[0m \u001b[0minput\u001b[0m\u001b[0;34m,\u001b[0m \u001b[0;34m**\u001b[0m\u001b[0mkwargs\u001b[0m\u001b[0;34m)\u001b[0m\u001b[0;34m\u001b[0m\u001b[0;34m\u001b[0m\u001b[0m\n\u001b[0m\u001b[1;32m    185\u001b[0m         \u001b[0;32mif\u001b[0m \u001b[0misinstance\u001b[0m\u001b[0;34m(\u001b[0m\u001b[0mret\u001b[0m\u001b[0;34m,\u001b[0m \u001b[0mRunnable\u001b[0m\u001b[0;34m)\u001b[0m \u001b[0;32mand\u001b[0m \u001b[0mself\u001b[0m\u001b[0;34m.\u001b[0m\u001b[0mrecurse\u001b[0m\u001b[0;34m:\u001b[0m\u001b[0;34m\u001b[0m\u001b[0;34m\u001b[0m\u001b[0m\n\u001b[1;32m    186\u001b[0m             \u001b[0;32mreturn\u001b[0m \u001b[0mret\u001b[0m\u001b[0;34m.\u001b[0m\u001b[0minvoke\u001b[0m\u001b[0;34m(\u001b[0m\u001b[0minput\u001b[0m\u001b[0;34m,\u001b[0m \u001b[0mconfig\u001b[0m\u001b[0;34m)\u001b[0m\u001b[0;34m\u001b[0m\u001b[0;34m\u001b[0m\u001b[0m\n",
            "\u001b[0;32m<ipython-input-122-71cf2ee68b64>\u001b[0m in \u001b[0;36mwrapper\u001b[0;34m(state, *args, **kwargs)\u001b[0m\n\u001b[1;32m      4\u001b[0m         \u001b[0mstart_time\u001b[0m \u001b[0;34m=\u001b[0m \u001b[0mtime\u001b[0m\u001b[0;34m.\u001b[0m\u001b[0mtime\u001b[0m\u001b[0;34m(\u001b[0m\u001b[0;34m)\u001b[0m\u001b[0;34m\u001b[0m\u001b[0;34m\u001b[0m\u001b[0m\n\u001b[1;32m      5\u001b[0m         \u001b[0mprint\u001b[0m\u001b[0;34m(\u001b[0m\u001b[0;34mf\"Starting node: {node_function.__name__}\"\u001b[0m\u001b[0;34m)\u001b[0m\u001b[0;34m\u001b[0m\u001b[0;34m\u001b[0m\u001b[0m\n\u001b[0;32m----> 6\u001b[0;31m         \u001b[0mresult\u001b[0m \u001b[0;34m=\u001b[0m \u001b[0mnode_function\u001b[0m\u001b[0;34m(\u001b[0m\u001b[0mstate\u001b[0m\u001b[0;34m,\u001b[0m \u001b[0;34m*\u001b[0m\u001b[0margs\u001b[0m\u001b[0;34m,\u001b[0m \u001b[0;34m**\u001b[0m\u001b[0mkwargs\u001b[0m\u001b[0;34m)\u001b[0m\u001b[0;34m\u001b[0m\u001b[0;34m\u001b[0m\u001b[0m\n\u001b[0m\u001b[1;32m      7\u001b[0m         \u001b[0mend_time\u001b[0m \u001b[0;34m=\u001b[0m \u001b[0mtime\u001b[0m\u001b[0;34m.\u001b[0m\u001b[0mtime\u001b[0m\u001b[0;34m(\u001b[0m\u001b[0;34m)\u001b[0m\u001b[0;34m\u001b[0m\u001b[0;34m\u001b[0m\u001b[0m\n\u001b[1;32m      8\u001b[0m         \u001b[0melapsed_time\u001b[0m \u001b[0;34m=\u001b[0m \u001b[0mend_time\u001b[0m \u001b[0;34m-\u001b[0m \u001b[0mstart_time\u001b[0m\u001b[0;34m\u001b[0m\u001b[0;34m\u001b[0m\u001b[0m\n",
            "\u001b[0;32m<ipython-input-130-eac632c22a64>\u001b[0m in \u001b[0;36manalyzer_node\u001b[0;34m(state)\u001b[0m\n\u001b[1;32m     73\u001b[0m         \"\"\"\n\u001b[1;32m     74\u001b[0m \u001b[0;34m\u001b[0m\u001b[0m\n\u001b[0;32m---> 75\u001b[0;31m     \u001b[0manalysis\u001b[0m \u001b[0;34m=\u001b[0m \u001b[0mmodel\u001b[0m\u001b[0;34m.\u001b[0m\u001b[0minvoke\u001b[0m\u001b[0;34m(\u001b[0m\u001b[0manalysis_prompt\u001b[0m\u001b[0;34m)\u001b[0m\u001b[0;34m.\u001b[0m\u001b[0mcontent\u001b[0m\u001b[0;34m\u001b[0m\u001b[0;34m\u001b[0m\u001b[0m\n\u001b[0m\u001b[1;32m     76\u001b[0m     \u001b[0;32mreturn\u001b[0m \u001b[0;34m{\u001b[0m\u001b[0;34m\"analysis\"\u001b[0m\u001b[0;34m:\u001b[0m \u001b[0manalysis\u001b[0m\u001b[0;34m}\u001b[0m\u001b[0;34m\u001b[0m\u001b[0;34m\u001b[0m\u001b[0m\n\u001b[1;32m     77\u001b[0m \u001b[0;34m\u001b[0m\u001b[0m\n",
            "\u001b[0;32m/usr/local/lib/python3.10/dist-packages/langchain_core/language_models/chat_models.py\u001b[0m in \u001b[0;36minvoke\u001b[0;34m(self, input, config, stop, **kwargs)\u001b[0m\n\u001b[1;32m    284\u001b[0m         return cast(\n\u001b[1;32m    285\u001b[0m             \u001b[0mChatGeneration\u001b[0m\u001b[0;34m,\u001b[0m\u001b[0;34m\u001b[0m\u001b[0;34m\u001b[0m\u001b[0m\n\u001b[0;32m--> 286\u001b[0;31m             self.generate_prompt(\n\u001b[0m\u001b[1;32m    287\u001b[0m                 \u001b[0;34m[\u001b[0m\u001b[0mself\u001b[0m\u001b[0;34m.\u001b[0m\u001b[0m_convert_input\u001b[0m\u001b[0;34m(\u001b[0m\u001b[0minput\u001b[0m\u001b[0;34m)\u001b[0m\u001b[0;34m]\u001b[0m\u001b[0;34m,\u001b[0m\u001b[0;34m\u001b[0m\u001b[0;34m\u001b[0m\u001b[0m\n\u001b[1;32m    288\u001b[0m                 \u001b[0mstop\u001b[0m\u001b[0;34m=\u001b[0m\u001b[0mstop\u001b[0m\u001b[0;34m,\u001b[0m\u001b[0;34m\u001b[0m\u001b[0;34m\u001b[0m\u001b[0m\n",
            "\u001b[0;32m/usr/local/lib/python3.10/dist-packages/langchain_core/language_models/chat_models.py\u001b[0m in \u001b[0;36mgenerate_prompt\u001b[0;34m(self, prompts, stop, callbacks, **kwargs)\u001b[0m\n\u001b[1;32m    784\u001b[0m     ) -> LLMResult:\n\u001b[1;32m    785\u001b[0m         \u001b[0mprompt_messages\u001b[0m \u001b[0;34m=\u001b[0m \u001b[0;34m[\u001b[0m\u001b[0mp\u001b[0m\u001b[0;34m.\u001b[0m\u001b[0mto_messages\u001b[0m\u001b[0;34m(\u001b[0m\u001b[0;34m)\u001b[0m \u001b[0;32mfor\u001b[0m \u001b[0mp\u001b[0m \u001b[0;32min\u001b[0m \u001b[0mprompts\u001b[0m\u001b[0;34m]\u001b[0m\u001b[0;34m\u001b[0m\u001b[0;34m\u001b[0m\u001b[0m\n\u001b[0;32m--> 786\u001b[0;31m         \u001b[0;32mreturn\u001b[0m \u001b[0mself\u001b[0m\u001b[0;34m.\u001b[0m\u001b[0mgenerate\u001b[0m\u001b[0;34m(\u001b[0m\u001b[0mprompt_messages\u001b[0m\u001b[0;34m,\u001b[0m \u001b[0mstop\u001b[0m\u001b[0;34m=\u001b[0m\u001b[0mstop\u001b[0m\u001b[0;34m,\u001b[0m \u001b[0mcallbacks\u001b[0m\u001b[0;34m=\u001b[0m\u001b[0mcallbacks\u001b[0m\u001b[0;34m,\u001b[0m \u001b[0;34m**\u001b[0m\u001b[0mkwargs\u001b[0m\u001b[0;34m)\u001b[0m\u001b[0;34m\u001b[0m\u001b[0;34m\u001b[0m\u001b[0m\n\u001b[0m\u001b[1;32m    787\u001b[0m \u001b[0;34m\u001b[0m\u001b[0m\n\u001b[1;32m    788\u001b[0m     async def agenerate_prompt(\n",
            "\u001b[0;32m/usr/local/lib/python3.10/dist-packages/langchain_core/language_models/chat_models.py\u001b[0m in \u001b[0;36mgenerate\u001b[0;34m(self, messages, stop, callbacks, tags, metadata, run_name, run_id, **kwargs)\u001b[0m\n\u001b[1;32m    641\u001b[0m                 \u001b[0;32mif\u001b[0m \u001b[0mrun_managers\u001b[0m\u001b[0;34m:\u001b[0m\u001b[0;34m\u001b[0m\u001b[0;34m\u001b[0m\u001b[0m\n\u001b[1;32m    642\u001b[0m                     \u001b[0mrun_managers\u001b[0m\u001b[0;34m[\u001b[0m\u001b[0mi\u001b[0m\u001b[0;34m]\u001b[0m\u001b[0;34m.\u001b[0m\u001b[0mon_llm_error\u001b[0m\u001b[0;34m(\u001b[0m\u001b[0me\u001b[0m\u001b[0;34m,\u001b[0m \u001b[0mresponse\u001b[0m\u001b[0;34m=\u001b[0m\u001b[0mLLMResult\u001b[0m\u001b[0;34m(\u001b[0m\u001b[0mgenerations\u001b[0m\u001b[0;34m=\u001b[0m\u001b[0;34m[\u001b[0m\u001b[0;34m]\u001b[0m\u001b[0;34m)\u001b[0m\u001b[0;34m)\u001b[0m\u001b[0;34m\u001b[0m\u001b[0;34m\u001b[0m\u001b[0m\n\u001b[0;32m--> 643\u001b[0;31m                 \u001b[0;32mraise\u001b[0m \u001b[0me\u001b[0m\u001b[0;34m\u001b[0m\u001b[0;34m\u001b[0m\u001b[0m\n\u001b[0m\u001b[1;32m    644\u001b[0m         flattened_outputs = [\n\u001b[1;32m    645\u001b[0m             \u001b[0mLLMResult\u001b[0m\u001b[0;34m(\u001b[0m\u001b[0mgenerations\u001b[0m\u001b[0;34m=\u001b[0m\u001b[0;34m[\u001b[0m\u001b[0mres\u001b[0m\u001b[0;34m.\u001b[0m\u001b[0mgenerations\u001b[0m\u001b[0;34m]\u001b[0m\u001b[0;34m,\u001b[0m \u001b[0mllm_output\u001b[0m\u001b[0;34m=\u001b[0m\u001b[0mres\u001b[0m\u001b[0;34m.\u001b[0m\u001b[0mllm_output\u001b[0m\u001b[0;34m)\u001b[0m  \u001b[0;31m# type: ignore[list-item]\u001b[0m\u001b[0;34m\u001b[0m\u001b[0;34m\u001b[0m\u001b[0m\n",
            "\u001b[0;32m/usr/local/lib/python3.10/dist-packages/langchain_core/language_models/chat_models.py\u001b[0m in \u001b[0;36mgenerate\u001b[0;34m(self, messages, stop, callbacks, tags, metadata, run_name, run_id, **kwargs)\u001b[0m\n\u001b[1;32m    631\u001b[0m             \u001b[0;32mtry\u001b[0m\u001b[0;34m:\u001b[0m\u001b[0;34m\u001b[0m\u001b[0;34m\u001b[0m\u001b[0m\n\u001b[1;32m    632\u001b[0m                 results.append(\n\u001b[0;32m--> 633\u001b[0;31m                     self._generate_with_cache(\n\u001b[0m\u001b[1;32m    634\u001b[0m                         \u001b[0mm\u001b[0m\u001b[0;34m,\u001b[0m\u001b[0;34m\u001b[0m\u001b[0;34m\u001b[0m\u001b[0m\n\u001b[1;32m    635\u001b[0m                         \u001b[0mstop\u001b[0m\u001b[0;34m=\u001b[0m\u001b[0mstop\u001b[0m\u001b[0;34m,\u001b[0m\u001b[0;34m\u001b[0m\u001b[0;34m\u001b[0m\u001b[0m\n",
            "\u001b[0;32m/usr/local/lib/python3.10/dist-packages/langchain_core/language_models/chat_models.py\u001b[0m in \u001b[0;36m_generate_with_cache\u001b[0;34m(self, messages, stop, run_manager, **kwargs)\u001b[0m\n\u001b[1;32m    849\u001b[0m         \u001b[0;32melse\u001b[0m\u001b[0;34m:\u001b[0m\u001b[0;34m\u001b[0m\u001b[0;34m\u001b[0m\u001b[0m\n\u001b[1;32m    850\u001b[0m             \u001b[0;32mif\u001b[0m \u001b[0minspect\u001b[0m\u001b[0;34m.\u001b[0m\u001b[0msignature\u001b[0m\u001b[0;34m(\u001b[0m\u001b[0mself\u001b[0m\u001b[0;34m.\u001b[0m\u001b[0m_generate\u001b[0m\u001b[0;34m)\u001b[0m\u001b[0;34m.\u001b[0m\u001b[0mparameters\u001b[0m\u001b[0;34m.\u001b[0m\u001b[0mget\u001b[0m\u001b[0;34m(\u001b[0m\u001b[0;34m\"run_manager\"\u001b[0m\u001b[0;34m)\u001b[0m\u001b[0;34m:\u001b[0m\u001b[0;34m\u001b[0m\u001b[0;34m\u001b[0m\u001b[0m\n\u001b[0;32m--> 851\u001b[0;31m                 result = self._generate(\n\u001b[0m\u001b[1;32m    852\u001b[0m                     \u001b[0mmessages\u001b[0m\u001b[0;34m,\u001b[0m \u001b[0mstop\u001b[0m\u001b[0;34m=\u001b[0m\u001b[0mstop\u001b[0m\u001b[0;34m,\u001b[0m \u001b[0mrun_manager\u001b[0m\u001b[0;34m=\u001b[0m\u001b[0mrun_manager\u001b[0m\u001b[0;34m,\u001b[0m \u001b[0;34m**\u001b[0m\u001b[0mkwargs\u001b[0m\u001b[0;34m\u001b[0m\u001b[0;34m\u001b[0m\u001b[0m\n\u001b[1;32m    853\u001b[0m                 )\n",
            "\u001b[0;32m/usr/local/lib/python3.10/dist-packages/langchain_groq/chat_models.py\u001b[0m in \u001b[0;36m_generate\u001b[0;34m(self, messages, stop, run_manager, **kwargs)\u001b[0m\n\u001b[1;32m    472\u001b[0m             \u001b[0;34m**\u001b[0m\u001b[0mkwargs\u001b[0m\u001b[0;34m,\u001b[0m\u001b[0;34m\u001b[0m\u001b[0;34m\u001b[0m\u001b[0m\n\u001b[1;32m    473\u001b[0m         }\n\u001b[0;32m--> 474\u001b[0;31m         \u001b[0mresponse\u001b[0m \u001b[0;34m=\u001b[0m \u001b[0mself\u001b[0m\u001b[0;34m.\u001b[0m\u001b[0mclient\u001b[0m\u001b[0;34m.\u001b[0m\u001b[0mcreate\u001b[0m\u001b[0;34m(\u001b[0m\u001b[0mmessages\u001b[0m\u001b[0;34m=\u001b[0m\u001b[0mmessage_dicts\u001b[0m\u001b[0;34m,\u001b[0m \u001b[0;34m**\u001b[0m\u001b[0mparams\u001b[0m\u001b[0;34m)\u001b[0m\u001b[0;34m\u001b[0m\u001b[0;34m\u001b[0m\u001b[0m\n\u001b[0m\u001b[1;32m    475\u001b[0m         \u001b[0;32mreturn\u001b[0m \u001b[0mself\u001b[0m\u001b[0;34m.\u001b[0m\u001b[0m_create_chat_result\u001b[0m\u001b[0;34m(\u001b[0m\u001b[0mresponse\u001b[0m\u001b[0;34m)\u001b[0m\u001b[0;34m\u001b[0m\u001b[0;34m\u001b[0m\u001b[0m\n\u001b[1;32m    476\u001b[0m \u001b[0;34m\u001b[0m\u001b[0m\n",
            "\u001b[0;32m/usr/local/lib/python3.10/dist-packages/groq/resources/chat/completions.py\u001b[0m in \u001b[0;36mcreate\u001b[0;34m(self, messages, model, frequency_penalty, function_call, functions, logit_bias, logprobs, max_tokens, n, parallel_tool_calls, presence_penalty, response_format, seed, stop, stream, temperature, tool_choice, tools, top_logprobs, top_p, user, extra_headers, extra_query, extra_body, timeout)\u001b[0m\n\u001b[1;32m    296\u001b[0m           \u001b[0mtimeout\u001b[0m\u001b[0;34m:\u001b[0m \u001b[0mOverride\u001b[0m \u001b[0mthe\u001b[0m \u001b[0mclient\u001b[0m\u001b[0;34m-\u001b[0m\u001b[0mlevel\u001b[0m \u001b[0mdefault\u001b[0m \u001b[0mtimeout\u001b[0m \u001b[0;32mfor\u001b[0m \u001b[0mthis\u001b[0m \u001b[0mrequest\u001b[0m\u001b[0;34m,\u001b[0m \u001b[0;32min\u001b[0m \u001b[0mseconds\u001b[0m\u001b[0;34m\u001b[0m\u001b[0;34m\u001b[0m\u001b[0m\n\u001b[1;32m    297\u001b[0m         \"\"\"\n\u001b[0;32m--> 298\u001b[0;31m         return self._post(\n\u001b[0m\u001b[1;32m    299\u001b[0m             \u001b[0;34m\"/openai/v1/chat/completions\"\u001b[0m\u001b[0;34m,\u001b[0m\u001b[0;34m\u001b[0m\u001b[0;34m\u001b[0m\u001b[0m\n\u001b[1;32m    300\u001b[0m             body=maybe_transform(\n",
            "\u001b[0;32m/usr/local/lib/python3.10/dist-packages/groq/_base_client.py\u001b[0m in \u001b[0;36mpost\u001b[0;34m(self, path, cast_to, body, options, files, stream, stream_cls)\u001b[0m\n\u001b[1;32m   1259\u001b[0m             \u001b[0mmethod\u001b[0m\u001b[0;34m=\u001b[0m\u001b[0;34m\"post\"\u001b[0m\u001b[0;34m,\u001b[0m \u001b[0murl\u001b[0m\u001b[0;34m=\u001b[0m\u001b[0mpath\u001b[0m\u001b[0;34m,\u001b[0m \u001b[0mjson_data\u001b[0m\u001b[0;34m=\u001b[0m\u001b[0mbody\u001b[0m\u001b[0;34m,\u001b[0m \u001b[0mfiles\u001b[0m\u001b[0;34m=\u001b[0m\u001b[0mto_httpx_files\u001b[0m\u001b[0;34m(\u001b[0m\u001b[0mfiles\u001b[0m\u001b[0;34m)\u001b[0m\u001b[0;34m,\u001b[0m \u001b[0;34m**\u001b[0m\u001b[0moptions\u001b[0m\u001b[0;34m\u001b[0m\u001b[0;34m\u001b[0m\u001b[0m\n\u001b[1;32m   1260\u001b[0m         )\n\u001b[0;32m-> 1261\u001b[0;31m         \u001b[0;32mreturn\u001b[0m \u001b[0mcast\u001b[0m\u001b[0;34m(\u001b[0m\u001b[0mResponseT\u001b[0m\u001b[0;34m,\u001b[0m \u001b[0mself\u001b[0m\u001b[0;34m.\u001b[0m\u001b[0mrequest\u001b[0m\u001b[0;34m(\u001b[0m\u001b[0mcast_to\u001b[0m\u001b[0;34m,\u001b[0m \u001b[0mopts\u001b[0m\u001b[0;34m,\u001b[0m \u001b[0mstream\u001b[0m\u001b[0;34m=\u001b[0m\u001b[0mstream\u001b[0m\u001b[0;34m,\u001b[0m \u001b[0mstream_cls\u001b[0m\u001b[0;34m=\u001b[0m\u001b[0mstream_cls\u001b[0m\u001b[0;34m)\u001b[0m\u001b[0;34m)\u001b[0m\u001b[0;34m\u001b[0m\u001b[0;34m\u001b[0m\u001b[0m\n\u001b[0m\u001b[1;32m   1262\u001b[0m \u001b[0;34m\u001b[0m\u001b[0m\n\u001b[1;32m   1263\u001b[0m     def patch(\n",
            "\u001b[0;32m/usr/local/lib/python3.10/dist-packages/groq/_base_client.py\u001b[0m in \u001b[0;36mrequest\u001b[0;34m(self, cast_to, options, remaining_retries, stream, stream_cls)\u001b[0m\n\u001b[1;32m    951\u001b[0m             \u001b[0mretries_taken\u001b[0m \u001b[0;34m=\u001b[0m \u001b[0;36m0\u001b[0m\u001b[0;34m\u001b[0m\u001b[0;34m\u001b[0m\u001b[0m\n\u001b[1;32m    952\u001b[0m \u001b[0;34m\u001b[0m\u001b[0m\n\u001b[0;32m--> 953\u001b[0;31m         return self._request(\n\u001b[0m\u001b[1;32m    954\u001b[0m             \u001b[0mcast_to\u001b[0m\u001b[0;34m=\u001b[0m\u001b[0mcast_to\u001b[0m\u001b[0;34m,\u001b[0m\u001b[0;34m\u001b[0m\u001b[0;34m\u001b[0m\u001b[0m\n\u001b[1;32m    955\u001b[0m             \u001b[0moptions\u001b[0m\u001b[0;34m=\u001b[0m\u001b[0moptions\u001b[0m\u001b[0;34m,\u001b[0m\u001b[0;34m\u001b[0m\u001b[0;34m\u001b[0m\u001b[0m\n",
            "\u001b[0;32m/usr/local/lib/python3.10/dist-packages/groq/_base_client.py\u001b[0m in \u001b[0;36m_request\u001b[0;34m(self, cast_to, options, retries_taken, stream, stream_cls)\u001b[0m\n\u001b[1;32m   1039\u001b[0m             \u001b[0;32mif\u001b[0m \u001b[0mremaining_retries\u001b[0m \u001b[0;34m>\u001b[0m \u001b[0;36m0\u001b[0m \u001b[0;32mand\u001b[0m \u001b[0mself\u001b[0m\u001b[0;34m.\u001b[0m\u001b[0m_should_retry\u001b[0m\u001b[0;34m(\u001b[0m\u001b[0merr\u001b[0m\u001b[0;34m.\u001b[0m\u001b[0mresponse\u001b[0m\u001b[0;34m)\u001b[0m\u001b[0;34m:\u001b[0m\u001b[0;34m\u001b[0m\u001b[0;34m\u001b[0m\u001b[0m\n\u001b[1;32m   1040\u001b[0m                 \u001b[0merr\u001b[0m\u001b[0;34m.\u001b[0m\u001b[0mresponse\u001b[0m\u001b[0;34m.\u001b[0m\u001b[0mclose\u001b[0m\u001b[0;34m(\u001b[0m\u001b[0;34m)\u001b[0m\u001b[0;34m\u001b[0m\u001b[0;34m\u001b[0m\u001b[0m\n\u001b[0;32m-> 1041\u001b[0;31m                 return self._retry_request(\n\u001b[0m\u001b[1;32m   1042\u001b[0m                     \u001b[0minput_options\u001b[0m\u001b[0;34m,\u001b[0m\u001b[0;34m\u001b[0m\u001b[0;34m\u001b[0m\u001b[0m\n\u001b[1;32m   1043\u001b[0m                     \u001b[0mcast_to\u001b[0m\u001b[0;34m,\u001b[0m\u001b[0;34m\u001b[0m\u001b[0;34m\u001b[0m\u001b[0m\n",
            "\u001b[0;32m/usr/local/lib/python3.10/dist-packages/groq/_base_client.py\u001b[0m in \u001b[0;36m_retry_request\u001b[0;34m(self, options, cast_to, retries_taken, response_headers, stream, stream_cls)\u001b[0m\n\u001b[1;32m   1086\u001b[0m         \u001b[0;31m# In a synchronous context we are blocking the entire thread. Up to the library user to run the client in a\u001b[0m\u001b[0;34m\u001b[0m\u001b[0;34m\u001b[0m\u001b[0m\n\u001b[1;32m   1087\u001b[0m         \u001b[0;31m# different thread if necessary.\u001b[0m\u001b[0;34m\u001b[0m\u001b[0;34m\u001b[0m\u001b[0m\n\u001b[0;32m-> 1088\u001b[0;31m         \u001b[0mtime\u001b[0m\u001b[0;34m.\u001b[0m\u001b[0msleep\u001b[0m\u001b[0;34m(\u001b[0m\u001b[0mtimeout\u001b[0m\u001b[0;34m)\u001b[0m\u001b[0;34m\u001b[0m\u001b[0;34m\u001b[0m\u001b[0m\n\u001b[0m\u001b[1;32m   1089\u001b[0m \u001b[0;34m\u001b[0m\u001b[0m\n\u001b[1;32m   1090\u001b[0m         return self._request(\n",
            "\u001b[0;31mKeyboardInterrupt\u001b[0m: "
          ]
        }
      ],
      "source": [
        "thread = {\"configurable\": {\"thread_id\": \"7\"}}\n",
        "result = debator.invoke(state, thread)\n",
        "result"
      ]
    },
    {
      "cell_type": "code",
      "source": [],
      "metadata": {
        "id": "J7X_BGibzh1w"
      },
      "execution_count": null,
      "outputs": []
    },
    {
      "cell_type": "code",
      "execution_count": null,
      "metadata": {
        "id": "tluh5bmpylTP"
      },
      "outputs": [],
      "source": [
        "import pprint\n",
        "pprint.pprint(result['pro_debator_response'].content)"
      ]
    },
    {
      "cell_type": "code",
      "source": [
        "pprint.pprint(result['context'])"
      ],
      "metadata": {
        "id": "QPeo-3pPzkQB"
      },
      "execution_count": null,
      "outputs": []
    },
    {
      "cell_type": "code",
      "execution_count": null,
      "metadata": {
        "id": "mjoPrUleZgbi"
      },
      "outputs": [],
      "source": [
        "pprint.pprint(result['anti_debator_response'].content)"
      ]
    },
    {
      "cell_type": "code",
      "execution_count": null,
      "metadata": {
        "id": "GAM-zmcjncup"
      },
      "outputs": [],
      "source": [
        "pprint.pprint(result['greetings'])"
      ]
    },
    {
      "cell_type": "code",
      "execution_count": null,
      "metadata": {
        "id": "3lSByHOpno8M"
      },
      "outputs": [],
      "source": [
        "pprint.pprint(result['analysis'])"
      ]
    },
    {
      "cell_type": "code",
      "execution_count": null,
      "metadata": {
        "id": "BUOaWKFenwoT"
      },
      "outputs": [],
      "source": [
        "result['debate']"
      ]
    },
    {
      "cell_type": "code",
      "execution_count": null,
      "metadata": {
        "id": "E53U_X22p088"
      },
      "outputs": [],
      "source": [
        "result['debate_history']"
      ]
    },
    {
      "cell_type": "code",
      "source": [],
      "metadata": {
        "id": "kafddUtFTkWv"
      },
      "execution_count": null,
      "outputs": []
    }
  ],
  "metadata": {
    "colab": {
      "provenance": [],
      "gpuType": "T4"
    },
    "kernelspec": {
      "display_name": "Python 3",
      "name": "python3"
    },
    "language_info": {
      "name": "python"
    }
  },
  "nbformat": 4,
  "nbformat_minor": 0
}