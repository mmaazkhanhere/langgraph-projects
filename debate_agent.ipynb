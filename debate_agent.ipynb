{
  "cells": [
    {
      "cell_type": "code",
      "execution_count": 1,
      "metadata": {
        "id": "geqbxDKea8uf",
        "colab": {
          "base_uri": "https://localhost:8080/"
        },
        "outputId": "e81b93d4-8e83-4600-ce17-c785dc39bee8"
      },
      "outputs": [
        {
          "output_type": "stream",
          "name": "stdout",
          "text": [
            "\u001b[2K   \u001b[90m━━━━━━━━━━━━━━━━━━━━━━━━━━━━━━━━━━━━━━━━\u001b[0m \u001b[32m125.1/125.1 kB\u001b[0m \u001b[31m6.5 MB/s\u001b[0m eta \u001b[36m0:00:00\u001b[0m\n",
            "\u001b[2K   \u001b[90m━━━━━━━━━━━━━━━━━━━━━━━━━━━━━━━━━━━━━━━━\u001b[0m \u001b[32m41.3/41.3 kB\u001b[0m \u001b[31m2.8 MB/s\u001b[0m eta \u001b[36m0:00:00\u001b[0m\n",
            "\u001b[2K   \u001b[90m━━━━━━━━━━━━━━━━━━━━━━━━━━━━━━━━━━━━━━━━\u001b[0m \u001b[32m1.2/1.2 MB\u001b[0m \u001b[31m49.1 MB/s\u001b[0m eta \u001b[36m0:00:00\u001b[0m\n",
            "\u001b[2K   \u001b[90m━━━━━━━━━━━━━━━━━━━━━━━━━━━━━━━━━━━━━━━━\u001b[0m \u001b[32m2.4/2.4 MB\u001b[0m \u001b[31m66.0 MB/s\u001b[0m eta \u001b[36m0:00:00\u001b[0m\n",
            "\u001b[2K   \u001b[90m━━━━━━━━━━━━━━━━━━━━━━━━━━━━━━━━━━━━━━━━\u001b[0m \u001b[32m1.0/1.0 MB\u001b[0m \u001b[31m53.9 MB/s\u001b[0m eta \u001b[36m0:00:00\u001b[0m\n",
            "\u001b[2K   \u001b[90m━━━━━━━━━━━━━━━━━━━━━━━━━━━━━━━━━━━━━━━━\u001b[0m \u001b[32m409.5/409.5 kB\u001b[0m \u001b[31m30.5 MB/s\u001b[0m eta \u001b[36m0:00:00\u001b[0m\n",
            "\u001b[2K   \u001b[90m━━━━━━━━━━━━━━━━━━━━━━━━━━━━━━━━━━━━━━━━\u001b[0m \u001b[32m3.1/3.1 MB\u001b[0m \u001b[31m83.9 MB/s\u001b[0m eta \u001b[36m0:00:00\u001b[0m\n",
            "\u001b[2K   \u001b[90m━━━━━━━━━━━━━━━━━━━━━━━━━━━━━━━━━━━━━━━━\u001b[0m \u001b[32m49.5/49.5 kB\u001b[0m \u001b[31m4.0 MB/s\u001b[0m eta \u001b[36m0:00:00\u001b[0m\n",
            "\u001b[2K   \u001b[90m━━━━━━━━━━━━━━━━━━━━━━━━━━━━━━━━━━━━━━━━\u001b[0m \u001b[32m108.9/108.9 kB\u001b[0m \u001b[31m8.7 MB/s\u001b[0m eta \u001b[36m0:00:00\u001b[0m\n",
            "\u001b[?25h  Preparing metadata (setup.py) ... \u001b[?25l\u001b[?25hdone\n",
            "  Building wheel for wikipedia (setup.py) ... \u001b[?25l\u001b[?25hdone\n",
            "\u001b[2K   \u001b[90m━━━━━━━━━━━━━━━━━━━━━━━━━━━━━━━━━━━━━━━━\u001b[0m \u001b[32m3.0/3.0 MB\u001b[0m \u001b[31m76.9 MB/s\u001b[0m eta \u001b[36m0:00:00\u001b[0m\n",
            "\u001b[?25h"
          ]
        }
      ],
      "source": [
        "!pip install  --quiet langgraph\n",
        "!pip install  --quiet langchain-google-genai\n",
        "!pip install --quiet langchain\n",
        "!pip install --quiet tavily-python\n",
        "!pip install --quiet langchain_community\n",
        "!pip install --quiet langchain-groq\n",
        "!pip install --quiet wikipedia\n",
        "!pip install --quiet google-generativeai\n",
        "!pip install --quiet duckduckgo-search\n"
      ]
    },
    {
      "cell_type": "code",
      "execution_count": 2,
      "metadata": {
        "id": "LbeKuTKIb-9y"
      },
      "outputs": [],
      "source": [
        "from google.colab import userdata\n",
        "from IPython.display import Image, display, Markdown\n",
        "import textwrap\n",
        "import os\n",
        "import getpass\n",
        "import time\n",
        "import asyncio\n",
        "\n",
        "from typing import Any, Annotated, List, TypedDict\n",
        "from pydantic import BaseModel, Field\n",
        "\n",
        "from langchain_core.messages import get_buffer_string, AIMessage, HumanMessage, SystemMessage\n",
        "from langchain_community.utilities import DuckDuckGoSearchAPIWrapper\n",
        "from langchain_community.tools import DuckDuckGoSearchRun\n",
        "from langchain_community.tools import DuckDuckGoSearchResults\n",
        "from langchain_community.retrievers import WikipediaRetriever\n",
        "from langchain_google_genai import ChatGoogleGenerativeAI\n",
        "from langchain_groq import ChatGroq\n",
        "\n",
        "from langgraph.graph import MessagesState\n",
        "from langgraph.graph.state import StateGraph, END, START\n",
        "from langgraph.checkpoint.memory import MemorySaver\n",
        "from langgraph.graph.message import add_messages\n",
        "from openai import OpenAI"
      ]
    },
    {
      "cell_type": "code",
      "execution_count": 3,
      "metadata": {
        "id": "HaLc7G7Bccnw"
      },
      "outputs": [],
      "source": [
        "google_api_key = userdata.get('GOOGLE_API_KEY')\n",
        "\n",
        "gemini_model = ChatGoogleGenerativeAI(model=\"gemini-1.5-flash\",\n",
        "                              api_key=google_api_key\n",
        "                              )\n",
        "\n",
        "# model.invoke(\"Test\")"
      ]
    },
    {
      "cell_type": "code",
      "source": [
        "api_key = userdata.get(\"GROQ_API_KEY\")\n",
        "\n",
        "model = ChatGroq(\n",
        "    model=\"llama-3.1-70b-versatile\",\n",
        "    verbose=True,\n",
        "    temperature=0.5,\n",
        "    api_key=api_key\n",
        ")\n",
        "\n",
        "model.invoke('TEST').content"
      ],
      "metadata": {
        "id": "J_-kSLwzLUI2",
        "colab": {
          "base_uri": "https://localhost:8080/",
          "height": 36
        },
        "outputId": "35d8a535-a50d-4e9d-d3f5-4080893121be"
      },
      "execution_count": 4,
      "outputs": [
        {
          "output_type": "execute_result",
          "data": {
            "text/plain": [
              "\"It looks like you're just testing to see if I'm working. Is there anything else I can help you with?\""
            ],
            "application/vnd.google.colaboratory.intrinsic+json": {
              "type": "string"
            }
          },
          "metadata": {},
          "execution_count": 4
        }
      ]
    },
    {
      "cell_type": "code",
      "execution_count": 296,
      "metadata": {
        "id": "wQinv6poc4bB"
      },
      "outputs": [],
      "source": [
        "memory = MemorySaver()\n",
        "\n",
        "class DebateHistory(BaseModel):\n",
        "  debate_history: List[str] = Field(description=\"A variable that stores summary of every debate round\")\n",
        "\n",
        "class AntiDebateResponse(BaseModel):\n",
        "  anti_debator_response: str = Field(description=\"The anti-debator's response to the latest argument\")\n",
        "\n",
        "class ProDebateResponse(BaseModel):\n",
        "  pro_debator_response: str = Field(description=\"The pro-debator's response to the latest argument\")\n",
        "\n",
        "class State(TypedDict):\n",
        "  topic: str\n",
        "  pro_debator: str\n",
        "  anti_debator: str\n",
        "  greetings: str\n",
        "  pro_debator_response: ProDebateResponse\n",
        "  anti_debator_response: AntiDebateResponse\n",
        "  context: Annotated[list, add_messages]\n",
        "  debate: Annotated[list, add_messages]\n",
        "  debate_history: DebateHistory\n",
        "  planner: str\n",
        "  winner: str\n",
        "  iteration: int\n",
        "  max_iteration: int\n"
      ]
    },
    {
      "cell_type": "code",
      "source": [
        "\n",
        "def measure_time(node_function):\n",
        "    \"\"\"Decorator to measure and log the execution time of a node function.\"\"\"\n",
        "    def wrapper(state, *args, **kwargs):\n",
        "        start_time = time.time()\n",
        "        print(f\"Starting node: {node_function.__name__}\")\n",
        "        result = node_function(state, *args, **kwargs)\n",
        "        end_time = time.time()\n",
        "        elapsed_time = end_time - start_time\n",
        "        print(f\"Node {node_function.__name__} completed in {elapsed_time:.2f} seconds.\\n\")\n",
        "\n",
        "        # Optionally store in state for later analysis\n",
        "        if \"node_times\" not in state:\n",
        "            state[\"node_times\"] = {}\n",
        "        state[\"node_times\"][node_function.__name__] = elapsed_time\n",
        "\n",
        "        return result\n",
        "    return wrapper\n",
        "\n"
      ],
      "metadata": {
        "id": "qOgKP16PKLUO"
      },
      "execution_count": 297,
      "outputs": []
    },
    {
      "cell_type": "code",
      "source": [
        "@measure_time\n",
        "def greeting_node(state: State):\n",
        "    \"\"\"LangGraph node that greets the debaters and introduces them\"\"\"\n",
        "    topic = state['topic']\n",
        "    pro_debator = state['pro_debator']\n",
        "    anti_debator = state['anti_debator']\n",
        "\n",
        "    prompt = f\"\"\"\n",
        "    You are a professional and unbiased debate host introducing a debate between two participants:\n",
        "    - {pro_debator}, who supports the topic.\n",
        "    - {anti_debator}, who opposes the topic.\n",
        "    Topic: \"{topic}\"\n",
        "    Instructions:\n",
        "    1. Clearly and briefly introduce the participants and the topic to the audience.\n",
        "    2. Avoid opinions, commentary, or humor. Maintain a formal and neutral tone.\n",
        "    3. Do not include information not provided in this prompt. Keep the introduction concise, no more than 3 sentences.\n",
        "    4. Ensure the output is free from errors or irrelevant content.\n",
        "    Format:\n",
        "    - Start by welcoming the audience.\n",
        "    - Introduce the participants and their respective backgrounds.\n",
        "    - Introduce the topic of debate like a host.\n",
        "    \"\"\"\n",
        "\n",
        "    greetings = model.invoke(prompt).content\n",
        "    return {\"greetings\": greetings}"
      ],
      "metadata": {
        "id": "HJr_hWhXRPLQ"
      },
      "execution_count": 298,
      "outputs": []
    },
    {
      "cell_type": "code",
      "source": [
        "@measure_time\n",
        "def planning_node(state: State):\n",
        "    \"\"\"LangGraph node that analyzes the latest argument for web search\"\"\"\n",
        "    topic = state['topic']\n",
        "    pro_debator = state['pro_debator']\n",
        "    anti_debator = state['anti_debator']\n",
        "    last_message = state[\"debate\"][-1]\n",
        "    planning_prompt = None\n",
        "\n",
        "    system_message = \"\"\n",
        "\n",
        "    if isinstance(last_message, HumanMessage):\n",
        "      print(\"Planning for Anti Debator\")\n",
        "      planning_prompt = \"\"\"\n",
        "        You are an expert in debate strategy. Your task is to help the anti-debator\n",
        "        {anti_debator} craft\n",
        "        a compelling counter-argument to the pro-debator's, {pro_debator}, arguments on the debate topic:\n",
        "        {topic}.\n",
        "        Here's the information you have:\n",
        "        * **Pro-Debator's Argument:** {last_message}\n",
        "        Generate an actionable plan with the following structure:\n",
        "        **1. Identify Weaknesses:** Analyze the pro-debator's argument. Pinpoint logical\n",
        "        fallacies, weak points, unsupported claims, or areas where more evidence is needed.\n",
        "        **2. Research and Evidence Gathering:** Suggest specific research avenues to find\n",
        "        evidence that refutes the pro-debator's argument.  Provide concrete examples of\n",
        "        sources and keywords.\n",
        "        **3. Counter-Argument Formulation:** Outline the main points of a counter-argument.\n",
        "        Each point should directly address a weakness in the pro-debator's argument and be\n",
        "        supported by the suggested research.\n",
        "        **4. Rebuttals:** Anticipate the pro-debator's possible rebuttals and suggest\n",
        "        preemptive counter-rebuttals.\n",
        "        **5. Presentation Strategy:** Outline how to present the counter-argument\n",
        "        effectively:\n",
        "            * Should the anti-debator focus on emotion or logic?\n",
        "            * What rhetorical devices would be effective?\n",
        "            * How to present the evidence concisely and persuasively?\n",
        "        Example Output:\n",
        "        **1. Identify Weaknesses:** The pro-debator's argument relies on a study from\n",
        "        2010, which may be outdated.  They also don't address the economic impact of\n",
        "        their proposal.\n",
        "\n",
        "        **2. Research and Evidence Gathering:** Search for more recent studies on the\n",
        "        topic. Look for economic analyses of similar proposals. Search terms: \"[topic]\n",
        "        economic impact,\" \"[topic] recent studies,\" etc.  Look for credible sources\n",
        "        such as peer-reviewed journals.\n",
        "        **3. Counter-Argument Formulation:**\n",
        "            * Point 1: The 2010 study is outdated and newer research contradicts its findings.\n",
        "            * Point 2: The proposal has significant negative economic consequences.\n",
        "        **4. Rebuttals:** The pro-debator might argue that the newer studies are biased.\n",
        "        Prepare to address this by presenting evidence of the studies' methodology and\n",
        "        peer review.\n",
        "        **5. Presentation Strategy:** Emphasize the economic impact and present the data\n",
        "        visually. Maintain a logical, calm demeanor. Use statistics and specific examples\n",
        "        instead of generalizations.\n",
        "\n",
        "        Ensure the plan is specific to the given information.\n",
        "      \"\"\"\n",
        "\n",
        "      system_message = planning_prompt.format(\n",
        "          topic=topic,\n",
        "          anti_debator=anti_debator,\n",
        "          pro_debator = pro_debator,\n",
        "          last_message=last_message,\n",
        "      )\n",
        "\n",
        "    elif isinstance(last_message, AIMessage):\n",
        "      # Analysis for an AIMessage (anti-debator's counterargument)\n",
        "      print(\"Analyzing for Pro Debator\")\n",
        "      planning_prompt = \"\"\"\n",
        "        You are an expert debate strategist tasked with formulating a\n",
        "        counter-argument\n",
        "        against an opponent's position on a given topic.  Your goal is to\n",
        "        create an actionable plan to devise a compelling and effective\n",
        "        counter-argument for {anti_debator} against {pro_debator}.\n",
        "        Given the following information:\n",
        "        1. **Topic:** {topic}\n",
        "        2. **Anti-Debator's Argument:** {last_message}\n",
        "        4. **Desired Outcome:** Develop a counter-argument that effectively\n",
        "        refutes the opponent's claims, strengthens your own position, and\n",
        "        persuades the audience.\n",
        "\n",
        "\n",
        "        **Develop an actionable plan that includes the following:**\n",
        "\n",
        "        * **Identify Key Weaknesses:** Analyze the opponent's argument for\n",
        "        logical fallacies, weak points, unsupported claims, or inconsistencies.\n",
        "        List at least 3 key weaknesses.\n",
        "        * **Research & Evidence Gathering:** Specify relevant areas of research,\n",
        "        data sources, or examples that can be used to support your counter-argument.\n",
        "        * **Counter-Argument Formulation:**  Outline the structure of your\n",
        "        counter-argument.  Include the key points you will make and how they\n",
        "        directly address the weaknesses identified.\n",
        "        * **Rebuttals:** Anticipate potential rebuttals from the opponent and\n",
        "        formulate concise responses.\n",
        "        * **Presentation Strategy:**  Suggest how to effectively present your\n",
        "        counter-argument, considering factors such as tone, clarity, and\n",
        "        persuasive language.\n",
        "        **Deliverable:** A detailed, step-by-step plan that can be used to\n",
        "        create a powerful and persuasive counter-argument.\n",
        "      \"\"\"\n",
        "      system_message = planning_prompt.format(\n",
        "          topic=topic,\n",
        "          anti_debator=anti_debator,\n",
        "          pro_debator = pro_debator,\n",
        "          last_message=last_message\n",
        "      )\n",
        "    state['planner'] = model.invoke(system_message).content\n",
        "    return state"
      ],
      "metadata": {
        "id": "a7bwDyTrRMZF"
      },
      "execution_count": 299,
      "outputs": []
    },
    {
      "cell_type": "code",
      "execution_count": 300,
      "metadata": {
        "id": "6WwmmYvGeA8w"
      },
      "outputs": [],
      "source": [
        "@measure_time\n",
        "def search_web(state: State):\n",
        "    \"\"\"LangGraph node that do a DuckDuckGo search and append the results to context.\"\"\"\n",
        "    planner = state['planner']\n",
        "    last_message = state['debate'][-1]\n",
        "\n",
        "    prompt = f\"\"\"\n",
        "        You are a search query generator for debate.\n",
        "        Instructions:\n",
        "        Based on the provided planning of the latest argument and the\n",
        "        last message in a debate, generate a concise search query (maximum 8 words)\n",
        "        focused on retrieving statistical and numerical data relevant to the latest prompt.\n",
        "        Prioritize queries that are likely to yield objective data.\n",
        "        Planning:\n",
        "        {planner}\n",
        "\n",
        "        Last Message:\n",
        "        {last_message}\n",
        "      \"\"\"\n",
        "    search_query = model.invoke(prompt).content.strip()\n",
        "\n",
        "    print(\"DuckDuckGo Search Query:\", search_query)\n",
        "\n",
        "    search = DuckDuckGoSearchResults(backend=\"news\", output_format='list')\n",
        "    search_result = search.invoke(search_query)\n",
        "    result = \"\"\n",
        "    for entry in search_result:\n",
        "        print(entry['snippet'])\n",
        "        result += entry['snippet'] + \"\\n\"\n",
        "\n",
        "    state['context'].append(result)\n",
        "    return {\"context\": state['context']}\n"
      ]
    },
    {
      "cell_type": "code",
      "source": [
        "@measure_time\n",
        "def search_wikipedia(state: State):\n",
        "    \"\"\"Retrieve docs from Wikipedia using WikipediaRetriever\"\"\"\n",
        "\n",
        "    planner = state['planner']\n",
        "    last_message = state[\"debate\"][-1]\n",
        "    pro_debator = state['pro_debator']\n",
        "    anti_debator = state['anti_debator']\n",
        "    topic = state['topic']\n",
        "\n",
        "\n",
        "    search_query_prompt = \"\"\n",
        "    if isinstance(last_message, HumanMessage):\n",
        "      search_query_prompt = f\"\"\"\n",
        "        You are a search assistant generating a concise search query for Wikipedia.\n",
        "        Task:\n",
        "        Find the most relevant wikipedia articles for {pro_debator} related to\n",
        "        the topic {topic} taking into account the following planning:\n",
        "        {planner}\n",
        "        Output:\n",
        "        A single concise search query relevant to the topic.\n",
        "\n",
        "        Given debater Trump and topic illegal immigration provide Immigration_policy_of_Donald_Trump\n",
        "        as search query\n",
        "      \"\"\"\n",
        "      search_query = model.invoke(search_query_prompt).content.strip()\n",
        "      print(\"Wikipedia Search Query:\", search_query)\n",
        "    elif isinstance(last_message, AIMessage):\n",
        "      f\"\"\"\n",
        "            You are a search assistant generating a concise search query for Wikipedia.\n",
        "            Task:\n",
        "            Find the most relevant wikipedia articles for {anti_debator} related to\n",
        "            the topic {topic}\n",
        "            Output:\n",
        "            A single concise search query relevant to the topic.\n",
        "\n",
        "           Given debater Trump and topic illegal immigration provide Immigration_policy_of_Donald_Trump\n",
        "          as search query\n",
        "          \"\"\"\n",
        "      search_query = model.invoke(search_query_prompt).content.strip()\n",
        "      print(\"Wikipedia Search Query:\", search_query)\n",
        "\n",
        "    retriever = WikipediaRetriever()\n",
        "    search_docs = retriever.invoke(search_query)\n",
        "    all_summaries = \"\"\n",
        "    for doc in search_docs:\n",
        "        if 'summary' in doc.metadata:\n",
        "            all_summaries += doc.metadata['summary'] + \"\\n\\n\"\n",
        "\n",
        "    state['context'].append(all_summaries)\n",
        "    return state"
      ],
      "metadata": {
        "id": "o6lkan-vShw2"
      },
      "execution_count": 301,
      "outputs": []
    },
    {
      "cell_type": "code",
      "execution_count": 302,
      "metadata": {
        "id": "I22jJGnD8k3T"
      },
      "outputs": [],
      "source": [
        "@measure_time\n",
        "def pro_debator_node(state: State):\n",
        "    \"\"\"LangGraph node that represents the pro debator\"\"\"\n",
        "\n",
        "    topic = state['topic']\n",
        "    anti_debator_response = state.get('anti_debator_response')\n",
        "    pro_debator = state['pro_debator']\n",
        "    anti_debator = state['anti_debator']\n",
        "    debate_history = state.get('debate_history', [])\n",
        "    planner = state.get(\"planner\", \"\")\n",
        "    debate = state.get('debate', [])\n",
        "    context = state.get('context', \"\")\n",
        "\n",
        "    if not anti_debator_response and not debate:\n",
        "      # Greeting and opening argument scenario\n",
        "      prompt_template = \"\"\"\n",
        "          You are {pro_debator}, presenting the affirmative stance on the topic: \"{topic}\" in a debate.\n",
        "          Your goal is to deliver a strong and concise opening argument in favor of \"{topic}\" in no more than 3-4 sentences.\n",
        "          Your language should be conversational, persuasive, and directly relevant to the topic. Avoid lengthy introductions.\n",
        "\n",
        "          Guidelines:\n",
        "          1. **Persona Alignment**: Use language and phrases consistent with {pro_debator}'s persona.\n",
        "          2. **Clarity and Brevity**: Make your opening impactful but keep it conversational and limited to 3-4 sentences.\n",
        "          3. **Focus on Core Argument**: Present clear and logical points without unnecessary elaboration or excessive detail.\n",
        "          4. Take into account planning made by the planner {planner}\n",
        "\n",
        "          **Context (if applicable)**: {context}\n",
        "\n",
        "          Begin your opening statement.\n",
        "      \"\"\"\n",
        "      system_message = prompt_template.format(\n",
        "          pro_debator=pro_debator,\n",
        "          anti_debator=anti_debator,\n",
        "          planner=planner,\n",
        "          topic=topic,\n",
        "          context=context\n",
        "      )\n",
        "    else:\n",
        "      # Responding to latest argument scenario\n",
        "      prompt_template = \"\"\"\n",
        "        You are {pro_debator}, presenting your affirmative stance on the topic:\n",
        "        \"{topic}\" in a debate.\n",
        "        Your task is to directly respond to the latest argument by {anti_debator}\n",
        "        in a concise and conversational manner, limited to 3-4 sentences.\n",
        "        Focus on addressing weaknesses, logical fallacies, or gaps in their\n",
        "        argument while maintaining a persuasive tone.\n",
        "\n",
        "        Guidelines:\n",
        "        1. **Direct Rebuttal**: Address the latest response from {anti_debator}\n",
        "        directly.\n",
        "        2. **Persona Alignment**: Use language and phrases consistent with\n",
        "        {pro_debator}'s persona.\n",
        "        3. **Clarity and Brevity**: Keep your response impactful but limited\n",
        "        to 3-4 sentences.\n",
        "        4. **Avoid Redundancy**: Leverage details from the debate history to\n",
        "        strengthen your response without repeating previous arguments.\n",
        "        5. **Use Context**: Use relevant details from the context or debate\n",
        "        history (if applicable) to make your argument more credible.\n",
        "        6. Take into account planning made by the planner {planner}\n",
        "\n",
        "          **Debate History**:\n",
        "        {debate_history}\n",
        "\n",
        "        **Latest Argument from {anti_debator}**:\n",
        "        {anti_debator_response}\n",
        "\n",
        "        **Context**:\n",
        "        {context}\n",
        "\n",
        "        Craft your rebuttal.\n",
        "      \"\"\"\n",
        "      system_message = prompt_template.format(\n",
        "          pro_debator=pro_debator,\n",
        "          topic=topic,\n",
        "          anti_debator=anti_debator,\n",
        "          debate_history=debate_history,\n",
        "          anti_debator_response=anti_debator_response,\n",
        "          context=context,\n",
        "          planner=planner\n",
        "      )\n",
        "\n",
        "    pro_debator_response_content = gemini_model.invoke(system_message).content\n",
        "\n",
        "    pro_debator_response = HumanMessage(\n",
        "        content=f\"{pro_debator}: {pro_debator_response_content}\",\n",
        "        name=\"pro_response\"\n",
        "    )\n",
        "\n",
        "    debate.append(pro_debator_response)\n",
        "    return {\"pro_debator_response\": pro_debator_response, \"debate\": debate}\n"
      ]
    },
    {
      "cell_type": "code",
      "execution_count": 303,
      "metadata": {
        "id": "wJGrpaQfQfI3"
      },
      "outputs": [],
      "source": [
        "@measure_time\n",
        "def anti_debator_node(state: State):\n",
        "    \"\"\"LangGraph node that represents the anti debator\"\"\"\n",
        "    topic = state['topic']\n",
        "    anti_debator_response = state.get('anti_debator_response')\n",
        "    pro_debator = state['pro_debator']\n",
        "    anti_debator = state['anti_debator']\n",
        "    debate_history = state.get('debate_history', [])\n",
        "    debate = state.get('debate', [])\n",
        "    context = state.get('context', \"\")\n",
        "    planner = state.get('planner', \"\")\n",
        "\n",
        "    # Improved prompt with guardrails\n",
        "    prompt_template = \"\"\"\n",
        "        You are {anti_debator}, presenting your opposing stance on the topic: \"{topic}\" in a debate.\n",
        "        Your task is to craft a direct and concise rebuttal to the latest argument provided by {pro_debator}.\n",
        "        The opinion should reflect a real stance that {anti_debator} has taken on the topic \"{topic}\" and align with their persona.\n",
        "\n",
        "        Guidelines for crafting your rebuttal:\n",
        "        1. **Direct Rebuttal**: Respond specifically to the latest argument from {pro_debator}. Address any logical flaws, missing evidence, or weak points while maintaining a respectful tone.\n",
        "        2. **Clarity and Brevity**: Limit your response to no more than 3 sentences. Ensure it is conversational, impactful, and easy to follow.\n",
        "        3. **Debate Continuity**: Use relevant details from the debate history (if provided) to strengthen your response while avoiding redundancy.\n",
        "        4. **Persona Consistency**: Use language, phrases, and tone that align with {anti_debator}'s persona and style of communication.\n",
        "        5. **Guardrails**: Avoid unsupported claims, personal attacks, or unrelated points. Stick to the topic and present logical arguments.\n",
        "        6. **Use of Context**: Incorporate credible evidence or insights from the provided context (if applicable) to make your argument more persuasive.\n",
        "        7. Take into account planning made by the planner {planner}\n",
        "\n",
        "        **Context (if applicable)**:\n",
        "        {context}\n",
        "\n",
        "        **Debate History (recent exchanges)**:\n",
        "        {debate_history}\n",
        "\n",
        "        **Latest Argument from {pro_debator}**:\n",
        "        {pro_debator_response}\n",
        "\n",
        "        **Your Rebuttal**:\n",
        "    \"\"\"\n",
        "\n",
        "    # Generate the system message for the model\n",
        "    system_message = prompt_template.format(\n",
        "        topic=topic,\n",
        "        pro_debator=pro_debator,\n",
        "        pro_debator_response=anti_debator_response,\n",
        "        anti_debator=anti_debator,\n",
        "        debate_history=debate_history,\n",
        "        context=context,\n",
        "        planner=planner\n",
        "    )\n",
        "\n",
        "    anti_debator_response_content = gemini_model.invoke(system_message).content\n",
        "\n",
        "    anti_debator_response = AIMessage(\n",
        "        content=f\"{anti_debator}: {anti_debator_response_content}\",\n",
        "        name=\"anti_response\"\n",
        "    )\n",
        "\n",
        "    debate.append(anti_debator_response)\n",
        "    return {\"anti_debator_response\": anti_debator_response, \"debate\": debate}\n"
      ]
    },
    {
      "cell_type": "code",
      "execution_count": 304,
      "metadata": {
        "id": "BhO8NyCwQg7e"
      },
      "outputs": [],
      "source": [
        "@measure_time\n",
        "def debate_summarizer_node(state: State):\n",
        "  \"\"\"LangGraph node that summarizes the exchange of arguments between debator\n",
        "  and append to history for future consideration\n",
        "  \"\"\"\n",
        "  pro_debator = state['pro_debator']\n",
        "  anti_debator = state['anti_debator']\n",
        "  debate_history = state['debate_history']\n",
        "  anti_debator_response = state['anti_debator_response']\n",
        "  pro_debator_response = state['pro_debator_response']\n",
        "  prompt = \"\"\"\n",
        "            Summarize the conversation between the pro {pro_debator} and anti debator {anti_debator},\n",
        "            highlighting the key points of their arguments and discarding unnecessary points. The\n",
        "            summary should be concise and brief, with high quality.\n",
        "            **Instructions:**\n",
        "            * Focus on the core arguments presented by both sides.\n",
        "            * Identify the main points of agreement and disagreement.\n",
        "            * Provide a clear and objective overview of the debate.\n",
        "            * Avoid including irrelevant details or repetitive information.\n",
        "            * Ensure that the summary is easy to understand and informative.\n",
        "            **Pro Debator:**\n",
        "            {pro_debator_response}\n",
        "            **Anti Debator:**\n",
        "            {anti_debator_response}\n",
        "          \"\"\"\n",
        "  system_message = prompt.format(\n",
        "                      pro_debator=pro_debator,\n",
        "                      pro_debator_response=pro_debator_response,\n",
        "                      anti_debator=anti_debator,\n",
        "                      anti_debator_response=anti_debator_response,\n",
        "                    )\n",
        "  summary = model.invoke(system_message).content\n",
        "  debate_history.append(summary)\n",
        "  state['debate_history'] = debate_history\n",
        "  state['iteration'] += 1\n",
        "  print(f\"Updated Iteration: {state['iteration']}\")\n",
        "  return state\n",
        "\n"
      ]
    },
    {
      "cell_type": "code",
      "source": [
        "@measure_time\n",
        "def winner_decider_node(state: State):\n",
        "  \"\"\"LangGraph node that determines the winner of the debate\"\"\"\n",
        "  debate_history = state['debate_history']\n",
        "  prompt = \"\"\"\n",
        "    You are an AI judge tasked with determining the winner of a debate between\n",
        "    two debaters based on their debate history.\n",
        "    Analyze the provided debate history and determine which debater presented\n",
        "    more logical and compelling arguments.\n",
        "\n",
        "    Consider the following criteria:\n",
        "\n",
        "    * **Logical consistency:** Does the debater's argumentation follow a clear\n",
        "    and consistent line of reasoning? Are there any internal contradictions or\n",
        "    logical fallacies?\n",
        "    * **Evidence and support:** Does the debater provide sufficient evidence and\n",
        "    support for their claims? Are the sources credible and relevant?\n",
        "    * **Rebuttals and counterarguments:** How effectively does the debater\n",
        "    address the opponent's arguments? Do they offer strong rebuttals and\n",
        "    counterarguments?\n",
        "    * **Clarity and persuasiveness:** Is the debater's communication clear,\n",
        "    concise, and persuasive? Do they effectively convey their points to the\n",
        "    audience?\n",
        "    * **Overall impact:** Which debater's arguments had a greater overall impact\n",
        "    and persuaded you more effectively?\n",
        "\n",
        "    Debate History:\n",
        "    {debate_history}\n",
        "\n",
        "    Based on the debate history, who presented the more logical and stronger arguments: {pro_debator} or {anti_debator}?  Explain your reasoning by referencing specific instances from the debate history.  Provide a concise summary of why you chose the winner.  Do not simply restate the arguments.\n",
        "  \"\"\"\n",
        "  system_message = prompt.format(\n",
        "    debate_history=debate_history,\n",
        "    pro_debator=state['pro_debator'],\n",
        "    anti_debator=state['anti_debator']\n",
        "  )\n",
        "  winner = model.invoke(system_message).content\n",
        "  return {\"winner\": winner}"
      ],
      "metadata": {
        "id": "s4fTNZLrOyCb"
      },
      "execution_count": 305,
      "outputs": []
    },
    {
      "cell_type": "code",
      "source": [
        "def router(state: State):\n",
        "    \"\"\"LangGraph node that routes to the appropriate search function\"\"\"\n",
        "    debate_history = state[\"debate_history\"]\n",
        "    if debate_history == []:\n",
        "        return \"Pro Debator\"\n",
        "    else:\n",
        "      return \"Planner\"\n",
        "\n",
        "\n",
        "def iteration_router(state: State):\n",
        "    \"\"\"Routes the flow based on the current iteration and max_iteration\"\"\"\n",
        "    if state['iteration'] >= state['max_iteration']:\n",
        "        print(\"Ending the debate as max iteration is reached.\")\n",
        "        return \"Winner Decider\"\n",
        "    print(f\"Iteration Round: {state['iteration']}\")\n",
        "    state['iteration'] += 1\n",
        "    return \"Planner\"\n",
        "\n",
        "\n",
        "def analyzer_router(state: State):\n",
        "    \"\"\"Function that routes to the appropriate next node\"\"\"\n",
        "    debate = state['debate']\n",
        "    last_message = debate[-1]\n",
        "    if isinstance(last_message, AIMessage):\n",
        "        return \"Pro Debator\"\n",
        "    else:\n",
        "        return \"Anti Debator\"\n"
      ],
      "metadata": {
        "id": "YebryyRHS5Iz"
      },
      "execution_count": 306,
      "outputs": []
    },
    {
      "cell_type": "code",
      "source": [],
      "metadata": {
        "id": "yJK0dH0ZTg2s"
      },
      "execution_count": 306,
      "outputs": []
    },
    {
      "cell_type": "code",
      "source": [],
      "metadata": {
        "id": "NvVPspFvThoE"
      },
      "execution_count": 306,
      "outputs": []
    },
    {
      "cell_type": "code",
      "execution_count": 307,
      "metadata": {
        "id": "K7VZ--S4uPrQ",
        "colab": {
          "base_uri": "https://localhost:8080/",
          "height": 746
        },
        "outputId": "3bea3271-8b09-4d77-cf11-f375fbc60049"
      },
      "outputs": [
        {
          "output_type": "display_data",
          "data": {
            "image/png": "[encoded data removed]",
            "text/plain": [
              "<IPython.core.display.Image object>"
            ]
          },
          "metadata": {}
        }
      ],
      "source": [
        "builder = StateGraph(State)\n",
        "# Add nodes\n",
        "builder.add_node(\"Greetings\", greeting_node)\n",
        "builder.add_node(\"Pro Debator\", pro_debator_node)\n",
        "builder.add_node(\"Planner\", planning_node)\n",
        "builder.add_node(\"Search Web\", search_web)\n",
        "builder.add_node(\"Search Wikipedia\", search_wikipedia)\n",
        "builder.add_node(\"Anti Debator\", anti_debator_node)\n",
        "builder.add_node(\"Debate Summarizer\", debate_summarizer_node)\n",
        "builder.add_node('Winner Decider', winner_decider_node)\n",
        "\n",
        "# Add edges\n",
        "builder.add_edge(START, \"Greetings\")\n",
        "builder.add_conditional_edges(\"Greetings\", router, ['Planner', 'Pro Debator'])\n",
        "builder.add_edge(\"Planner\", \"Search Web\")\n",
        "builder.add_edge(\"Planner\", \"Search Wikipedia\")\n",
        "builder.add_conditional_edges(\"Search Web\", analyzer_router, [\"Pro Debator\", \"Anti Debator\"])\n",
        "builder.add_conditional_edges(\"Search Wikipedia\", analyzer_router, [\"Pro Debator\", \"Anti Debator\"])\n",
        "\n",
        "\n",
        "builder.add_edge(\"Pro Debator\", \"Planner\")\n",
        "builder.add_edge(\"Anti Debator\", \"Debate Summarizer\")\n",
        "builder.add_conditional_edges(\n",
        "    \"Debate Summarizer\",\n",
        "    iteration_router,\n",
        "    [\"Planner\", \"Winner Decider\"]\n",
        ")\n",
        "builder.add_edge(\"Winner Decider\", END)\n",
        "\n",
        "\n",
        "# Compile the graph\n",
        "debator = builder.compile(checkpointer=memory).with_config(run_name=\"Starting Debate\")\n",
        "\n",
        "# Display the graph\n",
        "display(Image(debator.get_graph().draw_mermaid_png()))\n"
      ]
    },
    {
      "cell_type": "code",
      "execution_count": 308,
      "metadata": {
        "id": "Lg7mTyfHX1kD"
      },
      "outputs": [],
      "source": [
        "\n",
        "state = {\n",
        "    \"topic\": \"Russia Ukraine War\",\n",
        "    \"pro_debator\": \"Joe Biden\",\n",
        "    \"anti_debator\": \"Donald Trump\",\n",
        "    \"greetings\": \"\",\n",
        "    \"planning\": \"\",\n",
        "    \"pro_debator_response\": \"\",\n",
        "    \"anti_debator_response\": \"\",\n",
        "    \"context\": [],\n",
        "    \"debate\": [],\n",
        "    \"debate_history\": [],\n",
        "    \"iteration\": 0,\n",
        "    \"max_iteration\": 3,\n",
        "    \"winner\": \"\",\n",
        "}\n"
      ]
    },
    {
      "cell_type": "code",
      "execution_count": 309,
      "metadata": {
        "id": "dgM_htTJu2kl",
        "colab": {
          "base_uri": "https://localhost:8080/"
        },
        "outputId": "b95e125e-a5b3-42f2-b30f-1ba9660d90b3"
      },
      "outputs": [
        {
          "output_type": "stream",
          "name": "stdout",
          "text": [
            "Starting node: greeting_node\n",
            "Node greeting_node completed in 1.81 seconds.\n",
            "\n",
            "Starting node: pro_debator_node\n",
            "Node pro_debator_node completed in 1.48 seconds.\n",
            "\n",
            "Starting node: planning_node\n",
            "Planning for Anti Debator\n",
            "Node planning_node completed in 3.39 seconds.\n",
            "\n",
            "Starting node: search_webStarting node: search_wikipedia\n",
            "\n",
            "Wikipedia Search Query: Joe_Biden_on_the_2022_Russian_invasion_of_Ukraine\n",
            "DuckDuckGo Search Query: \"Ukraine conflict escalation statistics\"\n",
            "Node search_web completed in 0.70 seconds.\n",
            "\n",
            "Node search_wikipedia completed in 3.10 seconds.\n",
            "\n",
            "Starting node: anti_debator_node\n",
            "Node anti_debator_node completed in 1.29 seconds.\n",
            "\n",
            "Starting node: debate_summarizer_node\n",
            "Updated Iteration: 1\n",
            "Node debate_summarizer_node completed in 5.19 seconds.\n",
            "\n",
            "Iteration Round: 1\n",
            "Starting node: planning_node\n",
            "Analyzing for Pro Debator\n",
            "Node planning_node completed in 8.65 seconds.\n",
            "\n",
            "Starting node: search_web\n",
            "Starting node: search_wikipedia\n",
            "Wikipedia Search Query: It seems like you haven't asked a question or provided any information for me to respond to. Please feel free to ask me anything or provide context, and I'll do my best to assist you.\n",
            "Node search_wikipedia completed in 5.57 seconds.\n",
            "\n",
            "DuckDuckGo Search Query: \"US intervention costs in Afghanistan and Iraq\"\n",
            "Node search_web completed in 16.73 seconds.\n",
            "\n",
            "Starting node: pro_debator_node\n",
            "Node pro_debator_node completed in 1.58 seconds.\n",
            "\n",
            "Starting node: planning_node\n",
            "Planning for Anti Debator\n",
            "Node planning_node completed in 7.15 seconds.\n",
            "\n",
            "Starting node: search_web\n",
            "Starting node: search_wikipedia\n",
            "Wikipedia Search Query: Joe_Biden_on_the_2022_Russian_invasion_of_Ukraine\n",
            "Node search_wikipedia completed in 19.47 seconds.\n",
            "\n",
            "DuckDuckGo Search Query: \"US military aid to Ukraine cost estimate\"\n",
            "Node search_web completed in 27.93 seconds.\n",
            "\n",
            "Starting node: anti_debator_node\n",
            "Node anti_debator_node completed in 5.36 seconds.\n",
            "\n",
            "Starting node: debate_summarizer_node\n",
            "Updated Iteration: 2\n",
            "Node debate_summarizer_node completed in 1.11 seconds.\n",
            "\n",
            "Iteration Round: 2\n",
            "Starting node: planning_node\n",
            "Analyzing for Pro Debator\n",
            "Node planning_node completed in 4.98 seconds.\n",
            "\n",
            "Starting node: search_web\n",
            "Starting node: search_wikipedia\n",
            "Wikipedia Search Query: It seems like you haven't asked a question or provided any information. If you could provide more context or clarify what you need help with, I'd be happy to assist you.\n",
            "Node search_wikipedia completed in 4.84 seconds.\n",
            "\n",
            "DuckDuckGo Search Query: \"US Military Casualties in Afghanistan and Iraq\"\n",
            "Node search_web completed in 18.25 seconds.\n",
            "\n",
            "Starting node: pro_debator_node\n",
            "Node pro_debator_node completed in 2.25 seconds.\n",
            "\n",
            "Starting node: planning_node\n",
            "Planning for Anti Debator\n",
            "Node planning_node completed in 7.22 seconds.\n",
            "\n",
            "Starting node: search_web\n",
            "Starting node: search_wikipedia\n",
            "Wikipedia Search Query: Joe Biden and the Russia-Ukraine War \n",
            "\n",
            "Search Query: Biden's policy on the Russia–Ukraine conflict\n",
            "Node search_wikipedia completed in 21.45 seconds.\n",
            "\n",
            "DuckDuckGo Search Query: \"Ukraine conflict economic impact statistics\"\n",
            "Node search_web completed in 30.90 seconds.\n",
            "\n",
            "Starting node: anti_debator_node\n",
            "Node anti_debator_node completed in 1.31 seconds.\n",
            "\n",
            "Starting node: debate_summarizer_node\n",
            "Updated Iteration: 3\n",
            "Node debate_summarizer_node completed in 1.29 seconds.\n",
            "\n",
            "Ending the debate as max iteration is reached.\n",
            "Starting node: winner_decider_node\n",
            "Node winner_decider_node completed in 15.23 seconds.\n",
            "\n"
          ]
        }
      ],
      "source": [
        "thread = {\"configurable\": {\"thread_id\": \"1\", \"recursion_limit\": 100}}\n",
        "result = debator.invoke(state, thread)"
      ]
    },
    {
      "cell_type": "code",
      "execution_count": 310,
      "metadata": {
        "id": "GAM-zmcjncup",
        "colab": {
          "base_uri": "https://localhost:8080/"
        },
        "outputId": "21ba8bad-7efa-4d28-c0ec-952ffa5c79b5"
      },
      "outputs": [
        {
          "output_type": "stream",
          "name": "stdout",
          "text": [
            "(\"Good evening, ladies and gentlemen, and welcome to tonight's debate. We have \"\n",
            " 'the honor of hosting two distinguished guests, Joe Biden, the 46th President '\n",
            " 'of the United States, and Donald Trump, the 45th President of the United '\n",
            " 'States. Tonight, they will engage in a discussion on the topic of the Russia '\n",
            " 'Ukraine War, with President Biden supporting the topic and President Trump '\n",
            " 'opposing it.')\n"
          ]
        }
      ],
      "source": [
        "import pprint\n",
        "pprint.pprint(result['greetings'])"
      ]
    },
    {
      "cell_type": "code",
      "execution_count": 311,
      "metadata": {
        "id": "tluh5bmpylTP",
        "colab": {
          "base_uri": "https://localhost:8080/"
        },
        "outputId": "7b3cd331-02e3-48bb-8dc9-f0d5a29aaafe"
      },
      "outputs": [
        {
          "output_type": "stream",
          "name": "stdout",
          "text": [
            "('Joe Biden: Look, Donald,  blaming *my* administration for the failures in '\n",
            " 'Afghanistan and Iraq ignores the decades-long complexities of those '\n",
            " 'conflicts.  Your simplistic \"negotiate a peaceful settlement\" plan offers no '\n",
            " 'concrete steps to achieve that in Ukraine, a nation under brutal attack.  '\n",
            " \"It's not a winning strategy; it's wishful thinking.\\n\")\n"
          ]
        }
      ],
      "source": [
        "import pprint\n",
        "pprint.pprint(result['pro_debator_response'].content)"
      ]
    },
    {
      "cell_type": "code",
      "execution_count": 312,
      "metadata": {
        "id": "mjoPrUleZgbi",
        "colab": {
          "base_uri": "https://localhost:8080/"
        },
        "outputId": "5e89e42f-71ff-49ef-e2f1-36c5cbb084a9"
      },
      "outputs": [
        {
          "output_type": "stream",
          "name": "stdout",
          "text": [
            "('Donald Trump: Joe, your \"simple, winning strategy\" sounds great, but it\\'s '\n",
            " 'just another empty promise.  Your Afghanistan and Iraq failures prove you '\n",
            " \"can't negotiate your way out of a paper bag, let alone a major war.  Where's \"\n",
            " 'your detailed plan, Joe?\\n')\n"
          ]
        }
      ],
      "source": [
        "pprint.pprint(result['anti_debator_response'].content)"
      ]
    },
    {
      "cell_type": "code",
      "execution_count": 313,
      "metadata": {
        "id": "3lSByHOpno8M",
        "colab": {
          "base_uri": "https://localhost:8080/"
        },
        "outputId": "7192f4c6-7383-4097-832f-2a6e09a22b16"
      },
      "outputs": [
        {
          "output_type": "stream",
          "name": "stdout",
          "text": [
            "('**1. Identify Weaknesses:** \\n'\n",
            " '\\n'\n",
            " \"The pro-debator's argument, presented by Joe Biden, has several weaknesses:\\n\"\n",
            " '\\n'\n",
            " \"*   It assumes that Donald Trump's plan for a peaceful settlement in Ukraine \"\n",
            " \"is overly simplistic and offers no concrete steps, but it doesn't provide \"\n",
            " 'any concrete evidence to support this claim.\\n'\n",
            " \"*   It doesn't address the potential benefits of a peaceful settlement, such \"\n",
            " 'as reduced loss of life, economic benefits, and improved international '\n",
            " 'relations.\\n'\n",
            " '*   It focuses on the complexities of the conflict in Afghanistan and Iraq, '\n",
            " 'which may not be directly relevant to the conflict in Ukraine.\\n'\n",
            " '*   It implies that the current approach to the conflict in Ukraine is '\n",
            " \"effective, but it doesn't provide any evidence to support this claim.\\n\"\n",
            " '\\n'\n",
            " '**2. Research and Evidence Gathering:**\\n'\n",
            " '\\n'\n",
            " \"To refute the pro-debator's argument, the following research avenues can be \"\n",
            " 'pursued:\\n'\n",
            " '\\n'\n",
            " '*   Search for studies and analyses on the effectiveness of peaceful '\n",
            " 'settlements in similar conflicts, such as the Good Friday Agreement in '\n",
            " 'Northern Ireland or the Oslo Accords in the Middle East.\\n'\n",
            " '*   Look for economic analyses of the impact of the conflict in Ukraine on '\n",
            " 'the global economy, as well as the potential benefits of a peaceful '\n",
            " 'settlement.\\n'\n",
            " '*   Investigate the potential steps that could be taken to achieve a '\n",
            " 'peaceful settlement in Ukraine, such as diplomatic efforts, economic '\n",
            " 'incentives, and international cooperation.\\n'\n",
            " '*   Search for credible sources, such as peer-reviewed journals, think tank '\n",
            " 'reports, and government documents.\\n'\n",
            " '\\n'\n",
            " 'Some specific search terms could include:\\n'\n",
            " '\\n'\n",
            " '*   \"peaceful settlement Ukraine\"\\n'\n",
            " '*   \"economic impact Ukraine conflict\"\\n'\n",
            " '*   \"diplomatic efforts Ukraine\"\\n'\n",
            " '*   \"international cooperation Ukraine\"\\n'\n",
            " '\\n'\n",
            " '**3. Counter-Argument Formulation:**\\n'\n",
            " '\\n'\n",
            " 'Based on the research, the following counter-argument can be formulated:\\n'\n",
            " '\\n'\n",
            " '*   Point 1: A peaceful settlement in Ukraine is not only desirable but also '\n",
            " 'achievable, as demonstrated by successful peaceful settlements in similar '\n",
            " 'conflicts.\\n'\n",
            " '*   Point 2: The current approach to the conflict in Ukraine is not '\n",
            " 'effective, as evidenced by the ongoing violence and economic instability.\\n'\n",
            " '*   Point 3: A peaceful settlement in Ukraine would have significant '\n",
            " 'economic benefits, both for Ukraine and the global economy.\\n'\n",
            " '*   Point 4: Concrete steps can be taken to achieve a peaceful settlement in '\n",
            " 'Ukraine, including diplomatic efforts, economic incentives, and '\n",
            " 'international cooperation.\\n'\n",
            " '\\n'\n",
            " '**4. Rebuttals:**\\n'\n",
            " '\\n'\n",
            " 'The pro-debator might argue that:\\n'\n",
            " '\\n'\n",
            " '*   A peaceful settlement in Ukraine is not possible due to the complexity '\n",
            " 'of the conflict.\\n'\n",
            " '*   The benefits of a peaceful settlement are not worth the risks and '\n",
            " 'challenges involved.\\n'\n",
            " '\\n'\n",
            " 'To address these rebuttals, the following counter-rebuttals can be '\n",
            " 'prepared:\\n'\n",
            " '\\n'\n",
            " '*   Counter-rebuttal 1: While the conflict in Ukraine is complex, it is not '\n",
            " 'impossible to resolve. Successful peaceful settlements in similar conflicts '\n",
            " 'demonstrate that with the right approach and international cooperation, a '\n",
            " 'peaceful settlement can be achieved.\\n'\n",
            " '*   Counter-rebuttal 2: The benefits of a peaceful settlement in Ukraine far '\n",
            " 'outweigh the risks and challenges involved. The ongoing violence and '\n",
            " 'economic instability caused by the conflict are having a devastating impact '\n",
            " 'on Ukraine and the global economy, and a peaceful settlement would bring '\n",
            " 'significant economic benefits and improved international relations.\\n'\n",
            " '\\n'\n",
            " '**5. Presentation Strategy:**\\n'\n",
            " '\\n'\n",
            " 'To present the counter-argument effectively, the following strategy can be '\n",
            " 'employed:\\n'\n",
            " '\\n'\n",
            " '*   Focus on the economic benefits of a peaceful settlement in Ukraine, '\n",
            " 'using statistics and specific examples to illustrate the points.\\n'\n",
            " '*   Use a logical and calm demeanor to present the argument, avoiding '\n",
            " 'emotional appeals and personal attacks.\\n'\n",
            " '*   Use rhetorical devices such as metaphors and analogies to make the '\n",
            " 'argument more engaging and memorable.\\n'\n",
            " '*   Use visual aids such as charts and graphs to present the data and '\n",
            " 'illustrate the points.\\n'\n",
            " \"*   Anticipate the pro-debator's rebuttals and be prepared to address them \"\n",
            " 'with counter-rebuttals.\\n'\n",
            " '\\n'\n",
            " 'Example script:\\n'\n",
            " '\\n'\n",
            " '\"I understand that the conflict in Ukraine is complex, but I believe that a '\n",
            " \"peaceful settlement is not only desirable but also achievable. As we've seen \"\n",
            " 'in similar conflicts, such as the Good Friday Agreement in Northern Ireland, '\n",
            " 'a peaceful settlement can bring significant economic benefits and improved '\n",
            " 'international relations.\\n'\n",
            " '\\n'\n",
            " '\"The current approach to the conflict in Ukraine is not effective, as '\n",
            " \"evidenced by the ongoing violence and economic instability. It's time for a \"\n",
            " 'new approach, one that prioritizes diplomacy and international cooperation.\\n'\n",
            " '\\n'\n",
            " '\"A peaceful settlement in Ukraine would have significant economic benefits, '\n",
            " 'both for Ukraine and the global economy. According to a recent study, a '\n",
            " \"peaceful settlement could increase Ukraine's GDP by up to 10% and create \"\n",
            " 'thousands of new jobs.\\n'\n",
            " '\\n'\n",
            " '\"I know that achieving a peaceful settlement will not be easy, but I believe '\n",
            " \"that it's worth the effort. We owe it to the people of Ukraine and to the \"\n",
            " 'global community to try a new approach and work towards a peaceful '\n",
            " 'resolution to this conflict.\"')\n"
          ]
        }
      ],
      "source": [
        "pprint.pprint(result['planner'])"
      ]
    },
    {
      "cell_type": "code",
      "execution_count": 314,
      "metadata": {
        "id": "BUOaWKFenwoT",
        "colab": {
          "base_uri": "https://localhost:8080/"
        },
        "outputId": "2126da75-0e4e-400f-99c9-4d847a94369f"
      },
      "outputs": [
        {
          "output_type": "execute_result",
          "data": {
            "text/plain": [
              "[HumanMessage(content=\"Joe Biden: Look, folks,  this isn't about picking sides; it's about defending the fundamental principles of sovereignty and international law. Putin's brutal invasion of Ukraine is a clear violation of those principles, a threat to global stability, and we have a moral obligation to stand with the Ukrainian people as they fight for their freedom.  We're not escalating the conflict, we're defending it.\\n\", additional_kwargs={}, response_metadata={}, name='pro_response', id='791f2a38-c5f8-46c5-99b5-8f7a8cd7d054'),\n",
              " AIMessage(content=\"Donald Trump: Look, folks, Biden talks about defending Ukraine, but  Afghanistan, Iraq –  we've been down this road before.  Endless money, endless war, and what do we have to show for it?  It's a disaster.\\n\", additional_kwargs={}, response_metadata={}, name='anti_response', id='74524c5a-bf4e-4d21-a952-885ab58e2651'),\n",
              " HumanMessage(content=\"Joe Biden: Look, Donald, comparing the situation in Ukraine to Afghanistan or Iraq is just plain wrong.  This isn't about endless war; it's about defending a sovereign nation against a brutal invasion.  And unlike those other conflicts, we're not sending troops to the ground. We're providing support to a country fighting for its own survival.\\n\", additional_kwargs={}, response_metadata={}, name='pro_response', id='14f51410-9c87-43f1-bf67-8e1d3779365b'),\n",
              " AIMessage(content=\"Donald Trump: Joe, Afghanistan and Iraq were disasters *because of your administration's handling*.  My plan for Ukraine is different:  negotiate a peaceful settlement, save American lives and money.  It's a simple, winning strategy.\\n\", additional_kwargs={}, response_metadata={}, name='anti_response', id='7e9f38f2-0347-4c4e-80e9-e9024e16e4f3'),\n",
              " HumanMessage(content='Joe Biden: Look, Donald,  blaming *my* administration for the failures in Afghanistan and Iraq ignores the decades-long complexities of those conflicts.  Your simplistic \"negotiate a peaceful settlement\" plan offers no concrete steps to achieve that in Ukraine, a nation under brutal attack.  It\\'s not a winning strategy; it\\'s wishful thinking.\\n', additional_kwargs={}, response_metadata={}, name='pro_response', id='981bb4bd-79bb-4957-9526-d3eb2fc4466a'),\n",
              " AIMessage(content='Donald Trump: Joe, your \"simple, winning strategy\" sounds great, but it\\'s just another empty promise.  Your Afghanistan and Iraq failures prove you can\\'t negotiate your way out of a paper bag, let alone a major war.  Where\\'s your detailed plan, Joe?\\n', additional_kwargs={}, response_metadata={}, name='anti_response', id='77899c03-a885-44dc-aea9-feb955c74ead')]"
            ]
          },
          "metadata": {},
          "execution_count": 314
        }
      ],
      "source": [
        "result['debate']"
      ]
    },
    {
      "cell_type": "code",
      "execution_count": 315,
      "metadata": {
        "id": "E53U_X22p088",
        "colab": {
          "base_uri": "https://localhost:8080/"
        },
        "outputId": "95f3be75-577a-4a87-e0bc-5ce910e23e78"
      },
      "outputs": [
        {
          "output_type": "execute_result",
          "data": {
            "text/plain": [
              "[\"**Summary of the Debate:**\\n\\nThe debate between Joe Biden and Donald Trump centered on the United States' involvement in Ukraine's conflict with Russia. Here are the key points:\\n\\n**Joe Biden's Argument:**\\n\\n* The invasion of Ukraine by Russia is a clear violation of sovereignty and international law.\\n* The US has a moral obligation to support Ukraine in defending its freedom.\\n* The US is not escalating the conflict, but rather defending Ukraine's sovereignty.\\n\\n**Donald Trump's Argument:**\\n\\n* The US has a history of getting involved in costly and unsuccessful wars (e.g., Afghanistan and Iraq).\\n* The US should not get involved in another potentially endless and expensive conflict.\\n\\n**Main Points of Agreement and Disagreement:**\\n\\n* Both debaters agree that the US should be cautious about getting involved in foreign conflicts.\\n* They disagree on the moral obligation to support Ukraine and the potential consequences of US involvement.\\n\\n**Objective Overview:**\\n\\nThe debate highlights the differing views on US foreign policy and the role of the country in global conflicts. Biden emphasizes the importance of defending sovereignty and international law, while Trump cautions against getting involved in another costly and potentially unsuccessful war.\",\n",
              " '**Summary of the Debate:**\\n\\n**Topic:** US involvement in Ukraine\\n\\n**Pro Debator (Joe Biden):**\\n\\n* Main argument: The US should support Ukraine against Russian invasion to defend a sovereign nation.\\n* Key points:\\n\\t+ Unlike Afghanistan and Iraq, this is not an \"endless war\" as no US troops are being sent to the ground.\\n\\t+ The US is providing support to a country fighting for its survival.\\n\\n**Anti Debator (Donald Trump):**\\n\\n* Main argument: The US should negotiate a peaceful settlement in Ukraine to save American lives and money.\\n* Key points:\\n\\t+ Criticizes the handling of Afghanistan and Iraq under the Biden administration.\\n\\t+ Proposes a simple, winning strategy of negotiation to resolve the conflict.\\n\\n**Points of Agreement:**\\n\\n* Both debators agree that the US should not engage in an \"endless war\".\\n\\n**Points of Disagreement:**\\n\\n* The best approach to resolve the conflict in Ukraine (support vs. negotiation).\\n* The handling of past conflicts (Afghanistan and Iraq) under the Biden administration.',\n",
              " '**Summary of the Debate:**\\n\\n**Topic:** Foreign Policy, specifically conflicts in Afghanistan, Iraq, and Ukraine.\\n\\n**Key Points:**\\n\\n**Pro Debator (Joe Biden):**\\n\\n1. Criticizes Donald Trump\\'s simplistic approach to conflict resolution, stating it ignores decades-long complexities.\\n2. Argues that Trump\\'s plan for a peaceful settlement in Ukraine lacks concrete steps.\\n3. Implies that Trump\\'s strategy is unrealistic and amounts to \"wishful thinking.\"\\n\\n**Anti Debator (Donald Trump):**\\n\\n1. Dismisses Joe Biden\\'s approach as an \"empty promise\" and criticizes his past failures in Afghanistan and Iraq.\\n2. Questions Biden\\'s ability to negotiate effectively, citing his past record.\\n3. Demands a detailed plan from Biden for resolving conflicts.\\n\\n**Main Points of Agreement and Disagreement:**\\n\\n* Both debators agree that conflict resolution is a complex issue.\\n* They disagree on the effectiveness of their respective approaches, with Biden criticizing Trump\\'s simplicity and Trump questioning Biden\\'s ability to negotiate.\\n\\n**Objective Overview:**\\n\\nThe debate highlights the differing approaches of the two debators to conflict resolution. Biden emphasizes the complexity of the issues and the need for a nuanced approach, while Trump advocates for a more straightforward, albeit vague, plan. Ultimately, the debate centers on the credibility and effectiveness of each debator\\'s strategy.']"
            ]
          },
          "metadata": {},
          "execution_count": 315
        }
      ],
      "source": [
        "result['debate_history']"
      ]
    },
    {
      "cell_type": "code",
      "source": [
        "result['winner']"
      ],
      "metadata": {
        "colab": {
          "base_uri": "https://localhost:8080/",
          "height": 126
        },
        "id": "CCr-7zo95Tea",
        "outputId": "0eb61208-9ebc-4df8-f640-120a4205d4bb"
      },
      "execution_count": 316,
      "outputs": [
        {
          "output_type": "execute_result",
          "data": {
            "text/plain": [
              "'Based on the debate history, I conclude that Joe Biden presented more logical and stronger arguments than Donald Trump. Here\\'s my reasoning:\\n\\n**Logical Consistency:** Biden\\'s argumentation follows a clear and consistent line of reasoning. He emphasizes the importance of defending sovereignty and international law, while also acknowledging the need for caution in getting involved in foreign conflicts. Trump\\'s argument, on the other hand, is inconsistent in that he criticizes Biden\\'s approach as an \"empty promise\" while proposing a vague and simplistic plan for conflict resolution.\\n\\n**Evidence and Support:** Biden provides more evidence and support for his claims. For example, he points out that the US is not escalating the conflict in Ukraine, but rather defending Ukraine\\'s sovereignty. He also highlights the difference between the Ukraine conflict and previous wars in Afghanistan and Iraq, where US troops were sent to the ground. Trump, on the other hand, relies on general criticisms of Biden\\'s past record without providing concrete evidence or specific examples.\\n\\n**Rebuttals and Counterarguments:** Biden effectively addresses Trump\\'s arguments by criticizing his simplistic approach to conflict resolution and pointing out the lack of concrete steps in his plan. Trump\\'s rebuttals, on the other hand, are largely based on personal attacks and criticisms of Biden\\'s past record, rather than addressing the substance of his arguments.\\n\\n**Clarity and Persuasiveness:** Biden\\'s communication is clear, concise, and persuasive. He effectively conveys his points to the audience and highlights the complexities of conflict resolution. Trump\\'s communication, on the other hand, is often vague and simplistic, relying on general statements and personal attacks.\\n\\n**Overall Impact:** Biden\\'s arguments have a greater overall impact and persuade me more effectively. He presents a nuanced and thoughtful approach to conflict resolution, acknowledging the complexities of the issue while also emphasizing the importance of defending sovereignty and international law. Trump\\'s arguments, on the other hand, are largely based on simplistic and vague proposals that lack concrete evidence and support.\\n\\nIn summary, I chose Joe Biden as the winner because he presents a more logical and consistent argumentation, provides more evidence and support for his claims, effectively addresses Trump\\'s arguments, and communicates his points clearly and persuasively.'"
            ],
            "application/vnd.google.colaboratory.intrinsic+json": {
              "type": "string"
            }
          },
          "metadata": {},
          "execution_count": 316
        }
      ]
    },
    {
      "cell_type": "code",
      "source": [
        "from langchain_community.retrievers import WikipediaRetriever\n",
        "\n",
        "retriever = WikipediaRetriever()\n",
        "docs = retriever.invoke(\"Presidency of Joe Biden and 2022 Russian invasion of Ukraine\")\n",
        "docs"
      ],
      "metadata": {
        "id": "kafddUtFTkWv",
        "colab": {
          "base_uri": "https://localhost:8080/"
        },
        "outputId": "786f9f71-2f14-492c-9b8e-4b801faf3c5c"
      },
      "execution_count": null,
      "outputs": [
        {
          "output_type": "execute_result",
          "data": {
            "text/plain": [
              "[Document(metadata={'title': 'Presidency of Joe Biden', 'summary': 'Joe Biden\\'s tenure as the 46th president of the United States began with his inauguration on January 20, 2021. Biden, a member of the Democratic Party who previously served as vice president for two terms under President Barack Obama from 2009 to 2017, took office after his victory in the 2020 presidential election over the incumbent president, Donald Trump of the Republican Party. Upon his inauguration, he became the oldest president in American history, breaking the record set by Ronald Reagan. Biden entered office amid the COVID-19 pandemic, an economic crisis, and increased political polarization. He withdrew his bid for a second term in the 2024 presidential election due to low popularity and concerns over his age and health. He is to be succeeded by Trump in January 2025, who won the aforementioned election.\\nDay one actions of his presidency included restoring U.S. participation in the Paris Agreement, revoking the permit for the Keystone XL pipeline and halting funding for Trump\\'s border wall. On his second day, he issued a series of executive orders to reduce the impact of COVID-19, including invoking the Defense Production Act of 1950, and set an early goal of achieving one hundred million COVID-19 vaccinations in the United States in his first 100 days. The first major legislation signed into law by Biden was the American Rescue Plan Act of 2021, a $1.9 trillion stimulus bill that temporarily established expanded unemployment insurance and sent $1,400 stimulus checks to most Americans in response to continued economic pressure from COVID-19. He signed the bipartisan Infrastructure Investment and Jobs Act, a ten-year plan brokered by Biden alongside Democrats and Republicans in Congress to invest in American roads, bridges, public transit, ports and broadband access.\\nBiden proposed a significant expansion of the U.S. social safety net through the Build Back Better Act, but those efforts, along with voting rights legislation, failed in Congress. In August 2022, Biden signed the Inflation Reduction Act of 2022, a domestic appropriations bill that included some of the provisions of the Build Back Better Act after the entire bill failed to pass. It included significant federal investment in climate and domestic clean energy production, tax credits for solar panels, electric cars and other home energy programs as well as a three-year extension of Affordable Care Act subsidies, an insulin price cap, and a provision allowing Medicare to negotiate drug prices. In late 2022, Biden signed the Respect for Marriage Act, which repealed the Defense of Marriage Act and codified same-sex and interracial marriage in the United States. Other domestic legislation signed during his term included the Bipartisan Safer Communities Act, the first major federal gun control law in nearly three decades; the CHIPS and Science Act, bolstering the semiconductor and manufacturing industry; the Honoring our PACT Act, expanding health care for US veterans; the Electoral Count Reform and Presidential Transition Improvement Act; and the Juneteenth National Independence Day Act, making Juneteenth a federal holiday in the United States. He appointed Ketanji Brown Jackson to the U.S. Supreme Court—the first Black woman to serve on the court. In response to the debt-ceiling crisis of 2023, Biden negotiated and signed the Fiscal Responsibility Act of 2023, which restrains federal spending for fiscal years 2024 and 2025, implements minor changes to SNAP and TANF, includes energy permitting reform, claws back some IRS funding and unspent money for COVID-19, and suspends the debt ceiling to January 1, 2025. He established the American Climate Corps and created the first ever White House Office of Gun Violence Prevention. On September 26, 2023, Biden visited a United Auto Workers picket line during the 2023 United Auto Workers strike, making him the first US president to visit one.\\nThe foreign policy goal of the Biden administration is to restore the US to a \"position of trusted leadership\" among global democracies in order to address the challenges posed by Russia and China. Biden signed AUKUS, an international security alliance together with Australia and the United Kingdom. He supported the expansion of NATO with the additions of Finland and Sweden. Biden approved a raid which led to the death of Abu Ibrahim al-Hashimi al-Qurashi, the leader of the Islamic State, and approved a drone strike which killed Ayman Al Zawahiri, leader of Al-Qaeda. He completed the withdrawal of U.S. military forces from Afghanistan, declaring an end to nation-building efforts and shifting U.S. foreign policy toward strategic competition with China and, to a lesser extent, Russia. However, during the withdrawal, the Afghan government collapsed and the Taliban seized control, leading to Biden receiving bipartisan criticism. He responded to the Russian invasion of Ukraine by imposing sanctions on Russia as well as providing Ukraine with over $100 billion in combined military, economic, and humanitarian aid. During the Israel–Hamas war, Biden condemned the actions of Hamas and other Palestinian militants as terrorism and announced American military support for Israel; he also sent humanitarian aid to the Gaza Strip and brokered a four-day temporary pause and hostage exchange. Biden negotiated and oversaw the 2024 Ankara prisoner exchange, the largest prisoner exchange since the end of the Cold War, involving the release of twenty-six individuals, including American journalist Evan Gershkovich and former United States Marine Paul Whelan.\\nBiden began his term with over 50% approval ratings; however, these fell significantly after the withdrawal from Afghanistan, and remained low as the country experienced high inflation and rising gas prices, even as they would eventually reduce over his presidency. His age and mental fitness remained a frequent subject of discussion throughout his presidency, ultimately culminating in his late decision to not seek re-election. Despite this, Biden oversaw the strongest economic recovery of any G7 nation post COVID-19 and one of the strongest economic recoveries in United States history, breaking a 70-year record for low unemployment, and the creation of over 16 million new jobs, the most of any single term president.', 'source': 'https://en.wikipedia.org/wiki/Presidency_of_Joe_Biden'}, page_content='Joe Biden\\'s tenure as the 46th president of the United States began with his inauguration on January 20, 2021. Biden, a member of the Democratic Party who previously served as vice president for two terms under President Barack Obama from 2009 to 2017, took office after his victory in the 2020 presidential election over the incumbent president, Donald Trump of the Republican Party. Upon his inauguration, he became the oldest president in American history, breaking the record set by Ronald Reagan. Biden entered office amid the COVID-19 pandemic, an economic crisis, and increased political polarization. He withdrew his bid for a second term in the 2024 presidential election due to low popularity and concerns over his age and health. He is to be succeeded by Trump in January 2025, who won the aforementioned election.\\nDay one actions of his presidency included restoring U.S. participation in the Paris Agreement, revoking the permit for the Keystone XL pipeline and halting funding for Trump\\'s border wall. On his second day, he issued a series of executive orders to reduce the impact of COVID-19, including invoking the Defense Production Act of 1950, and set an early goal of achieving one hundred million COVID-19 vaccinations in the United States in his first 100 days. The first major legislation signed into law by Biden was the American Rescue Plan Act of 2021, a $1.9 trillion stimulus bill that temporarily established expanded unemployment insurance and sent $1,400 stimulus checks to most Americans in response to continued economic pressure from COVID-19. He signed the bipartisan Infrastructure Investment and Jobs Act, a ten-year plan brokered by Biden alongside Democrats and Republicans in Congress to invest in American roads, bridges, public transit, ports and broadband access.\\nBiden proposed a significant expansion of the U.S. social safety net through the Build Back Better Act, but those efforts, along with voting rights legislation, failed in Congress. In August 2022, Biden signed the Inflation Reduction Act of 2022, a domestic appropriations bill that included some of the provisions of the Build Back Better Act after the entire bill failed to pass. It included significant federal investment in climate and domestic clean energy production, tax credits for solar panels, electric cars and other home energy programs as well as a three-year extension of Affordable Care Act subsidies, an insulin price cap, and a provision allowing Medicare to negotiate drug prices. In late 2022, Biden signed the Respect for Marriage Act, which repealed the Defense of Marriage Act and codified same-sex and interracial marriage in the United States. Other domestic legislation signed during his term included the Bipartisan Safer Communities Act, the first major federal gun control law in nearly three decades; the CHIPS and Science Act, bolstering the semiconductor and manufacturing industry; the Honoring our PACT Act, expanding health care for US veterans; the Electoral Count Reform and Presidential Transition Improvement Act; and the Juneteenth National Independence Day Act, making Juneteenth a federal holiday in the United States. He appointed Ketanji Brown Jackson to the U.S. Supreme Court—the first Black woman to serve on the court. In response to the debt-ceiling crisis of 2023, Biden negotiated and signed the Fiscal Responsibility Act of 2023, which restrains federal spending for fiscal years 2024 and 2025, implements minor changes to SNAP and TANF, includes energy permitting reform, claws back some IRS funding and unspent money for COVID-19, and suspends the debt ceiling to January 1, 2025. He established the American Climate Corps and created the first ever White House Office of Gun Violence Prevention. On September 26, 2023, Biden visited a United Auto Workers picket line during the 2023 United Auto Workers strike, making him the first US president to visit one.\\nThe foreign policy goal of the Biden administration is to restore the US to a \"p'),\n",
              " Document(metadata={'title': 'United States and the Russian invasion of Ukraine', 'summary': \"The United States has supported Ukraine during the ongoing Russian invasion of Ukraine. After it began on 24 February 2022, President Joe Biden condemned the invasion, provided military, financial and humanitarian aid to Ukraine, and imposed sanctions against Russia and Belarus.\\nThe United States has provided more than half of all military aid to Ukraine, and has set aside $175 billion to help the country. Most of this money stays in the US economy and supports US industries, subsidizing the production of weapons and military equipment in at least 71 American cities. There are several ways by which the US provides military and financial aid to Ukraine. Most of the military aid is old American weaponry and equipment from US reserve stockpiles; Presidential Drawdown Authority (PDA) allows the president to order the sending of this weaponry. American military contractors are then funded to make weapons to re-fill stockpiles. The Ukraine Security Assistance Initiative (USAI) funds the US Department of Defense to help train and advise the Ukrainian military, as well as to procure weaponry and equipment. The State Department's Foreign Military Financing (FMF) program helps allies like Ukraine buy weaponry and equipment from American manufacturers. Lastly, the US also sends some direct financial aid to the Ukrainian government through the United States Agency for International Development (USAID).\\nThe Biden administration also imposed limits on the supply and use of some American weapons. For more than two years, it forbade Ukraine to fire American weapons, like the Army Tactical Missile System (ATACMS), at military targets inside Russia. From June 2024, it allowed Ukraine to strike inside Russia with US-supplied weapons, but only near the border in self-defense.\\n\\n\", 'source': 'https://en.wikipedia.org/wiki/United_States_and_the_Russian_invasion_of_Ukraine'}, page_content='The United States has supported Ukraine during the ongoing Russian invasion of Ukraine. After it began on 24 February 2022, President Joe Biden condemned the invasion, provided military, financial and humanitarian aid to Ukraine, and imposed sanctions against Russia and Belarus.\\nThe United States has provided more than half of all military aid to Ukraine, and has set aside $175 billion to help the country. Most of this money stays in the US economy and supports US industries, subsidizing the production of weapons and military equipment in at least 71 American cities. There are several ways by which the US provides military and financial aid to Ukraine. Most of the military aid is old American weaponry and equipment from US reserve stockpiles; Presidential Drawdown Authority (PDA) allows the president to order the sending of this weaponry. American military contractors are then funded to make weapons to re-fill stockpiles. The Ukraine Security Assistance Initiative (USAI) funds the US Department of Defense to help train and advise the Ukrainian military, as well as to procure weaponry and equipment. The State Department\\'s Foreign Military Financing (FMF) program helps allies like Ukraine buy weaponry and equipment from American manufacturers. Lastly, the US also sends some direct financial aid to the Ukrainian government through the United States Agency for International Development (USAID).\\nThe Biden administration also imposed limits on the supply and use of some American weapons. For more than two years, it forbade Ukraine to fire American weapons, like the Army Tactical Missile System (ATACMS), at military targets inside Russia. From June 2024, it allowed Ukraine to strike inside Russia with US-supplied weapons, but only near the border in self-defense.\\n\\n\\n== History ==\\nAs it has been reported, the Biden administration got information on a potential Russian invasion as early as March 2021, at the time of large Russian military exercises. The US attempted to deter Russia from invading, among other, by proposing US - Russia summit, and meeting with Russian officials in November 2021 and January 2022. The efforts failed.\\n\\n\\n== Strategy ==\\nSince the start of the Russian invasion in 2022, US President Joe Biden has articulated a cautious US strategy towards the war. The goals were to mitigate the risk of escalation into a direct US-Russia confrontation while hindering Russia\\'s military success. Biden administration emphasized sustained support \"for as long as it takes\" to assist Ukraine\\'s defense efforts. However, these are coupled with a focus on avoiding actions that could be construed as provocative by Russia and potentially leading to a wider war.\\nThis cautious approach prioritizes limiting US risks of getting militarily involved while leaving the primary burden of repelling the invasion on Ukraine. Political scientist Kori Schake characterizes this strategy as exhibiting a \"vulnerability of US support\", arguing that the self-imposed limitations on US assistance, compared to Russia\\'s aggression not limited by any boundaries, create a significant strategic advantage for Russia.\\nWhile this US strategy has been static for 2 years of war, the situation on the battlefield was changing with time. Eventually, static US strategy encountered its limitations. As the war enters its third year (as of April 2024), the battlefield situation evolved towards a stalemate and towards increased concerns that a persistent and determined Russian offensive could ultimately achieve its objectives.\\n\\n\\n== Aid to Ukraine ==\\nAfter the start of Russian invasion, US president Joe Biden has committed to aid Ukraine for \"as long as it takes\". However US strategy\\'s goals, aiding Ukraine and at the same time preventing Russian escalation, were contradicting each other. This contradiction \"produced a repetitive cycle of Ukraine pleading for systems Washington denied, allies (particularly the United Kingdom) moving forward without the United States, the Biden ad'),\n",
              " Document(metadata={'title': 'Timeline of the Joe Biden presidency (2022 Q1)', 'summary': 'The following is a timeline of the presidency of Joe Biden during the first quarter of 2022, from January 1 to March 31, 2022. To navigate between quarters, see timeline of the Joe Biden presidency.', 'source': 'https://en.wikipedia.org/wiki/Timeline_of_the_Joe_Biden_presidency_(2022_Q1)'}, page_content='The following is a timeline of the presidency of Joe Biden during the first quarter of 2022, from January 1 to March 31, 2022. To navigate between quarters, see timeline of the Joe Biden presidency.\\n\\n\\n== Timeline ==\\n\\n\\n=== January 2022 ===\\n\\n\\n=== February 2022 ===\\n\\n\\n=== March 2022 ===\\n\\n\\n== See also ==\\nPresidential transition of Joe Biden\\nList of executive actions by Joe Biden\\nList of presidential trips made by Joe Biden (international trips)\\nTimeline of the 2020 United States presidential election\\n\\n\\n== References ==')]"
            ]
          },
          "metadata": {},
          "execution_count": 93
        }
      ]
    },
    {
      "cell_type": "code",
      "source": [],
      "metadata": {
        "id": "t5gF0Gn2QdEt"
      },
      "execution_count": null,
      "outputs": []
    }
  ],
  "metadata": {
    "colab": {
      "provenance": []
    },
    "kernelspec": {
      "display_name": "Python 3",
      "name": "python3"
    },
    "language_info": {
      "name": "python"
    }
  },
  "nbformat": 4,
  "nbformat_minor": 0
}