{
  "nbformat": 4,
  "nbformat_minor": 0,
  "metadata": {
    "colab": {
      "provenance": []
    },
    "kernelspec": {
      "name": "python3",
      "display_name": "Python 3"
    },
    "language_info": {
      "name": "python"
    }
  },
  "cells": [
    {
      "cell_type": "code",
      "execution_count": 6,
      "metadata": {
        "id": "geqbxDKea8uf"
      },
      "outputs": [],
      "source": [
        "!pip install  --quiet langgraph\n",
        "!pip install  --quiet langchain-google-genai\n",
        "!pip install --quiet langchain\n",
        "!pip install --quiet tavily-python\n",
        "!pip install --quiet langchain_community\n",
        "!pip install --quiet wikipedia\n",
        "!pip install --quiet google-generativeai"
      ]
    },
    {
      "cell_type": "code",
      "source": [
        "from google.colab import userdata\n",
        "from IPython.display import Image, display, Markdown\n",
        "import textwrap\n",
        "import os\n",
        "import getpass\n",
        "\n",
        "from typing import Any, Annotated, List, TypedDict\n",
        "from pydantic import BaseModel, Field\n",
        "\n",
        "from langchain_google_genai import ChatGoogleGenerativeAI\n",
        "from langchain_core.messages import get_buffer_string, AIMessage, HumanMessage, SystemMessage\n",
        "from langchain_community.tools.tavily_search import TavilySearchResults\n",
        "from langchain_community.document_loaders import WikipediaLoader\n",
        "\n",
        "from langgraph.graph import MessagesState\n",
        "from langgraph.graph.state import StateGraph, END, START\n",
        "from langgraph.checkpoint.memory import MemorySaver\n",
        "from langgraph.graph.message import add_messages"
      ],
      "metadata": {
        "id": "LbeKuTKIb-9y"
      },
      "execution_count": 38,
      "outputs": []
    },
    {
      "cell_type": "code",
      "source": [
        "google_api_key = userdata.get('GOOGLE_API_KEY')\n",
        "\n",
        "model = ChatGoogleGenerativeAI(model=\"gemini-1.5-flash\",\n",
        "                              api_key=google_api_key\n",
        "                              )\n",
        "\n",
        "# model.invoke(\"Test\")"
      ],
      "metadata": {
        "id": "HaLc7G7Bccnw"
      },
      "execution_count": 9,
      "outputs": []
    },
    {
      "cell_type": "code",
      "source": [
        "def _set_env(var: str):\n",
        "    if not os.environ.get(var):\n",
        "        os.environ[var] = getpass.getpass(f\"{var}: \")\n",
        "\n",
        "\n",
        "_set_env(\"TAVILY_API_KEY\")"
      ],
      "metadata": {
        "colab": {
          "base_uri": "https://localhost:8080/"
        },
        "id": "6CLl7rIMH_ij",
        "outputId": "92b8e8e6-3ef4-4b9f-9572-4c487397d6b7"
      },
      "execution_count": 41,
      "outputs": [
        {
          "name": "stdout",
          "output_type": "stream",
          "text": [
            "TAVILY_API_KEY: ··········\n"
          ]
        }
      ]
    },
    {
      "cell_type": "code",
      "source": [
        "memory = MemorySaver()\n",
        "\n",
        "class State(TypedDict):\n",
        "  topic: str\n",
        "  pro_debator: str\n",
        "  anti_debator: str\n",
        "  greetings: str\n",
        "  analysis: str\n",
        "  pro_debator_response: str\n",
        "  anti_debator_response: str\n",
        "  context: Annotated[list, add_messages]\n",
        "  debate: Annotated[list, add_messages]\n",
        "  debate_history: List[str]\n",
        "  iteration: int\n",
        "  max_iteration: int\n",
        "\n",
        "class SearchQuery(BaseModel):\n",
        "  search_query: str = Field(description=\"The search query for retrieval\")\n",
        "\n",
        "structure_llm = model.with_structured_output(SearchQuery)"
      ],
      "metadata": {
        "id": "wQinv6poc4bB"
      },
      "execution_count": 141,
      "outputs": []
    },
    {
      "cell_type": "code",
      "source": [
        "def greeting_node(state: State):\n",
        "  \"\"\"LangGraph node that greets the debators and introduces them\"\"\"\n",
        "  print(\"Greeting Node\")\n",
        "  topic = state['topic']\n",
        "  pro_debator = state['pro_debator']\n",
        "  anti_debator = state['anti_debator']\n",
        "\n",
        "  prompt = f\"\"\"You are hosting a debate between {pro_debator} and {anti_debator}\n",
        "            on the topic {topic}. {pro_debator} is pro while {anti_debator} is\n",
        "            against. You have to introduce the topic and debators to the audience.\n",
        "            Your response should be short and conversational\n",
        "            \"\"\"\n",
        "\n",
        "  greetings = model.invoke(prompt).content\n",
        "  return {\"greetings\": greetings}\n",
        "\n",
        "\n",
        "def analyzer_node(state: State):\n",
        "    \"\"\"LangGraph node that analyzes the latest argument for web search\"\"\"\n",
        "    print(\"Analyzer Node\")\n",
        "    topic = state['topic']\n",
        "    debate = state['debate']\n",
        "    pro_debator = state['pro_debator']\n",
        "    anti_debator = state['anti_debator']\n",
        "    last_message = debate[-1]\n",
        "    analysis_prompt = None\n",
        "    if isinstance(last_message, HumanMessage):\n",
        "        # Generate a prompt for a HumanMessage (pro-debator)\n",
        "        print(\"Analyzing for Anti Debator\")\n",
        "        analysis_prompt = f\"\"\"\n",
        "        Analyze the latest argument made by the pro-debator {pro_debator}  on the topic \"{topic}\".\n",
        "        Focus on its strengths, weaknesses, and logical coherence. Write a short and concise\n",
        "        analytical guidance that can be used for web search to help {anti_debator} better answer the argument\n",
        "        and more completely support their stance on the topic {topic}. Keep the analysis as short as possible\n",
        "        without losing quality.\n",
        "        **Pro-Debator's Argument:**\n",
        "        {last_message.content}\n",
        "        \"\"\"\n",
        "\n",
        "    elif isinstance(last_message, AIMessage):\n",
        "        # Generate a prompt for an AIMessage (anti-debator)\n",
        "        print(\"Analyzing for Pro Debator\")\n",
        "        analysis_prompt = f\"\"\"\n",
        "        Analyze the latest counterargument made by the anti-debator {anti_debator} on the topic \"{topic}\".\n",
        "        Identify key points of contention and evaluate their validity.  Write a short and concise\n",
        "        analytical guidance that can be used for web search to help {anti_debator} to effectively refute these arguments\n",
        "        and more completely support their stance on the topic {topic}. Keep the analysis as short as possible\n",
        "        without losing quality.\n",
        "        **Anti-Debator's Counterargument:**\n",
        "        {last_message.content}\n",
        "        \"\"\"\n",
        "\n",
        "    analysis = model.invoke(analysis_prompt).content\n",
        "    return {\"analysis\": analysis}\n",
        "\n",
        "\n",
        "def search_web(state: State):\n",
        "    \"\"\" Retrieve docs from web search \"\"\"\n",
        "    print(\"Searching web\")\n",
        "    # Search query\n",
        "    analysis = state['analysis']\n",
        "    search_query = structure_llm.invoke([analysis]+state['debate'])\n",
        "    # Search\n",
        "    tavily_search = TavilySearchResults(max_results = 2)\n",
        "    search_docs = tavily_search.invoke(search_query.search_query)\n",
        "     # Format\n",
        "    formatted_search_docs = \"\\n\\n---\\n\\n\".join(\n",
        "        [\n",
        "            f'<Document href=\"{doc[\"url\"]}\"/>\\n{doc[\"content\"]}\\n</Document>'\n",
        "            for doc in search_docs\n",
        "        ]\n",
        "    )\n",
        "    return {\"context\": [formatted_search_docs]}\n",
        "\n",
        "\n",
        "def search_wikipedia(state: State):\n",
        "    \"\"\" Retrieve docs from wikipedia \"\"\"\n",
        "    \"Searching Wikipedia\"\n",
        "    # Search query\n",
        "    analysis = state['analysis']\n",
        "    search_query = structure_llm.invoke([analysis]+state['debate'])\n",
        "    # Search\n",
        "    search_docs = WikipediaLoader(query=search_query.search_query,\n",
        "                                  load_max_docs=1).load()\n",
        "     # Format\n",
        "    formatted_search_docs = \"\\n\\n---\\n\\n\".join(\n",
        "        [\n",
        "            f'<Document source=\"{doc.metadata[\"source\"]}\" page=\"{doc.metadata.get(\"page\", \"\")}\"/>\\n{doc.page_content}\\n</Document>'\n",
        "            for doc in search_docs\n",
        "        ]\n",
        "    )\n",
        "    return {\"context\": [formatted_search_docs]}\n",
        "\n",
        "\n",
        "def router(state: State):\n",
        "    \"\"\"LangGraph node that routes to the appropriate search function\"\"\"\n",
        "    debate_history = state[\"debate_history\"]\n",
        "    if debate_history == []:\n",
        "        return \"Pro Debator\"\n",
        "    else:\n",
        "      return \"Analyzer\"\n",
        "\n",
        "def iteration_router(state: State):\n",
        "    \"\"\"Routes the flow based on the current iteration and max_iteration\"\"\"\n",
        "    if state['iteration'] <= state['max_iteration']:\n",
        "        # Continue the debate by going back to the Analyzer node\n",
        "        return \"Analyzer\"\n",
        "    else:\n",
        "        # End the debate\n",
        "        return END\n",
        "\n",
        "def analyzer_router(state: State):\n",
        "    \"\"\"Function that routes to the appropriate next node\"\"\"\n",
        "    debate = state['debate']\n",
        "    last_message = debate[-1]\n",
        "    if isinstance(last_message, AIMessage):\n",
        "        return \"Pro Debator\"  # Pro Debator responds to the anti-debator's argument\n",
        "    else:\n",
        "        return \"Anti Debator\"  # Anti Debator responds to the pro-debator's argument\n"
      ],
      "metadata": {
        "id": "6WwmmYvGeA8w"
      },
      "execution_count": 142,
      "outputs": []
    },
    {
      "cell_type": "code",
      "source": [],
      "metadata": {
        "id": "-Cf1NDLPQeDt"
      },
      "execution_count": 142,
      "outputs": []
    },
    {
      "cell_type": "code",
      "source": [
        "from langchain_core.messages import HumanMessage\n",
        "\n",
        "def pro_debator_node(state: State):\n",
        "    \"\"\"LangGraph node that represents the pro debator\"\"\"\n",
        "\n",
        "    print(\"Pro Debator Node\")\n",
        "\n",
        "    topic = state['topic']\n",
        "    anti_debator_response = state['anti_debator_response']\n",
        "    pro_debator = state['pro_debator']\n",
        "    anti_debator = state['anti_debator']\n",
        "    debate_history = state['debate_history']\n",
        "    debate = state['debate']\n",
        "\n",
        "    if anti_debator_response is None and debate == []:\n",
        "        prompt_template = \"\"\"\n",
        "            You are {pro_debator}, a pro debator on the topic of {topic} having a debate with {anti_debator}.\n",
        "            Your goal is to present compelling arguments in favor of {topic} while maintaining the persona of {pro_debator}.\n",
        "            Ensure your responses are coherent, logical, and persuasive.\n",
        "            Keep the persona of {pro_debator} throughout the entire conversation.\n",
        "            Your responses should be relevant to the current stage of the debate.\n",
        "            You can refute the other debator's arguments and present your own supporting evidence for {topic}.\n",
        "            Do not deviate from your persona. Respond concisely and your response must be less than 4 sentences.\n",
        "        \"\"\"\n",
        "        system_message = prompt_template.format(topic=topic, pro_debator=pro_debator, anti_debator=anti_debator)\n",
        "        pro_debator_response_content = model.invoke(system_message).content\n",
        "    else:\n",
        "      context = state['context']\n",
        "      prompt_template = \"\"\"\n",
        "          You are a professional debater, embodying the persona of {pro_debator}. Your goal is to convincingly argue the affirmative side of the debate topic: \"{topic}\".\n",
        "          You must maintain your assigned persona throughout the debate and ensure that your arguments align with it.\n",
        "          Remember the following:\n",
        "          1. Respond to the latest argument of the anti-debator provided below, ensuring your response directly addresses their points.\n",
        "          2. Consider the context of the debate history {debate_history} and data gathered from web search {context}, building upon your\n",
        "          previous arguments and refuting the anti-debator's counterarguments effectively.\n",
        "          3. Use eloquent and persuasive language, demonstrating your mastery of the topic and your persona.\n",
        "          4. Avoid making factual errors or inconsistencies that might damage your credibility.\n",
        "          5. Response should be less than 5 sentences\n",
        "          **Debate History:**\n",
        "          {debate_history}\n",
        "          **Latest Anti-Debator Argument:**\n",
        "          {anti_debator_response}\n",
        "          **Your Response (Pro Debator):**\n",
        "      \"\"\"\n",
        "      system_message = prompt_template.format(\n",
        "          topic=topic,\n",
        "          pro_debator=pro_debator,\n",
        "          anti_debator=anti_debator,\n",
        "          debate_history=debate_history,\n",
        "          anti_debator_response=anti_debator_response,\n",
        "          context=context\n",
        "      )\n",
        "      pro_debator_response_content = model.invoke(system_message).content\n",
        "\n",
        "    # Create a HumanMessage with the response content and assign a name\n",
        "    pro_debator_response = HumanMessage(\n",
        "        content=f\"\"\"{pro_debator}: {pro_debator_response_content}\"\"\",\n",
        "        name=\"pro_response\"\n",
        "    )\n",
        "\n",
        "    debate.append(pro_debator_response)\n",
        "    return {\"pro_debator_response\": pro_debator_response, \"debate\": debate}\n"
      ],
      "metadata": {
        "id": "I22jJGnD8k3T"
      },
      "execution_count": 155,
      "outputs": []
    },
    {
      "cell_type": "code",
      "source": [],
      "metadata": {
        "id": "uq0TTZCHQwHs"
      },
      "execution_count": 155,
      "outputs": []
    },
    {
      "cell_type": "code",
      "source": [],
      "metadata": {
        "id": "yZSQ7xFsQfax"
      },
      "execution_count": 155,
      "outputs": []
    },
    {
      "cell_type": "code",
      "source": [
        "from langchain_core.messages import HumanMessage\n",
        "\n",
        "def anti_debator_node(state: State):\n",
        "    \"\"\"LangGraph node that represents the anti debator\"\"\"\n",
        "    print(\"Anti Debator Node\")\n",
        "    topic = state['topic']\n",
        "    anti_debator_response = state['anti_debator_response']\n",
        "    pro_debator = state['pro_debator']\n",
        "    anti_debator = state['anti_debator']\n",
        "    debate_history = state['debate_history']\n",
        "    debate = state['debate']\n",
        "    context = state['context']\n",
        "\n",
        "    prompt_template = prompt_template = \"\"\"\n",
        "            You are {anti_debator}, an anti debator on the topic of {topic} having a debate with {pro_debator}.\n",
        "            Your goal is to present compelling arguments against {pro_debator_response} on topic {topic} while maintaining the persona of {anti_debator}.\n",
        "            Ensure your responses are coherent, logical, and persuasive.\n",
        "            Keep the persona of {anti_debator} throughout the entire conversation.\n",
        "            Your responses should be relevant to the current stage of the debate.\n",
        "            You can refute the other debator's arguments and present your own supporting evidence against {topic}\n",
        "            using the context {context} and history of debate {debate_history}.\n",
        "            Do not deviate from your persona. Respond concisely in no more than 5 sentences.\n",
        "        \"\"\"\n",
        "    system_message = prompt_template.format(\n",
        "        topic=topic,\n",
        "        pro_debator=pro_debator,\n",
        "        pro_debator_response=anti_debator_response,\n",
        "        anti_debator=anti_debator,\n",
        "        debate_history=debate_history,\n",
        "        anti_debator_response=anti_debator_response,\n",
        "        context=context\n",
        "    )\n",
        "    pro_debator_response_content = model.invoke(system_message).content\n",
        "\n",
        "    # Create a HumanMessage with the response content and assign a name\n",
        "    anti_debator_response = AIMessage(\n",
        "        content=f\"\"\"{anti_debator}: {pro_debator_response_content}\"\"\",\n",
        "        name=\"pro_response\"\n",
        "    )\n",
        "\n",
        "    debate.append(anti_debator_response)\n",
        "    return {\"anti_debator_response\": anti_debator_response, \"debate\": debate}\n"
      ],
      "metadata": {
        "id": "wJGrpaQfQfI3"
      },
      "execution_count": 156,
      "outputs": []
    },
    {
      "cell_type": "code",
      "source": [],
      "metadata": {
        "id": "BhO8NyCwQg7e"
      },
      "execution_count": 156,
      "outputs": []
    },
    {
      "cell_type": "code",
      "source": [],
      "metadata": {
        "id": "Sm5Cm23LapZY"
      },
      "execution_count": 156,
      "outputs": []
    },
    {
      "cell_type": "code",
      "source": [
        "builder = StateGraph(State)\n",
        "\n",
        "# Add nodes\n",
        "builder.add_node(\"Greetings\", greeting_node)\n",
        "builder.add_node(\"Pro Debator\", pro_debator_node)\n",
        "builder.add_node(\"Analyzer\", analyzer_node)\n",
        "builder.add_node(\"Search Web\", search_web)\n",
        "builder.add_node(\"Search Wikipedia\", search_wikipedia)\n",
        "builder.add_node(\"Anti Debator\", anti_debator_node)\n",
        "\n",
        "# Add edges\n",
        "builder.add_edge(START, \"Greetings\")\n",
        "builder.add_conditional_edges(\"Greetings\", router, ['Analyzer', 'Pro Debator'])\n",
        "builder.add_edge(\"Analyzer\", \"Search Web\")\n",
        "builder.add_edge(\"Analyzer\", \"Search Wikipedia\")\n",
        "builder.add_conditional_edges(\"Search Web\", analyzer_router, [\"Pro Debator\", \"Anti Debator\"])\n",
        "builder.add_conditional_edges(\"Search Wikipedia\", analyzer_router, [\"Pro Debator\", \"Anti Debator\"])\n",
        "builder.add_edge(\"Pro Debator\", \"Analyzer\")\n",
        "builder.add_edge(\"Anti Debator\", END)\n",
        "\n",
        "# Compile the graph\n",
        "debator = builder.compile(checkpointer=memory).with_config(run_name=\"Create podcast\")\n",
        "\n",
        "# Display the graph\n",
        "display(Image(debator.get_graph().draw_mermaid_png()))\n"
      ],
      "metadata": {
        "id": "K7VZ--S4uPrQ",
        "colab": {
          "base_uri": "https://localhost:8080/",
          "height": 548
        },
        "outputId": "e6671c64-4066-437a-de58-5dbac8c0c48a"
      },
      "execution_count": 157,
      "outputs": [
        {
          "output_type": "display_data",
          "data": {
            "image/png": "[encoded data removed]",
            "text/plain": [
              "<IPython.core.display.Image object>"
            ]
          },
          "metadata": {}
        }
      ]
    },
    {
      "cell_type": "code",
      "source": [
        "state = {\n",
        "    \"topic\": \"Ukraine War\",\n",
        "    \"pro_debator\": \"Joe Biden\",\n",
        "    \"anti_debator\": \"Donald Trump\",\n",
        "    \"greetings\": \"\",\n",
        "    \"analysis\": \"\",\n",
        "    \"pro_debator_response\": \"\",\n",
        "    \"anti_debator_response\": \"\",\n",
        "    \"context\": [],\n",
        "    \"debate\": [],\n",
        "    \"debate_history\": [],\n",
        "    \"iteration\": 0,\n",
        "    \"max_iteration\": 1\n",
        "}\n"
      ],
      "metadata": {
        "id": "Lg7mTyfHX1kD"
      },
      "execution_count": 158,
      "outputs": []
    },
    {
      "cell_type": "code",
      "source": [
        "thread = {\"configurable\": {\"thread_id\": \"1\"}}\n",
        "result = debator.invoke(state, thread)\n",
        "result"
      ],
      "metadata": {
        "id": "dgM_htTJu2kl",
        "colab": {
          "base_uri": "https://localhost:8080/"
        },
        "outputId": "0c135418-81ca-473c-bab8-ed5832ddee68"
      },
      "execution_count": 159,
      "outputs": [
        {
          "output_type": "stream",
          "name": "stdout",
          "text": [
            "Greeting Node\n",
            "Pro Debator Node\n",
            "Analyzer Node\n",
            "Analyzing for Anti Debator\n",
            "Searching web\n",
            "Anti Debator Node\n"
          ]
        },
        {
          "output_type": "execute_result",
          "data": {
            "text/plain": [
              "{'topic': 'Ukraine War',\n",
              " 'pro_debator': 'Joe Biden',\n",
              " 'anti_debator': 'Donald Trump',\n",
              " 'greetings': \"Good evening everyone!  Tonight, we've got a heavyweight debate on a critical issue: the war in Ukraine.  In this corner, championing continued support for Ukraine, we have President Joe Biden. And in the other corner, advocating a different approach, we have former President Donald Trump.  Let's hear their perspectives on this crucial conflict.  Gentlemen, the floor is yours.\\n\",\n",
              " 'analysis': '**Analysis of Biden\\'s Argument:**\\n\\n**Strengths:** Appeals to moral values (freedom, democracy), frames the issue as a global security concern, uses cost-benefit analysis (low cost, high risk of alternative).\\n\\n**Weaknesses:**  Vague on specifics of \"data showing remarkably low cost,\" relies on emotional appeals rather than concrete evidence of direct US national security threat, oversimplifies complex geopolitical factors.  The \"right thing to do\" is subjective and doesn\\'t address counterarguments regarding resource allocation or potential escalation.\\n\\n**Trump\\'s Counter-Argument Guidance (Web Search):**\\n\\nFocus web searches on:\\n\\n1. **Economic costs of Ukraine aid:** Search for analyses comparing US aid to Ukraine with domestic spending needs, potential inflation impact, and opportunity costs.  Look for data questioning Biden\\'s \"low cost\" claim.\\n2. **Limited US national security threat:** Find expert opinions and reports downplaying the direct threat to US national security from a Russian victory in Ukraine. Emphasize alternative interpretations of the conflict.\\n3. **Alternative foreign policy strategies:** Research articles and analyses on alternative approaches to resolving the conflict (negotiation, diplomacy, focusing on domestic issues).\\n4. **Evidence of corruption in Ukraine:**  Search for reports on alleged corruption within the Ukrainian government and how US aid might be misused.\\n\\n\\nBy focusing on these points, Trump can challenge Biden\\'s framing, present a more cost-conscious and less emotionally driven perspective, and offer alternative solutions.\\n',\n",
              " 'pro_debator_response': HumanMessage(content=\"Joe Biden: Look, folks, my opponent's arguments ignore the fundamental truth:  Putin's aggression threatens not just Ukraine, but the very foundation of international order.  Supporting Ukraine isn't just about dollars and cents; it's an investment in global security and freedom, and the cost, as the data shows, is remarkably low compared to the potential catastrophe of a Russian victory.  We're talking about defending democracy itself.  It's the right thing to do.\\n\", additional_kwargs={}, response_metadata={}, name='pro_response', id='29490325-fd60-4dd7-82a1-7285a0248276'),\n",
              " 'anti_debator_response': AIMessage(content='Donald Trump: So, Sleepy Joe, you think this Ukraine thing is some kind of bargain?  Fake news!  These reports show we’re spending a fortune, a fortune I tell you, and getting nothing in return.  It’s a swamp, a total disaster.  We should focus on America first, not some foreign country.  Believe me.\\n', additional_kwargs={}, response_metadata={}, name='pro_response', id='02405ea5-64b2-4397-a27d-4eb7b481814f'),\n",
              " 'context': [HumanMessage(content='<Document href=\"https://cepa.org/article/its-still-costing-peanuts-for-the-us-to-defeat-russia/\"/>\\nSep 17, 2024 · At the start of Russia\\'s invasion in 2022, a cost-benefit analysis showed US aid to Ukraine is cheap and effective. Has anything changed?\\n</Document>\\n\\n---\\n\\n<Document href=\"https://hcss.nl/report/freedom-isnt-free-a-cost-benefit-analysis-of-support-for-ukraine/\"/>\\nMay 30, 2024 · This policy memo by HCSS and the Clingendael Institute analyses the impact of European and American decisions regarding support for Ukraine and outlines three\\n</Document>', additional_kwargs={}, response_metadata={}, id='89a0c317-6060-4073-94ba-d5bf212ae2ba'),\n",
              "  HumanMessage(content='<Document source=\"https://en.wikipedia.org/wiki/Backslash\" page=\"\"/>\\nThe backslash \\\\ is a  mark used mainly in computing and mathematics. It is the mirror image of the common slash /.  It is a relatively recent mark, first documented in the 1930s. It is sometimes called a hack, whack, escape (from C/UNIX), reverse slash, slosh, downwhack, backslant, backwhack, bash, reverse slant, reverse solidus, and reversed virgule.\\n\\n\\n== History ==\\n\\nAs of November 2022, efforts to identify either the origin of this character or its purpose before the 1960s have not been successful. The earliest known reference found to date is a 1937 maintenance manual from the Teletype Corporation with a photograph showing the keyboard of its Kleinschmidt keyboard perforator WPE-3 using the Wheatstone system. The symbol was called the \"diagonal key\", and given a (non-standard) Morse code of   ▄ ▄▄▄ ▄ ▄ ▄▄▄ .\\nIn June 1960, IBM published an \"Extended character set standard\" that includes the symbol at 0x19. In September 1961, Bob Bemer (IBM) proposed to the X3.2 standards committee that [, ] and \\\\ be made part of the proposed standard, describing the backslash as a \"reverse division operator\" and cited its prior use by Teletype in telecommunications. In particular, he said, the \\\\ was needed so that the ALGOL Boolean operators ∧ (logical conjunction) and ∨ (logical disjunction) could be composed using /\\\\ and \\\\/ respectively. The Committee adopted these changes into the draft American Standard (subsequently called ASCII) at its November 1961 meeting.\\nThese operators were used for min and max in early versions of the C programming language supplied with Unix V6 and V7.\\n\\n\\n== Usage ==\\n\\n\\n=== Programming languages ===\\nIn many programming languages such as C, Perl, PHP, Python, Unix scripting languages, and many file formats such as JSON, the backslash is used as an escape character, to indicate that the character following it should be treated specially (if it would otherwise be treated literally), or literally (if it would otherwise be treated specially). For instance, inside a C string literal the sequence \\\\n produces a newline byte instead of an \\'n\\', and the sequence \\\\\" produces an actual double quote rather than the special meaning of the double quote ending the string. An actual backslash is produced by a double backslash \\\\\\\\.\\nRegular expression languages used it the same way, changing subsequent literal characters into metacharacters and vice versa. For instance \\\\||b searches for either \\'|\\'  or \\'b\\', the first bar is escaped and searched for, the second is not escaped and acts as an \"or\".\\nOutside quoted strings, the only common use of backslash is to ignore (\"escape\") a newline immediately after it. In this context it may be called a \"continued line\" as the current line continues into the next one. Some software replaces the backslash+newline with a space.\\nTo support computers that lacked the backslash character, the C trigraph ??/ was added, which is equivalent to a backslash. Since this can escape the next character, which may itself be a ?, the primary modern use may be for code obfuscation. Support for trigraphs in C++ was removed in C++17, and support for them in C is planned to be removed in C23.\\nIn Visual Basic (and some other BASIC dialects) the backslash is used as an operator symbol to indicate integer division. This rounds toward zero.\\nThe ALGOL 68 programming language uses the \"\\\\\" as its Decimal Exponent Symbol. ALGOL 68 has the choice of 4 Decimal Exponent Symbols: e, E, \\\\, or 10.  Examples: 6.0221415e23, 6.0221415E23, 6.0221415\\\\23 or 6.02214151023.\\nIn APL \\\\ is called Expand when used to insert fill elements into arrays, and Scan when used to produce prefix reduction (cumulative fold).\\nIn PHP version 5.3 and higher, the backslash is used to indicate a namespace.\\nIn Haskell, the backslash is used both to introduce special characters and to introduce lambda functions (since it is a reasonable approximation in ASCII of the Greek letter lambda, λ).\\n\\n\\n=== Filenames ===\\nMS-DOS 2.0, released 1983, copied the idea of a hier\\n</Document>', additional_kwargs={}, response_metadata={}, id='0624d570-a043-4bca-8943-88707853442c'),\n",
              "  HumanMessage(content='<Document href=\"https://www.gao.gov/blog/ukraine-aid-important-so-oversight-funding-and-assistance\"/>\\nSep 4, 2024 · As of April, Congress has appropriated more than $174 billion to assist Ukraine. This includes funding to purchase missiles, ammunition, and combat vehicles\\xa0...Missing:  inflation opportunity\\n</Document>\\n\\n---\\n\\n<Document href=\"https://www.csis.org/analysis/united-states-aid-ukraine-investment-whose-benefits-greatly-exceed-its-cost\"/>\\nNov 21, 2022 · In this commentary, the Emeritus Chair in Strategy explains why providing aid to Ukraine provides strategic benefits that greatly exceeds\\xa0...Missing:  opportunity | Show results with:opportunity\\n</Document>', additional_kwargs={}, response_metadata={}, id='09bc272d-629c-4c6c-b961-249a4b1788a9'),\n",
              "  HumanMessage(content='', additional_kwargs={}, response_metadata={}, id='38d1f0b0-0594-4ad8-9e51-d61530554298')],\n",
              " 'debate': [HumanMessage(content=\"Joe Biden: Look, folks, my opponent makes a good point about the economic costs of supporting Ukraine.  They say it's draining our resources and hurting American families.  And you know what? I understand that concern.  I’ve always been a fiscal conservative, a guy who understands the importance of a strong dollar and responsible spending.  That’s why we’ve been so careful in how we’ve approached this.\\n\\nBut let’s be clear about what we’re talking about here.  The cost of *not* supporting Ukraine is far greater.  We're not just talking about dollars and cents; we're talking about the fundamental principles of democracy and international order.  My opponent conveniently ignores the cost of allowing a brutal dictator like Putin to rewrite the rules of international relations through unprovoked aggression.  Imagine a world where a powerful nation can simply invade its neighbor with impunity.  What message does that send to China? To North Korea? To Iran?  The cost of appeasement, of turning a blind eye to blatant violations of sovereignty, is far higher than any short-term economic pain.\\n\\nFurthermore, the aid we’re providing to Ukraine isn't just some bottomless pit. It's strategically targeted to maximize impact.  We're not just sending money; we're providing vital military assistance that allows the Ukrainians to defend themselves, weakening Putin's forces and reducing the potential for a wider conflict.  That's a cost-effective investment in preventing a much larger, far more expensive war.\\n\\nFinally, let's not forget the humanitarian cost.  Millions of Ukrainians have been displaced, their homes destroyed, their lives shattered.  The images we've seen are heartbreaking.  To stand idly by while such atrocities occur would be a moral failure of epic proportions.  It's not just about dollars and cents; it's about our values, our commitment to human dignity, and our responsibility as a global leader.  The cost of inaction is simply too high to bear.  We have a moral obligation, and a strategic interest, in supporting the Ukrainian people in their fight for freedom.\\n\", additional_kwargs={}, response_metadata={}, name='pro_response', id='5aa89411-4f08-4488-b71d-fcf2a8789fc0'),\n",
              "  AIMessage(content=\"Donald Trump: Look, folks, this whole Ukraine thing is a disaster.  Biden's throwing money down a rat hole –  billions, maybe trillions!  These reports show it's costing peanuts, they say, but that's fake news.  We should be focusing on America first, not endless wars.  It's a total swamp, believe me.\\n\", additional_kwargs={}, response_metadata={}, name='pro_response', id='f61a362f-592e-4288-a8d1-bb3506ebff73'),\n",
              "  HumanMessage(content=\"Joe Biden: Look, folks, my opponent's arguments ignore the fundamental truth:  Putin's aggression threatens not just Ukraine, but the very foundation of international order.  Supporting Ukraine isn't just about dollars and cents; it's an investment in global security and freedom, and the cost, as the data shows, is remarkably low compared to the potential catastrophe of a Russian victory.  We're talking about defending democracy itself.  It's the right thing to do.\\n\", additional_kwargs={}, response_metadata={}, name='pro_response', id='29490325-fd60-4dd7-82a1-7285a0248276'),\n",
              "  AIMessage(content='Donald Trump: So, Sleepy Joe, you think this Ukraine thing is some kind of bargain?  Fake news!  These reports show we’re spending a fortune, a fortune I tell you, and getting nothing in return.  It’s a swamp, a total disaster.  We should focus on America first, not some foreign country.  Believe me.\\n', additional_kwargs={}, response_metadata={}, name='pro_response', id='02405ea5-64b2-4397-a27d-4eb7b481814f')],\n",
              " 'debate_history': [],\n",
              " 'iteration': 0,\n",
              " 'max_iteration': 1}"
            ]
          },
          "metadata": {},
          "execution_count": 159
        }
      ]
    },
    {
      "cell_type": "code",
      "source": [
        "import pprint\n",
        "pprint.pprint(result['pro_debator_response'].content)"
      ],
      "metadata": {
        "colab": {
          "base_uri": "https://localhost:8080/"
        },
        "id": "tluh5bmpylTP",
        "outputId": "54e065be-63c2-40c5-db22-b51c3fca7e6c"
      },
      "execution_count": 160,
      "outputs": [
        {
          "output_type": "stream",
          "name": "stdout",
          "text": [
            "(\"Joe Biden: Look, folks, my opponent's arguments ignore the fundamental \"\n",
            " \"truth:  Putin's aggression threatens not just Ukraine, but the very \"\n",
            " \"foundation of international order.  Supporting Ukraine isn't just about \"\n",
            " \"dollars and cents; it's an investment in global security and freedom, and \"\n",
            " 'the cost, as the data shows, is remarkably low compared to the potential '\n",
            " \"catastrophe of a Russian victory.  We're talking about defending democracy \"\n",
            " \"itself.  It's the right thing to do.\\n\")\n"
          ]
        }
      ]
    },
    {
      "cell_type": "code",
      "source": [
        "pprint.pprint(result['anti_debator_response'].content)"
      ],
      "metadata": {
        "colab": {
          "base_uri": "https://localhost:8080/"
        },
        "id": "mjoPrUleZgbi",
        "outputId": "dd94a72b-67dc-4fb0-dc6a-5eef86053f8b"
      },
      "execution_count": 161,
      "outputs": [
        {
          "output_type": "stream",
          "name": "stdout",
          "text": [
            "('Donald Trump: So, Sleepy Joe, you think this Ukraine thing is some kind of '\n",
            " 'bargain?  Fake news!  These reports show we’re spending a fortune, a fortune '\n",
            " 'I tell you, and getting nothing in return.  It’s a swamp, a total disaster.  '\n",
            " 'We should focus on America first, not some foreign country.  Believe me.\\n')\n"
          ]
        }
      ]
    },
    {
      "cell_type": "code",
      "source": [
        "pprint.pprint(result['greetings'])"
      ],
      "metadata": {
        "colab": {
          "base_uri": "https://localhost:8080/"
        },
        "id": "GAM-zmcjncup",
        "outputId": "f44ac43d-1a26-406c-aea4-33d3276a62e1"
      },
      "execution_count": 162,
      "outputs": [
        {
          "output_type": "stream",
          "name": "stdout",
          "text": [
            "(\"Good evening everyone!  Tonight, we've got a heavyweight debate on a \"\n",
            " 'critical issue: the war in Ukraine.  In this corner, championing continued '\n",
            " 'support for Ukraine, we have President Joe Biden. And in the other corner, '\n",
            " 'advocating a different approach, we have former President Donald Trump.  '\n",
            " \"Let's hear their perspectives on this crucial conflict.  Gentlemen, the \"\n",
            " 'floor is yours.\\n')\n"
          ]
        }
      ]
    },
    {
      "cell_type": "code",
      "source": [
        "pprint.pprint(result['analysis'])"
      ],
      "metadata": {
        "colab": {
          "base_uri": "https://localhost:8080/"
        },
        "id": "3lSByHOpno8M",
        "outputId": "036d502a-a38f-4b43-d825-7d647d8129a5"
      },
      "execution_count": 163,
      "outputs": [
        {
          "output_type": "stream",
          "name": "stdout",
          "text": [
            "(\"**Analysis of Biden's Argument:**\\n\"\n",
            " '\\n'\n",
            " '**Strengths:** Appeals to moral values (freedom, democracy), frames the '\n",
            " 'issue as a global security concern, uses cost-benefit analysis (low cost, '\n",
            " 'high risk of alternative).\\n'\n",
            " '\\n'\n",
            " '**Weaknesses:**  Vague on specifics of \"data showing remarkably low cost,\" '\n",
            " 'relies on emotional appeals rather than concrete evidence of direct US '\n",
            " 'national security threat, oversimplifies complex geopolitical factors.  The '\n",
            " '\"right thing to do\" is subjective and doesn\\'t address counterarguments '\n",
            " 'regarding resource allocation or potential escalation.\\n'\n",
            " '\\n'\n",
            " \"**Trump's Counter-Argument Guidance (Web Search):**\\n\"\n",
            " '\\n'\n",
            " 'Focus web searches on:\\n'\n",
            " '\\n'\n",
            " '1. **Economic costs of Ukraine aid:** Search for analyses comparing US aid '\n",
            " 'to Ukraine with domestic spending needs, potential inflation impact, and '\n",
            " 'opportunity costs.  Look for data questioning Biden\\'s \"low cost\" claim.\\n'\n",
            " '2. **Limited US national security threat:** Find expert opinions and reports '\n",
            " 'downplaying the direct threat to US national security from a Russian victory '\n",
            " 'in Ukraine. Emphasize alternative interpretations of the conflict.\\n'\n",
            " '3. **Alternative foreign policy strategies:** Research articles and analyses '\n",
            " 'on alternative approaches to resolving the conflict (negotiation, diplomacy, '\n",
            " 'focusing on domestic issues).\\n'\n",
            " '4. **Evidence of corruption in Ukraine:**  Search for reports on alleged '\n",
            " 'corruption within the Ukrainian government and how US aid might be misused.\\n'\n",
            " '\\n'\n",
            " '\\n'\n",
            " \"By focusing on these points, Trump can challenge Biden's framing, present a \"\n",
            " 'more cost-conscious and less emotionally driven perspective, and offer '\n",
            " 'alternative solutions.\\n')\n"
          ]
        }
      ]
    },
    {
      "cell_type": "code",
      "source": [],
      "metadata": {
        "id": "BUOaWKFenwoT"
      },
      "execution_count": 151,
      "outputs": []
    }
  ]
}